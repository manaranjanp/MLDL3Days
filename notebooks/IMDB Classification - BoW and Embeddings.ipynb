{
 "cells": [
  {
   "cell_type": "markdown",
   "metadata": {},
   "source": [
    "# Deep Learning 4: IMDB Classification using Bag of Words and Embeddings\n",
    "\n",
    "This tutorial will go through steps for building a deep learning model for sentiment Analysis. We will classify IMDB movie reviews as either positive or negative. This tutorial will be used for teaching during the workshop.\n",
    "\n",
    "The tutorial has taken contents from various places including the tutorial from http://www.hvass-labs.org/ for the purpose of teaching in the deep learning class.\n",
    "\n",
    "The topics addressed in the tutorial:\n",
    "\n",
    "1. Basic exploration of the IMDB movies dataset.\n",
    "2. Tokenization, text to sequences, padding and truncating\n",
    "3. Building NN Model using Bag Of Words\n",
    "4. Building NN Model using Embeddings\n",
    "5. Peeping to Word Embeddings\n",
    "\n",
    "We will be exploring mostly how to use Bag of Words and Word Embeddings vector representation of texts and build plain vanila NN models. In the future tutorials, we will explore RNN, LSTM models in the future."
   ]
  },
  {
   "cell_type": "markdown",
   "metadata": {},
   "source": [
    "### IMDB Movie Reviews\n",
    "\n",
    "The dataset is available at https://www.kaggle.com/c/word2vec-nlp-tutorial/data\n",
    "\n",
    "The labeled data set consists of 50,000 IMDB movie reviews, specially selected for sentiment analysis. The sentiment of reviews is binary, meaning the IMDB rating < 5 results in a sentiment score of 0, and rating >=7 have a sentiment score of 1. No individual movie has more than 30 reviews.\n",
    "\n",
    "**Data Fields**\n",
    "\n",
    "- id - Unique ID of each review\n",
    "- sentiment - Sentiment of the review; 1 for positive reviews and 0 for negative reviews\n",
    "- review - Text of the review"
   ]
  },
  {
   "cell_type": "markdown",
   "metadata": {},
   "source": [
    "### Loading the dataset"
   ]
  },
  {
   "cell_type": "code",
   "execution_count": 11,
   "metadata": {},
   "outputs": [],
   "source": [
    "import pandas as pd\n",
    "import numpy as np"
   ]
  },
  {
   "cell_type": "code",
   "execution_count": 12,
   "metadata": {},
   "outputs": [],
   "source": [
    "imdb_df = pd.read_csv('../data/labeledTrainData.tsv.zip', sep = '\\t')"
   ]
  },
  {
   "cell_type": "code",
   "execution_count": 13,
   "metadata": {},
   "outputs": [
    {
     "data": {
      "text/html": [
       "<div>\n",
       "<style scoped>\n",
       "    .dataframe tbody tr th:only-of-type {\n",
       "        vertical-align: middle;\n",
       "    }\n",
       "\n",
       "    .dataframe tbody tr th {\n",
       "        vertical-align: top;\n",
       "    }\n",
       "\n",
       "    .dataframe thead th {\n",
       "        text-align: right;\n",
       "    }\n",
       "</style>\n",
       "<table border=\"1\" class=\"dataframe\">\n",
       "  <thead>\n",
       "    <tr style=\"text-align: right;\">\n",
       "      <th></th>\n",
       "      <th>id</th>\n",
       "      <th>sentiment</th>\n",
       "      <th>review</th>\n",
       "    </tr>\n",
       "  </thead>\n",
       "  <tbody>\n",
       "    <tr>\n",
       "      <th>0</th>\n",
       "      <td>5814_8</td>\n",
       "      <td>1</td>\n",
       "      <td>With all this stuff going down at the moment with MJ i've started listening to his music, watching the odd documentary here and there, watched The Wiz and watched Moonwalker again. Maybe i just want to get a certain insight into this guy who i thought was really cool in the eighties just to maybe make up my mind whether he is guilty or innocent. Moonwalker is part biography, part feature film which i remember going to see at the cinema when it was originally released. Some of it has subtle m...</td>\n",
       "    </tr>\n",
       "    <tr>\n",
       "      <th>1</th>\n",
       "      <td>2381_9</td>\n",
       "      <td>1</td>\n",
       "      <td>\\The Classic War of the Worlds\\\" by Timothy Hines is a very entertaining film that obviously goes to great effort and lengths to faithfully recreate H. G. Wells' classic book. Mr. Hines succeeds in doing so. I, and those who watched his film with me, appreciated the fact that it was not the standard, predictable Hollywood fare that comes out every year, e.g. the Spielberg version with Tom Cruise that had only the slightest resemblance to the book. Obviously, everyone looks for different thin...</td>\n",
       "    </tr>\n",
       "    <tr>\n",
       "      <th>2</th>\n",
       "      <td>7759_3</td>\n",
       "      <td>0</td>\n",
       "      <td>The film starts with a manager (Nicholas Bell) giving welcome investors (Robert Carradine) to Primal Park . A secret project mutating a primal animal using fossilized DNA, like ¨Jurassik Park¨, and some scientists resurrect one of nature's most fearsome predators, the Sabretooth tiger or Smilodon . Scientific ambition turns deadly, however, and when the high voltage fence is opened the creature escape and begins savagely stalking its prey - the human visitors , tourists and scientific.Meanwh...</td>\n",
       "    </tr>\n",
       "    <tr>\n",
       "      <th>3</th>\n",
       "      <td>3630_4</td>\n",
       "      <td>0</td>\n",
       "      <td>It must be assumed that those who praised this film (\\the greatest filmed opera ever,\\\" didn't I read somewhere?) either don't care for opera, don't care for Wagner, or don't care about anything except their desire to appear Cultured. Either as a representation of Wagner's swan-song, or as a movie, this strikes me as an unmitigated disaster, with a leaden reading of the score matched to a tricksy, lugubrious realisation of the text.&lt;br /&gt;&lt;br /&gt;It's questionable that people with ideas as to w...</td>\n",
       "    </tr>\n",
       "    <tr>\n",
       "      <th>4</th>\n",
       "      <td>9495_8</td>\n",
       "      <td>1</td>\n",
       "      <td>Superbly trashy and wondrously unpretentious 80's exploitation, hooray! The pre-credits opening sequences somewhat give the false impression that we're dealing with a serious and harrowing drama, but you need not fear because barely ten minutes later we're up until our necks in nonsensical chainsaw battles, rough fist-fights, lurid dialogs and gratuitous nudity! Bo and Ingrid are two orphaned siblings with an unusually close and even slightly perverted relationship. Can you imagine playfully...</td>\n",
       "    </tr>\n",
       "  </tbody>\n",
       "</table>\n",
       "</div>"
      ],
      "text/plain": [
       "       id  sentiment  \\\n",
       "0  5814_8          1   \n",
       "1  2381_9          1   \n",
       "2  7759_3          0   \n",
       "3  3630_4          0   \n",
       "4  9495_8          1   \n",
       "\n",
       "                                                                                                                                                                                                                                                                                                                                                                                                                                                                                                                review  \n",
       "0  With all this stuff going down at the moment with MJ i've started listening to his music, watching the odd documentary here and there, watched The Wiz and watched Moonwalker again. Maybe i just want to get a certain insight into this guy who i thought was really cool in the eighties just to maybe make up my mind whether he is guilty or innocent. Moonwalker is part biography, part feature film which i remember going to see at the cinema when it was originally released. Some of it has subtle m...  \n",
       "1  \\The Classic War of the Worlds\\\" by Timothy Hines is a very entertaining film that obviously goes to great effort and lengths to faithfully recreate H. G. Wells' classic book. Mr. Hines succeeds in doing so. I, and those who watched his film with me, appreciated the fact that it was not the standard, predictable Hollywood fare that comes out every year, e.g. the Spielberg version with Tom Cruise that had only the slightest resemblance to the book. Obviously, everyone looks for different thin...  \n",
       "2  The film starts with a manager (Nicholas Bell) giving welcome investors (Robert Carradine) to Primal Park . A secret project mutating a primal animal using fossilized DNA, like ¨Jurassik Park¨, and some scientists resurrect one of nature's most fearsome predators, the Sabretooth tiger or Smilodon . Scientific ambition turns deadly, however, and when the high voltage fence is opened the creature escape and begins savagely stalking its prey - the human visitors , tourists and scientific.Meanwh...  \n",
       "3  It must be assumed that those who praised this film (\\the greatest filmed opera ever,\\\" didn't I read somewhere?) either don't care for opera, don't care for Wagner, or don't care about anything except their desire to appear Cultured. Either as a representation of Wagner's swan-song, or as a movie, this strikes me as an unmitigated disaster, with a leaden reading of the score matched to a tricksy, lugubrious realisation of the text.<br /><br />It's questionable that people with ideas as to w...  \n",
       "4  Superbly trashy and wondrously unpretentious 80's exploitation, hooray! The pre-credits opening sequences somewhat give the false impression that we're dealing with a serious and harrowing drama, but you need not fear because barely ten minutes later we're up until our necks in nonsensical chainsaw battles, rough fist-fights, lurid dialogs and gratuitous nudity! Bo and Ingrid are two orphaned siblings with an unusually close and even slightly perverted relationship. Can you imagine playfully...  "
      ]
     },
     "execution_count": 13,
     "metadata": {},
     "output_type": "execute_result"
    }
   ],
   "source": [
    "pd.set_option('display.max_colwidth', 500)\n",
    "imdb_df.head(5)"
   ]
  },
  {
   "cell_type": "markdown",
   "metadata": {},
   "source": [
    "### Data Tokenization"
   ]
  },
  {
   "cell_type": "markdown",
   "metadata": {},
   "source": [
    "The text data need to be converted into vectors using either bag of words or embeddings model. We will first explore bag of words (BOW) model. In the BOW model, a sentence will be represented as a vector with the words (also called tokens) as dimensions of the vectors. \n",
    "\n",
    "For the purpose of creating vectors, we need to tokenize the sentences first and find out all unique tokens (words) used across all sentences. The corpus of unquie words used could very large, so we can limit the corpus of tokens by using only the most popular (frequently used) words. In this example, we will use 10000 words."
   ]
  },
  {
   "cell_type": "code",
   "execution_count": 14,
   "metadata": {},
   "outputs": [],
   "source": [
    "from tensorflow.keras.preprocessing.text import Tokenizer"
   ]
  },
  {
   "cell_type": "code",
   "execution_count": 15,
   "metadata": {},
   "outputs": [],
   "source": [
    "all_tokenizer = Tokenizer()"
   ]
  },
  {
   "cell_type": "code",
   "execution_count": 16,
   "metadata": {},
   "outputs": [],
   "source": [
    "all_tokenizer.fit_on_texts( imdb_df.review )"
   ]
  },
  {
   "cell_type": "code",
   "execution_count": 17,
   "metadata": {},
   "outputs": [
    {
     "data": {
      "text/plain": [
       "25000"
      ]
     },
     "execution_count": 17,
     "metadata": {},
     "output_type": "execute_result"
    }
   ],
   "source": [
    "all_tokenizer.document_count"
   ]
  },
  {
   "cell_type": "code",
   "execution_count": 18,
   "metadata": {},
   "outputs": [
    {
     "data": {
      "text/plain": [
       "88582"
      ]
     },
     "execution_count": 18,
     "metadata": {},
     "output_type": "execute_result"
    }
   ],
   "source": [
    "len(all_tokenizer.word_counts)"
   ]
  },
  {
   "cell_type": "markdown",
   "metadata": {},
   "source": [
    "There are 25000 documents (reviews) and 88582 unique words."
   ]
  },
  {
   "cell_type": "markdown",
   "metadata": {},
   "source": [
    "#### High Frequent Words"
   ]
  },
  {
   "cell_type": "code",
   "execution_count": 19,
   "metadata": {},
   "outputs": [
    {
     "data": {
      "text/plain": [
       "[('with', 44122),\n",
       " ('all', 23953),\n",
       " ('this', 75974),\n",
       " ('stuff', 1171),\n",
       " ('going', 4094),\n",
       " ('down', 3707),\n",
       " ('at', 23507),\n",
       " ('the', 336148),\n",
       " ('moment', 1104),\n",
       " ('mj', 30)]"
      ]
     },
     "execution_count": 19,
     "metadata": {},
     "output_type": "execute_result"
    }
   ],
   "source": [
    "list(all_tokenizer.word_counts.items())[0:10]"
   ]
  },
  {
   "cell_type": "markdown",
   "metadata": {},
   "source": [
    "#### Low frequency words"
   ]
  },
  {
   "cell_type": "code",
   "execution_count": 20,
   "metadata": {},
   "outputs": [
    {
     "data": {
      "text/plain": [
       "[('bear\\x97and', 1),\n",
       " ('unflinchingly\\x97what', 1),\n",
       " ('acids', 1),\n",
       " (\"gaye's\", 1),\n",
       " ('crahan', 1),\n",
       " ('guggenheim', 2),\n",
       " ('substitutions', 1),\n",
       " (\"daeseleire's\", 1),\n",
       " ('shortsightedness', 1),\n",
       " ('unfairness', 1)]"
      ]
     },
     "execution_count": 20,
     "metadata": {},
     "output_type": "execute_result"
    }
   ],
   "source": [
    "list(all_tokenizer.word_counts.items())[-10:]"
   ]
  },
  {
   "cell_type": "markdown",
   "metadata": {},
   "source": [
    "We can assume the low frequencey words are rarely used to express sentiments as they have appeared only once across all reviews. And only choose to keep top N (for example 10000) words for our analysis. So, let's tokenize agains with a limit to number of words to 10000."
   ]
  },
  {
   "cell_type": "code",
   "execution_count": 21,
   "metadata": {},
   "outputs": [],
   "source": [
    "num_words = 10000"
   ]
  },
  {
   "cell_type": "code",
   "execution_count": 22,
   "metadata": {},
   "outputs": [],
   "source": [
    "tokenizer = Tokenizer(num_words = num_words)"
   ]
  },
  {
   "cell_type": "code",
   "execution_count": 23,
   "metadata": {},
   "outputs": [],
   "source": [
    "tokenizer.fit_on_texts( imdb_df.review )"
   ]
  },
  {
   "cell_type": "markdown",
   "metadata": {},
   "source": [
    "Tokenizer provides 4 attributes that you can use to query what has been learned about your documents:\n",
    "\n",
    "- word_counts: A dictionary of words and their counts.\n",
    "- word_docs: A dictionary of words and how many documents each appeared in.\n",
    "- word_index: A dictionary of words and their uniquely assigned integers.\n",
    "- document_count:An integer count of the total number of documents that were used to fit the Tokenizer."
   ]
  },
  {
   "cell_type": "markdown",
   "metadata": {},
   "source": [
    "#### Checking first few words and their counts"
   ]
  },
  {
   "cell_type": "code",
   "execution_count": 24,
   "metadata": {},
   "outputs": [
    {
     "name": "stdout",
     "output_type": "stream",
     "text": [
      "with 44122\n",
      "all 23953\n",
      "this 75974\n",
      "stuff 1171\n",
      "going 4094\n"
     ]
    }
   ],
   "source": [
    "import itertools\n",
    "\n",
    "x = itertools.islice(tokenizer.word_counts.items(), 0, 5)\n",
    "\n",
    "for key, value in x:\n",
    "    print(key, value)"
   ]
  },
  {
   "cell_type": "markdown",
   "metadata": {},
   "source": [
    "#### Checking words and their indexes"
   ]
  },
  {
   "cell_type": "code",
   "execution_count": 25,
   "metadata": {},
   "outputs": [
    {
     "data": {
      "text/plain": [
       "[('the', 1),\n",
       " ('and', 2),\n",
       " ('a', 3),\n",
       " ('of', 4),\n",
       " ('to', 5),\n",
       " ('is', 6),\n",
       " ('br', 7),\n",
       " ('in', 8),\n",
       " ('it', 9),\n",
       " ('i', 10)]"
      ]
     },
     "execution_count": 25,
     "metadata": {},
     "output_type": "execute_result"
    }
   ],
   "source": [
    "list(tokenizer.word_index.items())[0:10]"
   ]
  },
  {
   "cell_type": "markdown",
   "metadata": {},
   "source": [
    "The indexes are in no order. We can order the words by the index values i.e. starting from 1."
   ]
  },
  {
   "cell_type": "code",
   "execution_count": 26,
   "metadata": {},
   "outputs": [],
   "source": [
    "from collections import OrderedDict"
   ]
  },
  {
   "cell_type": "code",
   "execution_count": 27,
   "metadata": {},
   "outputs": [],
   "source": [
    "words_by_sorted_index = sorted(tokenizer.word_index.items(), \n",
    "                                           key=lambda idx: idx[1])"
   ]
  },
  {
   "cell_type": "code",
   "execution_count": 28,
   "metadata": {},
   "outputs": [
    {
     "data": {
      "text/plain": [
       "list"
      ]
     },
     "execution_count": 28,
     "metadata": {},
     "output_type": "execute_result"
    }
   ],
   "source": [
    "type(words_by_sorted_index)"
   ]
  },
  {
   "cell_type": "code",
   "execution_count": 29,
   "metadata": {},
   "outputs": [
    {
     "data": {
      "text/plain": [
       "[('the', 1),\n",
       " ('and', 2),\n",
       " ('a', 3),\n",
       " ('of', 4),\n",
       " ('to', 5),\n",
       " ('is', 6),\n",
       " ('br', 7),\n",
       " ('in', 8),\n",
       " ('it', 9),\n",
       " ('i', 10)]"
      ]
     },
     "execution_count": 29,
     "metadata": {},
     "output_type": "execute_result"
    }
   ],
   "source": [
    "words_by_sorted_index[0:10]"
   ]
  },
  {
   "cell_type": "markdown",
   "metadata": {},
   "source": [
    "### Encoding a text using the dictionary of tokens"
   ]
  },
  {
   "cell_type": "markdown",
   "metadata": {},
   "source": [
    "Finding indexes of the words"
   ]
  },
  {
   "cell_type": "code",
   "execution_count": 30,
   "metadata": {},
   "outputs": [
    {
     "data": {
      "text/plain": [
       "1"
      ]
     },
     "execution_count": 30,
     "metadata": {},
     "output_type": "execute_result"
    }
   ],
   "source": [
    "tokenizer.word_index['the']"
   ]
  },
  {
   "cell_type": "code",
   "execution_count": 31,
   "metadata": {},
   "outputs": [
    {
     "data": {
      "text/plain": [
       "17"
      ]
     },
     "execution_count": 31,
     "metadata": {},
     "output_type": "execute_result"
    }
   ],
   "source": [
    "tokenizer.word_index['movie']"
   ]
  },
  {
   "cell_type": "code",
   "execution_count": 32,
   "metadata": {},
   "outputs": [
    {
     "data": {
      "text/plain": [
       "526"
      ]
     },
     "execution_count": 32,
     "metadata": {},
     "output_type": "execute_result"
    }
   ],
   "source": [
    "tokenizer.word_index['brilliant']"
   ]
  },
  {
   "cell_type": "code",
   "execution_count": 33,
   "metadata": {},
   "outputs": [
    {
     "data": {
      "text/plain": [
       "[[1, 17, 8623, 6, 3, 526, 17]]"
      ]
     },
     "execution_count": 33,
     "metadata": {},
     "output_type": "execute_result"
    }
   ],
   "source": [
    "tokenizer.texts_to_sequences( [\"The movie gladiator is a brilliant movie\"])"
   ]
  },
  {
   "cell_type": "markdown",
   "metadata": {},
   "source": [
    "### Encoding all the movie reviews"
   ]
  },
  {
   "cell_type": "markdown",
   "metadata": {},
   "source": [
    "Now the documents (reviews) will be encoded as per the dictionary."
   ]
  },
  {
   "cell_type": "code",
   "execution_count": 34,
   "metadata": {},
   "outputs": [
    {
     "name": "stdout",
     "output_type": "stream",
     "text": [
      "CPU times: user 3.23 s, sys: 33.2 ms, total: 3.26 s\n",
      "Wall time: 3.26 s\n"
     ]
    }
   ],
   "source": [
    "%%time\n",
    "sequences = tokenizer.texts_to_sequences(imdb_df.review)"
   ]
  },
  {
   "cell_type": "markdown",
   "metadata": {},
   "source": [
    "Let's look at the words index sequences for a specific sentence."
   ]
  },
  {
   "cell_type": "code",
   "execution_count": 35,
   "metadata": {},
   "outputs": [
    {
     "data": {
      "text/plain": [
       "10    What happens when an army of wetbacks, towelheads, and Godless Eastern European commies gather their forces south of the border? Gary Busey kicks their butts, of course. Another laughable example of Reagan-era cultural fallout, Bulletproof wastes a decent supporting cast headed by L Q Jones and Thalmus Rasulala.\n",
       "Name: review, dtype: object"
      ]
     },
     "execution_count": 35,
     "metadata": {},
     "output_type": "execute_result"
    }
   ],
   "source": [
    "imdb_df.review[10:11]"
   ]
  },
  {
   "cell_type": "code",
   "execution_count": 36,
   "metadata": {},
   "outputs": [
    {
     "data": {
      "text/plain": [
       "array([[  48,  567,   51,   32, 1268,    4,    2, 4940, 1867, 5171,   65,\n",
       "        1919, 1221,    4,    1, 3607, 1993, 6887, 3398,   65,    4,  261,\n",
       "         157, 1319,  459,    4, 7801,  996, 2652, 6986,    3,  539,  693,\n",
       "         174, 2847,   31, 2007, 3866, 1526,    2]])"
      ]
     },
     "execution_count": 36,
     "metadata": {},
     "output_type": "execute_result"
    }
   ],
   "source": [
    "np.array(sequences[10:11])"
   ]
  },
  {
   "cell_type": "markdown",
   "metadata": {},
   "source": [
    "### Encode Y Variable"
   ]
  },
  {
   "cell_type": "code",
   "execution_count": 37,
   "metadata": {},
   "outputs": [],
   "source": [
    "y = np.array(imdb_df.sentiment)"
   ]
  },
  {
   "cell_type": "code",
   "execution_count": 38,
   "metadata": {},
   "outputs": [
    {
     "data": {
      "text/plain": [
       "array([1, 1, 0, 0, 1])"
      ]
     },
     "execution_count": 38,
     "metadata": {},
     "output_type": "execute_result"
    }
   ],
   "source": [
    "y[0:5]"
   ]
  },
  {
   "cell_type": "markdown",
   "metadata": {},
   "source": [
    "How many classes available?"
   ]
  },
  {
   "cell_type": "code",
   "execution_count": 39,
   "metadata": {},
   "outputs": [
    {
     "data": {
      "text/plain": [
       "array([1, 0])"
      ]
     },
     "execution_count": 39,
     "metadata": {},
     "output_type": "execute_result"
    }
   ],
   "source": [
    "imdb_df.sentiment.unique()"
   ]
  },
  {
   "cell_type": "markdown",
   "metadata": {},
   "source": [
    "### Truncate and Pad Sequences"
   ]
  },
  {
   "cell_type": "markdown",
   "metadata": {},
   "source": [
    "One of the problem in dealing with sentences are they are not of same size. Some sentences will have more words and some will have fewer words. Neural networks take input of same lenghts for training a batch.\n",
    "\n",
    "So, we need to choose a length or size of input. Larger sentences will have to be truncated and smaller ones need to be padded. But what size or lenght to consider?\n",
    "\n",
    "We need to take the length which can cover most of the sentences. Only few need to be truncated or padded. For that we will look at the distribution of the word or token lengths."
   ]
  },
  {
   "cell_type": "code",
   "execution_count": 40,
   "metadata": {},
   "outputs": [],
   "source": [
    "num_tokens = [len(tokens) for tokens in sequences]\n",
    "num_tokens = np.array(num_tokens)"
   ]
  },
  {
   "cell_type": "code",
   "execution_count": 41,
   "metadata": {},
   "outputs": [],
   "source": [
    "import matplotlib.pyplot as plt\n",
    "import seaborn as sn\n",
    "%matplotlib inline"
   ]
  },
  {
   "cell_type": "code",
   "execution_count": 42,
   "metadata": {},
   "outputs": [
    {
     "data": {
      "image/png": "[encoded data removed]",
      "text/plain": [
       "<Figure size 432x288 with 1 Axes>"
      ]
     },
     "metadata": {
      "needs_background": "light"
     },
     "output_type": "display_data"
    }
   ],
   "source": [
    "sn.distplot( num_tokens );"
   ]
  },
  {
   "cell_type": "code",
   "execution_count": 43,
   "metadata": {},
   "outputs": [],
   "source": [
    "mean_num_tokens = num_tokens.mean()\n",
    "std_num_tokens = num_tokens.std()"
   ]
  },
  {
   "cell_type": "code",
   "execution_count": 44,
   "metadata": {},
   "outputs": [
    {
     "data": {
      "text/plain": [
       "224.05292"
      ]
     },
     "execution_count": 44,
     "metadata": {},
     "output_type": "execute_result"
    }
   ],
   "source": [
    "mean_num_tokens"
   ]
  },
  {
   "cell_type": "code",
   "execution_count": 45,
   "metadata": {},
   "outputs": [
    {
     "data": {
      "text/plain": [
       "164.12699046614364"
      ]
     },
     "execution_count": 45,
     "metadata": {},
     "output_type": "execute_result"
    }
   ],
   "source": [
    "std_num_tokens"
   ]
  },
  {
   "cell_type": "markdown",
   "metadata": {},
   "source": [
    "if we assume that legnth chosen should address 95% of the sentences, then we can take 2 standard deviation of the mean length."
   ]
  },
  {
   "cell_type": "code",
   "execution_count": 46,
   "metadata": {},
   "outputs": [],
   "source": [
    "max_review_length = int(mean_num_tokens + 2 * std_num_tokens)"
   ]
  },
  {
   "cell_type": "code",
   "execution_count": 47,
   "metadata": {},
   "outputs": [
    {
     "data": {
      "text/plain": [
       "552"
      ]
     },
     "execution_count": 47,
     "metadata": {},
     "output_type": "execute_result"
    }
   ],
   "source": [
    "max_review_length"
   ]
  },
  {
   "cell_type": "markdown",
   "metadata": {},
   "source": [
    "How many sentences will not be truncated at all?"
   ]
  },
  {
   "cell_type": "code",
   "execution_count": 48,
   "metadata": {},
   "outputs": [
    {
     "data": {
      "text/plain": [
       "0.94524"
      ]
     },
     "execution_count": 48,
     "metadata": {},
     "output_type": "execute_result"
    }
   ],
   "source": [
    "np.sum(num_tokens < max_review_length) / len(num_tokens)"
   ]
  },
  {
   "cell_type": "markdown",
   "metadata": {},
   "source": [
    "Almost 95%."
   ]
  },
  {
   "cell_type": "markdown",
   "metadata": {},
   "source": [
    "Now we will pad or truncate. But padding or truncating can be done at the beginning of the sentence or at the end of the sentences. *pre* or *post* can be used to specify the padding and truncating the beginning or end of sentence."
   ]
  },
  {
   "cell_type": "code",
   "execution_count": 50,
   "metadata": {},
   "outputs": [],
   "source": [
    "from tensorflow.keras.preprocessing.sequence import pad_sequences "
   ]
  },
  {
   "cell_type": "code",
   "execution_count": 51,
   "metadata": {},
   "outputs": [],
   "source": [
    "pad = 'pre'"
   ]
  },
  {
   "cell_type": "code",
   "execution_count": 52,
   "metadata": {},
   "outputs": [],
   "source": [
    "X = pad_sequences(sequences, \n",
    "                  max_review_length, \n",
    "                  padding=pad, \n",
    "                  truncating=pad)"
   ]
  },
  {
   "cell_type": "code",
   "execution_count": 53,
   "metadata": {},
   "outputs": [
    {
     "data": {
      "text/plain": [
       "array([[   0,    0,    0,    0,    0,    0,    0,    0,    0,    0,    0,\n",
       "           0,    0,    0,    0,    0,    0,    0,    0,    0,    0,    0,\n",
       "           0,    0,    0,    0,    0,    0,    0,    0,    0,    0,    0,\n",
       "           0,    0,    0,    0,    0,    0,    0,    0,    0,    0,    0,\n",
       "           0,    0,    0,    0,    0,    0,    0,    0,    0,    0,    0,\n",
       "           0,    0,    0,    0,    0,    0,    0,    0,    0,    0,    0,\n",
       "           0,    0,    0,    0,    0,    0,    0,    0,    0,    0,    0,\n",
       "           0,    0,    0,    0,    0,    0,    0,    0,    0,    0,    0,\n",
       "           0,    0,    0,    0,    0,    0,    0,    0,    0,    0,    0,\n",
       "           0,    0,    0,    0,    0,    0,    0,    0,    0,    0,    0,\n",
       "           0,    0,    0,    0,    0,    0,    0,    0,    0,    0,    0,\n",
       "           0,    0,    0,    0,    0,    0,    0,    0,    0,    0,    0,\n",
       "           0,    0,    0,    0,    0,    0,    0,    0,    0,    0,    0,\n",
       "           0,   16,   29,   11,  535,  167,  177,   30,    1,  558,   16,\n",
       "         204,  642, 2615,    5,   24,  225,  146,    1, 1028,  659,  130,\n",
       "           2,   47,  293,    1,    2,  293,  171,  276,   10,   40,  178,\n",
       "           5,   76,    3,  810, 2616,   80,   11,  229,   34,   10,  194,\n",
       "          13,   63,  643,    8,    1, 4252,   40,    5,  276,   94,   53,\n",
       "          58,  327,  723,   26,    6, 2512,   39, 1351,    6,  170, 5034,\n",
       "         170,  788,   19,   60,   10,  374,  167,    5,   64,   30,    1,\n",
       "         434,   51,    9,   13, 1816,  622,   46,    4,    9,   44, 1299,\n",
       "        3432,   41,  544,  946,    1, 3513,    2,   79,    1,  574,  746,\n",
       "           4, 1664,   23,   75,    7,    7, 2006, 1156,   18,    4,  261,\n",
       "          11,    6,   29,   41,  485, 1878,   35,  891,   22, 2588,   37,\n",
       "           8,  550,   92,   22,   23,  167,    5,  780,   11,    2,  166,\n",
       "           9,  354,   46,  200,  680,   32,   15,    5,    1,  228,    4,\n",
       "          11,   17,   18,    2,   88,    4,   24,  448,   59,  132,   12,\n",
       "          26,   90,    9,   15,    1,  448,   60,   45,  280,    6,   63,\n",
       "         324,    4,   87,    7,    7,    1,  776,  788,   19,  224,   51,\n",
       "           9,  414,  514,    6,   61,   20,   15,  888,  231,   39,   35,\n",
       "           1, 3537, 1670,  717,    2,  911,    6, 1075,   14,    3,   29,\n",
       "         972, 1389, 1631,  135,   26,  490,  348,   35,   75,    6,  721,\n",
       "          69,   85,   24, 2454,  911,  106,   12,   26,  470,   81,    5,\n",
       "         121,    9,    6,   26,   34,    6, 1664,  520,   35,   10,  276,\n",
       "          26,   40, 4138,  225,    7,    7,  772,    4,  643,  180,    8,\n",
       "          11,   37, 1583,   80,    3,  516,    2,    3, 2353,    2,    1,\n",
       "         223, 2119, 2718,  717,   79,    1,  164,  212,   25,   66,    1,\n",
       "        5035,    4,    3, 5558,   51,    9,  382,    5, 1418,    1,   75,\n",
       "         717,   14,  628,  904,  780,  777,   16,   28,  551,  384,  581,\n",
       "           3,  223,  758,    4,   95, 3433,    3, 1311,  833,  133,    7,\n",
       "           7, 1321,  344,   11,   17,    6,   15,   81,   34,   37,   20,\n",
       "          28,  646,   39,  157,   60,   10,  101,    6,   88,   81,   45,\n",
       "          21,   92,  785,  242,    9,  124,  350,    2,  199,  122,    3,\n",
       "        7799,  746,    2, 3606, 2064,    8,   11,   17,    6,    3,  247,\n",
       "         485, 1878,    6,  368,   28,    4,    1,   88, 1016,   81,  123,\n",
       "           5, 1693,   11, 1220,   18,    6,   26, 2512,   70,   16,   29,\n",
       "           1,  688,  204,  517,   11,  872, 7262,   70,   10,   89,  121,\n",
       "          85,   81,   67,   27,  272,  493, 4558, 3584,   10,  121,   11,\n",
       "          15,    3,  189,   26,    6,  342,   32,  573,  324,   18,  375,\n",
       "         229,   39,   28,    4,    1,   88,   10,  437,   26,    6,   21,\n",
       "           1, 1559]], dtype=int32)"
      ]
     },
     "execution_count": 53,
     "metadata": {},
     "output_type": "execute_result"
    }
   ],
   "source": [
    "X[0:1]"
   ]
  },
  {
   "cell_type": "markdown",
   "metadata": {},
   "source": [
    "### Split Datasets"
   ]
  },
  {
   "cell_type": "code",
   "execution_count": 54,
   "metadata": {},
   "outputs": [],
   "source": [
    "from sklearn.model_selection import train_test_split"
   ]
  },
  {
   "cell_type": "code",
   "execution_count": 55,
   "metadata": {},
   "outputs": [],
   "source": [
    "X_train, X_test, y_train, y_test = train_test_split(X, \n",
    "                                                    y, \n",
    "                                                    test_size = 0.2)"
   ]
  },
  {
   "cell_type": "code",
   "execution_count": 56,
   "metadata": {},
   "outputs": [
    {
     "data": {
      "text/plain": [
       "(20000, 552)"
      ]
     },
     "execution_count": 56,
     "metadata": {},
     "output_type": "execute_result"
    }
   ],
   "source": [
    "X_train.shape"
   ]
  },
  {
   "cell_type": "code",
   "execution_count": 57,
   "metadata": {},
   "outputs": [
    {
     "data": {
      "text/plain": [
       "(5000, 552)"
      ]
     },
     "execution_count": 57,
     "metadata": {},
     "output_type": "execute_result"
    }
   ],
   "source": [
    "X_test.shape"
   ]
  },
  {
   "cell_type": "code",
   "execution_count": 58,
   "metadata": {},
   "outputs": [],
   "source": [
    "input_shape = X_train.shape"
   ]
  },
  {
   "cell_type": "code",
   "execution_count": 59,
   "metadata": {},
   "outputs": [
    {
     "data": {
      "text/plain": [
       "(20000, 552)"
      ]
     },
     "execution_count": 59,
     "metadata": {},
     "output_type": "execute_result"
    }
   ],
   "source": [
    "input_shape"
   ]
  },
  {
   "cell_type": "markdown",
   "metadata": {},
   "source": [
    "### Bag Of Words Model\n",
    "\n",
    "#### Model Architecture\n",
    "\n",
    "(Bag of words) -> Dense Layer(1024) -> Dense Layer(256) -> Dense Layer(128) -> Dense Layer(64) -> Relu -> Dense Layer(1) -> Sigmoid"
   ]
  },
  {
   "cell_type": "code",
   "execution_count": 67,
   "metadata": {},
   "outputs": [],
   "source": [
    "import tensorflow as tf\n",
    "from tensorflow import keras\n",
    "from tensorflow.keras.models import Sequential\n",
    "from tensorflow.keras.layers import Flatten, Dense, Activation"
   ]
  },
  {
   "cell_type": "code",
   "execution_count": 68,
   "metadata": {},
   "outputs": [],
   "source": [
    "tf.keras.backend.clear_session()  # clear default graph\n",
    "\n",
    "bow_model = Sequential()\n",
    "\n",
    "bow_model.add(Dense(1024, input_shape=(input_shape[1],)))\n",
    "bow_model.add(Activation('relu'))\n",
    "# An \"activation\" is just a non-linear function applied to the output\n",
    "# of the layer above. Here, with a \"rectified linear unit\",\n",
    "# we clamp all values below 0 to 0.\n",
    "bow_model.add(Dense(256))\n",
    "bow_model.add(Activation('relu'))\n",
    "bow_model.add(Dense(128))\n",
    "bow_model.add(Activation('relu'))\n",
    "bow_model.add(Dense(64))\n",
    "bow_model.add(Activation('relu'))\n",
    "bow_model.add(Dense(1))\n",
    "# This special \"softmax\" activation among other things,\n",
    "# ensures the output is a valid probaility distribution, that is\n",
    "# that its values are all non-negative and sum to 1.\n",
    "bow_model.add(Activation('sigmoid'))"
   ]
  },
  {
   "cell_type": "code",
   "execution_count": 69,
   "metadata": {},
   "outputs": [
    {
     "name": "stdout",
     "output_type": "stream",
     "text": [
      "Model: \"sequential\"\n",
      "_________________________________________________________________\n",
      "Layer (type)                 Output Shape              Param #   \n",
      "=================================================================\n",
      "dense (Dense)                (None, 1024)              566272    \n",
      "_________________________________________________________________\n",
      "activation (Activation)      (None, 1024)              0         \n",
      "_________________________________________________________________\n",
      "dense_1 (Dense)              (None, 256)               262400    \n",
      "_________________________________________________________________\n",
      "activation_1 (Activation)    (None, 256)               0         \n",
      "_________________________________________________________________\n",
      "dense_2 (Dense)              (None, 128)               32896     \n",
      "_________________________________________________________________\n",
      "activation_2 (Activation)    (None, 128)               0         \n",
      "_________________________________________________________________\n",
      "dense_3 (Dense)              (None, 64)                8256      \n",
      "_________________________________________________________________\n",
      "activation_3 (Activation)    (None, 64)                0         \n",
      "_________________________________________________________________\n",
      "dense_4 (Dense)              (None, 1)                 65        \n",
      "_________________________________________________________________\n",
      "activation_4 (Activation)    (None, 1)                 0         \n",
      "=================================================================\n",
      "Total params: 869,889\n",
      "Trainable params: 869,889\n",
      "Non-trainable params: 0\n",
      "_________________________________________________________________\n"
     ]
    }
   ],
   "source": [
    "bow_model.summary()"
   ]
  },
  {
   "cell_type": "code",
   "execution_count": 70,
   "metadata": {},
   "outputs": [],
   "source": [
    "bow_model.compile(loss='binary_crossentropy', \n",
    "              optimizer='rmsprop', \n",
    "              metrics=['accuracy'])"
   ]
  },
  {
   "cell_type": "code",
   "execution_count": 71,
   "metadata": {},
   "outputs": [],
   "source": [
    "EPOCHS = 10\n",
    "BATCH_SIZE = 256"
   ]
  },
  {
   "cell_type": "code",
   "execution_count": 72,
   "metadata": {},
   "outputs": [
    {
     "name": "stdout",
     "output_type": "stream",
     "text": [
      "Epoch 1/10\n",
      "79/79 [==============================] - 1s 12ms/step - loss: 65.0786 - accuracy: 0.5031 - val_loss: 5.0190 - val_accuracy: 0.5010\n",
      "Epoch 2/10\n",
      "79/79 [==============================] - 1s 10ms/step - loss: 3.7986 - accuracy: 0.5213 - val_loss: 1.3822 - val_accuracy: 0.4992\n",
      "Epoch 3/10\n",
      "79/79 [==============================] - 1s 10ms/step - loss: 1.2227 - accuracy: 0.5196 - val_loss: 1.4380 - val_accuracy: 0.4988\n",
      "Epoch 4/10\n",
      "79/79 [==============================] - 1s 10ms/step - loss: 0.8365 - accuracy: 0.5056 - val_loss: 0.8454 - val_accuracy: 0.4918\n",
      "Epoch 5/10\n",
      "79/79 [==============================] - 1s 11ms/step - loss: 0.7387 - accuracy: 0.5060 - val_loss: 0.6961 - val_accuracy: 0.5112\n",
      "Epoch 6/10\n",
      "79/79 [==============================] - 1s 11ms/step - loss: 0.7049 - accuracy: 0.5081 - val_loss: 0.6939 - val_accuracy: 0.5034\n",
      "Epoch 7/10\n",
      "79/79 [==============================] - 1s 11ms/step - loss: 0.7076 - accuracy: 0.5075 - val_loss: 0.6931 - val_accuracy: 0.4956\n",
      "Epoch 8/10\n",
      "79/79 [==============================] - 1s 11ms/step - loss: 0.7176 - accuracy: 0.5081 - val_loss: 0.6931 - val_accuracy: 0.4956\n",
      "Epoch 9/10\n",
      "79/79 [==============================] - 1s 10ms/step - loss: 0.7016 - accuracy: 0.5028 - val_loss: 0.7102 - val_accuracy: 0.4948\n",
      "Epoch 10/10\n",
      "79/79 [==============================] - 1s 10ms/step - loss: 0.7503 - accuracy: 0.5035 - val_loss: 0.6968 - val_accuracy: 0.4934\n",
      "CPU times: user 32.1 s, sys: 6.96 s, total: 39 s\n",
      "Wall time: 9.11 s\n"
     ]
    }
   ],
   "source": [
    "%%time \n",
    "# fit model\n",
    "bow_history = bow_model.fit(\n",
    "    X_train, \n",
    "    y_train,  # prepared data\n",
    "    batch_size = BATCH_SIZE,\n",
    "    epochs = EPOCHS,\n",
    "    validation_data = (X_test, y_test),\n",
    "    shuffle = True,\n",
    "    verbose=1,\n",
    ")"
   ]
  },
  {
   "cell_type": "markdown",
   "metadata": {},
   "source": [
    "### Using Embeddings\n",
    "\n",
    "In Word embeddings, words are represented by a vector i.e. series of numbers (weights). The vectors represent words in a N dimension space, in which similar meaning words are places nearer to each other while the dissimilar words are kept far. The dimensions in the space represent some latent factors, by which the words could be defined. All words are assigned some weights in each each latent factors. Words that share some common meaning have similar weights across common factors.\n",
    "\n",
    "The word embeddings weights can be estimated during the NN model building. There are also pre-built word embeddings are available, which can be used in the model. We will discuss about the pre-built word embeddings later in the tutorial.\n",
    "\n",
    "Word embeddings are commonly used in many Natural Language Processing (NLP) tasks because they are found to be useful representations of words and often lead to better performance in the various tasks performed. Given its widespread use, this post seeks to introduce the concept of word embeddings to the prospective NLP practitioner.\n",
    "\n",
    "Here are couple of good references to understand embeddings\n",
    "\n",
    "https://medium.com/huggingface/universal-word-sentence-embeddings-ce48ddc8fc3a\n",
    "\n",
    "(Bag of words) -> Embeddings (8) -> Dense Layer(16) ->  Relu -> Dense Layer(1) -> Sigmoid"
   ]
  },
  {
   "cell_type": "code",
   "execution_count": 74,
   "metadata": {},
   "outputs": [],
   "source": [
    "from tensorflow.keras.layers import Embedding\n",
    "from tensorflow.keras.optimizers import SGD"
   ]
  },
  {
   "cell_type": "code",
   "execution_count": 76,
   "metadata": {},
   "outputs": [],
   "source": [
    "tf.keras.backend.clear_session()  # clear default graph\n",
    "\n",
    "emb_model = Sequential()\n",
    "# We specify the maximum input length to our Embedding layer\n",
    "# so we can later flatten the embedded inputs\n",
    "emb_model.add(Embedding(num_words, 8, input_length=max_review_length))\n",
    "# After the Embedding layer, \n",
    "# our activations have shape `(samples, maxlen, 8)`.\n",
    "\n",
    "# We flatten the 3D tensor of embeddings \n",
    "# into a 2D tensor of shape `(samples, maxlen * 8)`\n",
    "emb_model.add(Flatten())\n",
    "\n",
    "emb_model.add(Dense(16))\n",
    "emb_model.add(Activation('relu'))\n",
    "\n",
    "# We add the classifier on top\n",
    "emb_model.add(Dense(1))\n",
    "emb_model.add(Activation('sigmoid'))"
   ]
  },
  {
   "cell_type": "code",
   "execution_count": 77,
   "metadata": {},
   "outputs": [
    {
     "name": "stdout",
     "output_type": "stream",
     "text": [
      "Model: \"sequential\"\n",
      "_________________________________________________________________\n",
      "Layer (type)                 Output Shape              Param #   \n",
      "=================================================================\n",
      "embedding (Embedding)        (None, 552, 8)            80000     \n",
      "_________________________________________________________________\n",
      "flatten (Flatten)            (None, 4416)              0         \n",
      "_________________________________________________________________\n",
      "dense (Dense)                (None, 16)                70672     \n",
      "_________________________________________________________________\n",
      "activation (Activation)      (None, 16)                0         \n",
      "_________________________________________________________________\n",
      "dense_1 (Dense)              (None, 1)                 17        \n",
      "_________________________________________________________________\n",
      "activation_1 (Activation)    (None, 1)                 0         \n",
      "=================================================================\n",
      "Total params: 150,689\n",
      "Trainable params: 150,689\n",
      "Non-trainable params: 0\n",
      "_________________________________________________________________\n"
     ]
    }
   ],
   "source": [
    "emb_model.summary()"
   ]
  },
  {
   "cell_type": "code",
   "execution_count": 78,
   "metadata": {},
   "outputs": [
    {
     "name": "stdout",
     "output_type": "stream",
     "text": [
      "Epoch 1/20\n",
      "438/438 [==============================] - 1s 2ms/step - loss: 0.6933 - accuracy: 0.5015 - val_loss: 0.6935 - val_accuracy: 0.4925\n",
      "Epoch 2/20\n",
      "438/438 [==============================] - 1s 2ms/step - loss: 0.6925 - accuracy: 0.5213 - val_loss: 0.6925 - val_accuracy: 0.5195\n",
      "Epoch 3/20\n",
      "438/438 [==============================] - 1s 2ms/step - loss: 0.6912 - accuracy: 0.5273 - val_loss: 0.6958 - val_accuracy: 0.4967\n",
      "Epoch 4/20\n",
      "438/438 [==============================] - 1s 2ms/step - loss: 0.6878 - accuracy: 0.5539 - val_loss: 0.6871 - val_accuracy: 0.5535\n",
      "Epoch 5/20\n",
      "438/438 [==============================] - 1s 2ms/step - loss: 0.6731 - accuracy: 0.6066 - val_loss: 0.6720 - val_accuracy: 0.5790\n",
      "Epoch 6/20\n",
      "438/438 [==============================] - 1s 2ms/step - loss: 0.6249 - accuracy: 0.6759 - val_loss: 0.6006 - val_accuracy: 0.6907\n",
      "Epoch 7/20\n",
      "438/438 [==============================] - 1s 2ms/step - loss: 0.5396 - accuracy: 0.7409 - val_loss: 0.5242 - val_accuracy: 0.7418\n",
      "Epoch 8/20\n",
      "438/438 [==============================] - 1s 2ms/step - loss: 0.4456 - accuracy: 0.8034 - val_loss: 0.4582 - val_accuracy: 0.7902\n",
      "Epoch 9/20\n",
      "438/438 [==============================] - 1s 2ms/step - loss: 0.3759 - accuracy: 0.8374 - val_loss: 0.4813 - val_accuracy: 0.7755\n",
      "Epoch 10/20\n",
      "438/438 [==============================] - 1s 2ms/step - loss: 0.3338 - accuracy: 0.8605 - val_loss: 0.4101 - val_accuracy: 0.8180\n",
      "Epoch 11/20\n",
      "438/438 [==============================] - 1s 2ms/step - loss: 0.2976 - accuracy: 0.8804 - val_loss: 0.4093 - val_accuracy: 0.8150\n",
      "Epoch 12/20\n",
      "438/438 [==============================] - 1s 2ms/step - loss: 0.2601 - accuracy: 0.8989 - val_loss: 0.4189 - val_accuracy: 0.8158\n",
      "Epoch 13/20\n",
      "438/438 [==============================] - 1s 2ms/step - loss: 0.2380 - accuracy: 0.9094 - val_loss: 0.4546 - val_accuracy: 0.8055\n",
      "Epoch 14/20\n",
      "438/438 [==============================] - 1s 2ms/step - loss: 0.2022 - accuracy: 0.9286 - val_loss: 0.4727 - val_accuracy: 0.8075\n",
      "Epoch 15/20\n",
      "438/438 [==============================] - 1s 2ms/step - loss: 0.1733 - accuracy: 0.9404 - val_loss: 0.4723 - val_accuracy: 0.8123\n",
      "Epoch 16/20\n",
      "438/438 [==============================] - 1s 2ms/step - loss: 0.1451 - accuracy: 0.9534 - val_loss: 0.4767 - val_accuracy: 0.8187\n",
      "Epoch 17/20\n",
      "438/438 [==============================] - 1s 1ms/step - loss: 0.1265 - accuracy: 0.9603 - val_loss: 0.4911 - val_accuracy: 0.8188\n",
      "Epoch 18/20\n",
      "438/438 [==============================] - 1s 2ms/step - loss: 0.1022 - accuracy: 0.9696 - val_loss: 0.5365 - val_accuracy: 0.8097\n",
      "Epoch 19/20\n",
      "438/438 [==============================] - 1s 1ms/step - loss: 0.0853 - accuracy: 0.9775 - val_loss: 0.5533 - val_accuracy: 0.8132\n",
      "Epoch 20/20\n",
      "438/438 [==============================] - 1s 1ms/step - loss: 0.0717 - accuracy: 0.9826 - val_loss: 0.5926 - val_accuracy: 0.8115\n"
     ]
    }
   ],
   "source": [
    "sgd = SGD(lr=0.01, momentum=0.8)\n",
    "\n",
    "emb_model.compile(optimizer=sgd, \n",
    "              loss='binary_crossentropy', \n",
    "              metrics=['accuracy'])\n",
    "\n",
    "emb_history = emb_model.fit(X_train, \n",
    "                    y_train,\n",
    "                    epochs=20,\n",
    "                    batch_size=32,\n",
    "                    validation_split=0.3)"
   ]
  },
  {
   "cell_type": "code",
   "execution_count": 79,
   "metadata": {},
   "outputs": [],
   "source": [
    "import matplotlib.pyplot as plt\n",
    "import seaborn as sn\n",
    "%matplotlib inline"
   ]
  },
  {
   "cell_type": "code",
   "execution_count": 80,
   "metadata": {},
   "outputs": [],
   "source": [
    "def plot_accuracy(hist):\n",
    "    plt.plot(hist['accuracy'])\n",
    "    plt.plot(hist['val_accuracy'])\n",
    "    plt.title('model accuracy')\n",
    "    plt.ylabel('accuracy')\n",
    "    plt.xlabel('epoch')\n",
    "    plt.legend(['train', \n",
    "                'test'], \n",
    "               loc='upper left')\n",
    "    plt.show()\n",
    "    \n",
    "def plot_loss(hist):\n",
    "    plt.plot(hist['loss'])\n",
    "    plt.plot(hist['val_loss'])\n",
    "    plt.title('model loss')\n",
    "    plt.ylabel('loss')\n",
    "    plt.xlabel('epoch')\n",
    "    plt.legend(['train', \n",
    "                'test'], \n",
    "               loc='upper left')\n",
    "    plt.show()    "
   ]
  },
  {
   "cell_type": "code",
   "execution_count": 81,
   "metadata": {},
   "outputs": [
    {
     "data": {
      "image/png": "[encoded data removed]",
      "text/plain": [
       "<Figure size 432x288 with 1 Axes>"
      ]
     },
     "metadata": {
      "needs_background": "light"
     },
     "output_type": "display_data"
    }
   ],
   "source": [
    "plot_accuracy( emb_history.history )"
   ]
  },
  {
   "cell_type": "code",
   "execution_count": 83,
   "metadata": {},
   "outputs": [
    {
     "data": {
      "image/png": "[encoded data removed]",
      "text/plain": [
       "<Figure size 432x288 with 1 Axes>"
      ]
     },
     "metadata": {
      "needs_background": "light"
     },
     "output_type": "display_data"
    }
   ],
   "source": [
    "plot_loss( emb_history.history )"
   ]
  },
  {
   "cell_type": "markdown",
   "metadata": {},
   "source": [
    "#### Conclusion:\n",
    "\n",
    "The model is overfitting. The training accuracy is about 98%, whereas the validation accuracy is 80%."
   ]
  },
  {
   "cell_type": "markdown",
   "metadata": {},
   "source": [
    "### Model 3"
   ]
  },
  {
   "cell_type": "markdown",
   "metadata": {},
   "source": [
    "We will try another optimizers before applying regularization (dropouts). We will also add callbacks for reducing LR and early stopping. And store tensorflow logs for monitoring."
   ]
  },
  {
   "cell_type": "code",
   "execution_count": 84,
   "metadata": {},
   "outputs": [],
   "source": [
    "from tensorflow.keras.callbacks import ReduceLROnPlateau, EarlyStopping, ModelCheckpoint\n",
    "from tensorflow.keras.callbacks import TensorBoard"
   ]
  },
  {
   "cell_type": "code",
   "execution_count": 85,
   "metadata": {},
   "outputs": [],
   "source": [
    "callbacks_list = [ReduceLROnPlateau(monitor='val_loss',\n",
    "                                    factor=0.1, \n",
    "                                    patience=3),\n",
    "                 EarlyStopping(monitor='val_loss',\n",
    "                               patience=4),\n",
    "                 ModelCheckpoint(filepath='imdb_model.h5',\n",
    "                                 monitor='val_loss',\n",
    "                                 save_best_only=True),\n",
    "                 TensorBoard(\"./imdb_logs\")]"
   ]
  },
  {
   "cell_type": "code",
   "execution_count": 87,
   "metadata": {},
   "outputs": [
    {
     "name": "stdout",
     "output_type": "stream",
     "text": [
      "Epoch 1/20\n",
      "  1/438 [..............................] - ETA: 0s - loss: 0.6930 - accuracy: 0.4688WARNING:tensorflow:From /opt/anaconda3/envs/trainingnew/lib/python3.8/site-packages/tensorflow/python/ops/summary_ops_v2.py:1277: stop (from tensorflow.python.eager.profiler) is deprecated and will be removed after 2020-07-01.\n",
      "Instructions for updating:\n",
      "use `tf.profiler.experimental.stop` instead.\n",
      "WARNING:tensorflow:Callbacks method `on_train_batch_end` is slow compared to the batch time (batch time: 0.0017s vs `on_train_batch_end` time: 0.0135s). Check your callbacks.\n",
      "438/438 [==============================] - 1s 2ms/step - loss: 0.5942 - accuracy: 0.6336 - val_loss: 0.3292 - val_accuracy: 0.8608\n",
      "Epoch 2/20\n",
      "438/438 [==============================] - 1s 2ms/step - loss: 0.2185 - accuracy: 0.9150 - val_loss: 0.2967 - val_accuracy: 0.8762\n",
      "Epoch 3/20\n",
      "438/438 [==============================] - 1s 2ms/step - loss: 0.0838 - accuracy: 0.9750 - val_loss: 0.3358 - val_accuracy: 0.8730\n",
      "Epoch 4/20\n",
      "438/438 [==============================] - 1s 2ms/step - loss: 0.0305 - accuracy: 0.9948 - val_loss: 0.4067 - val_accuracy: 0.8607\n",
      "Epoch 5/20\n",
      "438/438 [==============================] - 1s 2ms/step - loss: 0.0101 - accuracy: 0.9992 - val_loss: 0.4376 - val_accuracy: 0.8687\n",
      "Epoch 6/20\n",
      "438/438 [==============================] - 1s 2ms/step - loss: 0.0039 - accuracy: 0.9999 - val_loss: 0.4401 - val_accuracy: 0.8683\n"
     ]
    }
   ],
   "source": [
    "tf.keras.backend.clear_session()  # clear default graph\n",
    "\n",
    "emb_model_3 = Sequential()\n",
    "# We specify the maximum input length to our Embedding layer\n",
    "# so we can later flatten the embedded inputs\n",
    "emb_model_3.add(Embedding(10000, 8, input_length=max_review_length))\n",
    "# After the Embedding layer, \n",
    "# our activations have shape `(samples, maxlen, 8)`.\n",
    "\n",
    "# We flatten the 3D tensor of embeddings \n",
    "# into a 2D tensor of shape `(samples, maxlen * 8)`\n",
    "emb_model_3.add(Flatten())\n",
    "\n",
    "emb_model_3.add(Dense(16))\n",
    "emb_model_3.add(Activation('relu'))\n",
    "\n",
    "# We add the classifier on top\n",
    "emb_model_3.add(Dense(1))\n",
    "emb_model_3.add(Activation('sigmoid'))\n",
    "\n",
    "emb_model_3.compile(optimizer=\"adam\", \n",
    "              loss='binary_crossentropy', \n",
    "              metrics=['accuracy'])\n",
    "\n",
    "emb_history_3 = emb_model_3.fit(X_train, \n",
    "                                y_train,\n",
    "                                epochs=20,\n",
    "                                batch_size=32,\n",
    "                                callbacks=callbacks_list,\n",
    "                                validation_split=0.3)"
   ]
  },
  {
   "cell_type": "code",
   "execution_count": 88,
   "metadata": {},
   "outputs": [
    {
     "data": {
      "image/png": "[encoded data removed]",
      "text/plain": [
       "<Figure size 432x288 with 1 Axes>"
      ]
     },
     "metadata": {
      "needs_background": "light"
     },
     "output_type": "display_data"
    }
   ],
   "source": [
    "plot_loss( emb_history_3.history )"
   ]
  },
  {
   "cell_type": "markdown",
   "metadata": {},
   "source": [
    "### Model 4"
   ]
  },
  {
   "cell_type": "markdown",
   "metadata": {},
   "source": [
    "Add a dropout layer as a regularization layer for dealing with overfitting."
   ]
  },
  {
   "cell_type": "code",
   "execution_count": 90,
   "metadata": {},
   "outputs": [
    {
     "name": "stdout",
     "output_type": "stream",
     "text": [
      "Epoch 1/20\n",
      "  2/438 [..............................] - ETA: 11s - loss: 0.6954 - accuracy: 0.5000WARNING:tensorflow:Callbacks method `on_train_batch_end` is slow compared to the batch time (batch time: 0.0017s vs `on_train_batch_end` time: 0.0487s). Check your callbacks.\n",
      "438/438 [==============================] - 1s 2ms/step - loss: 0.6745 - accuracy: 0.5563 - val_loss: 0.5190 - val_accuracy: 0.7925\n",
      "Epoch 2/20\n",
      "438/438 [==============================] - 1s 2ms/step - loss: 0.4398 - accuracy: 0.7977 - val_loss: 0.3218 - val_accuracy: 0.8718\n",
      "Epoch 3/20\n",
      "438/438 [==============================] - 1s 2ms/step - loss: 0.3101 - accuracy: 0.8596 - val_loss: 0.3000 - val_accuracy: 0.8757\n",
      "Epoch 4/20\n",
      "438/438 [==============================] - 1s 2ms/step - loss: 0.2498 - accuracy: 0.8861 - val_loss: 0.3000 - val_accuracy: 0.8778\n",
      "Epoch 5/20\n",
      "438/438 [==============================] - 1s 2ms/step - loss: 0.2099 - accuracy: 0.9056 - val_loss: 0.3154 - val_accuracy: 0.8805\n",
      "Epoch 6/20\n",
      "438/438 [==============================] - 1s 2ms/step - loss: 0.1761 - accuracy: 0.9142 - val_loss: 0.3611 - val_accuracy: 0.8753\n",
      "Epoch 7/20\n",
      "438/438 [==============================] - 1s 2ms/step - loss: 0.1557 - accuracy: 0.9205 - val_loss: 0.3567 - val_accuracy: 0.8793\n",
      "Epoch 8/20\n",
      "438/438 [==============================] - 1s 2ms/step - loss: 0.1522 - accuracy: 0.9216 - val_loss: 0.3656 - val_accuracy: 0.8788\n"
     ]
    }
   ],
   "source": [
    "from tensorflow.keras.layers import Dropout\n",
    "\n",
    "tf.keras.backend.clear_session()  # clear default graph\n",
    "\n",
    "emb_model_4 = Sequential()\n",
    "# We specify the maximum input length to our Embedding layer\n",
    "# so we can later flatten the embedded inputs\n",
    "emb_model_4.add(Embedding(10000, \n",
    "                          8, \n",
    "                          input_length=max_review_length,\n",
    "                          name='layer_embedding'))\n",
    "# After the Embedding layer, \n",
    "# our activations have shape `(samples, maxlen, 8)`.\n",
    "\n",
    "# We flatten the 3D tensor of embeddings \n",
    "# into a 2D tensor of shape `(samples, maxlen * 8)`\n",
    "emb_model_4.add(Flatten())\n",
    "\n",
    "emb_model_4.add(Dense(16))\n",
    "emb_model_4.add(Activation('relu'))\n",
    "\n",
    "emb_model_4.add(Dropout(0.8))\n",
    "\n",
    "# We add the classifier on top\n",
    "emb_model_4.add(Dense(1))\n",
    "emb_model_4.add(Activation('sigmoid'))\n",
    "emb_model_4.compile(optimizer=\"adam\", \n",
    "              loss='binary_crossentropy', \n",
    "              metrics=['accuracy'])\n",
    "\n",
    "emb_history_4 = emb_model_4.fit(X_train, \n",
    "                    y_train,\n",
    "                    epochs=20,\n",
    "                    batch_size=32,\n",
    "                    callbacks = callbacks_list,\n",
    "                    validation_split=0.3)"
   ]
  },
  {
   "cell_type": "code",
   "execution_count": 91,
   "metadata": {},
   "outputs": [
    {
     "data": {
      "image/png": "[encoded data removed]",
      "text/plain": [
       "<Figure size 432x288 with 1 Axes>"
      ]
     },
     "metadata": {
      "needs_background": "light"
     },
     "output_type": "display_data"
    }
   ],
   "source": [
    "plot_accuracy( emb_history_4.history )"
   ]
  },
  {
   "cell_type": "code",
   "execution_count": 92,
   "metadata": {},
   "outputs": [
    {
     "data": {
      "image/png": "[encoded data removed]",
      "text/plain": [
       "<Figure size 432x288 with 1 Axes>"
      ]
     },
     "metadata": {
      "needs_background": "light"
     },
     "output_type": "display_data"
    }
   ],
   "source": [
    "plot_loss( emb_history_4.history )"
   ]
  },
  {
   "cell_type": "markdown",
   "metadata": {},
   "source": [
    "### Model 5"
   ]
  },
  {
   "cell_type": "markdown",
   "metadata": {},
   "source": [
    "Increase dropout rate from 0.8 to 0.9"
   ]
  },
  {
   "cell_type": "code",
   "execution_count": 94,
   "metadata": {},
   "outputs": [
    {
     "name": "stdout",
     "output_type": "stream",
     "text": [
      "Epoch 1/20\n",
      "  2/438 [..............................] - ETA: 12s - loss: 0.6890 - accuracy: 0.5156WARNING:tensorflow:Callbacks method `on_train_batch_end` is slow compared to the batch time (batch time: 0.0018s vs `on_train_batch_end` time: 0.0558s). Check your callbacks.\n",
      "438/438 [==============================] - 1s 2ms/step - loss: 0.6933 - accuracy: 0.5016 - val_loss: 0.6884 - val_accuracy: 0.5270\n",
      "Epoch 2/20\n",
      "438/438 [==============================] - 1s 2ms/step - loss: 0.6201 - accuracy: 0.6141 - val_loss: 0.4546 - val_accuracy: 0.8562\n",
      "Epoch 3/20\n",
      "438/438 [==============================] - 1s 2ms/step - loss: 0.4856 - accuracy: 0.7123 - val_loss: 0.3631 - val_accuracy: 0.8740\n",
      "Epoch 4/20\n",
      "438/438 [==============================] - 1s 2ms/step - loss: 0.4377 - accuracy: 0.7388 - val_loss: 0.3203 - val_accuracy: 0.8812\n",
      "Epoch 5/20\n",
      "438/438 [==============================] - 1s 2ms/step - loss: 0.4112 - accuracy: 0.7429 - val_loss: 0.3019 - val_accuracy: 0.8773\n",
      "Epoch 6/20\n",
      "438/438 [==============================] - 1s 2ms/step - loss: 0.3830 - accuracy: 0.7581 - val_loss: 0.3230 - val_accuracy: 0.8623\n",
      "Epoch 7/20\n",
      "438/438 [==============================] - 1s 2ms/step - loss: 0.3691 - accuracy: 0.7599 - val_loss: 0.3024 - val_accuracy: 0.8773\n",
      "Epoch 8/20\n",
      "438/438 [==============================] - 1s 2ms/step - loss: 0.3544 - accuracy: 0.7649 - val_loss: 0.3012 - val_accuracy: 0.8765\n",
      "Epoch 9/20\n",
      "438/438 [==============================] - 1s 2ms/step - loss: 0.3430 - accuracy: 0.7722 - val_loss: 0.3079 - val_accuracy: 0.8788\n",
      "Epoch 10/20\n",
      "438/438 [==============================] - 1s 2ms/step - loss: 0.3293 - accuracy: 0.7776 - val_loss: 0.3160 - val_accuracy: 0.8748\n",
      "Epoch 11/20\n",
      "438/438 [==============================] - 1s 2ms/step - loss: 0.3256 - accuracy: 0.7777 - val_loss: 0.3313 - val_accuracy: 0.8770\n",
      "Epoch 12/20\n",
      "438/438 [==============================] - 1s 2ms/step - loss: 0.3164 - accuracy: 0.7845 - val_loss: 0.3281 - val_accuracy: 0.8757\n"
     ]
    }
   ],
   "source": [
    "from tensorflow.keras.layers import Dropout\n",
    "\n",
    "tf.keras.backend.clear_session()  # clear default graph\n",
    "\n",
    "emb_model_5 = Sequential()\n",
    "# We specify the maximum input length to our Embedding layer\n",
    "# so we can later flatten the embedded inputs\n",
    "emb_model_5.add(Embedding(10000, 8, input_length=max_review_length))\n",
    "# After the Embedding layer, \n",
    "# our activations have shape `(samples, maxlen, 8)`.\n",
    "\n",
    "# We flatten the 3D tensor of embeddings \n",
    "# into a 2D tensor of shape `(samples, maxlen * 8)`\n",
    "emb_model_5.add(Flatten())\n",
    "\n",
    "emb_model_5.add(Dense(16))\n",
    "emb_model_5.add(Activation('relu'))\n",
    "\n",
    "emb_model_5.add(Dropout(0.9))\n",
    "\n",
    "# We add the classifier on top\n",
    "emb_model_5.add(Dense(1))\n",
    "emb_model_5.add(Activation('sigmoid'))\n",
    "emb_model_5.compile(optimizer=\"adam\", \n",
    "              loss='binary_crossentropy', \n",
    "              metrics=['accuracy'])\n",
    "\n",
    "emb_history_5 = emb_model_5.fit(X_train, \n",
    "                                y_train,\n",
    "                                epochs=20,\n",
    "                                batch_size=32,\n",
    "                                callbacks = callbacks_list,\n",
    "                                validation_split=0.3)"
   ]
  },
  {
   "cell_type": "code",
   "execution_count": 95,
   "metadata": {},
   "outputs": [
    {
     "data": {
      "image/png": "[encoded data removed]",
      "text/plain": [
       "<Figure size 432x288 with 1 Axes>"
      ]
     },
     "metadata": {
      "needs_background": "light"
     },
     "output_type": "display_data"
    }
   ],
   "source": [
    "plot_accuracy( emb_history_5.history )"
   ]
  },
  {
   "cell_type": "markdown",
   "metadata": {},
   "source": [
    "### Checking performance on test set"
   ]
  },
  {
   "cell_type": "markdown",
   "metadata": {},
   "source": [
    "We will use the model 4 for checking performance on test set and making predictions."
   ]
  },
  {
   "cell_type": "code",
   "execution_count": 96,
   "metadata": {},
   "outputs": [
    {
     "name": "stdout",
     "output_type": "stream",
     "text": [
      "Model: \"sequential\"\n",
      "_________________________________________________________________\n",
      "Layer (type)                 Output Shape              Param #   \n",
      "=================================================================\n",
      "layer_embedding (Embedding)  (None, 552, 8)            80000     \n",
      "_________________________________________________________________\n",
      "flatten (Flatten)            (None, 4416)              0         \n",
      "_________________________________________________________________\n",
      "dense (Dense)                (None, 16)                70672     \n",
      "_________________________________________________________________\n",
      "activation (Activation)      (None, 16)                0         \n",
      "_________________________________________________________________\n",
      "dropout (Dropout)            (None, 16)                0         \n",
      "_________________________________________________________________\n",
      "dense_1 (Dense)              (None, 1)                 17        \n",
      "_________________________________________________________________\n",
      "activation_1 (Activation)    (None, 1)                 0         \n",
      "=================================================================\n",
      "Total params: 150,689\n",
      "Trainable params: 150,689\n",
      "Non-trainable params: 0\n",
      "_________________________________________________________________\n"
     ]
    }
   ],
   "source": [
    "emb_model_4.summary()"
   ]
  },
  {
   "cell_type": "code",
   "execution_count": 97,
   "metadata": {},
   "outputs": [
    {
     "data": {
      "text/plain": [
       "array([[   0,    0,    0, ...,    5, 1769,    9],\n",
       "       [   0,    0,    0, ...,  245,  141,   27],\n",
       "       [   0,    0,    0, ..., 1602,    5,  607],\n",
       "       ...,\n",
       "       [   0,    0,    0, ...,  699,    7,    7],\n",
       "       [   0,    0,    0, ..., 1057,    7,    7],\n",
       "       [   0,    0,    0, ...,    3, 2910, 3589]], dtype=int32)"
      ]
     },
     "execution_count": 97,
     "metadata": {},
     "output_type": "execute_result"
    }
   ],
   "source": [
    "X_train"
   ]
  },
  {
   "cell_type": "code",
   "execution_count": 98,
   "metadata": {},
   "outputs": [
    {
     "name": "stdout",
     "output_type": "stream",
     "text": [
      "157/157 [==============================] - 0s 767us/step - loss: 0.3562 - accuracy: 0.8800\n"
     ]
    }
   ],
   "source": [
    "result = emb_model_4.evaluate(X_test, y_test)"
   ]
  },
  {
   "cell_type": "code",
   "execution_count": 99,
   "metadata": {},
   "outputs": [
    {
     "name": "stdout",
     "output_type": "stream",
     "text": [
      "Accuracy: 88.00%\n"
     ]
    }
   ],
   "source": [
    "print(\"Accuracy: {0:.2%}\".format(result[1]))"
   ]
  },
  {
   "cell_type": "markdown",
   "metadata": {},
   "source": [
    "### Predicting Test Data and Confusion Matrix\n",
    "\n",
    "We will predict the classes using model 4 and build the confusion matrix to understand precision and recall."
   ]
  },
  {
   "cell_type": "code",
   "execution_count": 100,
   "metadata": {},
   "outputs": [
    {
     "name": "stdout",
     "output_type": "stream",
     "text": [
      "WARNING:tensorflow:From <ipython-input-100-2b15523963c6>:1: Sequential.predict_classes (from tensorflow.python.keras.engine.sequential) is deprecated and will be removed after 2021-01-01.\n",
      "Instructions for updating:\n",
      "Please use instead:* `np.argmax(model.predict(x), axis=-1)`,   if your model does multi-class classification   (e.g. if it uses a `softmax` last-layer activation).* `(model.predict(x) > 0.5).astype(\"int32\")`,   if your model does binary classification   (e.g. if it uses a `sigmoid` last-layer activation).\n"
     ]
    }
   ],
   "source": [
    "y_pred = emb_model_4.predict_classes(X_test[0:1000])"
   ]
  },
  {
   "cell_type": "code",
   "execution_count": 101,
   "metadata": {},
   "outputs": [
    {
     "data": {
      "text/plain": [
       "array([[1],\n",
       "       [1],\n",
       "       [1],\n",
       "       [0],\n",
       "       [0],\n",
       "       [1],\n",
       "       [0],\n",
       "       [1],\n",
       "       [1],\n",
       "       [1]], dtype=int32)"
      ]
     },
     "execution_count": 101,
     "metadata": {},
     "output_type": "execute_result"
    }
   ],
   "source": [
    "y_pred[0:10]"
   ]
  },
  {
   "cell_type": "code",
   "execution_count": 102,
   "metadata": {},
   "outputs": [
    {
     "name": "stderr",
     "output_type": "stream",
     "text": [
      "/opt/anaconda3/envs/trainingnew/lib/python3.8/site-packages/sklearn/utils/validation.py:68: FutureWarning: Pass labels=[1, 0] as keyword args. From version 0.25 passing these as positional arguments will result in an error\n",
      "  warnings.warn(\"Pass {} as keyword args. From version 0.25 \"\n"
     ]
    }
   ],
   "source": [
    "from sklearn import metrics\n",
    "\n",
    "cm = metrics.confusion_matrix( y_test[0:1000],\n",
    "                            y_pred, [1,0] )"
   ]
  },
  {
   "cell_type": "code",
   "execution_count": 103,
   "metadata": {},
   "outputs": [
    {
     "data": {
      "image/png": "[encoded data removed]",
      "text/plain": [
       "<Figure size 432x288 with 2 Axes>"
      ]
     },
     "metadata": {
      "needs_background": "light"
     },
     "output_type": "display_data"
    }
   ],
   "source": [
    "sn.heatmap(cm, annot=True,  \n",
    "           fmt='.2f', \n",
    "           xticklabels = [\"Positive\", \"Negative\"] , \n",
    "           yticklabels = [\"Positive\", \"Negative\"] )\n",
    "\n",
    "plt.ylabel('True label')\n",
    "plt.xlabel('Predicted label');\n",
    "plt.title( 'Confusion Matrix for Sentiment Classification');"
   ]
  },
  {
   "cell_type": "code",
   "execution_count": 104,
   "metadata": {},
   "outputs": [],
   "source": [
    "from sklearn.metrics import classification_report"
   ]
  },
  {
   "cell_type": "code",
   "execution_count": 105,
   "metadata": {},
   "outputs": [
    {
     "name": "stdout",
     "output_type": "stream",
     "text": [
      "              precision    recall  f1-score   support\n",
      "\n",
      "           0       0.91      0.88      0.89       505\n",
      "           1       0.88      0.91      0.89       495\n",
      "\n",
      "    accuracy                           0.89      1000\n",
      "   macro avg       0.89      0.89      0.89      1000\n",
      "weighted avg       0.89      0.89      0.89      1000\n",
      "\n"
     ]
    }
   ],
   "source": [
    "print( classification_report(y_test[0:1000], \n",
    "                             y_pred))"
   ]
  },
  {
   "cell_type": "markdown",
   "metadata": {},
   "source": [
    "### Peeping into Embeddings"
   ]
  },
  {
   "cell_type": "markdown",
   "metadata": {},
   "source": [
    "We will look at the embeddings estimated for different words and if they are placed neared or far as per their meaning."
   ]
  },
  {
   "cell_type": "code",
   "execution_count": 110,
   "metadata": {},
   "outputs": [],
   "source": [
    "layer_embedding = emb_model_4.get_layer('layer_embedding')"
   ]
  },
  {
   "cell_type": "code",
   "execution_count": 111,
   "metadata": {},
   "outputs": [],
   "source": [
    "weights_embedding = layer_embedding.get_weights()[0]"
   ]
  },
  {
   "cell_type": "code",
   "execution_count": 112,
   "metadata": {},
   "outputs": [
    {
     "data": {
      "text/plain": [
       "(10000, 8)"
      ]
     },
     "execution_count": 112,
     "metadata": {},
     "output_type": "execute_result"
    }
   ],
   "source": [
    "weights_embedding.shape"
   ]
  },
  {
   "cell_type": "code",
   "execution_count": 113,
   "metadata": {},
   "outputs": [],
   "source": [
    "def get_embeddings( word ):\n",
    "    token = tokenizer.word_index[word]\n",
    "    return weights_embedding[token]"
   ]
  },
  {
   "cell_type": "code",
   "execution_count": 114,
   "metadata": {},
   "outputs": [
    {
     "data": {
      "text/plain": [
       "array([-0.0161389 , -0.09378119,  0.04194308,  0.10216945, -0.04819636,\n",
       "        0.05692852,  0.00135407, -0.11729138], dtype=float32)"
      ]
     },
     "execution_count": 114,
     "metadata": {},
     "output_type": "execute_result"
    }
   ],
   "source": [
    "good = get_embeddings('good')\n",
    "good"
   ]
  },
  {
   "cell_type": "code",
   "execution_count": 115,
   "metadata": {},
   "outputs": [
    {
     "data": {
      "text/plain": [
       "array([-0.13641588, -0.12936461,  0.2530621 ,  0.33822754, -0.10163463,\n",
       "        0.13287626, -0.1009129 , -0.10873117], dtype=float32)"
      ]
     },
     "execution_count": 115,
     "metadata": {},
     "output_type": "execute_result"
    }
   ],
   "source": [
    "great = get_embeddings('great')\n",
    "great"
   ]
  },
  {
   "cell_type": "code",
   "execution_count": 116,
   "metadata": {},
   "outputs": [
    {
     "data": {
      "text/plain": [
       "array([ 0.15583351,  0.06309228, -0.19767748, -0.2058305 ,  0.13743283,\n",
       "       -0.15640241,  0.19329032,  0.07518445], dtype=float32)"
      ]
     },
     "execution_count": 116,
     "metadata": {},
     "output_type": "execute_result"
    }
   ],
   "source": [
    "bad = get_embeddings('bad')\n",
    "bad"
   ]
  },
  {
   "cell_type": "code",
   "execution_count": 117,
   "metadata": {},
   "outputs": [
    {
     "data": {
      "text/plain": [
       "array([ 0.2836785 ,  0.2022449 , -0.29908872, -0.41033435,  0.20946491,\n",
       "       -0.2082164 ,  0.27597085,  0.23788773], dtype=float32)"
      ]
     },
     "execution_count": 117,
     "metadata": {},
     "output_type": "execute_result"
    }
   ],
   "source": [
    "terrible = get_embeddings('terrible')\n",
    "terrible"
   ]
  },
  {
   "cell_type": "markdown",
   "metadata": {},
   "source": [
    "We will calculate the euclidean distance between the word embeddings."
   ]
  },
  {
   "cell_type": "code",
   "execution_count": 118,
   "metadata": {},
   "outputs": [],
   "source": [
    "from scipy.spatial.distance import cdist"
   ]
  },
  {
   "cell_type": "code",
   "execution_count": 119,
   "metadata": {},
   "outputs": [],
   "source": [
    "def get_distance( word1, word2 ):\n",
    "    \n",
    "    word1_token = tokenizer.word_index[word1]\n",
    "    word2_token = tokenizer.word_index[word2]    \n",
    "    \n",
    "    return cdist([weights_embedding[word1_token]], \n",
    "                 [weights_embedding[word2_token]], \n",
    "                 metric = 'euclidean')"
   ]
  },
  {
   "cell_type": "code",
   "execution_count": 120,
   "metadata": {},
   "outputs": [
    {
     "data": {
      "text/plain": [
       "array([[0.36767229]])"
      ]
     },
     "execution_count": 120,
     "metadata": {},
     "output_type": "execute_result"
    }
   ],
   "source": [
    "get_distance( 'good', \n",
    "             'great' )"
   ]
  },
  {
   "cell_type": "code",
   "execution_count": 121,
   "metadata": {},
   "outputs": [
    {
     "data": {
      "text/plain": [
       "array([[0.60026704]])"
      ]
     },
     "execution_count": 121,
     "metadata": {},
     "output_type": "execute_result"
    }
   ],
   "source": [
    "get_distance( 'good', 'bad' )"
   ]
  },
  {
   "cell_type": "code",
   "execution_count": 122,
   "metadata": {},
   "outputs": [
    {
     "data": {
      "text/plain": [
       "array([[0.35915956]])"
      ]
     },
     "execution_count": 122,
     "metadata": {},
     "output_type": "execute_result"
    }
   ],
   "source": [
    "get_distance( 'terrible', 'bad' )"
   ]
  },
  {
   "cell_type": "code",
   "execution_count": 123,
   "metadata": {},
   "outputs": [
    {
     "data": {
      "text/plain": [
       "array([[0.94590828]])"
      ]
     },
     "execution_count": 123,
     "metadata": {},
     "output_type": "execute_result"
    }
   ],
   "source": [
    "get_distance( 'good', 'terrible' )"
   ]
  },
  {
   "cell_type": "code",
   "execution_count": 124,
   "metadata": {},
   "outputs": [
    {
     "data": {
      "text/plain": [
       "array([[1.27552841]])"
      ]
     },
     "execution_count": 124,
     "metadata": {},
     "output_type": "execute_result"
    }
   ],
   "source": [
    "get_distance( 'great', 'terrible' )"
   ]
  },
  {
   "cell_type": "markdown",
   "metadata": {},
   "source": [
    "It can be observed that the words *good* and *great* are places together, while *bad* and *terrible* are place together. And the words *good* and *terrible* are place far. This indicates the embeddings have incorporated the meaning of the words as per how they are used in the sentences expressing positive and negative sentiments."
   ]
  },
  {
   "cell_type": "markdown",
   "metadata": {},
   "source": [
    "Some more examples expressing sentiments."
   ]
  },
  {
   "cell_type": "code",
   "execution_count": 125,
   "metadata": {},
   "outputs": [
    {
     "data": {
      "text/plain": [
       "array([[0.27512394]])"
      ]
     },
     "execution_count": 125,
     "metadata": {},
     "output_type": "execute_result"
    }
   ],
   "source": [
    "get_distance('wonderful','awesome')"
   ]
  },
  {
   "cell_type": "code",
   "execution_count": 126,
   "metadata": {},
   "outputs": [
    {
     "data": {
      "text/plain": [
       "array([[0.95412807]])"
      ]
     },
     "execution_count": 126,
     "metadata": {},
     "output_type": "execute_result"
    }
   ],
   "source": [
    "get_distance('wonderful','pathetic')"
   ]
  },
  {
   "cell_type": "code",
   "execution_count": 127,
   "metadata": {},
   "outputs": [
    {
     "data": {
      "text/plain": [
       "array([[0.96649179]])"
      ]
     },
     "execution_count": 127,
     "metadata": {},
     "output_type": "execute_result"
    }
   ],
   "source": [
    "get_distance('awesome','pathetic')"
   ]
  },
  {
   "cell_type": "markdown",
   "metadata": {},
   "source": [
    "## Applying Pre trained embeddings"
   ]
  },
  {
   "cell_type": "markdown",
   "metadata": {},
   "source": [
    "Word embeddings are generally computed using word-occurrence statistics (observations about what words co-occur in sentences or documents), using a variety of  techniques, some involving neural networks, others not. The idea of a dense, lowdimensional embedding space for words, computed in an unsupervised way, was initially explored by Bengio et al. in the early 2000s,1 but it only started to take off in research and industry applications after the release of one of the most famous and successful word-embedding schemes: the Word2vec algorithm (https://code.google.com/ archive/p/word2vec), developed by Tomas Mikolov at Google in 2013. Word2vec dimensions capture specific semantic properties, such as gender.\n",
    "\n",
    "There are various precomputed databases of word embeddings that you can download and use in a Keras Embedding layer. Word2vec is one of them. Another popular one is called Global Vectors for Word Representation (GloVe, https://nlp.stanford.edu/projects/glove), which was developed by Stanford researchers in 2014. This embedding technique is based on factorizing a matrix of word co-occurrence statistics. Its developers have made available precomputed embeddings for millions of English tokens, obtained from Wikipedia data and Common Crawl data.\n",
    "\n",
    "One of the most widely used pretrained word embeddings is Glove and can be downloaded from https://nlp.stanford.edu/projects/glove/ \n",
    "\n",
    "GloVe is pre-computed embeddings from 2014 English Wikipedia. It's a 822MB zip file named glove.6B.zip, containing 100-dimensional embedding vectors for 400,000 words (or non-word tokens)."
   ]
  },
  {
   "cell_type": "code",
   "execution_count": 128,
   "metadata": {},
   "outputs": [
    {
     "name": "stdout",
     "output_type": "stream",
     "text": [
      "the -0.038194 -0.24487 0.72812 -0.39961 0.083172 0.043953 -0.39141 0.3344 -0.57545 0.087459 0.28787 -0.06731 0.30906 -0.26384 -0.13231 -0.20757 0.33395 -0.33848 -0.31743 -0.48336 0.1464 -0.37304 0.34577 0.052041 0.44946 -0.46971 0.02628 -0.54155 -0.15518 -0.14107 -0.039722 0.28277 0.14393 0.23464 -0.31021 0.086173 0.20397 0.52624 0.17164 -0.082378 -0.71787 -0.41531 0.20335 -0.12763 0.41367 0.55187 0.57908 -0.33477 -0.36559 -0.54857 -0.062892 0.26584 0.30205 0.99775 -0.80481 -3.0243 0.01254 -0.36942 2.2167 0.72201 -0.24978 0.92136 0.034514 0.46745 1.1079 -0.19358 -0.074575 0.23353 -0.052062 -0.22044 0.057162 -0.15806 -0.30798 -0.41625 0.37972 0.15006 -0.53212 -0.2055 -1.2526 0.071624 0.70565 0.49744 -0.42063 0.26148 -1.538 -0.30223 -0.073438 -0.28312 0.37104 -0.25217 0.016215 -0.017099 -0.38984 0.87424 -0.72569 -0.51058 -0.52028 -0.1459 0.8278 0.27062\n",
      "\n",
      "Found 400000 word vectors.\n"
     ]
    }
   ],
   "source": [
    "import os\n",
    "\n",
    "glove_dir = '/Users/manaranjan/Documents/Work/MyLearnings/DeepLearning/DL_DraftCourse/DLP Book/data'\n",
    "\n",
    "embeddings_index = {}\n",
    "f = open(os.path.join(glove_dir, 'glove.6B.100d.txt'))\n",
    "line_num = 0\n",
    "\n",
    "for line in f:\n",
    "    ## The following code is done for printing the first line \n",
    "    if( line_num == 0):\n",
    "        print( line )\n",
    "        line_num += 1\n",
    "    values = line.split()\n",
    "    word = values[0]\n",
    "    coefs = np.asarray(values[1:], dtype='float32')\n",
    "    embeddings_index[word] = coefs\n",
    "f.close()\n",
    "\n",
    "print('Found %s word vectors.' % len(embeddings_index))"
   ]
  },
  {
   "cell_type": "markdown",
   "metadata": {},
   "source": [
    "Get the word indexes from the our tokenizer, which contains the indexes of the words in our corpus."
   ]
  },
  {
   "cell_type": "code",
   "execution_count": 129,
   "metadata": {},
   "outputs": [],
   "source": [
    "word_index = tokenizer.word_index"
   ]
  },
  {
   "cell_type": "code",
   "execution_count": 130,
   "metadata": {},
   "outputs": [],
   "source": [
    "embedding_dim = 100 #This is because we have downloaded GloVec for 100d embeddings\n",
    "max_words = 10000\n",
    "\n",
    "### The embedding matrix will have \n",
    "embedding_matrix = np.zeros((max_words, \n",
    "                             embedding_dim))\n",
    "\n",
    "for word, i in word_index.items():\n",
    "    embedding_vector = embeddings_index.get(word)\n",
    "    if i < max_words:\n",
    "        if embedding_vector is not None:\n",
    "            # Words not found in embedding index will be all-zeros.\n",
    "            embedding_matrix[i] = embedding_vector\n"
   ]
  },
  {
   "cell_type": "markdown",
   "metadata": {},
   "source": [
    "### Embedding Model"
   ]
  },
  {
   "cell_type": "code",
   "execution_count": 132,
   "metadata": {},
   "outputs": [
    {
     "name": "stdout",
     "output_type": "stream",
     "text": [
      "Model: \"sequential\"\n",
      "_________________________________________________________________\n",
      "Layer (type)                 Output Shape              Param #   \n",
      "=================================================================\n",
      "embedding (Embedding)        (None, 552, 100)          1000000   \n",
      "_________________________________________________________________\n",
      "flatten (Flatten)            (None, 55200)             0         \n",
      "_________________________________________________________________\n",
      "dense (Dense)                (None, 32)                1766432   \n",
      "_________________________________________________________________\n",
      "dense_1 (Dense)              (None, 1)                 33        \n",
      "=================================================================\n",
      "Total params: 2,766,465\n",
      "Trainable params: 2,766,465\n",
      "Non-trainable params: 0\n",
      "_________________________________________________________________\n"
     ]
    }
   ],
   "source": [
    "tf.keras.backend.clear_session()  # clear default graph\n",
    "\n",
    "pre_trained_emb_model = Sequential()\n",
    "pre_trained_emb_model.add(Embedding(max_words, \n",
    "                                    embedding_dim, \n",
    "                                    input_length=max_review_length))\n",
    "pre_trained_emb_model.add(Flatten())\n",
    "pre_trained_emb_model.add(Dense(32, activation='relu'))\n",
    "pre_trained_emb_model.add(Dense(1, activation='sigmoid'))\n",
    "pre_trained_emb_model.summary()"
   ]
  },
  {
   "cell_type": "markdown",
   "metadata": {},
   "source": [
    "The Embedding layer has a single weight matrix: a 2D float matrix where each entry *i* is the word vector meant to be associated with index i. Simple enough. Let's just load the GloVe matrix we prepared into our Embedding layer, the first layer in our model:\n",
    "\n",
    "Additionally, we freeze the embedding layer (we set its trainable attribute to False), following the same rationale as what you are already familiar with in the context of pre-trained convnet features: when parts of a model are pre-trained (like our Embedding layer), and parts are randomly initialized (like our classifier), the pre-trained parts should not be updated during training to avoid forgetting what they already know. The large gradient update triggered by the randomly initialized layers would be very disruptive to the already learned features."
   ]
  },
  {
   "cell_type": "code",
   "execution_count": 133,
   "metadata": {},
   "outputs": [],
   "source": [
    "pre_trained_emb_model.layers[0].set_weights([embedding_matrix])\n",
    "pre_trained_emb_model.layers[0].trainable = True"
   ]
  },
  {
   "cell_type": "code",
   "execution_count": 135,
   "metadata": {},
   "outputs": [],
   "source": [
    "callbacks_list = [ReduceLROnPlateau(monitor='val_loss',\n",
    "                                    factor=0.1, \n",
    "                                    patience=3),\n",
    "                 EarlyStopping(monitor='val_loss',\n",
    "                               patience=4),\n",
    "                 ModelCheckpoint(filepath='imdb_pretrained_model.h5',\n",
    "                                 monitor='val_loss',\n",
    "                                 save_best_only=True),\n",
    "                 TensorBoard(\"./imdb_pretrained_logs\")]"
   ]
  },
  {
   "cell_type": "code",
   "execution_count": 136,
   "metadata": {},
   "outputs": [
    {
     "name": "stdout",
     "output_type": "stream",
     "text": [
      "Epoch 1/10\n",
      "  2/141 [..............................] - ETA: 8s - loss: 4.1041 - accuracy: 0.4961WARNING:tensorflow:Callbacks method `on_train_batch_end` is slow compared to the batch time (batch time: 0.0300s vs `on_train_batch_end` time: 0.0911s). Check your callbacks.\n",
      "141/141 [==============================] - 5s 35ms/step - loss: 0.7545 - accuracy: 0.5651 - val_loss: 0.6099 - val_accuracy: 0.6985\n",
      "Epoch 2/10\n",
      "141/141 [==============================] - 5s 34ms/step - loss: 0.5418 - accuracy: 0.7457 - val_loss: 0.5809 - val_accuracy: 0.6880\n",
      "Epoch 3/10\n",
      "141/141 [==============================] - 5s 35ms/step - loss: 0.3736 - accuracy: 0.8478 - val_loss: 0.4544 - val_accuracy: 0.7885\n",
      "Epoch 4/10\n",
      "141/141 [==============================] - 5s 34ms/step - loss: 0.2464 - accuracy: 0.9026 - val_loss: 0.3551 - val_accuracy: 0.8465\n",
      "Epoch 5/10\n",
      "141/141 [==============================] - 5s 34ms/step - loss: 0.1755 - accuracy: 0.9352 - val_loss: 0.3559 - val_accuracy: 0.8610\n",
      "Epoch 6/10\n",
      "141/141 [==============================] - 5s 35ms/step - loss: 0.1170 - accuracy: 0.9614 - val_loss: 0.4351 - val_accuracy: 0.8380\n",
      "Epoch 7/10\n",
      "141/141 [==============================] - 5s 35ms/step - loss: 0.0731 - accuracy: 0.9767 - val_loss: 0.4806 - val_accuracy: 0.8370\n",
      "Epoch 8/10\n",
      "141/141 [==============================] - 5s 34ms/step - loss: 0.0266 - accuracy: 0.9968 - val_loss: 0.3890 - val_accuracy: 0.8665\n"
     ]
    }
   ],
   "source": [
    "pre_trained_emb_model.compile(optimizer='rmsprop',\n",
    "              loss='binary_crossentropy',\n",
    "              metrics=['accuracy'])\n",
    "\n",
    "pre_trained_emb_history = pre_trained_emb_model.fit(X_train, \n",
    "                                                    y_train,\n",
    "                                                    epochs=10,\n",
    "                                                    batch_size=128,\n",
    "                                                    callbacks = callbacks_list,\n",
    "                                                    validation_split=0.1)"
   ]
  },
  {
   "cell_type": "markdown",
   "metadata": {},
   "source": [
    "### Embedding Layer with Dropouts"
   ]
  },
  {
   "cell_type": "code",
   "execution_count": 138,
   "metadata": {},
   "outputs": [
    {
     "name": "stdout",
     "output_type": "stream",
     "text": [
      "Model: \"sequential\"\n",
      "_________________________________________________________________\n",
      "Layer (type)                 Output Shape              Param #   \n",
      "=================================================================\n",
      "embedding (Embedding)        (None, 552, 100)          1000000   \n",
      "_________________________________________________________________\n",
      "flatten (Flatten)            (None, 55200)             0         \n",
      "_________________________________________________________________\n",
      "dense (Dense)                (None, 64)                3532864   \n",
      "_________________________________________________________________\n",
      "activation (Activation)      (None, 64)                0         \n",
      "_________________________________________________________________\n",
      "dropout (Dropout)            (None, 64)                0         \n",
      "_________________________________________________________________\n",
      "dense_1 (Dense)              (None, 1)                 65        \n",
      "_________________________________________________________________\n",
      "activation_1 (Activation)    (None, 1)                 0         \n",
      "=================================================================\n",
      "Total params: 4,532,929\n",
      "Trainable params: 4,532,929\n",
      "Non-trainable params: 0\n",
      "_________________________________________________________________\n"
     ]
    }
   ],
   "source": [
    "tf.keras.backend.clear_session()  # clear default graph\n",
    "\n",
    "pre_trained_emb_model = Sequential()\n",
    "pre_trained_emb_model.add(Embedding(max_words, \n",
    "                                    embedding_dim, \n",
    "                                    input_length=max_review_length))\n",
    "pre_trained_emb_model.add(Flatten())\n",
    "pre_trained_emb_model.add(Dense(64))\n",
    "pre_trained_emb_model.add(Activation('relu'))\n",
    "pre_trained_emb_model.add(Dropout(0.4))\n",
    "\n",
    "pre_trained_emb_model.add(Dense(1))\n",
    "pre_trained_emb_model.add(Activation('sigmoid'))\n",
    "pre_trained_emb_model.summary()"
   ]
  },
  {
   "cell_type": "code",
   "execution_count": 139,
   "metadata": {},
   "outputs": [],
   "source": [
    "pre_trained_emb_model.layers[0].set_weights([embedding_matrix])\n",
    "pre_trained_emb_model.layers[0].trainable = True"
   ]
  },
  {
   "cell_type": "code",
   "execution_count": 140,
   "metadata": {},
   "outputs": [
    {
     "name": "stdout",
     "output_type": "stream",
     "text": [
      "Epoch 1/30\n",
      "63/63 [==============================] - 5s 87ms/step - loss: 0.9881 - accuracy: 0.5572 - val_loss: 0.6534 - val_accuracy: 0.6750\n",
      "Epoch 2/30\n",
      "63/63 [==============================] - 5s 85ms/step - loss: 0.6569 - accuracy: 0.6322 - val_loss: 0.5592 - val_accuracy: 0.7297\n",
      "Epoch 3/30\n",
      "63/63 [==============================] - 6s 91ms/step - loss: 0.5588 - accuracy: 0.7153 - val_loss: 0.5518 - val_accuracy: 0.7200\n",
      "Epoch 4/30\n",
      "63/63 [==============================] - 5s 87ms/step - loss: 0.4758 - accuracy: 0.7816 - val_loss: 0.4526 - val_accuracy: 0.7915\n",
      "Epoch 5/30\n",
      "63/63 [==============================] - 6s 95ms/step - loss: 0.3893 - accuracy: 0.8326 - val_loss: 0.4022 - val_accuracy: 0.8173\n",
      "Epoch 6/30\n",
      "63/63 [==============================] - 6s 95ms/step - loss: 0.3314 - accuracy: 0.8601 - val_loss: 0.4109 - val_accuracy: 0.8267\n",
      "Epoch 7/30\n",
      "63/63 [==============================] - 5s 83ms/step - loss: 0.2809 - accuracy: 0.8889 - val_loss: 0.6360 - val_accuracy: 0.7623\n",
      "Epoch 8/30\n",
      "63/63 [==============================] - 5s 83ms/step - loss: 0.2087 - accuracy: 0.9144 - val_loss: 0.3759 - val_accuracy: 0.8415\n",
      "Epoch 9/30\n",
      "63/63 [==============================] - 5s 83ms/step - loss: 0.1667 - accuracy: 0.9317 - val_loss: 0.4128 - val_accuracy: 0.8425\n",
      "Epoch 10/30\n",
      "63/63 [==============================] - 5s 83ms/step - loss: 0.1734 - accuracy: 0.9388 - val_loss: 0.4144 - val_accuracy: 0.8363\n",
      "Epoch 11/30\n",
      "63/63 [==============================] - 6s 95ms/step - loss: 0.1220 - accuracy: 0.9523 - val_loss: 0.5381 - val_accuracy: 0.8388\n",
      "Epoch 12/30\n",
      "63/63 [==============================] - 7s 108ms/step - loss: 0.0542 - accuracy: 0.9802 - val_loss: 0.4740 - val_accuracy: 0.8560\n"
     ]
    }
   ],
   "source": [
    "pre_trained_emb_model.compile(optimizer='rmsprop',\n",
    "              loss='binary_crossentropy',\n",
    "              metrics=['accuracy'])\n",
    "\n",
    "pre_trained_emb_history = pre_trained_emb_model.fit(X_train, \n",
    "                                                    y_train,\n",
    "                                                    epochs=30,\n",
    "                                                    batch_size=256,\n",
    "                                                    callbacks=callbacks_list,\n",
    "                                                    validation_split=0.2)"
   ]
  },
  {
   "cell_type": "code",
   "execution_count": 141,
   "metadata": {},
   "outputs": [
    {
     "data": {
      "image/png": "[encoded data removed]",
      "text/plain": [
       "<Figure size 432x288 with 1 Axes>"
      ]
     },
     "metadata": {
      "needs_background": "light"
     },
     "output_type": "display_data"
    }
   ],
   "source": [
    "plot_accuracy(pre_trained_emb_history.history)"
   ]
  },
  {
   "cell_type": "markdown",
   "metadata": {
    "collapsed": true
   },
   "source": [
    "## Excellent References\n",
    "\n",
    "For further exploration and better understanding, you can use the following references.\n",
    "\n",
    "- Glossary of Deep Learning: Word Embedding\n",
    "\n",
    "    https://medium.com/deeper-learning/glossary-of-deep-learning-word-embedding-f90c3cec34ca\n",
    "\n",
    "\n",
    "- wevi: word embedding visual inspector\n",
    "\n",
    "    https://ronxin.github.io/wevi/  \n",
    "    \n",
    "    \n",
    "- Learning Word Embedding    \n",
    "\n",
    "    https://lilianweng.github.io/lil-log/2017/10/15/learning-word-embedding.html\n",
    "\n",
    "\n",
    "- On the contribution of neural networks and word embeddings in Natural Language Processing\n",
    "\n",
    "    https://medium.com/@josecamachocollados/on-the-contribution-of-neural-networks-and-word-embeddings-in-natural-language-processing-c8bb1b85c61c"
   ]
  }
 ],
 "metadata": {
  "kernelspec": {
   "display_name": "Python 3",
   "language": "python",
   "name": "python3"
  },
  "language_info": {
   "codemirror_mode": {
    "name": "ipython",
    "version": 3
   },
   "file_extension": ".py",
   "mimetype": "text/x-python",
   "name": "python",
   "nbconvert_exporter": "python",
   "pygments_lexer": "ipython3",
   "version": "3.8.3"
  }
 },
 "nbformat": 4,
 "nbformat_minor": 2
}
