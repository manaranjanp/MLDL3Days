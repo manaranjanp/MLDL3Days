{
  "cells": [
    {
      "cell_type": "markdown",
      "metadata": {
        "id": "KYE7oHVFGeRp"
      },
      "source": [
        "# Deep Learning 4: IMDB Classification using Bag of Words and Embeddings\n",
        "\n",
        "This tutorial will go through steps for building a deep learning model for sentiment Analysis. We will classify IMDB movie reviews as either positive or negative. This tutorial will be used for teaching during the workshop.\n",
        "\n",
        "The tutorial has taken contents from various places including the tutorial from http://www.hvass-labs.org/ for the purpose of teaching in the deep learning class.\n",
        "\n",
        "The topics addressed in the tutorial:\n",
        "\n",
        "1. Basic exploration of the IMDB movies dataset.\n",
        "2. Tokenization, text to sequences, padding and truncating\n",
        "3. Building NN Model using Bag Of Words\n",
        "4. Building NN Model using Embeddings\n",
        "5. Peeping to Word Embeddings\n",
        "\n",
        "We will be exploring mostly how to use Bag of Words and Word Embeddings vector representation of texts and build plain vanila NN models. In the future tutorials, we will explore RNN, LSTM models in the future."
      ]
    },
    {
      "cell_type": "markdown",
      "metadata": {
        "id": "eWPKdTSuGeRt"
      },
      "source": [
        "### IMDB Movie Reviews\n",
        "\n",
        "The dataset is available at https://www.kaggle.com/c/word2vec-nlp-tutorial/data\n",
        "\n",
        "The labeled data set consists of 50,000 IMDB movie reviews, specially selected for sentiment analysis. The sentiment of reviews is binary, meaning the IMDB rating < 5 results in a sentiment score of 0, and rating >=7 have a sentiment score of 1. No individual movie has more than 30 reviews.\n",
        "\n",
        "**Data Fields**\n",
        "\n",
        "- id - Unique ID of each review\n",
        "- sentiment - Sentiment of the review; 1 for positive reviews and 0 for negative reviews\n",
        "- review - Text of the review"
      ]
    },
    {
      "cell_type": "markdown",
      "metadata": {
        "id": "r2yjMG4rGeRt"
      },
      "source": [
        "### Loading the dataset"
      ]
    },
    {
      "cell_type": "code",
      "source": [
        "from google.colab import drive\n",
        "drive.mount('/content/drive')"
      ],
      "metadata": {
        "colab": {
          "base_uri": "https://localhost:8080/"
        },
        "id": "eEkIi-_AglUG",
        "outputId": "d2bba25a-577f-4975-bf73-29fe8ea327b3"
      },
      "execution_count": 7,
      "outputs": [
        {
          "output_type": "stream",
          "name": "stdout",
          "text": [
            "Drive already mounted at /content/drive; to attempt to forcibly remount, call drive.mount(\"/content/drive\", force_remount=True).\n"
          ]
        }
      ]
    },
    {
      "cell_type": "code",
      "source": [
        "!nvidia-smi"
      ],
      "metadata": {
        "colab": {
          "base_uri": "https://localhost:8080/"
        },
        "id": "sDz6WffhHejO",
        "outputId": "822db31d-0738-4f95-82b4-152b141e7bdd"
      },
      "execution_count": 8,
      "outputs": [
        {
          "output_type": "stream",
          "name": "stdout",
          "text": [
            "Fri Sep 16 07:06:51 2022       \n",
            "+-----------------------------------------------------------------------------+\n",
            "| NVIDIA-SMI 460.32.03    Driver Version: 460.32.03    CUDA Version: 11.2     |\n",
            "|-------------------------------+----------------------+----------------------+\n",
            "| GPU  Name        Persistence-M| Bus-Id        Disp.A | Volatile Uncorr. ECC |\n",
            "| Fan  Temp  Perf  Pwr:Usage/Cap|         Memory-Usage | GPU-Util  Compute M. |\n",
            "|                               |                      |               MIG M. |\n",
            "|===============================+======================+======================|\n",
            "|   0  Tesla P100-PCIE...  Off  | 00000000:00:04.0 Off |                    0 |\n",
            "| N/A   33C    P0    26W / 250W |      0MiB / 16280MiB |      0%      Default |\n",
            "|                               |                      |                  N/A |\n",
            "+-------------------------------+----------------------+----------------------+\n",
            "                                                                               \n",
            "+-----------------------------------------------------------------------------+\n",
            "| Processes:                                                                  |\n",
            "|  GPU   GI   CI        PID   Type   Process name                  GPU Memory |\n",
            "|        ID   ID                                                   Usage      |\n",
            "|=============================================================================|\n",
            "|  No running processes found                                                 |\n",
            "+-----------------------------------------------------------------------------+\n"
          ]
        }
      ]
    },
    {
      "cell_type": "code",
      "execution_count": 9,
      "metadata": {
        "id": "pG_3ZXVcGeRu"
      },
      "outputs": [],
      "source": [
        "import pandas as pd\n",
        "import numpy as np"
      ]
    },
    {
      "cell_type": "code",
      "execution_count": 10,
      "metadata": {
        "id": "K4Hg0VzPGeRv"
      },
      "outputs": [],
      "source": [
        "imdb_df = pd.read_csv('/content/drive/MyDrive/MLDL3Days/notebooks/labeledTrainData.tsv.zip', sep = '\\t')"
      ]
    },
    {
      "cell_type": "code",
      "execution_count": 11,
      "metadata": {
        "colab": {
          "base_uri": "https://localhost:8080/",
          "height": 424
        },
        "id": "wQ2RFkKwGeRv",
        "outputId": "85f392d1-fb59-409e-fde6-96347bfa78ad"
      },
      "outputs": [
        {
          "output_type": "execute_result",
          "data": {
            "text/plain": [
              "       id  sentiment  \\\n",
              "0  5814_8          1   \n",
              "1  2381_9          1   \n",
              "2  7759_3          0   \n",
              "3  3630_4          0   \n",
              "4  9495_8          1   \n",
              "\n",
              "                                                                                                                                                                                                                                                                                                                                                                                                                                                                                                                review  \n",
              "0  With all this stuff going down at the moment with MJ i've started listening to his music, watching the odd documentary here and there, watched The Wiz and watched Moonwalker again. Maybe i just want to get a certain insight into this guy who i thought was really cool in the eighties just to maybe make up my mind whether he is guilty or innocent. Moonwalker is part biography, part feature film which i remember going to see at the cinema when it was originally released. Some of it has subtle m...  \n",
              "1  \\The Classic War of the Worlds\\\" by Timothy Hines is a very entertaining film that obviously goes to great effort and lengths to faithfully recreate H. G. Wells' classic book. Mr. Hines succeeds in doing so. I, and those who watched his film with me, appreciated the fact that it was not the standard, predictable Hollywood fare that comes out every year, e.g. the Spielberg version with Tom Cruise that had only the slightest resemblance to the book. Obviously, everyone looks for different thin...  \n",
              "2  The film starts with a manager (Nicholas Bell) giving welcome investors (Robert Carradine) to Primal Park . A secret project mutating a primal animal using fossilized DNA, like ¨Jurassik Park¨, and some scientists resurrect one of nature's most fearsome predators, the Sabretooth tiger or Smilodon . Scientific ambition turns deadly, however, and when the high voltage fence is opened the creature escape and begins savagely stalking its prey - the human visitors , tourists and scientific.Meanwh...  \n",
              "3  It must be assumed that those who praised this film (\\the greatest filmed opera ever,\\\" didn't I read somewhere?) either don't care for opera, don't care for Wagner, or don't care about anything except their desire to appear Cultured. Either as a representation of Wagner's swan-song, or as a movie, this strikes me as an unmitigated disaster, with a leaden reading of the score matched to a tricksy, lugubrious realisation of the text.<br /><br />It's questionable that people with ideas as to w...  \n",
              "4  Superbly trashy and wondrously unpretentious 80's exploitation, hooray! The pre-credits opening sequences somewhat give the false impression that we're dealing with a serious and harrowing drama, but you need not fear because barely ten minutes later we're up until our necks in nonsensical chainsaw battles, rough fist-fights, lurid dialogs and gratuitous nudity! Bo and Ingrid are two orphaned siblings with an unusually close and even slightly perverted relationship. Can you imagine playfully...  "
            ],
            "text/html": [
              "\n",
              "  <div id=\"df-5af641e9-619d-4f85-8bf1-e7df14f45987\">\n",
              "    <div class=\"colab-df-container\">\n",
              "      <div>\n",
              "<style scoped>\n",
              "    .dataframe tbody tr th:only-of-type {\n",
              "        vertical-align: middle;\n",
              "    }\n",
              "\n",
              "    .dataframe tbody tr th {\n",
              "        vertical-align: top;\n",
              "    }\n",
              "\n",
              "    .dataframe thead th {\n",
              "        text-align: right;\n",
              "    }\n",
              "</style>\n",
              "<table border=\"1\" class=\"dataframe\">\n",
              "  <thead>\n",
              "    <tr style=\"text-align: right;\">\n",
              "      <th></th>\n",
              "      <th>id</th>\n",
              "      <th>sentiment</th>\n",
              "      <th>review</th>\n",
              "    </tr>\n",
              "  </thead>\n",
              "  <tbody>\n",
              "    <tr>\n",
              "      <th>0</th>\n",
              "      <td>5814_8</td>\n",
              "      <td>1</td>\n",
              "      <td>With all this stuff going down at the moment with MJ i've started listening to his music, watching the odd documentary here and there, watched The Wiz and watched Moonwalker again. Maybe i just want to get a certain insight into this guy who i thought was really cool in the eighties just to maybe make up my mind whether he is guilty or innocent. Moonwalker is part biography, part feature film which i remember going to see at the cinema when it was originally released. Some of it has subtle m...</td>\n",
              "    </tr>\n",
              "    <tr>\n",
              "      <th>1</th>\n",
              "      <td>2381_9</td>\n",
              "      <td>1</td>\n",
              "      <td>\\The Classic War of the Worlds\\\" by Timothy Hines is a very entertaining film that obviously goes to great effort and lengths to faithfully recreate H. G. Wells' classic book. Mr. Hines succeeds in doing so. I, and those who watched his film with me, appreciated the fact that it was not the standard, predictable Hollywood fare that comes out every year, e.g. the Spielberg version with Tom Cruise that had only the slightest resemblance to the book. Obviously, everyone looks for different thin...</td>\n",
              "    </tr>\n",
              "    <tr>\n",
              "      <th>2</th>\n",
              "      <td>7759_3</td>\n",
              "      <td>0</td>\n",
              "      <td>The film starts with a manager (Nicholas Bell) giving welcome investors (Robert Carradine) to Primal Park . A secret project mutating a primal animal using fossilized DNA, like ¨Jurassik Park¨, and some scientists resurrect one of nature's most fearsome predators, the Sabretooth tiger or Smilodon . Scientific ambition turns deadly, however, and when the high voltage fence is opened the creature escape and begins savagely stalking its prey - the human visitors , tourists and scientific.Meanwh...</td>\n",
              "    </tr>\n",
              "    <tr>\n",
              "      <th>3</th>\n",
              "      <td>3630_4</td>\n",
              "      <td>0</td>\n",
              "      <td>It must be assumed that those who praised this film (\\the greatest filmed opera ever,\\\" didn't I read somewhere?) either don't care for opera, don't care for Wagner, or don't care about anything except their desire to appear Cultured. Either as a representation of Wagner's swan-song, or as a movie, this strikes me as an unmitigated disaster, with a leaden reading of the score matched to a tricksy, lugubrious realisation of the text.&lt;br /&gt;&lt;br /&gt;It's questionable that people with ideas as to w...</td>\n",
              "    </tr>\n",
              "    <tr>\n",
              "      <th>4</th>\n",
              "      <td>9495_8</td>\n",
              "      <td>1</td>\n",
              "      <td>Superbly trashy and wondrously unpretentious 80's exploitation, hooray! The pre-credits opening sequences somewhat give the false impression that we're dealing with a serious and harrowing drama, but you need not fear because barely ten minutes later we're up until our necks in nonsensical chainsaw battles, rough fist-fights, lurid dialogs and gratuitous nudity! Bo and Ingrid are two orphaned siblings with an unusually close and even slightly perverted relationship. Can you imagine playfully...</td>\n",
              "    </tr>\n",
              "  </tbody>\n",
              "</table>\n",
              "</div>\n",
              "      <button class=\"colab-df-convert\" onclick=\"convertToInteractive('df-5af641e9-619d-4f85-8bf1-e7df14f45987')\"\n",
              "              title=\"Convert this dataframe to an interactive table.\"\n",
              "              style=\"display:none;\">\n",
              "        \n",
              "  <svg xmlns=\"http://www.w3.org/2000/svg\" height=\"24px\"viewBox=\"0 0 24 24\"\n",
              "       width=\"24px\">\n",
              "    <path d=\"M0 0h24v24H0V0z\" fill=\"none\"/>\n",
              "    <path d=\"M18.56 5.44l.94 2.06.94-2.06 2.06-.94-2.06-.94-.94-2.06-.94 2.06-2.06.94zm-11 1L8.5 8.5l.94-2.06 2.06-.94-2.06-.94L8.5 2.5l-.94 2.06-2.06.94zm10 10l.94 2.06.94-2.06 2.06-.94-2.06-.94-.94-2.06-.94 2.06-2.06.94z\"/><path d=\"M17.41 7.96l-1.37-1.37c-.4-.4-.92-.59-1.43-.59-.52 0-1.04.2-1.43.59L10.3 9.45l-7.72 7.72c-.78.78-.78 2.05 0 2.83L4 21.41c.39.39.9.59 1.41.59.51 0 1.02-.2 1.41-.59l7.78-7.78 2.81-2.81c.8-.78.8-2.07 0-2.86zM5.41 20L4 18.59l7.72-7.72 1.47 1.35L5.41 20z\"/>\n",
              "  </svg>\n",
              "      </button>\n",
              "      \n",
              "  <style>\n",
              "    .colab-df-container {\n",
              "      display:flex;\n",
              "      flex-wrap:wrap;\n",
              "      gap: 12px;\n",
              "    }\n",
              "\n",
              "    .colab-df-convert {\n",
              "      background-color: #E8F0FE;\n",
              "      border: none;\n",
              "      border-radius: 50%;\n",
              "      cursor: pointer;\n",
              "      display: none;\n",
              "      fill: #1967D2;\n",
              "      height: 32px;\n",
              "      padding: 0 0 0 0;\n",
              "      width: 32px;\n",
              "    }\n",
              "\n",
              "    .colab-df-convert:hover {\n",
              "      background-color: #E2EBFA;\n",
              "      box-shadow: 0px 1px 2px rgba(60, 64, 67, 0.3), 0px 1px 3px 1px rgba(60, 64, 67, 0.15);\n",
              "      fill: #174EA6;\n",
              "    }\n",
              "\n",
              "    [theme=dark] .colab-df-convert {\n",
              "      background-color: #3B4455;\n",
              "      fill: #D2E3FC;\n",
              "    }\n",
              "\n",
              "    [theme=dark] .colab-df-convert:hover {\n",
              "      background-color: #434B5C;\n",
              "      box-shadow: 0px 1px 3px 1px rgba(0, 0, 0, 0.15);\n",
              "      filter: drop-shadow(0px 1px 2px rgba(0, 0, 0, 0.3));\n",
              "      fill: #FFFFFF;\n",
              "    }\n",
              "  </style>\n",
              "\n",
              "      <script>\n",
              "        const buttonEl =\n",
              "          document.querySelector('#df-5af641e9-619d-4f85-8bf1-e7df14f45987 button.colab-df-convert');\n",
              "        buttonEl.style.display =\n",
              "          google.colab.kernel.accessAllowed ? 'block' : 'none';\n",
              "\n",
              "        async function convertToInteractive(key) {\n",
              "          const element = document.querySelector('#df-5af641e9-619d-4f85-8bf1-e7df14f45987');\n",
              "          const dataTable =\n",
              "            await google.colab.kernel.invokeFunction('convertToInteractive',\n",
              "                                                     [key], {});\n",
              "          if (!dataTable) return;\n",
              "\n",
              "          const docLinkHtml = 'Like what you see? Visit the ' +\n",
              "            '<a target=\"_blank\" href=https://colab.research.google.com/notebooks/data_table.ipynb>data table notebook</a>'\n",
              "            + ' to learn more about interactive tables.';\n",
              "          element.innerHTML = '';\n",
              "          dataTable['output_type'] = 'display_data';\n",
              "          await google.colab.output.renderOutput(dataTable, element);\n",
              "          const docLink = document.createElement('div');\n",
              "          docLink.innerHTML = docLinkHtml;\n",
              "          element.appendChild(docLink);\n",
              "        }\n",
              "      </script>\n",
              "    </div>\n",
              "  </div>\n",
              "  "
            ]
          },
          "metadata": {},
          "execution_count": 11
        }
      ],
      "source": [
        "pd.set_option('display.max_colwidth', 500)\n",
        "imdb_df.head(5)"
      ]
    },
    {
      "cell_type": "code",
      "source": [
        "imdb_df.info()"
      ],
      "metadata": {
        "colab": {
          "base_uri": "https://localhost:8080/"
        },
        "id": "CE9GG8EJlk8u",
        "outputId": "d59cc2a7-080b-4486-dd3a-7527df1d7465"
      },
      "execution_count": 12,
      "outputs": [
        {
          "output_type": "stream",
          "name": "stdout",
          "text": [
            "<class 'pandas.core.frame.DataFrame'>\n",
            "RangeIndex: 25000 entries, 0 to 24999\n",
            "Data columns (total 3 columns):\n",
            " #   Column     Non-Null Count  Dtype \n",
            "---  ------     --------------  ----- \n",
            " 0   id         25000 non-null  object\n",
            " 1   sentiment  25000 non-null  int64 \n",
            " 2   review     25000 non-null  object\n",
            "dtypes: int64(1), object(2)\n",
            "memory usage: 586.1+ KB\n"
          ]
        }
      ]
    },
    {
      "cell_type": "code",
      "source": [
        "imdb_df.sentiment.value_counts()"
      ],
      "metadata": {
        "colab": {
          "base_uri": "https://localhost:8080/"
        },
        "id": "92QpWmIWlrzb",
        "outputId": "a554903f-d159-41db-9f37-1fa02cec0261"
      },
      "execution_count": 13,
      "outputs": [
        {
          "output_type": "execute_result",
          "data": {
            "text/plain": [
              "1    12500\n",
              "0    12500\n",
              "Name: sentiment, dtype: int64"
            ]
          },
          "metadata": {},
          "execution_count": 13
        }
      ]
    },
    {
      "cell_type": "markdown",
      "metadata": {
        "id": "mnQIEVELGeRx"
      },
      "source": [
        "### Data Tokenization"
      ]
    },
    {
      "cell_type": "markdown",
      "metadata": {
        "id": "DGQxUtc9GeRx"
      },
      "source": [
        "The text data need to be converted into vectors using either bag of words or embeddings model. We will first explore bag of words (BOW) model. In the BOW model, a sentence will be represented as a vector with the words (also called tokens) as dimensions of the vectors. \n",
        "\n",
        "For the purpose of creating vectors, we need to tokenize the sentences first and find out all unique tokens (words) used across all sentences. The corpus of unquie words used could very large, so we can limit the corpus of tokens by using only the most popular (frequently used) words. In this example, we will use 10000 words."
      ]
    },
    {
      "cell_type": "code",
      "execution_count": 14,
      "metadata": {
        "id": "MmV-SLQrGeRy"
      },
      "outputs": [],
      "source": [
        "from tensorflow.keras.preprocessing.text import Tokenizer"
      ]
    },
    {
      "cell_type": "code",
      "execution_count": 15,
      "metadata": {
        "id": "XMoDNlwiGeRz"
      },
      "outputs": [],
      "source": [
        "all_tokenizer = Tokenizer()"
      ]
    },
    {
      "cell_type": "code",
      "execution_count": 16,
      "metadata": {
        "id": "B8BTwXp_GeRz"
      },
      "outputs": [],
      "source": [
        "all_tokenizer.fit_on_texts( imdb_df.review )"
      ]
    },
    {
      "cell_type": "code",
      "execution_count": 17,
      "metadata": {
        "colab": {
          "base_uri": "https://localhost:8080/"
        },
        "id": "MvXncMwCGeR0",
        "outputId": "34cb3f35-fb2b-4c0e-9406-b320435139f2"
      },
      "outputs": [
        {
          "output_type": "execute_result",
          "data": {
            "text/plain": [
              "25000"
            ]
          },
          "metadata": {},
          "execution_count": 17
        }
      ],
      "source": [
        "all_tokenizer.document_count"
      ]
    },
    {
      "cell_type": "code",
      "execution_count": 18,
      "metadata": {
        "colab": {
          "base_uri": "https://localhost:8080/"
        },
        "id": "NJ4-sN4JGeR0",
        "outputId": "b936ebf0-44a0-4503-cb29-d9dde0b03b64"
      },
      "outputs": [
        {
          "output_type": "execute_result",
          "data": {
            "text/plain": [
              "88582"
            ]
          },
          "metadata": {},
          "execution_count": 18
        }
      ],
      "source": [
        "len(all_tokenizer.word_counts)"
      ]
    },
    {
      "cell_type": "markdown",
      "metadata": {
        "id": "8F2klGRNGeR1"
      },
      "source": [
        "There are 25000 documents (reviews) and 88582 unique words."
      ]
    },
    {
      "cell_type": "markdown",
      "metadata": {
        "id": "RmB5j4fAGeR1"
      },
      "source": [
        "#### High Frequent Words"
      ]
    },
    {
      "cell_type": "code",
      "execution_count": 19,
      "metadata": {
        "colab": {
          "base_uri": "https://localhost:8080/"
        },
        "id": "5q-erVliGeR1",
        "outputId": "7cf004de-0317-4ee1-d586-d3e69db3c22c"
      },
      "outputs": [
        {
          "output_type": "execute_result",
          "data": {
            "text/plain": [
              "[('with', 44122),\n",
              " ('all', 23953),\n",
              " ('this', 75974),\n",
              " ('stuff', 1171),\n",
              " ('going', 4094),\n",
              " ('down', 3707),\n",
              " ('at', 23507),\n",
              " ('the', 336148),\n",
              " ('moment', 1104),\n",
              " ('mj', 30)]"
            ]
          },
          "metadata": {},
          "execution_count": 19
        }
      ],
      "source": [
        "list(all_tokenizer.word_counts.items())[0:10]"
      ]
    },
    {
      "cell_type": "markdown",
      "metadata": {
        "id": "i_Qsz_DyGeR2"
      },
      "source": [
        "#### Low frequency words"
      ]
    },
    {
      "cell_type": "code",
      "execution_count": 20,
      "metadata": {
        "colab": {
          "base_uri": "https://localhost:8080/"
        },
        "id": "xNYLqVPGGeR2",
        "outputId": "420c4448-47da-408c-b020-3699441fa8ad"
      },
      "outputs": [
        {
          "output_type": "execute_result",
          "data": {
            "text/plain": [
              "[('bear\\x97and', 1),\n",
              " ('unflinchingly\\x97what', 1),\n",
              " ('acids', 1),\n",
              " (\"gaye's\", 1),\n",
              " ('crahan', 1),\n",
              " ('guggenheim', 2),\n",
              " ('substitutions', 1),\n",
              " (\"daeseleire's\", 1),\n",
              " ('shortsightedness', 1),\n",
              " ('unfairness', 1)]"
            ]
          },
          "metadata": {},
          "execution_count": 20
        }
      ],
      "source": [
        "list(all_tokenizer.word_counts.items())[-10:]"
      ]
    },
    {
      "cell_type": "markdown",
      "metadata": {
        "id": "qI8wVDQ0GeR2"
      },
      "source": [
        "We can assume the low frequencey words are rarely used to express sentiments as they have appeared only once across all reviews. And only choose to keep top N (for example 10000) words for our analysis. So, let's tokenize agains with a limit to number of words to 10000."
      ]
    },
    {
      "cell_type": "code",
      "execution_count": 21,
      "metadata": {
        "id": "xhvKsNkCGeR2"
      },
      "outputs": [],
      "source": [
        "num_words = 10000"
      ]
    },
    {
      "cell_type": "code",
      "execution_count": 22,
      "metadata": {
        "id": "071issMkGeR3"
      },
      "outputs": [],
      "source": [
        "tokenizer = Tokenizer(num_words = num_words)"
      ]
    },
    {
      "cell_type": "code",
      "execution_count": 23,
      "metadata": {
        "id": "FllNwFYcGeR3"
      },
      "outputs": [],
      "source": [
        "tokenizer.fit_on_texts( imdb_df.review )"
      ]
    },
    {
      "cell_type": "markdown",
      "metadata": {
        "id": "28sWGCvfGeR3"
      },
      "source": [
        "Tokenizer provides 4 attributes that you can use to query what has been learned about your documents:\n",
        "\n",
        "- word_counts: A dictionary of words and their counts.\n",
        "- word_docs: A dictionary of words and how many documents each appeared in.\n",
        "- word_index: A dictionary of words and their uniquely assigned integers.\n",
        "- document_count:An integer count of the total number of documents that were used to fit the Tokenizer."
      ]
    },
    {
      "cell_type": "markdown",
      "metadata": {
        "id": "0FETbWgYGeR4"
      },
      "source": [
        "#### Checking first few words and their counts"
      ]
    },
    {
      "cell_type": "code",
      "execution_count": 24,
      "metadata": {
        "colab": {
          "base_uri": "https://localhost:8080/"
        },
        "id": "p7mPRyBvGeR4",
        "outputId": "7a836511-61e0-4c34-bc6a-6dbb23560d36"
      },
      "outputs": [
        {
          "output_type": "stream",
          "name": "stdout",
          "text": [
            "with 44122\n",
            "all 23953\n",
            "this 75974\n",
            "stuff 1171\n",
            "going 4094\n"
          ]
        }
      ],
      "source": [
        "import itertools\n",
        "\n",
        "x = itertools.islice(tokenizer.word_counts.items(), 0, 5)\n",
        "\n",
        "for key, value in x:\n",
        "    print(key, value)"
      ]
    },
    {
      "cell_type": "markdown",
      "metadata": {
        "id": "LXcWo-jjGeR4"
      },
      "source": [
        "#### Checking words and their indexes"
      ]
    },
    {
      "cell_type": "code",
      "execution_count": 25,
      "metadata": {
        "colab": {
          "base_uri": "https://localhost:8080/"
        },
        "id": "vmb9rk-zGeR4",
        "outputId": "f23a5d23-593c-40fe-910b-ba689827e3cb"
      },
      "outputs": [
        {
          "output_type": "execute_result",
          "data": {
            "text/plain": [
              "[('the', 1),\n",
              " ('and', 2),\n",
              " ('a', 3),\n",
              " ('of', 4),\n",
              " ('to', 5),\n",
              " ('is', 6),\n",
              " ('br', 7),\n",
              " ('in', 8),\n",
              " ('it', 9),\n",
              " ('i', 10)]"
            ]
          },
          "metadata": {},
          "execution_count": 25
        }
      ],
      "source": [
        "list(tokenizer.word_index.items())[0:10]"
      ]
    },
    {
      "cell_type": "markdown",
      "metadata": {
        "id": "eSrg0UZSGeR4"
      },
      "source": [
        "The indexes are in no order. We can order the words by the index values i.e. starting from 1."
      ]
    },
    {
      "cell_type": "code",
      "execution_count": 26,
      "metadata": {
        "id": "eJZ1UcpRGeR5"
      },
      "outputs": [],
      "source": [
        "from collections import OrderedDict"
      ]
    },
    {
      "cell_type": "code",
      "execution_count": 27,
      "metadata": {
        "id": "lqxxtkn2GeR5"
      },
      "outputs": [],
      "source": [
        "words_by_sorted_index = sorted(tokenizer.word_index.items(), \n",
        "                                           key=lambda idx: idx[1])"
      ]
    },
    {
      "cell_type": "code",
      "execution_count": 28,
      "metadata": {
        "colab": {
          "base_uri": "https://localhost:8080/"
        },
        "id": "2ccbFuk6GeR5",
        "outputId": "98ab01d3-45eb-4e22-afbc-a75b4475deeb"
      },
      "outputs": [
        {
          "output_type": "execute_result",
          "data": {
            "text/plain": [
              "list"
            ]
          },
          "metadata": {},
          "execution_count": 28
        }
      ],
      "source": [
        "type(words_by_sorted_index)"
      ]
    },
    {
      "cell_type": "code",
      "execution_count": 29,
      "metadata": {
        "colab": {
          "base_uri": "https://localhost:8080/"
        },
        "id": "HV5Id5mEGeR5",
        "outputId": "bc960f07-2e6c-45b4-e256-0658bb628a92"
      },
      "outputs": [
        {
          "output_type": "execute_result",
          "data": {
            "text/plain": [
              "[('the', 1),\n",
              " ('and', 2),\n",
              " ('a', 3),\n",
              " ('of', 4),\n",
              " ('to', 5),\n",
              " ('is', 6),\n",
              " ('br', 7),\n",
              " ('in', 8),\n",
              " ('it', 9),\n",
              " ('i', 10)]"
            ]
          },
          "metadata": {},
          "execution_count": 29
        }
      ],
      "source": [
        "words_by_sorted_index[0:10]"
      ]
    },
    {
      "cell_type": "markdown",
      "metadata": {
        "id": "A6BCMfR4GeR5"
      },
      "source": [
        "### Encoding a text using the dictionary of tokens"
      ]
    },
    {
      "cell_type": "markdown",
      "metadata": {
        "id": "BVkHPTovGeR6"
      },
      "source": [
        "Finding indexes of the words"
      ]
    },
    {
      "cell_type": "code",
      "execution_count": 30,
      "metadata": {
        "colab": {
          "base_uri": "https://localhost:8080/"
        },
        "id": "2Nzsw_wfGeR6",
        "outputId": "b54b52b3-273d-4f16-e3ff-cd4ef3f57701"
      },
      "outputs": [
        {
          "output_type": "execute_result",
          "data": {
            "text/plain": [
              "1"
            ]
          },
          "metadata": {},
          "execution_count": 30
        }
      ],
      "source": [
        "tokenizer.word_index['the']"
      ]
    },
    {
      "cell_type": "code",
      "execution_count": 31,
      "metadata": {
        "colab": {
          "base_uri": "https://localhost:8080/"
        },
        "id": "e6wIB8FSGeR6",
        "outputId": "635f5d69-3762-44c5-91bd-d75023c6644f"
      },
      "outputs": [
        {
          "output_type": "execute_result",
          "data": {
            "text/plain": [
              "17"
            ]
          },
          "metadata": {},
          "execution_count": 31
        }
      ],
      "source": [
        "tokenizer.word_index['movie']"
      ]
    },
    {
      "cell_type": "code",
      "execution_count": 32,
      "metadata": {
        "colab": {
          "base_uri": "https://localhost:8080/"
        },
        "id": "UhIfTvknGeR6",
        "outputId": "cfb13eb3-fd09-4848-aab3-f812ee9f3bd7"
      },
      "outputs": [
        {
          "output_type": "execute_result",
          "data": {
            "text/plain": [
              "526"
            ]
          },
          "metadata": {},
          "execution_count": 32
        }
      ],
      "source": [
        "tokenizer.word_index['brilliant']"
      ]
    },
    {
      "cell_type": "code",
      "execution_count": 33,
      "metadata": {
        "colab": {
          "base_uri": "https://localhost:8080/"
        },
        "id": "iUUo_W9iGeR7",
        "outputId": "26cfad02-9c48-4b3b-f58c-5ba6738808c1"
      },
      "outputs": [
        {
          "output_type": "execute_result",
          "data": {
            "text/plain": [
              "[[1, 17, 8623, 6, 3, 526, 17]]"
            ]
          },
          "metadata": {},
          "execution_count": 33
        }
      ],
      "source": [
        "tokenizer.texts_to_sequences( [\"The movie gladiator is a brilliant movie\"])"
      ]
    },
    {
      "cell_type": "markdown",
      "metadata": {
        "id": "Jq7IGN8vGeR7"
      },
      "source": [
        "### Encoding all the movie reviews"
      ]
    },
    {
      "cell_type": "markdown",
      "metadata": {
        "id": "4FRAFundGeR7"
      },
      "source": [
        "Now the documents (reviews) will be encoded as per the dictionary."
      ]
    },
    {
      "cell_type": "code",
      "execution_count": 34,
      "metadata": {
        "colab": {
          "base_uri": "https://localhost:8080/"
        },
        "id": "dPS86ZLZGeR7",
        "outputId": "a5f9da48-a5d3-4bf8-c95f-1aefbb44dd4a"
      },
      "outputs": [
        {
          "output_type": "stream",
          "name": "stdout",
          "text": [
            "CPU times: user 2.77 s, sys: 38.9 ms, total: 2.8 s\n",
            "Wall time: 2.81 s\n"
          ]
        }
      ],
      "source": [
        "%%time\n",
        "sequences = tokenizer.texts_to_sequences(imdb_df.review)"
      ]
    },
    {
      "cell_type": "markdown",
      "metadata": {
        "id": "Eas0a_9rGeR8"
      },
      "source": [
        "Let's look at the words index sequences for a specific sentence."
      ]
    },
    {
      "cell_type": "code",
      "execution_count": 35,
      "metadata": {
        "colab": {
          "base_uri": "https://localhost:8080/"
        },
        "id": "S7zlqP1jGeR8",
        "outputId": "e00ee9c9-76e0-4eb1-eaa2-0ba03f1d82c5"
      },
      "outputs": [
        {
          "output_type": "execute_result",
          "data": {
            "text/plain": [
              "10    What happens when an army of wetbacks, towelheads, and Godless Eastern European commies gather their forces south of the border? Gary Busey kicks their butts, of course. Another laughable example of Reagan-era cultural fallout, Bulletproof wastes a decent supporting cast headed by L Q Jones and Thalmus Rasulala.\n",
              "Name: review, dtype: object"
            ]
          },
          "metadata": {},
          "execution_count": 35
        }
      ],
      "source": [
        "imdb_df.review[10:11]"
      ]
    },
    {
      "cell_type": "code",
      "execution_count": 36,
      "metadata": {
        "colab": {
          "base_uri": "https://localhost:8080/"
        },
        "id": "ONz_fyUaGeR8",
        "outputId": "a80a7290-706d-42f3-d210-148c41c4d799"
      },
      "outputs": [
        {
          "output_type": "execute_result",
          "data": {
            "text/plain": [
              "array([[  48,  567,   51,   32, 1268,    4,    2, 4940, 1867, 5171,   65,\n",
              "        1919, 1221,    4,    1, 3607, 1993, 6887, 3398,   65,    4,  261,\n",
              "         157, 1319,  459,    4, 7801,  996, 2652, 6986,    3,  539,  693,\n",
              "         174, 2847,   31, 2007, 3866, 1526,    2]])"
            ]
          },
          "metadata": {},
          "execution_count": 36
        }
      ],
      "source": [
        "np.array(sequences[10:11])"
      ]
    },
    {
      "cell_type": "markdown",
      "metadata": {
        "id": "p_ng9L-7GeR8"
      },
      "source": [
        "### Encode Y Variable"
      ]
    },
    {
      "cell_type": "code",
      "execution_count": 37,
      "metadata": {
        "id": "krYtJrhGGeR8"
      },
      "outputs": [],
      "source": [
        "y = np.array(imdb_df.sentiment)"
      ]
    },
    {
      "cell_type": "code",
      "execution_count": 38,
      "metadata": {
        "colab": {
          "base_uri": "https://localhost:8080/"
        },
        "id": "aX2_nYxdGeR8",
        "outputId": "d25135dc-3b3a-4ccd-aef9-0ab9e73950bb"
      },
      "outputs": [
        {
          "output_type": "execute_result",
          "data": {
            "text/plain": [
              "array([1, 1, 0, 0, 1])"
            ]
          },
          "metadata": {},
          "execution_count": 38
        }
      ],
      "source": [
        "y[0:5]"
      ]
    },
    {
      "cell_type": "markdown",
      "metadata": {
        "id": "6SwhsPkdGeR9"
      },
      "source": [
        "How many classes available?"
      ]
    },
    {
      "cell_type": "code",
      "execution_count": 39,
      "metadata": {
        "colab": {
          "base_uri": "https://localhost:8080/"
        },
        "id": "MEXK6hGjGeR9",
        "outputId": "1319fd0a-f1c4-49a7-a8da-131704002ad8"
      },
      "outputs": [
        {
          "output_type": "execute_result",
          "data": {
            "text/plain": [
              "array([1, 0])"
            ]
          },
          "metadata": {},
          "execution_count": 39
        }
      ],
      "source": [
        "imdb_df.sentiment.unique()"
      ]
    },
    {
      "cell_type": "markdown",
      "metadata": {
        "id": "IfTsUcWFGeR9"
      },
      "source": [
        "### Truncate and Pad Sequences"
      ]
    },
    {
      "cell_type": "markdown",
      "metadata": {
        "id": "lRWBMky0GeR9"
      },
      "source": [
        "One of the problem in dealing with sentences are they are not of same size. Some sentences will have more words and some will have fewer words. Neural networks take input of same lenghts for training a batch.\n",
        "\n",
        "So, we need to choose a length or size of input. Larger sentences will have to be truncated and smaller ones need to be padded. But what size or lenght to consider?\n",
        "\n",
        "We need to take the length which can cover most of the sentences. Only few need to be truncated or padded. For that we will look at the distribution of the word or token lengths."
      ]
    },
    {
      "cell_type": "code",
      "execution_count": 40,
      "metadata": {
        "id": "W4cD9JZ0GeR9"
      },
      "outputs": [],
      "source": [
        "num_tokens = [len(tokens) for tokens in sequences]\n",
        "num_tokens = np.array(num_tokens)"
      ]
    },
    {
      "cell_type": "code",
      "execution_count": 41,
      "metadata": {
        "id": "aPevebS-GeR-"
      },
      "outputs": [],
      "source": [
        "import matplotlib.pyplot as plt\n",
        "import seaborn as sn\n",
        "%matplotlib inline"
      ]
    },
    {
      "cell_type": "code",
      "execution_count": 42,
      "metadata": {
        "colab": {
          "base_uri": "https://localhost:8080/",
          "height": 320
        },
        "id": "wBGH_xtrGeR-",
        "outputId": "f115bdc9-7eeb-419c-ffb0-5287833cf16b"
      },
      "outputs": [
        {
          "output_type": "stream",
          "name": "stderr",
          "text": [
            "/usr/local/lib/python3.7/dist-packages/seaborn/distributions.py:2619: FutureWarning: `distplot` is a deprecated function and will be removed in a future version. Please adapt your code to use either `displot` (a figure-level function with similar flexibility) or `histplot` (an axes-level function for histograms).\n",
            "  warnings.warn(msg, FutureWarning)\n"
          ]
        },
        {
          "output_type": "display_data",
          "data": {
            "text/plain": [
              "<Figure size 432x288 with 1 Axes>"
            ],
            "image/png": "[encoded data removed]"
          },
          "metadata": {
            "needs_background": "light"
          }
        }
      ],
      "source": [
        "sn.distplot( num_tokens );"
      ]
    },
    {
      "cell_type": "code",
      "execution_count": 43,
      "metadata": {
        "id": "IzY6XhSHGeR-"
      },
      "outputs": [],
      "source": [
        "mean_num_tokens = num_tokens.mean()\n",
        "std_num_tokens = num_tokens.std()"
      ]
    },
    {
      "cell_type": "code",
      "execution_count": 44,
      "metadata": {
        "colab": {
          "base_uri": "https://localhost:8080/"
        },
        "id": "ZEGF0YtaGeR-",
        "outputId": "fa03f52d-d63d-4580-ae21-c736b0aed707"
      },
      "outputs": [
        {
          "output_type": "execute_result",
          "data": {
            "text/plain": [
              "224.05292"
            ]
          },
          "metadata": {},
          "execution_count": 44
        }
      ],
      "source": [
        "mean_num_tokens"
      ]
    },
    {
      "cell_type": "code",
      "execution_count": 45,
      "metadata": {
        "colab": {
          "base_uri": "https://localhost:8080/"
        },
        "id": "P-XtYjNqGeR-",
        "outputId": "1e04a91d-f161-461e-ebe9-e5908c77f590"
      },
      "outputs": [
        {
          "output_type": "execute_result",
          "data": {
            "text/plain": [
              "164.12699046614364"
            ]
          },
          "metadata": {},
          "execution_count": 45
        }
      ],
      "source": [
        "std_num_tokens"
      ]
    },
    {
      "cell_type": "markdown",
      "metadata": {
        "id": "DhixImoIGeR-"
      },
      "source": [
        "if we assume that legnth chosen should address 95% of the sentences, then we can take 2 standard deviation of the mean length."
      ]
    },
    {
      "cell_type": "code",
      "execution_count": 46,
      "metadata": {
        "id": "dUpVthXWGeR_"
      },
      "outputs": [],
      "source": [
        "max_review_length = int(mean_num_tokens + 2 * std_num_tokens)"
      ]
    },
    {
      "cell_type": "code",
      "execution_count": 47,
      "metadata": {
        "colab": {
          "base_uri": "https://localhost:8080/"
        },
        "id": "_iYiKZfpGeR_",
        "outputId": "4f0feec3-14e1-44e7-a023-6a88aff9e9ab"
      },
      "outputs": [
        {
          "output_type": "execute_result",
          "data": {
            "text/plain": [
              "552"
            ]
          },
          "metadata": {},
          "execution_count": 47
        }
      ],
      "source": [
        "max_review_length"
      ]
    },
    {
      "cell_type": "markdown",
      "metadata": {
        "id": "VoL0tnYdGeR_"
      },
      "source": [
        "How many sentences will not be truncated at all?"
      ]
    },
    {
      "cell_type": "code",
      "execution_count": 48,
      "metadata": {
        "colab": {
          "base_uri": "https://localhost:8080/"
        },
        "id": "07yPzY4LGeR_",
        "outputId": "b4ed2d85-1f4b-4c40-a17e-542a811ed93e"
      },
      "outputs": [
        {
          "output_type": "execute_result",
          "data": {
            "text/plain": [
              "0.94524"
            ]
          },
          "metadata": {},
          "execution_count": 48
        }
      ],
      "source": [
        "np.sum(num_tokens < max_review_length) / len(num_tokens)"
      ]
    },
    {
      "cell_type": "markdown",
      "metadata": {
        "id": "V4ka7UOkGeR_"
      },
      "source": [
        "Almost 95%."
      ]
    },
    {
      "cell_type": "markdown",
      "metadata": {
        "id": "j5hfpkz9GeR_"
      },
      "source": [
        "Now we will pad or truncate. But padding or truncating can be done at the beginning of the sentence or at the end of the sentences. *pre* or *post* can be used to specify the padding and truncating the beginning or end of sentence."
      ]
    },
    {
      "cell_type": "code",
      "execution_count": 49,
      "metadata": {
        "id": "CCdd3PIRGeSA"
      },
      "outputs": [],
      "source": [
        "from tensorflow.keras.preprocessing.sequence import pad_sequences "
      ]
    },
    {
      "cell_type": "code",
      "execution_count": 50,
      "metadata": {
        "id": "L1Idb-BTGeSA"
      },
      "outputs": [],
      "source": [
        "pad = 'pre'"
      ]
    },
    {
      "cell_type": "code",
      "execution_count": 51,
      "metadata": {
        "id": "BsETSoFIGeSA"
      },
      "outputs": [],
      "source": [
        "X = pad_sequences(sequences, \n",
        "                  max_review_length, \n",
        "                  padding=pad, \n",
        "                  truncating=pad)"
      ]
    },
    {
      "cell_type": "code",
      "execution_count": 52,
      "metadata": {
        "colab": {
          "base_uri": "https://localhost:8080/"
        },
        "id": "x1rh7DYJGeSA",
        "outputId": "4f35f332-1cd0-4747-c4f2-f03fb0601ee3"
      },
      "outputs": [
        {
          "output_type": "execute_result",
          "data": {
            "text/plain": [
              "array([[   0,    0,    0,    0,    0,    0,    0,    0,    0,    0,    0,\n",
              "           0,    0,    0,    0,    0,    0,    0,    0,    0,    0,    0,\n",
              "           0,    0,    0,    0,    0,    0,    0,    0,    0,    0,    0,\n",
              "           0,    0,    0,    0,    0,    0,    0,    0,    0,    0,    0,\n",
              "           0,    0,    0,    0,    0,    0,    0,    0,    0,    0,    0,\n",
              "           0,    0,    0,    0,    0,    0,    0,    0,    0,    0,    0,\n",
              "           0,    0,    0,    0,    0,    0,    0,    0,    0,    0,    0,\n",
              "           0,    0,    0,    0,    0,    0,    0,    0,    0,    0,    0,\n",
              "           0,    0,    0,    0,    0,    0,    0,    0,    0,    0,    0,\n",
              "           0,    0,    0,    0,    0,    0,    0,    0,    0,    0,    0,\n",
              "           0,    0,    0,    0,    0,    0,    0,    0,    0,    0,    0,\n",
              "           0,    0,    0,    0,    0,    0,    0,    0,    0,    0,    0,\n",
              "           0,    0,    0,    0,    0,    0,    0,    0,    0,    0,    0,\n",
              "           0,   16,   29,   11,  535,  167,  177,   30,    1,  558,   16,\n",
              "         204,  642, 2615,    5,   24,  225,  146,    1, 1028,  659,  130,\n",
              "           2,   47,  293,    1,    2,  293,  171,  276,   10,   40,  178,\n",
              "           5,   76,    3,  810, 2616,   80,   11,  229,   34,   10,  194,\n",
              "          13,   63,  643,    8,    1, 4252,   40,    5,  276,   94,   53,\n",
              "          58,  327,  723,   26,    6, 2512,   39, 1351,    6,  170, 5034,\n",
              "         170,  788,   19,   60,   10,  374,  167,    5,   64,   30,    1,\n",
              "         434,   51,    9,   13, 1816,  622,   46,    4,    9,   44, 1299,\n",
              "        3432,   41,  544,  946,    1, 3513,    2,   79,    1,  574,  746,\n",
              "           4, 1664,   23,   75,    7,    7, 2006, 1156,   18,    4,  261,\n",
              "          11,    6,   29,   41,  485, 1878,   35,  891,   22, 2588,   37,\n",
              "           8,  550,   92,   22,   23,  167,    5,  780,   11,    2,  166,\n",
              "           9,  354,   46,  200,  680,   32,   15,    5,    1,  228,    4,\n",
              "          11,   17,   18,    2,   88,    4,   24,  448,   59,  132,   12,\n",
              "          26,   90,    9,   15,    1,  448,   60,   45,  280,    6,   63,\n",
              "         324,    4,   87,    7,    7,    1,  776,  788,   19,  224,   51,\n",
              "           9,  414,  514,    6,   61,   20,   15,  888,  231,   39,   35,\n",
              "           1, 3537, 1670,  717,    2,  911,    6, 1075,   14,    3,   29,\n",
              "         972, 1389, 1631,  135,   26,  490,  348,   35,   75,    6,  721,\n",
              "          69,   85,   24, 2454,  911,  106,   12,   26,  470,   81,    5,\n",
              "         121,    9,    6,   26,   34,    6, 1664,  520,   35,   10,  276,\n",
              "          26,   40, 4138,  225,    7,    7,  772,    4,  643,  180,    8,\n",
              "          11,   37, 1583,   80,    3,  516,    2,    3, 2353,    2,    1,\n",
              "         223, 2119, 2718,  717,   79,    1,  164,  212,   25,   66,    1,\n",
              "        5035,    4,    3, 5558,   51,    9,  382,    5, 1418,    1,   75,\n",
              "         717,   14,  628,  904,  780,  777,   16,   28,  551,  384,  581,\n",
              "           3,  223,  758,    4,   95, 3433,    3, 1311,  833,  133,    7,\n",
              "           7, 1321,  344,   11,   17,    6,   15,   81,   34,   37,   20,\n",
              "          28,  646,   39,  157,   60,   10,  101,    6,   88,   81,   45,\n",
              "          21,   92,  785,  242,    9,  124,  350,    2,  199,  122,    3,\n",
              "        7799,  746,    2, 3606, 2064,    8,   11,   17,    6,    3,  247,\n",
              "         485, 1878,    6,  368,   28,    4,    1,   88, 1016,   81,  123,\n",
              "           5, 1693,   11, 1220,   18,    6,   26, 2512,   70,   16,   29,\n",
              "           1,  688,  204,  517,   11,  872, 7262,   70,   10,   89,  121,\n",
              "          85,   81,   67,   27,  272,  493, 4558, 3584,   10,  121,   11,\n",
              "          15,    3,  189,   26,    6,  342,   32,  573,  324,   18,  375,\n",
              "         229,   39,   28,    4,    1,   88,   10,  437,   26,    6,   21,\n",
              "           1, 1559]], dtype=int32)"
            ]
          },
          "metadata": {},
          "execution_count": 52
        }
      ],
      "source": [
        "X[0:1]"
      ]
    },
    {
      "cell_type": "markdown",
      "metadata": {
        "id": "inj3Pr_RGeSA"
      },
      "source": [
        "### Split Datasets"
      ]
    },
    {
      "cell_type": "code",
      "execution_count": 53,
      "metadata": {
        "id": "FRCA6L0mGeSA"
      },
      "outputs": [],
      "source": [
        "from sklearn.model_selection import train_test_split"
      ]
    },
    {
      "cell_type": "code",
      "execution_count": 54,
      "metadata": {
        "id": "1PmCapfcGeSB"
      },
      "outputs": [],
      "source": [
        "X_train, X_test, y_train, y_test = train_test_split(X, \n",
        "                                                    y, \n",
        "                                                    test_size = 0.2,\n",
        "                                                    random_state = 80)"
      ]
    },
    {
      "cell_type": "code",
      "execution_count": 55,
      "metadata": {
        "colab": {
          "base_uri": "https://localhost:8080/"
        },
        "id": "l6NoENzLGeSB",
        "outputId": "14699471-d9c6-41dc-9cf7-650317dcff7b"
      },
      "outputs": [
        {
          "output_type": "execute_result",
          "data": {
            "text/plain": [
              "(20000, 552)"
            ]
          },
          "metadata": {},
          "execution_count": 55
        }
      ],
      "source": [
        "X_train.shape"
      ]
    },
    {
      "cell_type": "code",
      "execution_count": 56,
      "metadata": {
        "colab": {
          "base_uri": "https://localhost:8080/"
        },
        "id": "OnV510_VGeSB",
        "outputId": "d0bc788a-82b3-46f5-bfea-a9048a3ad8af"
      },
      "outputs": [
        {
          "output_type": "execute_result",
          "data": {
            "text/plain": [
              "(5000, 552)"
            ]
          },
          "metadata": {},
          "execution_count": 56
        }
      ],
      "source": [
        "X_test.shape"
      ]
    },
    {
      "cell_type": "code",
      "execution_count": 57,
      "metadata": {
        "id": "5e2TAFePGeSB"
      },
      "outputs": [],
      "source": [
        "input_shape = X_train.shape"
      ]
    },
    {
      "cell_type": "code",
      "execution_count": 41,
      "metadata": {
        "colab": {
          "base_uri": "https://localhost:8080/"
        },
        "id": "7fNfcGOAGeSB",
        "outputId": "707cac78-f8d4-4326-a6b4-e1b243307b96"
      },
      "outputs": [
        {
          "output_type": "execute_result",
          "data": {
            "text/plain": [
              "(20000, 552)"
            ]
          },
          "metadata": {},
          "execution_count": 41
        }
      ],
      "source": [
        "input_shape"
      ]
    },
    {
      "cell_type": "markdown",
      "metadata": {
        "id": "j-Dt1rPAGeSB"
      },
      "source": [
        "### Bag Of Words Model\n",
        "\n",
        "#### Model Architecture\n",
        "\n",
        "(Bag of words) -> Dense Layer(1024) -> Dense Layer(256) -> Dense Layer(128) -> Dense Layer(64) -> Relu -> Dense Layer(1) -> Sigmoid"
      ]
    },
    {
      "cell_type": "code",
      "execution_count": 60,
      "metadata": {
        "id": "rsvNZxh3GeSC"
      },
      "outputs": [],
      "source": [
        "import tensorflow as tf\n",
        "from tensorflow import keras\n",
        "from tensorflow.keras.models import Sequential\n",
        "from tensorflow.keras.layers import Flatten, Dense, Activation"
      ]
    },
    {
      "cell_type": "code",
      "execution_count": 43,
      "metadata": {
        "id": "EDEvVBePGeSC"
      },
      "outputs": [],
      "source": [
        "tf.keras.backend.clear_session()  # clear default graph\n",
        "\n",
        "bow_model = Sequential()\n",
        "\n",
        "bow_model.add(Dense(1024, input_shape=(input_shape[1],)))\n",
        "bow_model.add(Activation('relu'))\n",
        "# An \"activation\" is just a non-linear function applied to the output\n",
        "# of the layer above. Here, with a \"rectified linear unit\",\n",
        "# we clamp all values below 0 to 0.\n",
        "bow_model.add(Dense(256))\n",
        "bow_model.add(Activation('relu'))\n",
        "bow_model.add(Dense(128))\n",
        "bow_model.add(Activation('relu'))\n",
        "bow_model.add(Dense(64))\n",
        "bow_model.add(Activation('relu'))\n",
        "bow_model.add(Dense(1))\n",
        "# This special \"softmax\" activation among other things,\n",
        "# ensures the output is a valid probaility distribution, that is\n",
        "# that its values are all non-negative and sum to 1.\n",
        "bow_model.add(Activation('sigmoid'))"
      ]
    },
    {
      "cell_type": "code",
      "execution_count": null,
      "metadata": {
        "id": "bz18Z9q4GeSC",
        "outputId": "ba54e1b0-12a5-485c-e2be-bc3db5806e9a"
      },
      "outputs": [
        {
          "name": "stdout",
          "output_type": "stream",
          "text": [
            "Model: \"sequential\"\n",
            "_________________________________________________________________\n",
            "Layer (type)                 Output Shape              Param #   \n",
            "=================================================================\n",
            "dense (Dense)                (None, 1024)              566272    \n",
            "_________________________________________________________________\n",
            "activation (Activation)      (None, 1024)              0         \n",
            "_________________________________________________________________\n",
            "dense_1 (Dense)              (None, 256)               262400    \n",
            "_________________________________________________________________\n",
            "activation_1 (Activation)    (None, 256)               0         \n",
            "_________________________________________________________________\n",
            "dense_2 (Dense)              (None, 128)               32896     \n",
            "_________________________________________________________________\n",
            "activation_2 (Activation)    (None, 128)               0         \n",
            "_________________________________________________________________\n",
            "dense_3 (Dense)              (None, 64)                8256      \n",
            "_________________________________________________________________\n",
            "activation_3 (Activation)    (None, 64)                0         \n",
            "_________________________________________________________________\n",
            "dense_4 (Dense)              (None, 1)                 65        \n",
            "_________________________________________________________________\n",
            "activation_4 (Activation)    (None, 1)                 0         \n",
            "=================================================================\n",
            "Total params: 869,889\n",
            "Trainable params: 869,889\n",
            "Non-trainable params: 0\n",
            "_________________________________________________________________\n"
          ]
        }
      ],
      "source": [
        "bow_model.summary()"
      ]
    },
    {
      "cell_type": "code",
      "execution_count": 44,
      "metadata": {
        "id": "VbAeFSr0GeSC"
      },
      "outputs": [],
      "source": [
        "bow_model.compile(loss='binary_crossentropy', \n",
        "              optimizer='rmsprop', \n",
        "              metrics=['accuracy'])"
      ]
    },
    {
      "cell_type": "code",
      "execution_count": 45,
      "metadata": {
        "id": "8FFJH_vsGeSC"
      },
      "outputs": [],
      "source": [
        "EPOCHS = 10\n",
        "BATCH_SIZE = 256"
      ]
    },
    {
      "cell_type": "code",
      "execution_count": 46,
      "metadata": {
        "colab": {
          "base_uri": "https://localhost:8080/"
        },
        "id": "m05i1JYjGeSD",
        "outputId": "adfe2ef5-8b0f-4217-8ed7-7e6918bd4b36"
      },
      "outputs": [
        {
          "output_type": "stream",
          "name": "stdout",
          "text": [
            "Epoch 1/10\n",
            "79/79 [==============================] - 5s 43ms/step - loss: 60.5241 - accuracy: 0.4990 - val_loss: 3.3973 - val_accuracy: 0.4978\n",
            "Epoch 2/10\n",
            "79/79 [==============================] - 3s 40ms/step - loss: 3.2828 - accuracy: 0.5232 - val_loss: 2.2035 - val_accuracy: 0.5108\n",
            "Epoch 3/10\n",
            "79/79 [==============================] - 3s 40ms/step - loss: 1.3583 - accuracy: 0.5372 - val_loss: 1.2068 - val_accuracy: 0.4980\n",
            "Epoch 4/10\n",
            "79/79 [==============================] - 3s 40ms/step - loss: 0.8650 - accuracy: 0.5682 - val_loss: 1.4655 - val_accuracy: 0.5082\n",
            "Epoch 5/10\n",
            "79/79 [==============================] - 3s 40ms/step - loss: 0.7497 - accuracy: 0.5973 - val_loss: 0.9037 - val_accuracy: 0.5062\n",
            "Epoch 6/10\n",
            "79/79 [==============================] - 3s 40ms/step - loss: 0.6606 - accuracy: 0.6495 - val_loss: 1.0271 - val_accuracy: 0.4960\n",
            "Epoch 7/10\n",
            "79/79 [==============================] - 3s 41ms/step - loss: 0.5470 - accuracy: 0.7344 - val_loss: 1.1384 - val_accuracy: 0.4996\n",
            "Epoch 8/10\n",
            "79/79 [==============================] - 3s 42ms/step - loss: 0.4477 - accuracy: 0.8005 - val_loss: 1.1326 - val_accuracy: 0.5086\n",
            "Epoch 9/10\n",
            "79/79 [==============================] - 3s 41ms/step - loss: 0.3375 - accuracy: 0.8615 - val_loss: 1.4788 - val_accuracy: 0.5178\n",
            "Epoch 10/10\n",
            "79/79 [==============================] - 3s 40ms/step - loss: 0.2615 - accuracy: 0.8970 - val_loss: 1.6667 - val_accuracy: 0.5110\n",
            "CPU times: user 51.1 s, sys: 1.9 s, total: 53 s\n",
            "Wall time: 33.7 s\n"
          ]
        }
      ],
      "source": [
        "%%time \n",
        "# fit model\n",
        "bow_history = bow_model.fit(\n",
        "    X_train, \n",
        "    y_train,  # prepared data\n",
        "    batch_size = BATCH_SIZE,\n",
        "    epochs = EPOCHS,\n",
        "    validation_data = (X_test, y_test),\n",
        "    shuffle = True,\n",
        "    verbose=1,\n",
        ")"
      ]
    },
    {
      "cell_type": "markdown",
      "metadata": {
        "id": "wrzKO80OGeSD"
      },
      "source": [
        "### Using Embeddings\n",
        "\n",
        "In Word embeddings, words are represented by a vector i.e. series of numbers (weights). The vectors represent words in a N dimension space, in which similar meaning words are places nearer to each other while the dissimilar words are kept far. The dimensions in the space represent some latent factors, by which the words could be defined. All words are assigned some weights in each each latent factors. Words that share some common meaning have similar weights across common factors.\n",
        "\n",
        "The word embeddings weights can be estimated during the NN model building. There are also pre-built word embeddings are available, which can be used in the model. We will discuss about the pre-built word embeddings later in the tutorial.\n",
        "\n",
        "Word embeddings are commonly used in many Natural Language Processing (NLP) tasks because they are found to be useful representations of words and often lead to better performance in the various tasks performed. Given its widespread use, this post seeks to introduce the concept of word embeddings to the prospective NLP practitioner.\n",
        "\n",
        "Here are couple of good references to understand embeddings\n",
        "\n",
        "https://medium.com/huggingface/universal-word-sentence-embeddings-ce48ddc8fc3a\n",
        "\n",
        "(Bag of words) -> Embeddings (8) -> Dense Layer(16) ->  Relu -> Dense Layer(1) -> Sigmoid"
      ]
    },
    {
      "cell_type": "code",
      "execution_count": 61,
      "metadata": {
        "id": "lUcea89QGeSD"
      },
      "outputs": [],
      "source": [
        "from tensorflow.keras.layers import Embedding\n",
        "from tensorflow.keras.optimizers import SGD"
      ]
    },
    {
      "cell_type": "code",
      "execution_count": 62,
      "metadata": {
        "id": "6mzFzJ8xGeSD"
      },
      "outputs": [],
      "source": [
        "tf.keras.backend.clear_session()  # clear default graph\n",
        "\n",
        "emb_model = Sequential()\n",
        "# We specify the maximum input length to our Embedding layer\n",
        "# so we can later flatten the embedded inputs\n",
        "emb_model.add(Embedding(num_words, 8, input_length=max_review_length))\n",
        "# After the Embedding layer, \n",
        "# our activations have shape `(samples, maxlen, 8)`.\n",
        "\n",
        "# We flatten the 3D tensor of embeddings \n",
        "# into a 2D tensor of shape `(samples, maxlen * 8)`\n",
        "emb_model.add(Flatten())\n",
        "\n",
        "emb_model.add(Dense(128))\n",
        "emb_model.add(Activation('relu'))\n",
        "\n",
        "# We add the classifier on top\n",
        "emb_model.add(Dense(1))\n",
        "emb_model.add(Activation('sigmoid'))"
      ]
    },
    {
      "cell_type": "code",
      "execution_count": 63,
      "metadata": {
        "colab": {
          "base_uri": "https://localhost:8080/"
        },
        "id": "Btht5O6HGeSD",
        "outputId": "d77a8a28-0fc2-4769-d603-2a1d16861749"
      },
      "outputs": [
        {
          "output_type": "stream",
          "name": "stdout",
          "text": [
            "Model: \"sequential\"\n",
            "_________________________________________________________________\n",
            " Layer (type)                Output Shape              Param #   \n",
            "=================================================================\n",
            " embedding (Embedding)       (None, 552, 8)            80000     \n",
            "                                                                 \n",
            " flatten (Flatten)           (None, 4416)              0         \n",
            "                                                                 \n",
            " dense (Dense)               (None, 128)               565376    \n",
            "                                                                 \n",
            " activation (Activation)     (None, 128)               0         \n",
            "                                                                 \n",
            " dense_1 (Dense)             (None, 1)                 129       \n",
            "                                                                 \n",
            " activation_1 (Activation)   (None, 1)                 0         \n",
            "                                                                 \n",
            "=================================================================\n",
            "Total params: 645,505\n",
            "Trainable params: 645,505\n",
            "Non-trainable params: 0\n",
            "_________________________________________________________________\n"
          ]
        }
      ],
      "source": [
        "emb_model.summary()"
      ]
    },
    {
      "cell_type": "code",
      "execution_count": 64,
      "metadata": {
        "colab": {
          "base_uri": "https://localhost:8080/"
        },
        "id": "p-Vl3H3oGeSE",
        "outputId": "938577eb-a74b-41bc-f90e-1151bf4b4114"
      },
      "outputs": [
        {
          "output_type": "stream",
          "name": "stdout",
          "text": [
            "Epoch 1/20\n"
          ]
        },
        {
          "output_type": "stream",
          "name": "stderr",
          "text": [
            "/usr/local/lib/python3.7/dist-packages/keras/optimizer_v2/gradient_descent.py:102: UserWarning: The `lr` argument is deprecated, use `learning_rate` instead.\n",
            "  super(SGD, self).__init__(name, **kwargs)\n"
          ]
        },
        {
          "output_type": "stream",
          "name": "stdout",
          "text": [
            "438/438 [==============================] - 5s 4ms/step - loss: 0.6931 - accuracy: 0.5121 - val_loss: 0.6922 - val_accuracy: 0.5183\n",
            "Epoch 2/20\n",
            "438/438 [==============================] - 2s 4ms/step - loss: 0.6905 - accuracy: 0.5343 - val_loss: 0.6918 - val_accuracy: 0.5175\n",
            "Epoch 3/20\n",
            "438/438 [==============================] - 2s 4ms/step - loss: 0.6856 - accuracy: 0.5695 - val_loss: 0.6821 - val_accuracy: 0.5995\n",
            "Epoch 4/20\n",
            "438/438 [==============================] - 2s 4ms/step - loss: 0.6636 - accuracy: 0.6401 - val_loss: 0.6435 - val_accuracy: 0.6630\n",
            "Epoch 5/20\n",
            "438/438 [==============================] - 2s 4ms/step - loss: 0.5932 - accuracy: 0.7069 - val_loss: 0.5671 - val_accuracy: 0.7105\n",
            "Epoch 6/20\n",
            "438/438 [==============================] - 2s 4ms/step - loss: 0.4989 - accuracy: 0.7671 - val_loss: 0.4818 - val_accuracy: 0.7713\n",
            "Epoch 7/20\n",
            "438/438 [==============================] - 2s 4ms/step - loss: 0.4173 - accuracy: 0.8166 - val_loss: 0.4534 - val_accuracy: 0.7832\n",
            "Epoch 8/20\n",
            "438/438 [==============================] - 2s 4ms/step - loss: 0.3620 - accuracy: 0.8435 - val_loss: 0.4275 - val_accuracy: 0.8020\n",
            "Epoch 9/20\n",
            "438/438 [==============================] - 2s 4ms/step - loss: 0.3145 - accuracy: 0.8719 - val_loss: 0.4209 - val_accuracy: 0.8152\n",
            "Epoch 10/20\n",
            "438/438 [==============================] - 2s 5ms/step - loss: 0.2956 - accuracy: 0.8811 - val_loss: 0.4085 - val_accuracy: 0.8223\n",
            "Epoch 11/20\n",
            "438/438 [==============================] - 2s 4ms/step - loss: 0.2551 - accuracy: 0.9014 - val_loss: 0.4421 - val_accuracy: 0.8100\n",
            "Epoch 12/20\n",
            "438/438 [==============================] - 2s 4ms/step - loss: 0.2211 - accuracy: 0.9141 - val_loss: 0.4345 - val_accuracy: 0.8182\n",
            "Epoch 13/20\n",
            "438/438 [==============================] - 2s 4ms/step - loss: 0.1866 - accuracy: 0.9334 - val_loss: 0.4409 - val_accuracy: 0.8222\n",
            "Epoch 14/20\n",
            "438/438 [==============================] - 2s 4ms/step - loss: 0.1635 - accuracy: 0.9424 - val_loss: 0.4795 - val_accuracy: 0.8077\n",
            "Epoch 15/20\n",
            "438/438 [==============================] - 2s 4ms/step - loss: 0.1359 - accuracy: 0.9569 - val_loss: 0.4936 - val_accuracy: 0.8093\n",
            "Epoch 16/20\n",
            "438/438 [==============================] - 2s 4ms/step - loss: 0.1127 - accuracy: 0.9671 - val_loss: 0.5383 - val_accuracy: 0.8032\n",
            "Epoch 17/20\n",
            "438/438 [==============================] - 2s 4ms/step - loss: 0.0969 - accuracy: 0.9724 - val_loss: 0.5295 - val_accuracy: 0.8175\n",
            "Epoch 18/20\n",
            "438/438 [==============================] - 2s 4ms/step - loss: 0.0838 - accuracy: 0.9775 - val_loss: 0.7160 - val_accuracy: 0.7835\n",
            "Epoch 19/20\n",
            "438/438 [==============================] - 2s 4ms/step - loss: 0.0697 - accuracy: 0.9819 - val_loss: 0.5639 - val_accuracy: 0.8163\n",
            "Epoch 20/20\n",
            "438/438 [==============================] - 2s 4ms/step - loss: 0.0528 - accuracy: 0.9892 - val_loss: 0.6108 - val_accuracy: 0.8172\n"
          ]
        }
      ],
      "source": [
        "sgd = SGD(lr=0.01, momentum=0.8)\n",
        "\n",
        "emb_model.compile(optimizer=sgd, \n",
        "              loss='binary_crossentropy', \n",
        "              metrics=['accuracy'])\n",
        "\n",
        "emb_history = emb_model.fit(X_train, \n",
        "                    y_train,\n",
        "                    epochs=20,\n",
        "                    batch_size=32,\n",
        "                    validation_split=0.3)"
      ]
    },
    {
      "cell_type": "code",
      "execution_count": null,
      "metadata": {
        "id": "zTEOxEgoGeSE"
      },
      "outputs": [],
      "source": [
        "import matplotlib.pyplot as plt\n",
        "import seaborn as sn\n",
        "%matplotlib inline"
      ]
    },
    {
      "cell_type": "code",
      "execution_count": null,
      "metadata": {
        "id": "P3mCPE5EGeSE"
      },
      "outputs": [],
      "source": [
        "def plot_accuracy(hist):\n",
        "    plt.plot(hist['accuracy'])\n",
        "    plt.plot(hist['val_accuracy'])\n",
        "    plt.title('model accuracy')\n",
        "    plt.ylabel('accuracy')\n",
        "    plt.xlabel('epoch')\n",
        "    plt.legend(['train', \n",
        "                'test'], \n",
        "               loc='upper left')\n",
        "    plt.show()\n",
        "    \n",
        "def plot_loss(hist):\n",
        "    plt.plot(hist['loss'])\n",
        "    plt.plot(hist['val_loss'])\n",
        "    plt.title('model loss')\n",
        "    plt.ylabel('loss')\n",
        "    plt.xlabel('epoch')\n",
        "    plt.legend(['train', \n",
        "                'test'], \n",
        "               loc='upper left')\n",
        "    plt.show()    "
      ]
    },
    {
      "cell_type": "code",
      "execution_count": null,
      "metadata": {
        "id": "q6pyUBimGeSE",
        "outputId": "cab426f0-b126-4529-c08c-d19e3010955f"
      },
      "outputs": [
        {
          "data": {
            "image/png": "[encoded data removed]",
            "text/plain": [
              "<Figure size 432x288 with 1 Axes>"
            ]
          },
          "metadata": {
            "needs_background": "light"
          },
          "output_type": "display_data"
        }
      ],
      "source": [
        "plot_accuracy( emb_history.history )"
      ]
    },
    {
      "cell_type": "code",
      "execution_count": null,
      "metadata": {
        "id": "IrgFvo_HGeSF",
        "outputId": "0d416c39-166d-473a-e1d3-6a53d616ee50"
      },
      "outputs": [
        {
          "data": {
            "image/png": "[encoded data removed]",
            "text/plain": [
              "<Figure size 432x288 with 1 Axes>"
            ]
          },
          "metadata": {
            "needs_background": "light"
          },
          "output_type": "display_data"
        }
      ],
      "source": [
        "plot_loss( emb_history.history )"
      ]
    },
    {
      "cell_type": "markdown",
      "metadata": {
        "id": "Zb_mQOYYGeSF"
      },
      "source": [
        "#### Conclusion:\n",
        "\n",
        "The model is overfitting. The training accuracy is about 98%, whereas the validation accuracy is 80%."
      ]
    },
    {
      "cell_type": "markdown",
      "metadata": {
        "id": "SWFdYC_cGeSF"
      },
      "source": [
        "### Model 3"
      ]
    },
    {
      "cell_type": "markdown",
      "metadata": {
        "id": "9dKRyHnDGeSF"
      },
      "source": [
        "We will try another optimizers before applying regularization (dropouts). We will also add callbacks for reducing LR and early stopping. And store tensorflow logs for monitoring."
      ]
    },
    {
      "cell_type": "code",
      "execution_count": null,
      "metadata": {
        "id": "Ewb7flnbGeSF"
      },
      "outputs": [],
      "source": [
        "from tensorflow.keras.callbacks import ReduceLROnPlateau, EarlyStopping, ModelCheckpoint\n",
        "from tensorflow.keras.callbacks import TensorBoard"
      ]
    },
    {
      "cell_type": "code",
      "execution_count": null,
      "metadata": {
        "id": "Ni_aYX3ZGeSF"
      },
      "outputs": [],
      "source": [
        "callbacks_list = [ReduceLROnPlateau(monitor='val_loss',\n",
        "                                    factor=0.1, \n",
        "                                    patience=3),\n",
        "                 EarlyStopping(monitor='val_loss',\n",
        "                               patience=4),\n",
        "                 ModelCheckpoint(filepath='imdb_model.h5',\n",
        "                                 monitor='val_loss',\n",
        "                                 save_best_only=True),\n",
        "                 TensorBoard(\"./imdb_logs\")]"
      ]
    },
    {
      "cell_type": "code",
      "execution_count": null,
      "metadata": {
        "id": "WqXwaLexGeSG",
        "outputId": "d6110750-07ac-4cda-b970-982c8b33511d"
      },
      "outputs": [
        {
          "name": "stdout",
          "output_type": "stream",
          "text": [
            "Epoch 1/20\n",
            "  1/438 [..............................] - ETA: 0s - loss: 0.6930 - accuracy: 0.4688WARNING:tensorflow:From /opt/anaconda3/envs/trainingnew/lib/python3.8/site-packages/tensorflow/python/ops/summary_ops_v2.py:1277: stop (from tensorflow.python.eager.profiler) is deprecated and will be removed after 2020-07-01.\n",
            "Instructions for updating:\n",
            "use `tf.profiler.experimental.stop` instead.\n",
            "WARNING:tensorflow:Callbacks method `on_train_batch_end` is slow compared to the batch time (batch time: 0.0017s vs `on_train_batch_end` time: 0.0135s). Check your callbacks.\n",
            "438/438 [==============================] - 1s 2ms/step - loss: 0.5942 - accuracy: 0.6336 - val_loss: 0.3292 - val_accuracy: 0.8608\n",
            "Epoch 2/20\n",
            "438/438 [==============================] - 1s 2ms/step - loss: 0.2185 - accuracy: 0.9150 - val_loss: 0.2967 - val_accuracy: 0.8762\n",
            "Epoch 3/20\n",
            "438/438 [==============================] - 1s 2ms/step - loss: 0.0838 - accuracy: 0.9750 - val_loss: 0.3358 - val_accuracy: 0.8730\n",
            "Epoch 4/20\n",
            "438/438 [==============================] - 1s 2ms/step - loss: 0.0305 - accuracy: 0.9948 - val_loss: 0.4067 - val_accuracy: 0.8607\n",
            "Epoch 5/20\n",
            "438/438 [==============================] - 1s 2ms/step - loss: 0.0101 - accuracy: 0.9992 - val_loss: 0.4376 - val_accuracy: 0.8687\n",
            "Epoch 6/20\n",
            "438/438 [==============================] - 1s 2ms/step - loss: 0.0039 - accuracy: 0.9999 - val_loss: 0.4401 - val_accuracy: 0.8683\n"
          ]
        }
      ],
      "source": [
        "tf.keras.backend.clear_session()  # clear default graph\n",
        "\n",
        "emb_model_3 = Sequential()\n",
        "# We specify the maximum input length to our Embedding layer\n",
        "# so we can later flatten the embedded inputs\n",
        "emb_model_3.add(Embedding(10000, 8, input_length=max_review_length))\n",
        "# After the Embedding layer, \n",
        "# our activations have shape `(samples, maxlen, 8)`.\n",
        "\n",
        "# We flatten the 3D tensor of embeddings \n",
        "# into a 2D tensor of shape `(samples, maxlen * 8)`\n",
        "emb_model_3.add(Flatten())\n",
        "\n",
        "emb_model_3.add(Dense(16))\n",
        "emb_model_3.add(Activation('relu'))\n",
        "\n",
        "# We add the classifier on top\n",
        "emb_model_3.add(Dense(1))\n",
        "emb_model_3.add(Activation('sigmoid'))\n",
        "\n",
        "emb_model_3.compile(optimizer=\"adam\", \n",
        "              loss='binary_crossentropy', \n",
        "              metrics=['accuracy'])\n",
        "\n",
        "emb_history_3 = emb_model_3.fit(X_train, \n",
        "                                y_train,\n",
        "                                epochs=20,\n",
        "                                batch_size=32,\n",
        "                                callbacks=callbacks_list,\n",
        "                                validation_split=0.3)"
      ]
    },
    {
      "cell_type": "code",
      "execution_count": null,
      "metadata": {
        "id": "4Rgwv9NNGeSG",
        "outputId": "ed9389da-9d59-4728-bf28-2fce09e8c7e7"
      },
      "outputs": [
        {
          "data": {
            "image/png": "[encoded data removed]",
            "text/plain": [
              "<Figure size 432x288 with 1 Axes>"
            ]
          },
          "metadata": {
            "needs_background": "light"
          },
          "output_type": "display_data"
        }
      ],
      "source": [
        "plot_loss( emb_history_3.history )"
      ]
    },
    {
      "cell_type": "markdown",
      "metadata": {
        "id": "DA6l8x2yGeSG"
      },
      "source": [
        "### Model 4"
      ]
    },
    {
      "cell_type": "markdown",
      "metadata": {
        "id": "nLsLvTDFGeSG"
      },
      "source": [
        "Add a dropout layer as a regularization layer for dealing with overfitting."
      ]
    },
    {
      "cell_type": "code",
      "execution_count": null,
      "metadata": {
        "id": "4c_-mUuBGeSG",
        "outputId": "b7a995d3-a57d-4728-d4ca-eb4bb5f39048"
      },
      "outputs": [
        {
          "name": "stdout",
          "output_type": "stream",
          "text": [
            "Epoch 1/20\n",
            "  2/438 [..............................] - ETA: 11s - loss: 0.6954 - accuracy: 0.5000WARNING:tensorflow:Callbacks method `on_train_batch_end` is slow compared to the batch time (batch time: 0.0017s vs `on_train_batch_end` time: 0.0487s). Check your callbacks.\n",
            "438/438 [==============================] - 1s 2ms/step - loss: 0.6745 - accuracy: 0.5563 - val_loss: 0.5190 - val_accuracy: 0.7925\n",
            "Epoch 2/20\n",
            "438/438 [==============================] - 1s 2ms/step - loss: 0.4398 - accuracy: 0.7977 - val_loss: 0.3218 - val_accuracy: 0.8718\n",
            "Epoch 3/20\n",
            "438/438 [==============================] - 1s 2ms/step - loss: 0.3101 - accuracy: 0.8596 - val_loss: 0.3000 - val_accuracy: 0.8757\n",
            "Epoch 4/20\n",
            "438/438 [==============================] - 1s 2ms/step - loss: 0.2498 - accuracy: 0.8861 - val_loss: 0.3000 - val_accuracy: 0.8778\n",
            "Epoch 5/20\n",
            "438/438 [==============================] - 1s 2ms/step - loss: 0.2099 - accuracy: 0.9056 - val_loss: 0.3154 - val_accuracy: 0.8805\n",
            "Epoch 6/20\n",
            "438/438 [==============================] - 1s 2ms/step - loss: 0.1761 - accuracy: 0.9142 - val_loss: 0.3611 - val_accuracy: 0.8753\n",
            "Epoch 7/20\n",
            "438/438 [==============================] - 1s 2ms/step - loss: 0.1557 - accuracy: 0.9205 - val_loss: 0.3567 - val_accuracy: 0.8793\n",
            "Epoch 8/20\n",
            "438/438 [==============================] - 1s 2ms/step - loss: 0.1522 - accuracy: 0.9216 - val_loss: 0.3656 - val_accuracy: 0.8788\n"
          ]
        }
      ],
      "source": [
        "from tensorflow.keras.layers import Dropout\n",
        "\n",
        "tf.keras.backend.clear_session()  # clear default graph\n",
        "\n",
        "emb_model_4 = Sequential()\n",
        "# We specify the maximum input length to our Embedding layer\n",
        "# so we can later flatten the embedded inputs\n",
        "emb_model_4.add(Embedding(10000, \n",
        "                          8, \n",
        "                          input_length=max_review_length,\n",
        "                          name='layer_embedding'))\n",
        "# After the Embedding layer, \n",
        "# our activations have shape `(samples, maxlen, 8)`.\n",
        "\n",
        "# We flatten the 3D tensor of embeddings \n",
        "# into a 2D tensor of shape `(samples, maxlen * 8)`\n",
        "emb_model_4.add(Flatten())\n",
        "\n",
        "emb_model_4.add(Dense(16))\n",
        "emb_model_4.add(Activation('relu'))\n",
        "\n",
        "emb_model_4.add(Dropout(0.8))\n",
        "\n",
        "# We add the classifier on top\n",
        "emb_model_4.add(Dense(1))\n",
        "emb_model_4.add(Activation('sigmoid'))\n",
        "emb_model_4.compile(optimizer=\"adam\", \n",
        "              loss='binary_crossentropy', \n",
        "              metrics=['accuracy'])\n",
        "\n",
        "emb_history_4 = emb_model_4.fit(X_train, \n",
        "                    y_train,\n",
        "                    epochs=20,\n",
        "                    batch_size=32,\n",
        "                    callbacks = callbacks_list,\n",
        "                    validation_split=0.3)"
      ]
    },
    {
      "cell_type": "code",
      "execution_count": null,
      "metadata": {
        "id": "oUY_56GdGeSH",
        "outputId": "e5a5f4cb-1f82-4ef2-a092-481f63cff5ac"
      },
      "outputs": [
        {
          "data": {
            "image/png": "[encoded data removed]",
            "text/plain": [
              "<Figure size 432x288 with 1 Axes>"
            ]
          },
          "metadata": {
            "needs_background": "light"
          },
          "output_type": "display_data"
        }
      ],
      "source": [
        "plot_accuracy( emb_history_4.history )"
      ]
    },
    {
      "cell_type": "code",
      "execution_count": null,
      "metadata": {
        "id": "AZkfBeZxGeSH",
        "outputId": "81ea96f6-c846-4292-8005-b97331f0523f"
      },
      "outputs": [
        {
          "data": {
            "image/png": "[encoded data removed]",
            "text/plain": [
              "<Figure size 432x288 with 1 Axes>"
            ]
          },
          "metadata": {
            "needs_background": "light"
          },
          "output_type": "display_data"
        }
      ],
      "source": [
        "plot_loss( emb_history_4.history )"
      ]
    },
    {
      "cell_type": "markdown",
      "metadata": {
        "id": "tyfHc1YQGeSH"
      },
      "source": [
        "### Model 5"
      ]
    },
    {
      "cell_type": "markdown",
      "metadata": {
        "id": "gj5PejNiGeSH"
      },
      "source": [
        "Increase dropout rate from 0.8 to 0.9"
      ]
    },
    {
      "cell_type": "code",
      "execution_count": null,
      "metadata": {
        "id": "gnCEOT17GeSH",
        "outputId": "be33ed60-a21a-4dae-e394-d5526542912d"
      },
      "outputs": [
        {
          "name": "stdout",
          "output_type": "stream",
          "text": [
            "Epoch 1/20\n",
            "  2/438 [..............................] - ETA: 12s - loss: 0.6890 - accuracy: 0.5156WARNING:tensorflow:Callbacks method `on_train_batch_end` is slow compared to the batch time (batch time: 0.0018s vs `on_train_batch_end` time: 0.0558s). Check your callbacks.\n",
            "438/438 [==============================] - 1s 2ms/step - loss: 0.6933 - accuracy: 0.5016 - val_loss: 0.6884 - val_accuracy: 0.5270\n",
            "Epoch 2/20\n",
            "438/438 [==============================] - 1s 2ms/step - loss: 0.6201 - accuracy: 0.6141 - val_loss: 0.4546 - val_accuracy: 0.8562\n",
            "Epoch 3/20\n",
            "438/438 [==============================] - 1s 2ms/step - loss: 0.4856 - accuracy: 0.7123 - val_loss: 0.3631 - val_accuracy: 0.8740\n",
            "Epoch 4/20\n",
            "438/438 [==============================] - 1s 2ms/step - loss: 0.4377 - accuracy: 0.7388 - val_loss: 0.3203 - val_accuracy: 0.8812\n",
            "Epoch 5/20\n",
            "438/438 [==============================] - 1s 2ms/step - loss: 0.4112 - accuracy: 0.7429 - val_loss: 0.3019 - val_accuracy: 0.8773\n",
            "Epoch 6/20\n",
            "438/438 [==============================] - 1s 2ms/step - loss: 0.3830 - accuracy: 0.7581 - val_loss: 0.3230 - val_accuracy: 0.8623\n",
            "Epoch 7/20\n",
            "438/438 [==============================] - 1s 2ms/step - loss: 0.3691 - accuracy: 0.7599 - val_loss: 0.3024 - val_accuracy: 0.8773\n",
            "Epoch 8/20\n",
            "438/438 [==============================] - 1s 2ms/step - loss: 0.3544 - accuracy: 0.7649 - val_loss: 0.3012 - val_accuracy: 0.8765\n",
            "Epoch 9/20\n",
            "438/438 [==============================] - 1s 2ms/step - loss: 0.3430 - accuracy: 0.7722 - val_loss: 0.3079 - val_accuracy: 0.8788\n",
            "Epoch 10/20\n",
            "438/438 [==============================] - 1s 2ms/step - loss: 0.3293 - accuracy: 0.7776 - val_loss: 0.3160 - val_accuracy: 0.8748\n",
            "Epoch 11/20\n",
            "438/438 [==============================] - 1s 2ms/step - loss: 0.3256 - accuracy: 0.7777 - val_loss: 0.3313 - val_accuracy: 0.8770\n",
            "Epoch 12/20\n",
            "438/438 [==============================] - 1s 2ms/step - loss: 0.3164 - accuracy: 0.7845 - val_loss: 0.3281 - val_accuracy: 0.8757\n"
          ]
        }
      ],
      "source": [
        "from tensorflow.keras.layers import Dropout\n",
        "\n",
        "tf.keras.backend.clear_session()  # clear default graph\n",
        "\n",
        "emb_model_5 = Sequential()\n",
        "# We specify the maximum input length to our Embedding layer\n",
        "# so we can later flatten the embedded inputs\n",
        "emb_model_5.add(Embedding(10000, 8, input_length=max_review_length))\n",
        "# After the Embedding layer, \n",
        "# our activations have shape `(samples, maxlen, 8)`.\n",
        "\n",
        "# We flatten the 3D tensor of embeddings \n",
        "# into a 2D tensor of shape `(samples, maxlen * 8)`\n",
        "emb_model_5.add(Flatten())\n",
        "\n",
        "emb_model_5.add(Dense(16))\n",
        "emb_model_5.add(Activation('relu'))\n",
        "\n",
        "emb_model_5.add(Dropout(0.9))\n",
        "\n",
        "# We add the classifier on top\n",
        "emb_model_5.add(Dense(1))\n",
        "emb_model_5.add(Activation('sigmoid'))\n",
        "emb_model_5.compile(optimizer=\"adam\", \n",
        "              loss='binary_crossentropy', \n",
        "              metrics=['accuracy'])\n",
        "\n",
        "emb_history_5 = emb_model_5.fit(X_train, \n",
        "                                y_train,\n",
        "                                epochs=20,\n",
        "                                batch_size=32,\n",
        "                                callbacks = callbacks_list,\n",
        "                                validation_split=0.3)"
      ]
    },
    {
      "cell_type": "code",
      "execution_count": null,
      "metadata": {
        "id": "f86RuUe_GeSI",
        "outputId": "d8661ff5-2c76-4d47-924a-331982441a56"
      },
      "outputs": [
        {
          "data": {
            "image/png": "[encoded data removed]",
            "text/plain": [
              "<Figure size 432x288 with 1 Axes>"
            ]
          },
          "metadata": {
            "needs_background": "light"
          },
          "output_type": "display_data"
        }
      ],
      "source": [
        "plot_accuracy( emb_history_5.history )"
      ]
    },
    {
      "cell_type": "markdown",
      "metadata": {
        "id": "h3GGzXyGGeSI"
      },
      "source": [
        "### Checking performance on test set"
      ]
    },
    {
      "cell_type": "code",
      "source": [],
      "metadata": {
        "id": "kem7w3-MghyU"
      },
      "execution_count": null,
      "outputs": []
    },
    {
      "cell_type": "markdown",
      "metadata": {
        "id": "YQAqvx8kGeSI"
      },
      "source": [
        "We will use the model 4 for checking performance on test set and making predictions."
      ]
    },
    {
      "cell_type": "code",
      "execution_count": null,
      "metadata": {
        "id": "YtSAgbkxGeSI",
        "outputId": "6f8093a7-d8a9-4cc7-a1ab-c201dadaa16d"
      },
      "outputs": [
        {
          "name": "stdout",
          "output_type": "stream",
          "text": [
            "Model: \"sequential\"\n",
            "_________________________________________________________________\n",
            "Layer (type)                 Output Shape              Param #   \n",
            "=================================================================\n",
            "layer_embedding (Embedding)  (None, 552, 8)            80000     \n",
            "_________________________________________________________________\n",
            "flatten (Flatten)            (None, 4416)              0         \n",
            "_________________________________________________________________\n",
            "dense (Dense)                (None, 16)                70672     \n",
            "_________________________________________________________________\n",
            "activation (Activation)      (None, 16)                0         \n",
            "_________________________________________________________________\n",
            "dropout (Dropout)            (None, 16)                0         \n",
            "_________________________________________________________________\n",
            "dense_1 (Dense)              (None, 1)                 17        \n",
            "_________________________________________________________________\n",
            "activation_1 (Activation)    (None, 1)                 0         \n",
            "=================================================================\n",
            "Total params: 150,689\n",
            "Trainable params: 150,689\n",
            "Non-trainable params: 0\n",
            "_________________________________________________________________\n"
          ]
        }
      ],
      "source": [
        "emb_model_4.summary()"
      ]
    },
    {
      "cell_type": "code",
      "execution_count": null,
      "metadata": {
        "id": "8_jva4qhGeSI",
        "outputId": "a09eea12-c199-43d7-93ed-3f5bd0820153"
      },
      "outputs": [
        {
          "data": {
            "text/plain": [
              "array([[   0,    0,    0, ...,    5, 1769,    9],\n",
              "       [   0,    0,    0, ...,  245,  141,   27],\n",
              "       [   0,    0,    0, ..., 1602,    5,  607],\n",
              "       ...,\n",
              "       [   0,    0,    0, ...,  699,    7,    7],\n",
              "       [   0,    0,    0, ..., 1057,    7,    7],\n",
              "       [   0,    0,    0, ...,    3, 2910, 3589]], dtype=int32)"
            ]
          },
          "execution_count": 97,
          "metadata": {},
          "output_type": "execute_result"
        }
      ],
      "source": [
        "X_train"
      ]
    },
    {
      "cell_type": "code",
      "execution_count": null,
      "metadata": {
        "id": "OlQzhZD4GeSJ",
        "outputId": "19408cfc-c6c8-4528-9252-21caf0db41dd"
      },
      "outputs": [
        {
          "name": "stdout",
          "output_type": "stream",
          "text": [
            "157/157 [==============================] - 0s 767us/step - loss: 0.3562 - accuracy: 0.8800\n"
          ]
        }
      ],
      "source": [
        "result = emb_model_4.evaluate(X_test, y_test)"
      ]
    },
    {
      "cell_type": "code",
      "execution_count": null,
      "metadata": {
        "id": "RIzDCj4mGeSJ",
        "outputId": "f141fe59-93b2-4947-9281-116423810ffb"
      },
      "outputs": [
        {
          "name": "stdout",
          "output_type": "stream",
          "text": [
            "Accuracy: 88.00%\n"
          ]
        }
      ],
      "source": [
        "print(\"Accuracy: {0:.2%}\".format(result[1]))"
      ]
    },
    {
      "cell_type": "markdown",
      "metadata": {
        "id": "j9YpF3FVGeSJ"
      },
      "source": [
        "### Predicting Test Data and Confusion Matrix\n",
        "\n",
        "We will predict the classes using model 4 and build the confusion matrix to understand precision and recall."
      ]
    },
    {
      "cell_type": "code",
      "source": [
        "emb_model.predict(X_test)"
      ],
      "metadata": {
        "colab": {
          "base_uri": "https://localhost:8080/"
        },
        "id": "sTNXdtNZJy9y",
        "outputId": "cbcf237b-fb0f-4e6a-a21a-8df2f4eab069"
      },
      "execution_count": 77,
      "outputs": [
        {
          "output_type": "execute_result",
          "data": {
            "text/plain": [
              "array([[7.4884391e-01],\n",
              "       [1.9966106e-01],\n",
              "       [1.4559743e-05],\n",
              "       ...,\n",
              "       [7.2386026e-01],\n",
              "       [7.7878636e-01],\n",
              "       [9.9473393e-01]], dtype=float32)"
            ]
          },
          "metadata": {},
          "execution_count": 77
        }
      ]
    },
    {
      "cell_type": "code",
      "source": [
        "y_pred = (emb_model.predict(X_test) > 0.5).astype(\"int32\")"
      ],
      "metadata": {
        "id": "pGhVhHpvI93y"
      },
      "execution_count": 78,
      "outputs": []
    },
    {
      "cell_type": "code",
      "execution_count": 79,
      "metadata": {
        "colab": {
          "base_uri": "https://localhost:8080/"
        },
        "id": "x6sfx3l5GeSJ",
        "outputId": "012ea623-b207-46bf-c2e6-ce1fa3dd82ce"
      },
      "outputs": [
        {
          "output_type": "execute_result",
          "data": {
            "text/plain": [
              "array([[1],\n",
              "       [0],\n",
              "       [0],\n",
              "       [0],\n",
              "       [1],\n",
              "       [1],\n",
              "       [0],\n",
              "       [1],\n",
              "       [1],\n",
              "       [1]], dtype=int32)"
            ]
          },
          "metadata": {},
          "execution_count": 79
        }
      ],
      "source": [
        "y_pred[0:10]"
      ]
    },
    {
      "cell_type": "code",
      "execution_count": 80,
      "metadata": {
        "id": "db_2-9pZGeSK"
      },
      "outputs": [],
      "source": [
        "from sklearn import metrics\n",
        "\n",
        "cm = metrics.confusion_matrix( y_test,\n",
        "                               y_pred, labels = [1,0] )"
      ]
    },
    {
      "cell_type": "code",
      "source": [
        "cm"
      ],
      "metadata": {
        "colab": {
          "base_uri": "https://localhost:8080/"
        },
        "id": "FrI8XB06JZ2W",
        "outputId": "3a55fbeb-9363-4d08-c170-8d2a2a122e6b"
      },
      "execution_count": 81,
      "outputs": [
        {
          "output_type": "execute_result",
          "data": {
            "text/plain": [
              "array([[2153,  390],\n",
              "       [ 528, 1929]])"
            ]
          },
          "metadata": {},
          "execution_count": 81
        }
      ]
    },
    {
      "cell_type": "code",
      "execution_count": 82,
      "metadata": {
        "colab": {
          "base_uri": "https://localhost:8080/",
          "height": 295
        },
        "id": "2gzycYsTGeSK",
        "outputId": "b78b4cbf-ea80-4ae0-ffeb-00236a7c0a14"
      },
      "outputs": [
        {
          "output_type": "display_data",
          "data": {
            "text/plain": [
              "<Figure size 432x288 with 2 Axes>"
            ],
            "image/png": "[encoded data removed]"
          },
          "metadata": {
            "needs_background": "light"
          }
        }
      ],
      "source": [
        "sn.heatmap(cm, annot=True,  \n",
        "           fmt='.2f', \n",
        "           xticklabels = [\"Positive\", \"Negative\"] , \n",
        "           yticklabels = [\"Positive\", \"Negative\"] )\n",
        "\n",
        "plt.ylabel('True label')\n",
        "plt.xlabel('Predicted label');\n",
        "plt.title( 'Confusion Matrix for Sentiment Classification');"
      ]
    },
    {
      "cell_type": "code",
      "execution_count": 83,
      "metadata": {
        "id": "sg2NFTTjGeSK"
      },
      "outputs": [],
      "source": [
        "from sklearn.metrics import classification_report"
      ]
    },
    {
      "cell_type": "code",
      "execution_count": 85,
      "metadata": {
        "colab": {
          "base_uri": "https://localhost:8080/"
        },
        "id": "HyAeeYvfGeSK",
        "outputId": "1d2d7c81-a9c2-498c-ac39-c0006ece4e7e"
      },
      "outputs": [
        {
          "output_type": "stream",
          "name": "stdout",
          "text": [
            "              precision    recall  f1-score   support\n",
            "\n",
            "           0       0.83      0.79      0.81      2457\n",
            "           1       0.80      0.85      0.82      2543\n",
            "\n",
            "    accuracy                           0.82      5000\n",
            "   macro avg       0.82      0.82      0.82      5000\n",
            "weighted avg       0.82      0.82      0.82      5000\n",
            "\n"
          ]
        }
      ],
      "source": [
        "print( classification_report(y_test, \n",
        "                             y_pred))"
      ]
    },
    {
      "cell_type": "markdown",
      "metadata": {
        "id": "9nTExjzeGeSK"
      },
      "source": [
        "### Peeping into Embeddings"
      ]
    },
    {
      "cell_type": "markdown",
      "metadata": {
        "id": "v1PcNztCGeSK"
      },
      "source": [
        "We will look at the embeddings estimated for different words and if they are placed neared or far as per their meaning."
      ]
    },
    {
      "cell_type": "code",
      "execution_count": 92,
      "metadata": {
        "id": "C3iMHcm5GeSL"
      },
      "outputs": [],
      "source": [
        "layer_embedding = emb_model.get_layer('embedding')"
      ]
    },
    {
      "cell_type": "code",
      "execution_count": 90,
      "metadata": {
        "id": "M63V79uXGeSL"
      },
      "outputs": [],
      "source": [
        "weights_embedding = layer_embedding.get_weights()[0]"
      ]
    },
    {
      "cell_type": "code",
      "execution_count": 91,
      "metadata": {
        "colab": {
          "base_uri": "https://localhost:8080/"
        },
        "id": "C-OesmH_GeSL",
        "outputId": "5e329f91-7ee8-4547-b893-19664529713e"
      },
      "outputs": [
        {
          "output_type": "execute_result",
          "data": {
            "text/plain": [
              "(10000, 8)"
            ]
          },
          "metadata": {},
          "execution_count": 91
        }
      ],
      "source": [
        "weights_embedding.shape"
      ]
    },
    {
      "cell_type": "code",
      "execution_count": 93,
      "metadata": {
        "id": "HeZ-FZrnGeSL"
      },
      "outputs": [],
      "source": [
        "def get_embeddings( word ):\n",
        "    token = tokenizer.word_index[word]\n",
        "    return weights_embedding[token]"
      ]
    },
    {
      "cell_type": "code",
      "execution_count": 94,
      "metadata": {
        "colab": {
          "base_uri": "https://localhost:8080/"
        },
        "id": "X1NGEEhPGeSL",
        "outputId": "a0260256-58ea-4980-8779-0cccd2f263e6"
      },
      "outputs": [
        {
          "output_type": "execute_result",
          "data": {
            "text/plain": [
              "array([ 0.07020234,  0.07174408,  0.07068259,  0.18358316, -0.07272266,\n",
              "        0.04855254, -0.11849979, -0.25927702], dtype=float32)"
            ]
          },
          "metadata": {},
          "execution_count": 94
        }
      ],
      "source": [
        "good = get_embeddings('good')\n",
        "good"
      ]
    },
    {
      "cell_type": "code",
      "execution_count": 95,
      "metadata": {
        "colab": {
          "base_uri": "https://localhost:8080/"
        },
        "id": "o1oF0Ap5GeSM",
        "outputId": "4aba3443-b23e-411b-eeb8-3a1f93eaf340"
      },
      "outputs": [
        {
          "output_type": "execute_result",
          "data": {
            "text/plain": [
              "array([ 0.3146793 ,  0.20434995, -0.01456563,  0.15662667, -0.18867615,\n",
              "       -0.10087201,  0.34895915,  0.08293767], dtype=float32)"
            ]
          },
          "metadata": {},
          "execution_count": 95
        }
      ],
      "source": [
        "great = get_embeddings('great')\n",
        "great"
      ]
    },
    {
      "cell_type": "code",
      "execution_count": 96,
      "metadata": {
        "colab": {
          "base_uri": "https://localhost:8080/"
        },
        "id": "2Sthg1o6GeSM",
        "outputId": "e20439c0-02f2-46e5-933a-aac836ab22fe"
      },
      "outputs": [
        {
          "output_type": "execute_result",
          "data": {
            "text/plain": [
              "array([-0.3189235 , -0.1241252 ,  0.07735486, -0.26591355,  0.19117677,\n",
              "        0.03973016, -0.47308773, -0.0588959 ], dtype=float32)"
            ]
          },
          "metadata": {},
          "execution_count": 96
        }
      ],
      "source": [
        "bad = get_embeddings('bad')\n",
        "bad"
      ]
    },
    {
      "cell_type": "code",
      "execution_count": 97,
      "metadata": {
        "colab": {
          "base_uri": "https://localhost:8080/"
        },
        "id": "yXFfLm-YGeSM",
        "outputId": "f481092b-2d5c-4074-b8e3-ac2de9b1ff39"
      },
      "outputs": [
        {
          "output_type": "execute_result",
          "data": {
            "text/plain": [
              "array([-0.36416766, -0.27852803, -0.0440857 , -0.29760948,  0.00068893,\n",
              "        0.09784431, -0.18091549,  0.05142877], dtype=float32)"
            ]
          },
          "metadata": {},
          "execution_count": 97
        }
      ],
      "source": [
        "terrible = get_embeddings('terrible')\n",
        "terrible"
      ]
    },
    {
      "cell_type": "markdown",
      "metadata": {
        "id": "dayfOIR2GeSM"
      },
      "source": [
        "We will calculate the euclidean distance between the word embeddings."
      ]
    },
    {
      "cell_type": "code",
      "execution_count": 98,
      "metadata": {
        "id": "UiIs9d8RGeSM"
      },
      "outputs": [],
      "source": [
        "from scipy.spatial.distance import cdist"
      ]
    },
    {
      "cell_type": "code",
      "execution_count": 99,
      "metadata": {
        "id": "tVoi9eyhGeSN"
      },
      "outputs": [],
      "source": [
        "def get_distance( word1, word2 ):\n",
        "    \n",
        "    word1_token = tokenizer.word_index[word1]\n",
        "    word2_token = tokenizer.word_index[word2]    \n",
        "    \n",
        "    return cdist([weights_embedding[word1_token]], \n",
        "                 [weights_embedding[word2_token]], \n",
        "                 metric = 'euclidean')"
      ]
    },
    {
      "cell_type": "code",
      "execution_count": 100,
      "metadata": {
        "colab": {
          "base_uri": "https://localhost:8080/"
        },
        "id": "Kpgnx7HBGeSN",
        "outputId": "73a1d87d-f081-4768-b259-1f47fdd58cd4"
      },
      "outputs": [
        {
          "output_type": "execute_result",
          "data": {
            "text/plain": [
              "array([[0.67583198]])"
            ]
          },
          "metadata": {},
          "execution_count": 100
        }
      ],
      "source": [
        "get_distance( 'good', \n",
        "             'great' )"
      ]
    },
    {
      "cell_type": "code",
      "execution_count": 101,
      "metadata": {
        "colab": {
          "base_uri": "https://localhost:8080/"
        },
        "id": "1_JS674dGeSN",
        "outputId": "5c8ea8a9-fc21-4b49-ec14-5266d09a6000"
      },
      "outputs": [
        {
          "output_type": "execute_result",
          "data": {
            "text/plain": [
              "array([[0.79213726]])"
            ]
          },
          "metadata": {},
          "execution_count": 101
        }
      ],
      "source": [
        "get_distance( 'good', 'bad' )"
      ]
    },
    {
      "cell_type": "code",
      "execution_count": 102,
      "metadata": {
        "colab": {
          "base_uri": "https://localhost:8080/"
        },
        "id": "sQTUddAQGeSN",
        "outputId": "26335752-34b1-40e0-fc3c-b07f7ad4a645"
      },
      "outputs": [
        {
          "output_type": "execute_result",
          "data": {
            "text/plain": [
              "array([[0.42289329]])"
            ]
          },
          "metadata": {},
          "execution_count": 102
        }
      ],
      "source": [
        "get_distance( 'terrible', 'bad' )"
      ]
    },
    {
      "cell_type": "code",
      "execution_count": 103,
      "metadata": {
        "colab": {
          "base_uri": "https://localhost:8080/"
        },
        "id": "v5Z9QQDrGeSN",
        "outputId": "c8067919-4a8f-476b-ac7e-7cb953f0afc5"
      },
      "outputs": [
        {
          "output_type": "execute_result",
          "data": {
            "text/plain": [
              "array([[0.81506976]])"
            ]
          },
          "metadata": {},
          "execution_count": 103
        }
      ],
      "source": [
        "get_distance( 'good', 'terrible' )"
      ]
    },
    {
      "cell_type": "code",
      "execution_count": 104,
      "metadata": {
        "colab": {
          "base_uri": "https://localhost:8080/"
        },
        "id": "hJXgtwunGeSO",
        "outputId": "a60e76db-89f4-46be-d879-a7817f9a441a"
      },
      "outputs": [
        {
          "output_type": "execute_result",
          "data": {
            "text/plain": [
              "array([[1.12174574]])"
            ]
          },
          "metadata": {},
          "execution_count": 104
        }
      ],
      "source": [
        "get_distance( 'great', 'terrible' )"
      ]
    },
    {
      "cell_type": "markdown",
      "metadata": {
        "id": "ziRDroOyGeSO"
      },
      "source": [
        "It can be observed that the words *good* and *great* are places together, while *bad* and *terrible* are place together. And the words *good* and *terrible* are place far. This indicates the embeddings have incorporated the meaning of the words as per how they are used in the sentences expressing positive and negative sentiments."
      ]
    },
    {
      "cell_type": "markdown",
      "metadata": {
        "id": "v1jCS9_wGeSO"
      },
      "source": [
        "Some more examples expressing sentiments."
      ]
    },
    {
      "cell_type": "code",
      "execution_count": 105,
      "metadata": {
        "colab": {
          "base_uri": "https://localhost:8080/"
        },
        "id": "qNVKC1lQGeSO",
        "outputId": "ce2f9857-4437-425b-abb7-b05a07b35112"
      },
      "outputs": [
        {
          "output_type": "execute_result",
          "data": {
            "text/plain": [
              "array([[0.25942775]])"
            ]
          },
          "metadata": {},
          "execution_count": 105
        }
      ],
      "source": [
        "get_distance('wonderful','awesome')"
      ]
    },
    {
      "cell_type": "code",
      "execution_count": 106,
      "metadata": {
        "colab": {
          "base_uri": "https://localhost:8080/"
        },
        "id": "LspAUKv9GeSP",
        "outputId": "8bcd713c-51c6-4da9-d2f2-a4c2ee33e570"
      },
      "outputs": [
        {
          "output_type": "execute_result",
          "data": {
            "text/plain": [
              "array([[0.79700228]])"
            ]
          },
          "metadata": {},
          "execution_count": 106
        }
      ],
      "source": [
        "get_distance('wonderful','pathetic')"
      ]
    },
    {
      "cell_type": "code",
      "execution_count": 107,
      "metadata": {
        "colab": {
          "base_uri": "https://localhost:8080/"
        },
        "id": "yVbRjATeGeSP",
        "outputId": "97a80f61-db69-4c04-f3a1-c275868a57d5"
      },
      "outputs": [
        {
          "output_type": "execute_result",
          "data": {
            "text/plain": [
              "array([[0.63205022]])"
            ]
          },
          "metadata": {},
          "execution_count": 107
        }
      ],
      "source": [
        "get_distance('awesome','pathetic')"
      ]
    },
    {
      "cell_type": "markdown",
      "metadata": {
        "id": "vhxlqNkdGeSP"
      },
      "source": [
        "## Applying Pre trained embeddings"
      ]
    },
    {
      "cell_type": "markdown",
      "metadata": {
        "id": "bOQKcEYaGeSP"
      },
      "source": [
        "Word embeddings are generally computed using word-occurrence statistics (observations about what words co-occur in sentences or documents), using a variety of  techniques, some involving neural networks, others not. The idea of a dense, lowdimensional embedding space for words, computed in an unsupervised way, was initially explored by Bengio et al. in the early 2000s,1 but it only started to take off in research and industry applications after the release of one of the most famous and successful word-embedding schemes: the Word2vec algorithm (https://code.google.com/ archive/p/word2vec), developed by Tomas Mikolov at Google in 2013. Word2vec dimensions capture specific semantic properties, such as gender.\n",
        "\n",
        "There are various precomputed databases of word embeddings that you can download and use in a Keras Embedding layer. Word2vec is one of them. Another popular one is called Global Vectors for Word Representation (GloVe, https://nlp.stanford.edu/projects/glove), which was developed by Stanford researchers in 2014. This embedding technique is based on factorizing a matrix of word co-occurrence statistics. Its developers have made available precomputed embeddings for millions of English tokens, obtained from Wikipedia data and Common Crawl data.\n",
        "\n",
        "One of the most widely used pretrained word embeddings is Glove and can be downloaded from https://nlp.stanford.edu/projects/glove/ \n",
        "\n",
        "GloVe is pre-computed embeddings from 2014 English Wikipedia. It's a 822MB zip file named glove.6B.zip, containing 100-dimensional embedding vectors for 400,000 words (or non-word tokens)."
      ]
    },
    {
      "cell_type": "code",
      "source": [
        "!wget https://nlp.stanford.edu/data/glove.6B.zip"
      ],
      "metadata": {
        "colab": {
          "base_uri": "https://localhost:8080/"
        },
        "id": "ZYnfRo-lN8qL",
        "outputId": "3da2220e-e7dd-4604-cb1f-165d179c0e00"
      },
      "execution_count": 108,
      "outputs": [
        {
          "output_type": "stream",
          "name": "stdout",
          "text": [
            "--2022-09-16 07:35:27--  https://nlp.stanford.edu/data/glove.6B.zip\n",
            "Resolving nlp.stanford.edu (nlp.stanford.edu)... 171.64.67.140\n",
            "Connecting to nlp.stanford.edu (nlp.stanford.edu)|171.64.67.140|:443... connected.\n",
            "HTTP request sent, awaiting response... 301 Moved Permanently\n",
            "Location: https://downloads.cs.stanford.edu/nlp/data/glove.6B.zip [following]\n",
            "--2022-09-16 07:35:27--  https://downloads.cs.stanford.edu/nlp/data/glove.6B.zip\n",
            "Resolving downloads.cs.stanford.edu (downloads.cs.stanford.edu)... 171.64.64.22\n",
            "Connecting to downloads.cs.stanford.edu (downloads.cs.stanford.edu)|171.64.64.22|:443... connected.\n",
            "HTTP request sent, awaiting response... 200 OK\n",
            "Length: 862182613 (822M) [application/zip]\n",
            "Saving to: ‘glove.6B.zip’\n",
            "\n",
            "glove.6B.zip        100%[===================>] 822.24M  4.94MB/s    in 2m 43s  \n",
            "\n",
            "2022-09-16 07:38:11 (5.05 MB/s) - ‘glove.6B.zip’ saved [862182613/862182613]\n",
            "\n"
          ]
        }
      ]
    },
    {
      "cell_type": "code",
      "source": [
        "!unzip glove*.zip"
      ],
      "metadata": {
        "colab": {
          "base_uri": "https://localhost:8080/"
        },
        "id": "ICtr44F_ZMEA",
        "outputId": "510d98e2-523f-43a2-c87e-f05427583ff1"
      },
      "execution_count": 109,
      "outputs": [
        {
          "output_type": "stream",
          "name": "stdout",
          "text": [
            "Archive:  glove.6B.zip\n",
            "  inflating: glove.6B.50d.txt        \n",
            "  inflating: glove.6B.100d.txt       \n",
            "  inflating: glove.6B.200d.txt       \n",
            "  inflating: glove.6B.300d.txt       \n"
          ]
        }
      ]
    },
    {
      "cell_type": "code",
      "source": [
        "!head -20 /content/glove.6B.50d.txt"
      ],
      "metadata": {
        "colab": {
          "base_uri": "https://localhost:8080/"
        },
        "id": "9g2AxUnjdd-3",
        "outputId": "a6bb199f-4103-4be3-fa44-0e2911ba0ebd"
      },
      "execution_count": 163,
      "outputs": [
        {
          "output_type": "stream",
          "name": "stdout",
          "text": [
            "the 0.418 0.24968 -0.41242 0.1217 0.34527 -0.044457 -0.49688 -0.17862 -0.00066023 -0.6566 0.27843 -0.14767 -0.55677 0.14658 -0.0095095 0.011658 0.10204 -0.12792 -0.8443 -0.12181 -0.016801 -0.33279 -0.1552 -0.23131 -0.19181 -1.8823 -0.76746 0.099051 -0.42125 -0.19526 4.0071 -0.18594 -0.52287 -0.31681 0.00059213 0.0074449 0.17778 -0.15897 0.012041 -0.054223 -0.29871 -0.15749 -0.34758 -0.045637 -0.44251 0.18785 0.0027849 -0.18411 -0.11514 -0.78581\n",
            ", 0.013441 0.23682 -0.16899 0.40951 0.63812 0.47709 -0.42852 -0.55641 -0.364 -0.23938 0.13001 -0.063734 -0.39575 -0.48162 0.23291 0.090201 -0.13324 0.078639 -0.41634 -0.15428 0.10068 0.48891 0.31226 -0.1252 -0.037512 -1.5179 0.12612 -0.02442 -0.042961 -0.28351 3.5416 -0.11956 -0.014533 -0.1499 0.21864 -0.33412 -0.13872 0.31806 0.70358 0.44858 -0.080262 0.63003 0.32111 -0.46765 0.22786 0.36034 -0.37818 -0.56657 0.044691 0.30392\n",
            ". 0.15164 0.30177 -0.16763 0.17684 0.31719 0.33973 -0.43478 -0.31086 -0.44999 -0.29486 0.16608 0.11963 -0.41328 -0.42353 0.59868 0.28825 -0.11547 -0.041848 -0.67989 -0.25063 0.18472 0.086876 0.46582 0.015035 0.043474 -1.4671 -0.30384 -0.023441 0.30589 -0.21785 3.746 0.0042284 -0.18436 -0.46209 0.098329 -0.11907 0.23919 0.1161 0.41705 0.056763 -6.3681e-05 0.068987 0.087939 -0.10285 -0.13931 0.22314 -0.080803 -0.35652 0.016413 0.10216\n",
            "of 0.70853 0.57088 -0.4716 0.18048 0.54449 0.72603 0.18157 -0.52393 0.10381 -0.17566 0.078852 -0.36216 -0.11829 -0.83336 0.11917 -0.16605 0.061555 -0.012719 -0.56623 0.013616 0.22851 -0.14396 -0.067549 -0.38157 -0.23698 -1.7037 -0.86692 -0.26704 -0.2589 0.1767 3.8676 -0.1613 -0.13273 -0.68881 0.18444 0.0052464 -0.33874 -0.078956 0.24185 0.36576 -0.34727 0.28483 0.075693 -0.062178 -0.38988 0.22902 -0.21617 -0.22562 -0.093918 -0.80375\n",
            "to 0.68047 -0.039263 0.30186 -0.17792 0.42962 0.032246 -0.41376 0.13228 -0.29847 -0.085253 0.17118 0.22419 -0.10046 -0.43653 0.33418 0.67846 0.057204 -0.34448 -0.42785 -0.43275 0.55963 0.10032 0.18677 -0.26854 0.037334 -2.0932 0.22171 -0.39868 0.20912 -0.55725 3.8826 0.47466 -0.95658 -0.37788 0.20869 -0.32752 0.12751 0.088359 0.16351 -0.21634 -0.094375 0.018324 0.21048 -0.03088 -0.19722 0.082279 -0.09434 -0.073297 -0.064699 -0.26044\n",
            "and 0.26818 0.14346 -0.27877 0.016257 0.11384 0.69923 -0.51332 -0.47368 -0.33075 -0.13834 0.2702 0.30938 -0.45012 -0.4127 -0.09932 0.038085 0.029749 0.10076 -0.25058 -0.51818 0.34558 0.44922 0.48791 -0.080866 -0.10121 -1.3777 -0.10866 -0.23201 0.012839 -0.46508 3.8463 0.31362 0.13643 -0.52244 0.3302 0.33707 -0.35601 0.32431 0.12041 0.3512 -0.069043 0.36885 0.25168 -0.24517 0.25381 0.1367 -0.31178 -0.6321 -0.25028 -0.38097\n",
            "in 0.33042 0.24995 -0.60874 0.10923 0.036372 0.151 -0.55083 -0.074239 -0.092307 -0.32821 0.09598 -0.82269 -0.36717 -0.67009 0.42909 0.016496 -0.23573 0.12864 -1.0953 0.43334 0.57067 -0.1036 0.20422 0.078308 -0.42795 -1.7984 -0.27865 0.11954 -0.12689 0.031744 3.8631 -0.17786 -0.082434 -0.62698 0.26497 -0.057185 -0.073521 0.46103 0.30862 0.12498 -0.48609 -0.0080272 0.031184 -0.36576 -0.42699 0.42164 -0.11666 -0.50703 -0.027273 -0.53285\n",
            "a 0.21705 0.46515 -0.46757 0.10082 1.0135 0.74845 -0.53104 -0.26256 0.16812 0.13182 -0.24909 -0.44185 -0.21739 0.51004 0.13448 -0.43141 -0.03123 0.20674 -0.78138 -0.20148 -0.097401 0.16088 -0.61836 -0.18504 -0.12461 -2.2526 -0.22321 0.5043 0.32257 0.15313 3.9636 -0.71365 -0.67012 0.28388 0.21738 0.14433 0.25926 0.23434 0.4274 -0.44451 0.13813 0.36973 -0.64289 0.024142 -0.039315 -0.26037 0.12017 -0.043782 0.41013 0.1796\n",
            "\" 0.25769 0.45629 -0.76974 -0.37679 0.59272 -0.063527 0.20545 -0.57385 -0.29009 -0.13662 0.32728 1.4719 -0.73681 -0.12036 0.71354 -0.46098 0.65248 0.48887 -0.51558 0.039951 -0.34307 -0.014087 0.86488 0.3546 0.7999 -1.4995 -1.8153 0.41128 0.23921 -0.43139 3.6623 -0.79834 -0.54538 0.16943 -0.82017 -0.3461 0.69495 -1.2256 -0.17992 -0.057474 0.030498 -0.39543 -0.38515 -1.0002 0.087599 -0.31009 -0.34677 -0.31438 0.75004 0.97065\n",
            "'s 0.23727 0.40478 -0.20547 0.58805 0.65533 0.32867 -0.81964 -0.23236 0.27428 0.24265 0.054992 0.16296 -1.2555 -0.086437 0.44536 0.096561 -0.16519 0.058378 -0.38598 0.086977 0.0033869 0.55095 -0.77697 -0.62096 0.092948 -2.5685 -0.67739 0.10151 -0.48643 -0.057805 3.1859 -0.017554 -0.16138 0.055486 -0.25885 -0.33938 -0.19928 0.26049 0.10478 -0.55934 -0.12342 0.65961 -0.51802 -0.82995 -0.082739 0.28155 -0.423 -0.27378 -0.007901 -0.030231\n",
            "for 0.15272 0.36181 -0.22168 0.066051 0.13029 0.37075 -0.75874 -0.44722 0.22563 0.10208 0.054225 0.13494 -0.43052 -0.2134 0.56139 -0.21445 0.077974 0.10137 -0.51306 -0.40295 0.40639 0.23309 0.20696 -0.12668 -0.50634 -1.7131 0.077183 -0.39138 -0.10594 -0.23743 3.9552 0.66596 -0.61841 -0.3268 0.37021 0.25764 0.38977 0.27121 0.043024 -0.34322 0.020339 0.2142 0.044097 0.14003 -0.20079 0.074794 -0.36076 0.43382 -0.084617 0.1214\n",
            "- -0.16768 1.2151 0.49515 0.26836 -0.4585 -0.23311 -0.52822 -1.3557 0.16098 0.37691 -0.92702 -0.43904 -1.0634 1.028 0.0053943 0.04153 -0.018638 -0.55451 0.026166 0.28066 -0.66245 0.23435 0.2451 0.025668 -1.0869 -2.844 -0.51272 0.27286 0.0071502 0.033984 3.9084 0.52766 -0.66899 1.8238 0.43436 -0.30084 -0.26996 0.4394 0.69956 0.14885 0.029453 1.4888 0.52361 0.099354 1.2515 0.099381 -0.079261 -0.30862 0.30893 0.11023\n",
            "that 0.88387 -0.14199 0.13566 0.098682 0.51218 0.49138 -0.47155 -0.30742 0.01963 0.12686 0.073524 0.35836 -0.60874 -0.18676 0.78935 0.54534 0.1106 -0.2923 0.059041 -0.69551 -0.18804 0.19455 0.32269 -0.49981 0.306 -2.3902 -0.60749 0.37107 0.078912 -0.23896 3.839 -0.20355 -0.35613 -0.69185 -0.17497 -0.35323 0.10598 -0.039303 0.015701 0.038279 -0.35283 0.44882 -0.16534 0.31579 0.14963 -0.071277 -0.53506 0.52711 -0.20148 0.0095952\n",
            "on 0.30045 0.25006 -0.16692 0.1923 0.026921 -0.079486 -0.91383 -0.1974 -0.053413 -0.40846 -0.26844 -0.28212 -0.5 0.1221 0.3903 0.17797 -0.4429 -0.40478 -0.9505 -0.16897 0.77793 0.33525 0.3346 -0.1754 -0.12017 -1.7861 0.29241 0.55933 0.029982 -0.32417 3.9297 0.1088 -0.57335 -0.17842 0.0041748 -0.16309 0.45077 -0.16123 -0.17311 -0.087889 -0.089032 0.062001 -0.19946 -0.38863 -0.18232 0.060751 0.098603 -0.07131 0.23052 -0.51939\n",
            "is 0.6185 0.64254 -0.46552 0.3757 0.74838 0.53739 0.0022239 -0.60577 0.26408 0.11703 0.43722 0.20092 -0.057859 -0.34589 0.21664 0.58573 0.53919 0.6949 -0.15618 0.05583 -0.60515 -0.28997 -0.025594 0.55593 0.25356 -1.9612 -0.51381 0.69096 0.066246 -0.054224 3.7871 -0.77403 -0.12689 -0.51465 0.066705 -0.32933 0.13483 0.19049 0.13812 -0.21503 -0.016573 0.312 -0.33189 -0.026001 -0.38203 0.19403 -0.12466 -0.27557 0.30899 0.48497\n",
            "was 0.086888 -0.19416 -0.24267 -0.33391 0.56731 0.39783 -0.97809 0.03159 -0.61469 -0.31406 0.56145 0.12886 -0.84193 -0.46992 0.47097 0.023012 -0.59609 0.22291 -1.1614 0.3865 0.067412 0.44883 0.17394 -0.53574 0.17909 -2.1647 -0.12827 0.29036 -0.15061 0.35242 3.124 -0.90085 -0.02567 -0.41709 0.40565 -0.22703 0.76829 0.60982 0.070068 -0.13271 -0.1201 0.096132 -0.43998 -0.48531 -0.5188 -0.3077 -0.75028 -0.77 0.3945 -0.16937\n",
            "said 0.38973 -0.2121 0.51837 0.80136 1.0336 -0.27784 -0.84525 -0.25333 0.12586 -0.90342 0.24975 0.22022 -1.2053 -0.53771 1.0446 0.62778 0.39704 -0.15812 0.38102 -0.54674 -0.44009 1.0976 0.013069 -0.89971 0.41226 -2.2309 0.28997 0.32175 -0.72738 -0.092244 3.028 -0.062599 0.038329 0.0072918 -0.35388 -0.92256 0.097932 0.10068 1.2116 0.88233 -0.46297 1.3186 0.32705 -0.73446 0.89301 -0.45324 -1.2698 0.86119 0.1415 1.2018\n",
            "with 0.25616 0.43694 -0.11889 0.20345 0.41959 0.85863 -0.60344 -0.31835 -0.6718 0.003984 -0.075159 0.11043 -0.73534 0.27436 0.054015 -0.23828 -0.13767 0.011573 -0.46623 -0.55233 0.083317 0.55938 0.51903 -0.27065 -0.28211 -1.3918 0.17498 0.26586 0.061449 -0.273 3.9032 0.38169 -0.056009 -0.004425 0.24033 0.30675 -0.12638 0.33436 0.075485 -0.036218 0.13691 0.37762 -0.12159 -0.13808 0.19505 0.22793 -0.17304 -0.07573 -0.25868 -0.39339\n",
            "he -0.20092 -0.060271 -0.61766 -0.8444 0.5781 0.14671 -0.86098 0.6705 -0.86556 -0.18234 0.15856 0.45814 -1.0163 -0.35874 0.73869 -0.24048 -0.33893 0.25742 -0.78192 0.083528 0.1775 0.91773 0.64531 -0.19896 0.37416 -2.7525 -0.091586 0.040349 -0.064792 -0.31466 3.3944 0.044941 -0.55038 -0.65334 0.10436 0.016394 0.24388 1.0085 0.31412 -0.33806 -0.16925 0.10228 -0.62143 0.19829 -0.36147 -0.24769 -0.38989 -0.33317 -0.041659 -0.013171\n",
            "as 0.20782 0.12713 -0.30188 -0.23125 0.30175 0.33194 -0.52776 -0.44042 -0.48348 0.03502 0.34782 0.54574 -0.2066 -0.083713 0.2462 0.15931 -0.0031349 0.32443 -0.4527 -0.22178 0.022652 -0.041714 0.31815 0.088633 -0.03801 -1.8212 -0.50917 -0.097544 -0.08953 0.050476 3.718 -0.16503 -0.078733 -0.57101 0.20418 0.13411 0.074281 0.087502 -0.25443 -0.15011 -0.15768 0.39606 -0.23646 -0.095054 0.07859 -0.012305 -0.49879 -0.35301 0.05058 0.019495\n"
          ]
        }
      ]
    },
    {
      "cell_type": "code",
      "source": [
        "from gensim.test.utils import datapath, get_tmpfile\n",
        "from gensim.models import KeyedVectors\n",
        "from gensim.scripts.glove2word2vec import glove2word2vec"
      ],
      "metadata": {
        "id": "2aJ6tRWUZlSz"
      },
      "execution_count": 111,
      "outputs": []
    },
    {
      "cell_type": "code",
      "source": [
        "glove_file = datapath('/content/glove.6B.100d.txt')\n",
        "word2vec_glove_file = get_tmpfile(\"glove.6B.100d.word2vec.txt\")\n",
        "glove2word2vec(glove_file, word2vec_glove_file)"
      ],
      "metadata": {
        "colab": {
          "base_uri": "https://localhost:8080/"
        },
        "id": "JQ_7HHB1ZSdK",
        "outputId": "9245e1af-2015-432d-9258-e996c55ecfa5"
      },
      "execution_count": 112,
      "outputs": [
        {
          "output_type": "execute_result",
          "data": {
            "text/plain": [
              "(400000, 100)"
            ]
          },
          "metadata": {},
          "execution_count": 112
        }
      ]
    },
    {
      "cell_type": "code",
      "source": [
        "model = KeyedVectors.load_word2vec_format(word2vec_glove_file)"
      ],
      "metadata": {
        "id": "mnriGGNsZbi8"
      },
      "execution_count": 113,
      "outputs": []
    },
    {
      "cell_type": "code",
      "source": [
        "model.most_similar('dhoni')"
      ],
      "metadata": {
        "colab": {
          "base_uri": "https://localhost:8080/"
        },
        "id": "wO0pnx1bZpWM",
        "outputId": "dcf21e5d-51d3-47fd-b8b8-cbd73f4dbe0f"
      },
      "execution_count": 152,
      "outputs": [
        {
          "output_type": "execute_result",
          "data": {
            "text/plain": [
              "[('yuvraj', 0.8215702772140503),\n",
              " ('dravid', 0.8074445724487305),\n",
              " ('raina', 0.7764849066734314),\n",
              " ('laxman', 0.7619553804397583),\n",
              " ('sehwag', 0.7574127912521362),\n",
              " ('gambhir', 0.7569947242736816),\n",
              " ('mahendra', 0.7568572759628296),\n",
              " ('kumble', 0.7551264762878418),\n",
              " ('harbhajan', 0.7499918937683105),\n",
              " ('tendulkar', 0.7379781007766724)]"
            ]
          },
          "metadata": {},
          "execution_count": 152
        }
      ]
    },
    {
      "cell_type": "code",
      "source": [
        "model.most_similar('india')"
      ],
      "metadata": {
        "colab": {
          "base_uri": "https://localhost:8080/"
        },
        "id": "L0J0HjEYe1Xy",
        "outputId": "3e7fe6fa-5b9c-4daf-b231-0015a7a7ca93"
      },
      "execution_count": 168,
      "outputs": [
        {
          "output_type": "execute_result",
          "data": {
            "text/plain": [
              "[('pakistan', 0.8370324373245239),\n",
              " ('indian', 0.780203104019165),\n",
              " ('delhi', 0.7712194919586182),\n",
              " ('bangladesh', 0.7661640644073486),\n",
              " ('lanka', 0.7639288306236267),\n",
              " ('sri', 0.7506585121154785),\n",
              " ('australia', 0.7042096853256226),\n",
              " ('malaysia', 0.6796302795410156),\n",
              " ('nepal', 0.6761943697929382),\n",
              " ('thailand', 0.6671633720397949)]"
            ]
          },
          "metadata": {},
          "execution_count": 168
        }
      ]
    },
    {
      "cell_type": "code",
      "source": [
        "def analogy(x1, x2, y1):\n",
        "    result = model.most_similar([y1, x2], [x1])\n",
        "    return result[0][0]"
      ],
      "metadata": {
        "id": "Ov3ofJHYZr1S"
      },
      "execution_count": 115,
      "outputs": []
    },
    {
      "cell_type": "code",
      "source": [
        "analogy('india', 'indian', 'germany')"
      ],
      "metadata": {
        "colab": {
          "base_uri": "https://localhost:8080/",
          "height": 35
        },
        "id": "6PoCwOr2Zttp",
        "outputId": "30b571fd-136d-472e-cf64-5b5e8f3a522f"
      },
      "execution_count": 171,
      "outputs": [
        {
          "output_type": "execute_result",
          "data": {
            "text/plain": [
              "'german'"
            ],
            "application/vnd.google.colaboratory.intrinsic+json": {
              "type": "string"
            }
          },
          "metadata": {},
          "execution_count": 171
        }
      ]
    },
    {
      "cell_type": "code",
      "source": [
        "analogy('switzerland', 'federer', 'spain')"
      ],
      "metadata": {
        "colab": {
          "base_uri": "https://localhost:8080/",
          "height": 35
        },
        "id": "hIIBpQftZx36",
        "outputId": "ef7b8434-0c5d-4f84-9eef-7fde09143b99"
      },
      "execution_count": 172,
      "outputs": [
        {
          "output_type": "execute_result",
          "data": {
            "text/plain": [
              "'nadal'"
            ],
            "application/vnd.google.colaboratory.intrinsic+json": {
              "type": "string"
            }
          },
          "metadata": {},
          "execution_count": 172
        }
      ]
    },
    {
      "cell_type": "code",
      "source": [
        "analogy('tall', 'tallest', 'long')"
      ],
      "metadata": {
        "colab": {
          "base_uri": "https://localhost:8080/",
          "height": 35
        },
        "id": "5ajtDEujaNJW",
        "outputId": "64a7bb2f-ccaf-42a6-d818-0fc5d57b13e8"
      },
      "execution_count": 125,
      "outputs": [
        {
          "output_type": "execute_result",
          "data": {
            "text/plain": [
              "'longest'"
            ],
            "application/vnd.google.colaboratory.intrinsic+json": {
              "type": "string"
            }
          },
          "metadata": {},
          "execution_count": 125
        }
      ]
    },
    {
      "cell_type": "code",
      "source": [
        "analogy('summer', 'hot', 'winter')"
      ],
      "metadata": {
        "colab": {
          "base_uri": "https://localhost:8080/",
          "height": 35
        },
        "id": "XR58MaJqaQps",
        "outputId": "58bfeaab-c33d-4adc-deea-5edd235246a8"
      },
      "execution_count": 134,
      "outputs": [
        {
          "output_type": "execute_result",
          "data": {
            "text/plain": [
              "'cold'"
            ],
            "application/vnd.google.colaboratory.intrinsic+json": {
              "type": "string"
            }
          },
          "metadata": {},
          "execution_count": 134
        }
      ]
    },
    {
      "cell_type": "code",
      "source": [
        "analogy('india', 'delhi', 'france')"
      ],
      "metadata": {
        "colab": {
          "base_uri": "https://localhost:8080/",
          "height": 35
        },
        "id": "xh0sQk0lay1_",
        "outputId": "767c17bb-fb05-479f-b947-5e6c7cb8a24b"
      },
      "execution_count": 161,
      "outputs": [
        {
          "output_type": "execute_result",
          "data": {
            "text/plain": [
              "'paris'"
            ],
            "application/vnd.google.colaboratory.intrinsic+json": {
              "type": "string"
            }
          },
          "metadata": {},
          "execution_count": 161
        }
      ]
    },
    {
      "cell_type": "code",
      "source": [
        "analogy('earth', 'moon', 'jupiter')"
      ],
      "metadata": {
        "colab": {
          "base_uri": "https://localhost:8080/",
          "height": 35
        },
        "id": "U3MG5566h9PF",
        "outputId": "4f03e6eb-68d0-4901-f771-40151119b6be"
      },
      "execution_count": 175,
      "outputs": [
        {
          "output_type": "execute_result",
          "data": {
            "text/plain": [
              "'moons'"
            ],
            "application/vnd.google.colaboratory.intrinsic+json": {
              "type": "string"
            }
          },
          "metadata": {},
          "execution_count": 175
        }
      ]
    },
    {
      "cell_type": "code",
      "execution_count": 207,
      "metadata": {
        "colab": {
          "base_uri": "https://localhost:8080/"
        },
        "id": "ILdBIcwWGeSP",
        "outputId": "0ddb86d7-2053-4033-a17b-4ccb6488e7b7"
      },
      "outputs": [
        {
          "output_type": "stream",
          "name": "stdout",
          "text": [
            "the -0.038194 -0.24487 0.72812 -0.39961 0.083172 0.043953 -0.39141 0.3344 -0.57545 0.087459 0.28787 -0.06731 0.30906 -0.26384 -0.13231 -0.20757 0.33395 -0.33848 -0.31743 -0.48336 0.1464 -0.37304 0.34577 0.052041 0.44946 -0.46971 0.02628 -0.54155 -0.15518 -0.14107 -0.039722 0.28277 0.14393 0.23464 -0.31021 0.086173 0.20397 0.52624 0.17164 -0.082378 -0.71787 -0.41531 0.20335 -0.12763 0.41367 0.55187 0.57908 -0.33477 -0.36559 -0.54857 -0.062892 0.26584 0.30205 0.99775 -0.80481 -3.0243 0.01254 -0.36942 2.2167 0.72201 -0.24978 0.92136 0.034514 0.46745 1.1079 -0.19358 -0.074575 0.23353 -0.052062 -0.22044 0.057162 -0.15806 -0.30798 -0.41625 0.37972 0.15006 -0.53212 -0.2055 -1.2526 0.071624 0.70565 0.49744 -0.42063 0.26148 -1.538 -0.30223 -0.073438 -0.28312 0.37104 -0.25217 0.016215 -0.017099 -0.38984 0.87424 -0.72569 -0.51058 -0.52028 -0.1459 0.8278 0.27062\n",
            "\n",
            "Found 400000 word vectors.\n"
          ]
        }
      ],
      "source": [
        "import os\n",
        "\n",
        "glove_dir = '/content'\n",
        "\n",
        "embeddings_index = {}\n",
        "f = open(os.path.join(glove_dir, 'glove.6B.100d.txt'))\n",
        "line_num = 0\n",
        "\n",
        "for line in f:\n",
        "    ## The following code is done for printing the first line \n",
        "    if( line_num == 0):\n",
        "        print( line )\n",
        "        line_num += 1\n",
        "    values = line.split()\n",
        "    word = values[0]\n",
        "    coefs = np.asarray(values[1:], dtype='float32')\n",
        "    embeddings_index[word] = coefs\n",
        "f.close()\n",
        "\n",
        "print('Found %s word vectors.' % len(embeddings_index))"
      ]
    },
    {
      "cell_type": "markdown",
      "metadata": {
        "id": "stzdc0NlGeSQ"
      },
      "source": [
        "Get the word indexes from the our tokenizer, which contains the indexes of the words in our corpus."
      ]
    },
    {
      "cell_type": "code",
      "execution_count": 208,
      "metadata": {
        "id": "wodct19HGeSQ"
      },
      "outputs": [],
      "source": [
        "word_index = tokenizer.word_index"
      ]
    },
    {
      "cell_type": "code",
      "execution_count": 209,
      "metadata": {
        "id": "oXPUkLbKGeSQ"
      },
      "outputs": [],
      "source": [
        "embedding_dim = 100 #This is because we have downloaded GloVec for 100d embeddings\n",
        "max_words = 10000\n",
        "\n",
        "### The embedding matrix will have \n",
        "embedding_matrix = np.zeros((max_words, \n",
        "                             embedding_dim))\n",
        "\n",
        "for word, i in word_index.items():\n",
        "    embedding_vector = embeddings_index.get(word)\n",
        "    if i < max_words:\n",
        "        if embedding_vector is not None:\n",
        "            # Words not found in embedding index will be all-zeros.\n",
        "            embedding_matrix[i] = embedding_vector\n"
      ]
    },
    {
      "cell_type": "markdown",
      "metadata": {
        "id": "RPzF7TkQGeSQ"
      },
      "source": [
        "### Embedding Model"
      ]
    },
    {
      "cell_type": "code",
      "execution_count": 181,
      "metadata": {
        "colab": {
          "base_uri": "https://localhost:8080/"
        },
        "id": "_wDbc5PwGeSQ",
        "outputId": "6d1e0e37-0d5b-42eb-9059-269ec8980053"
      },
      "outputs": [
        {
          "output_type": "stream",
          "name": "stdout",
          "text": [
            "Model: \"sequential\"\n",
            "_________________________________________________________________\n",
            " Layer (type)                Output Shape              Param #   \n",
            "=================================================================\n",
            " embedding (Embedding)       (None, 552, 100)          1000000   \n",
            "                                                                 \n",
            " flatten (Flatten)           (None, 55200)             0         \n",
            "                                                                 \n",
            " dense (Dense)               (None, 32)                1766432   \n",
            "                                                                 \n",
            " dense_1 (Dense)             (None, 1)                 33        \n",
            "                                                                 \n",
            "=================================================================\n",
            "Total params: 2,766,465\n",
            "Trainable params: 2,766,465\n",
            "Non-trainable params: 0\n",
            "_________________________________________________________________\n"
          ]
        }
      ],
      "source": [
        "tf.keras.backend.clear_session()  # clear default graph\n",
        "\n",
        "pre_trained_emb_model = Sequential()\n",
        "pre_trained_emb_model.add(Embedding(max_words, \n",
        "                                    embedding_dim, \n",
        "                                    input_length=max_review_length))\n",
        "pre_trained_emb_model.add(Flatten())\n",
        "pre_trained_emb_model.add(Dense(32, activation='relu'))\n",
        "pre_trained_emb_model.add(Dense(1, activation='sigmoid'))\n",
        "pre_trained_emb_model.summary()"
      ]
    },
    {
      "cell_type": "markdown",
      "metadata": {
        "id": "TEk3lQ-AGeSQ"
      },
      "source": [
        "The Embedding layer has a single weight matrix: a 2D float matrix where each entry *i* is the word vector meant to be associated with index i. Simple enough. Let's just load the GloVe matrix we prepared into our Embedding layer, the first layer in our model:\n",
        "\n",
        "Additionally, we freeze the embedding layer (we set its trainable attribute to False), following the same rationale as what you are already familiar with in the context of pre-trained convnet features: when parts of a model are pre-trained (like our Embedding layer), and parts are randomly initialized (like our classifier), the pre-trained parts should not be updated during training to avoid forgetting what they already know. The large gradient update triggered by the randomly initialized layers would be very disruptive to the already learned features."
      ]
    },
    {
      "cell_type": "code",
      "execution_count": 182,
      "metadata": {
        "id": "TSIZnci_GeSR"
      },
      "outputs": [],
      "source": [
        "pre_trained_emb_model.layers[0].set_weights([embedding_matrix])\n",
        "pre_trained_emb_model.layers[0].trainable = False"
      ]
    },
    {
      "cell_type": "code",
      "source": [
        "pre_trained_emb_model.summary()"
      ],
      "metadata": {
        "colab": {
          "base_uri": "https://localhost:8080/"
        },
        "id": "L60LUccSlx4E",
        "outputId": "98b1cd69-038e-4dcf-94cd-23f536c54304"
      },
      "execution_count": 183,
      "outputs": [
        {
          "output_type": "stream",
          "name": "stdout",
          "text": [
            "Model: \"sequential\"\n",
            "_________________________________________________________________\n",
            " Layer (type)                Output Shape              Param #   \n",
            "=================================================================\n",
            " embedding (Embedding)       (None, 552, 100)          1000000   \n",
            "                                                                 \n",
            " flatten (Flatten)           (None, 55200)             0         \n",
            "                                                                 \n",
            " dense (Dense)               (None, 32)                1766432   \n",
            "                                                                 \n",
            " dense_1 (Dense)             (None, 1)                 33        \n",
            "                                                                 \n",
            "=================================================================\n",
            "Total params: 2,766,465\n",
            "Trainable params: 1,766,465\n",
            "Non-trainable params: 1,000,000\n",
            "_________________________________________________________________\n"
          ]
        }
      ]
    },
    {
      "cell_type": "code",
      "execution_count": 187,
      "metadata": {
        "id": "4IDmqUIfGeSR"
      },
      "outputs": [],
      "source": [
        "#callbacks_list = [ReduceLROnPlateau(monitor='val_loss',\n",
        "#                                    factor=0.1, \n",
        "#                                    patience=3),\n",
        "#                 EarlyStopping(monitor='val_loss',\n",
        "#                               patience=4),\n",
        "#                 ModelCheckpoint(filepath='imdb_pretrained_model.h5',\n",
        "#                                 monitor='val_loss',\n",
        "#                                 save_best_only=True),\n",
        "#                 TensorBoard(\"./imdb_pretrained_logs\")]"
      ]
    },
    {
      "cell_type": "code",
      "execution_count": 186,
      "metadata": {
        "colab": {
          "base_uri": "https://localhost:8080/"
        },
        "id": "RuDRS6JJGeSR",
        "outputId": "51737bd4-6529-41cb-90fd-424da52e0c8c"
      },
      "outputs": [
        {
          "output_type": "stream",
          "name": "stdout",
          "text": [
            "Epoch 1/20\n",
            "71/71 [==============================] - 1s 5ms/step - loss: 0.1933 - accuracy: 0.9380 - val_loss: 0.6900 - val_accuracy: 0.7165\n",
            "Epoch 2/20\n",
            "71/71 [==============================] - 0s 4ms/step - loss: 0.1588 - accuracy: 0.9416 - val_loss: 0.6902 - val_accuracy: 0.7325\n",
            "Epoch 3/20\n",
            "71/71 [==============================] - 0s 4ms/step - loss: 0.1318 - accuracy: 0.9544 - val_loss: 0.7059 - val_accuracy: 0.7265\n",
            "Epoch 4/20\n",
            "71/71 [==============================] - 0s 4ms/step - loss: 0.1219 - accuracy: 0.9588 - val_loss: 1.2620 - val_accuracy: 0.6285\n",
            "Epoch 5/20\n",
            "71/71 [==============================] - 0s 4ms/step - loss: 0.1123 - accuracy: 0.9624 - val_loss: 1.1094 - val_accuracy: 0.6590\n",
            "Epoch 6/20\n",
            "71/71 [==============================] - 0s 4ms/step - loss: 0.1062 - accuracy: 0.9626 - val_loss: 0.8201 - val_accuracy: 0.7140\n",
            "Epoch 7/20\n",
            "71/71 [==============================] - 0s 4ms/step - loss: 0.0950 - accuracy: 0.9687 - val_loss: 0.8526 - val_accuracy: 0.7100\n",
            "Epoch 8/20\n",
            "71/71 [==============================] - 0s 4ms/step - loss: 0.0935 - accuracy: 0.9711 - val_loss: 1.2235 - val_accuracy: 0.6635\n",
            "Epoch 9/20\n",
            "71/71 [==============================] - 0s 4ms/step - loss: 0.0818 - accuracy: 0.9741 - val_loss: 0.8599 - val_accuracy: 0.7220\n",
            "Epoch 10/20\n",
            "71/71 [==============================] - 0s 4ms/step - loss: 0.0777 - accuracy: 0.9764 - val_loss: 0.8985 - val_accuracy: 0.7190\n",
            "Epoch 11/20\n",
            "71/71 [==============================] - 0s 4ms/step - loss: 0.0736 - accuracy: 0.9780 - val_loss: 0.9164 - val_accuracy: 0.7245\n",
            "Epoch 12/20\n",
            "71/71 [==============================] - 0s 4ms/step - loss: 0.0643 - accuracy: 0.9797 - val_loss: 0.9623 - val_accuracy: 0.7215\n",
            "Epoch 13/20\n",
            "71/71 [==============================] - 0s 4ms/step - loss: 0.0610 - accuracy: 0.9813 - val_loss: 0.9672 - val_accuracy: 0.7215\n",
            "Epoch 14/20\n",
            "71/71 [==============================] - 0s 4ms/step - loss: 0.0771 - accuracy: 0.9775 - val_loss: 0.9726 - val_accuracy: 0.7215\n",
            "Epoch 15/20\n",
            "71/71 [==============================] - 0s 4ms/step - loss: 0.0369 - accuracy: 0.9906 - val_loss: 1.0146 - val_accuracy: 0.7175\n",
            "Epoch 16/20\n",
            "71/71 [==============================] - 0s 4ms/step - loss: 0.0695 - accuracy: 0.9806 - val_loss: 1.0307 - val_accuracy: 0.7180\n",
            "Epoch 17/20\n",
            "71/71 [==============================] - 0s 4ms/step - loss: 0.0343 - accuracy: 0.9920 - val_loss: 1.0917 - val_accuracy: 0.7190\n",
            "Epoch 18/20\n",
            "71/71 [==============================] - 0s 4ms/step - loss: 0.0632 - accuracy: 0.9809 - val_loss: 1.0733 - val_accuracy: 0.7165\n",
            "Epoch 19/20\n",
            "71/71 [==============================] - 0s 4ms/step - loss: 0.0399 - accuracy: 0.9896 - val_loss: 1.1078 - val_accuracy: 0.7200\n",
            "Epoch 20/20\n",
            "71/71 [==============================] - 0s 4ms/step - loss: 0.0424 - accuracy: 0.9904 - val_loss: 1.1498 - val_accuracy: 0.7100\n"
          ]
        }
      ],
      "source": [
        "pre_trained_emb_model.compile(optimizer='rmsprop',\n",
        "              loss='binary_crossentropy',\n",
        "              metrics=['accuracy'])\n",
        "\n",
        "pre_trained_emb_history = pre_trained_emb_model.fit(X_train, \n",
        "                                                    y_train,\n",
        "                                                    epochs=20,\n",
        "                                                    batch_size=256,\n",
        "#                                                    callbacks = callbacks_list,\n",
        "                                                    validation_split=0.1)"
      ]
    },
    {
      "cell_type": "markdown",
      "metadata": {
        "id": "ue7SSJrOGeSR"
      },
      "source": [
        "### Embedding Layer with Dropouts"
      ]
    },
    {
      "cell_type": "code",
      "source": [
        "from tensorflow.keras.layers import Dropout"
      ],
      "metadata": {
        "id": "GW7qnNa7mxKx"
      },
      "execution_count": 189,
      "outputs": []
    },
    {
      "cell_type": "code",
      "source": [
        "Dropout?"
      ],
      "metadata": {
        "id": "kSbbf5yysAdZ"
      },
      "execution_count": 216,
      "outputs": []
    },
    {
      "cell_type": "code",
      "execution_count": 213,
      "metadata": {
        "colab": {
          "base_uri": "https://localhost:8080/"
        },
        "id": "90pkN9gqGeSR",
        "outputId": "8d186c14-789d-4e91-9220-587e2cb66a15"
      },
      "outputs": [
        {
          "output_type": "stream",
          "name": "stdout",
          "text": [
            "Model: \"sequential\"\n",
            "_________________________________________________________________\n",
            " Layer (type)                Output Shape              Param #   \n",
            "=================================================================\n",
            " embedding (Embedding)       (None, 552, 100)          1000000   \n",
            "                                                                 \n",
            " flatten (Flatten)           (None, 55200)             0         \n",
            "                                                                 \n",
            " dense (Dense)               (None, 256)               14131456  \n",
            "                                                                 \n",
            " activation (Activation)     (None, 256)               0         \n",
            "                                                                 \n",
            " dropout (Dropout)           (None, 256)               0         \n",
            "                                                                 \n",
            " dense_1 (Dense)             (None, 1)                 257       \n",
            "                                                                 \n",
            " activation_1 (Activation)   (None, 1)                 0         \n",
            "                                                                 \n",
            "=================================================================\n",
            "Total params: 15,131,713\n",
            "Trainable params: 15,131,713\n",
            "Non-trainable params: 0\n",
            "_________________________________________________________________\n"
          ]
        }
      ],
      "source": [
        "tf.keras.backend.clear_session()  # clear default graph\n",
        "\n",
        "pre_trained_emb_model = Sequential()\n",
        "pre_trained_emb_model.add(Embedding(max_words, \n",
        "                                    embedding_dim, \n",
        "                                    input_length=max_review_length))\n",
        "pre_trained_emb_model.add(Flatten())\n",
        "pre_trained_emb_model.add(Dense(256))\n",
        "pre_trained_emb_model.add(Activation('relu'))\n",
        "pre_trained_emb_model.add(Dropout(0.2))\n",
        "\n",
        "pre_trained_emb_model.add(Dense(1))\n",
        "pre_trained_emb_model.add(Activation('sigmoid'))\n",
        "pre_trained_emb_model.summary()"
      ]
    },
    {
      "cell_type": "code",
      "execution_count": 214,
      "metadata": {
        "id": "UPG8brVEGeSS"
      },
      "outputs": [],
      "source": [
        "pre_trained_emb_model.layers[0].set_weights([embedding_matrix])\n",
        "pre_trained_emb_model.layers[0].trainable = True"
      ]
    },
    {
      "cell_type": "code",
      "execution_count": 215,
      "metadata": {
        "colab": {
          "base_uri": "https://localhost:8080/"
        },
        "id": "5WpBEbTlGeSS",
        "outputId": "6123f4ed-e221-4e84-98db-89732c39dd92"
      },
      "outputs": [
        {
          "output_type": "stream",
          "name": "stdout",
          "text": [
            "Epoch 1/30\n",
            "63/63 [==============================] - 2s 19ms/step - loss: 1.7371 - accuracy: 0.5434 - val_loss: 0.6781 - val_accuracy: 0.5970\n",
            "Epoch 2/30\n",
            "63/63 [==============================] - 1s 16ms/step - loss: 0.7367 - accuracy: 0.5853 - val_loss: 0.6466 - val_accuracy: 0.5953\n",
            "Epoch 3/30\n",
            "63/63 [==============================] - 1s 15ms/step - loss: 0.6536 - accuracy: 0.6538 - val_loss: 0.5448 - val_accuracy: 0.7502\n",
            "Epoch 4/30\n",
            "63/63 [==============================] - 1s 16ms/step - loss: 0.5576 - accuracy: 0.7257 - val_loss: 0.4660 - val_accuracy: 0.7800\n",
            "Epoch 5/30\n",
            "63/63 [==============================] - 1s 15ms/step - loss: 0.4811 - accuracy: 0.7756 - val_loss: 0.5364 - val_accuracy: 0.7377\n",
            "Epoch 6/30\n",
            "63/63 [==============================] - 1s 15ms/step - loss: 0.4242 - accuracy: 0.8144 - val_loss: 0.5119 - val_accuracy: 0.7617\n",
            "Epoch 7/30\n",
            "63/63 [==============================] - 1s 15ms/step - loss: 0.3606 - accuracy: 0.8491 - val_loss: 0.5437 - val_accuracy: 0.7760\n",
            "Epoch 8/30\n",
            "63/63 [==============================] - 1s 15ms/step - loss: 0.3083 - accuracy: 0.8717 - val_loss: 0.4015 - val_accuracy: 0.8292\n",
            "Epoch 9/30\n",
            "63/63 [==============================] - 1s 15ms/step - loss: 0.2574 - accuracy: 0.8945 - val_loss: 0.8110 - val_accuracy: 0.7517\n",
            "Epoch 10/30\n",
            "63/63 [==============================] - 1s 15ms/step - loss: 0.2232 - accuracy: 0.9093 - val_loss: 0.4039 - val_accuracy: 0.8372\n",
            "Epoch 11/30\n",
            "63/63 [==============================] - 1s 16ms/step - loss: 0.1864 - accuracy: 0.9244 - val_loss: 0.4123 - val_accuracy: 0.8438\n",
            "Epoch 12/30\n",
            "63/63 [==============================] - 1s 15ms/step - loss: 0.1612 - accuracy: 0.9387 - val_loss: 0.4584 - val_accuracy: 0.8378\n",
            "Epoch 13/30\n",
            "63/63 [==============================] - 1s 15ms/step - loss: 0.1441 - accuracy: 0.9433 - val_loss: 0.5107 - val_accuracy: 0.8510\n",
            "Epoch 14/30\n",
            "63/63 [==============================] - 1s 16ms/step - loss: 0.1320 - accuracy: 0.9509 - val_loss: 0.5494 - val_accuracy: 0.8478\n",
            "Epoch 15/30\n",
            "63/63 [==============================] - 1s 15ms/step - loss: 0.0945 - accuracy: 0.9626 - val_loss: 0.5803 - val_accuracy: 0.8525\n",
            "Epoch 16/30\n",
            "63/63 [==============================] - 1s 15ms/step - loss: 0.0908 - accuracy: 0.9671 - val_loss: 0.7761 - val_accuracy: 0.8158\n",
            "Epoch 17/30\n",
            "63/63 [==============================] - 1s 15ms/step - loss: 0.0778 - accuracy: 0.9701 - val_loss: 0.5999 - val_accuracy: 0.8462\n",
            "Epoch 18/30\n",
            "63/63 [==============================] - 1s 15ms/step - loss: 0.0696 - accuracy: 0.9755 - val_loss: 0.9011 - val_accuracy: 0.8263\n",
            "Epoch 19/30\n",
            "63/63 [==============================] - 1s 16ms/step - loss: 0.0575 - accuracy: 0.9780 - val_loss: 0.7366 - val_accuracy: 0.8455\n",
            "Epoch 20/30\n",
            "63/63 [==============================] - 1s 15ms/step - loss: 0.0550 - accuracy: 0.9805 - val_loss: 0.7410 - val_accuracy: 0.8550\n",
            "Epoch 21/30\n",
            "63/63 [==============================] - 1s 16ms/step - loss: 0.0514 - accuracy: 0.9825 - val_loss: 0.7837 - val_accuracy: 0.8558\n",
            "Epoch 22/30\n",
            "63/63 [==============================] - 1s 15ms/step - loss: 0.0421 - accuracy: 0.9844 - val_loss: 0.7847 - val_accuracy: 0.8533\n",
            "Epoch 23/30\n",
            "63/63 [==============================] - 1s 16ms/step - loss: 0.0454 - accuracy: 0.9836 - val_loss: 0.8202 - val_accuracy: 0.8518\n",
            "Epoch 24/30\n",
            "63/63 [==============================] - 1s 15ms/step - loss: 0.0353 - accuracy: 0.9874 - val_loss: 0.8413 - val_accuracy: 0.8577\n",
            "Epoch 25/30\n",
            "63/63 [==============================] - 1s 16ms/step - loss: 0.0346 - accuracy: 0.9883 - val_loss: 1.1082 - val_accuracy: 0.8413\n",
            "Epoch 26/30\n",
            "63/63 [==============================] - 1s 15ms/step - loss: 0.0337 - accuracy: 0.9885 - val_loss: 0.9747 - val_accuracy: 0.8562\n",
            "Epoch 27/30\n",
            "63/63 [==============================] - 1s 15ms/step - loss: 0.0343 - accuracy: 0.9880 - val_loss: 0.9374 - val_accuracy: 0.8587\n",
            "Epoch 28/30\n",
            "63/63 [==============================] - 1s 15ms/step - loss: 0.0292 - accuracy: 0.9898 - val_loss: 1.0682 - val_accuracy: 0.8568\n",
            "Epoch 29/30\n",
            "63/63 [==============================] - 1s 16ms/step - loss: 0.0236 - accuracy: 0.9917 - val_loss: 1.1048 - val_accuracy: 0.8547\n",
            "Epoch 30/30\n",
            "63/63 [==============================] - 1s 16ms/step - loss: 0.0322 - accuracy: 0.9898 - val_loss: 1.0749 - val_accuracy: 0.8585\n"
          ]
        }
      ],
      "source": [
        "pre_trained_emb_model.compile(optimizer='rmsprop',\n",
        "              loss='binary_crossentropy',\n",
        "              metrics=['accuracy'])\n",
        "\n",
        "pre_trained_emb_history = pre_trained_emb_model.fit(X_train, \n",
        "                                                    y_train,\n",
        "                                                    epochs=30,\n",
        "                                                    batch_size=256,\n",
        "#                                                    callbacks=callbacks_list,\n",
        "                                                    validation_split=0.2)"
      ]
    },
    {
      "cell_type": "code",
      "execution_count": null,
      "metadata": {
        "id": "YPx7z2SpGeSS",
        "outputId": "ef9333b9-fb4b-4faf-a7d1-4d48d5af0dd2"
      },
      "outputs": [
        {
          "data": {
            "image/png": "[encoded data removed]",
            "text/plain": [
              "<Figure size 432x288 with 1 Axes>"
            ]
          },
          "metadata": {
            "needs_background": "light"
          },
          "output_type": "display_data"
        }
      ],
      "source": [
        "plot_accuracy(pre_trained_emb_history.history)"
      ]
    },
    {
      "cell_type": "code",
      "source": [
        "X_test"
      ],
      "metadata": {
        "colab": {
          "base_uri": "https://localhost:8080/"
        },
        "id": "rtIr1xg9ttv4",
        "outputId": "835a4b92-d945-483c-ed08-bb89bd2a3bf0"
      },
      "execution_count": 217,
      "outputs": [
        {
          "output_type": "execute_result",
          "data": {
            "text/plain": [
              "array([[   0,    0,    0, ...,   17,    3,  744],\n",
              "       [   0,    0,    0, ...,   37,   41,   39],\n",
              "       [   0,    0,    0, ..., 1011,   15,    1],\n",
              "       ...,\n",
              "       [   0,    0,    0, ...,    1,  142, 1562],\n",
              "       [   0,    0,    0, ...,    6, 4026,    9],\n",
              "       [   0,    0,    0, ...,    2,  369,  947]], dtype=int32)"
            ]
          },
          "metadata": {},
          "execution_count": 217
        }
      ]
    },
    {
      "cell_type": "markdown",
      "source": [
        "## Saving and loading the model"
      ],
      "metadata": {
        "id": "Img-nvmSvx9U"
      }
    },
    {
      "cell_type": "code",
      "source": [
        "pre_trained_emb_model.save('sentiment.model')"
      ],
      "metadata": {
        "id": "aKtDCJ9hvVpT"
      },
      "execution_count": 240,
      "outputs": []
    },
    {
      "cell_type": "code",
      "source": [
        "from tensorflow import keras\n",
        "model_v1 = keras.models.load_model('sentiment.model')"
      ],
      "metadata": {
        "id": "lGQDwUgevfw5"
      },
      "execution_count": 242,
      "outputs": []
    },
    {
      "cell_type": "code",
      "source": [
        "x_seq = tokenizer.texts_to_sequences( [\"the movie is good, but it could have been better\"])"
      ],
      "metadata": {
        "id": "qxyvh2D5twdh"
      },
      "execution_count": 243,
      "outputs": []
    },
    {
      "cell_type": "code",
      "source": [
        "x_seq"
      ],
      "metadata": {
        "colab": {
          "base_uri": "https://localhost:8080/"
        },
        "id": "_EIKS9FBt-xm",
        "outputId": "a2016570-f1e2-4a18-a182-28e83be63047"
      },
      "execution_count": 244,
      "outputs": [
        {
          "output_type": "execute_result",
          "data": {
            "text/plain": [
              "[[1, 17, 6, 49, 18, 9, 97, 25, 74, 125]]"
            ]
          },
          "metadata": {},
          "execution_count": 244
        }
      ]
    },
    {
      "cell_type": "code",
      "source": [
        "x_pad = pad_sequences(x_seq, \n",
        "                  max_review_length, \n",
        "                  padding=pad, \n",
        "                  truncating=pad)\n"
      ],
      "metadata": {
        "id": "teK_XnSguJrd"
      },
      "execution_count": 245,
      "outputs": []
    },
    {
      "cell_type": "code",
      "source": [
        "x_pad"
      ],
      "metadata": {
        "colab": {
          "base_uri": "https://localhost:8080/"
        },
        "id": "4E9ad5tCuMck",
        "outputId": "ac291276-c937-4249-9ee2-b3682f97a06d"
      },
      "execution_count": 238,
      "outputs": [
        {
          "output_type": "execute_result",
          "data": {
            "text/plain": [
              "array([[  0,   0,   0,   0,   0,   0,   0,   0,   0,   0,   0,   0,   0,\n",
              "          0,   0,   0,   0,   0,   0,   0,   0,   0,   0,   0,   0,   0,\n",
              "          0,   0,   0,   0,   0,   0,   0,   0,   0,   0,   0,   0,   0,\n",
              "          0,   0,   0,   0,   0,   0,   0,   0,   0,   0,   0,   0,   0,\n",
              "          0,   0,   0,   0,   0,   0,   0,   0,   0,   0,   0,   0,   0,\n",
              "          0,   0,   0,   0,   0,   0,   0,   0,   0,   0,   0,   0,   0,\n",
              "          0,   0,   0,   0,   0,   0,   0,   0,   0,   0,   0,   0,   0,\n",
              "          0,   0,   0,   0,   0,   0,   0,   0,   0,   0,   0,   0,   0,\n",
              "          0,   0,   0,   0,   0,   0,   0,   0,   0,   0,   0,   0,   0,\n",
              "          0,   0,   0,   0,   0,   0,   0,   0,   0,   0,   0,   0,   0,\n",
              "          0,   0,   0,   0,   0,   0,   0,   0,   0,   0,   0,   0,   0,\n",
              "          0,   0,   0,   0,   0,   0,   0,   0,   0,   0,   0,   0,   0,\n",
              "          0,   0,   0,   0,   0,   0,   0,   0,   0,   0,   0,   0,   0,\n",
              "          0,   0,   0,   0,   0,   0,   0,   0,   0,   0,   0,   0,   0,\n",
              "          0,   0,   0,   0,   0,   0,   0,   0,   0,   0,   0,   0,   0,\n",
              "          0,   0,   0,   0,   0,   0,   0,   0,   0,   0,   0,   0,   0,\n",
              "          0,   0,   0,   0,   0,   0,   0,   0,   0,   0,   0,   0,   0,\n",
              "          0,   0,   0,   0,   0,   0,   0,   0,   0,   0,   0,   0,   0,\n",
              "          0,   0,   0,   0,   0,   0,   0,   0,   0,   0,   0,   0,   0,\n",
              "          0,   0,   0,   0,   0,   0,   0,   0,   0,   0,   0,   0,   0,\n",
              "          0,   0,   0,   0,   0,   0,   0,   0,   0,   0,   0,   0,   0,\n",
              "          0,   0,   0,   0,   0,   0,   0,   0,   0,   0,   0,   0,   0,\n",
              "          0,   0,   0,   0,   0,   0,   0,   0,   0,   0,   0,   0,   0,\n",
              "          0,   0,   0,   0,   0,   0,   0,   0,   0,   0,   0,   0,   0,\n",
              "          0,   0,   0,   0,   0,   0,   0,   0,   0,   0,   0,   0,   0,\n",
              "          0,   0,   0,   0,   0,   0,   0,   0,   0,   0,   0,   0,   0,\n",
              "          0,   0,   0,   0,   0,   0,   0,   0,   0,   0,   0,   0,   0,\n",
              "          0,   0,   0,   0,   0,   0,   0,   0,   0,   0,   0,   0,   0,\n",
              "          0,   0,   0,   0,   0,   0,   0,   0,   0,   0,   0,   0,   0,\n",
              "          0,   0,   0,   0,   0,   0,   0,   0,   0,   0,   0,   0,   0,\n",
              "          0,   0,   0,   0,   0,   0,   0,   0,   0,   0,   0,   0,   0,\n",
              "          0,   0,   0,   0,   0,   0,   0,   0,   0,   0,   0,   0,   0,\n",
              "          0,   0,   0,   0,   0,   0,   0,   0,   0,   0,   0,   0,   0,\n",
              "          0,   0,   0,   0,   0,   0,   0,   0,   0,   0,   0,   0,   0,\n",
              "          0,   0,   0,   0,   0,   0,   0,   0,   0,   0,   0,   0,   0,\n",
              "          0,   0,   0,   0,   0,   0,   0,   0,   0,   0,   0,   0,   0,\n",
              "          0,   0,   0,   0,   0,   0,   0,   0,   0,   0,   0,   0,   0,\n",
              "          0,   0,   0,   0,   0,   0,   0,   0,   0,   0,   0,   0,   0,\n",
              "          0,   0,   0,   0,   0,   0,   0,   0,   0,   0,   0,   0,   0,\n",
              "          0,   0,   0,   0,   0,   0,   0,   0,   0,   0,   0,   0,   0,\n",
              "          0,   0,   0,   0,   0,   0,   0,   0,   0,   0,   0,   0,   0,\n",
              "          0,   0,   0,   0,   0,   0,   0,   0,   0,   1,  17,   6,  49,\n",
              "         18,   9,  97,  25,  74, 125]], dtype=int32)"
            ]
          },
          "metadata": {},
          "execution_count": 238
        }
      ]
    },
    {
      "cell_type": "code",
      "source": [
        "np.round(model_v1.predict(x_pad), 2)"
      ],
      "metadata": {
        "colab": {
          "base_uri": "https://localhost:8080/"
        },
        "id": "B7Q62ReEuW9s",
        "outputId": "7c8f5ed6-0ea6-4600-ee1a-36ef9acef07a"
      },
      "execution_count": 246,
      "outputs": [
        {
          "output_type": "execute_result",
          "data": {
            "text/plain": [
              "array([[0.]], dtype=float32)"
            ]
          },
          "metadata": {},
          "execution_count": 246
        }
      ]
    },
    {
      "cell_type": "markdown",
      "metadata": {
        "collapsed": true,
        "id": "CQRgbxYCGeSS"
      },
      "source": [
        "## Excellent References\n",
        "\n",
        "For further exploration and better understanding, you can use the following references.\n",
        "\n",
        "- Glossary of Deep Learning: Word Embedding\n",
        "\n",
        "    https://medium.com/deeper-learning/glossary-of-deep-learning-word-embedding-f90c3cec34ca\n",
        "\n",
        "\n",
        "- wevi: word embedding visual inspector\n",
        "\n",
        "    https://ronxin.github.io/wevi/  \n",
        "    \n",
        "    \n",
        "- Learning Word Embedding    \n",
        "\n",
        "    https://lilianweng.github.io/lil-log/2017/10/15/learning-word-embedding.html\n",
        "\n",
        "\n",
        "- On the contribution of neural networks and word embeddings in Natural Language Processing\n",
        "\n",
        "    https://medium.com/@josecamachocollados/on-the-contribution-of-neural-networks-and-word-embeddings-in-natural-language-processing-c8bb1b85c61c"
      ]
    }
  ],
  "metadata": {
    "kernelspec": {
      "display_name": "Python 3",
      "language": "python",
      "name": "python3"
    },
    "language_info": {
      "codemirror_mode": {
        "name": "ipython",
        "version": 3
      },
      "file_extension": ".py",
      "mimetype": "text/x-python",
      "name": "python",
      "nbconvert_exporter": "python",
      "pygments_lexer": "ipython3",
      "version": "3.8.3"
    },
    "colab": {
      "provenance": [],
      "collapsed_sections": [
        "Zb_mQOYYGeSF",
        "SWFdYC_cGeSF",
        "DA6l8x2yGeSG",
        "tyfHc1YQGeSH",
        "h3GGzXyGGeSI"
      ]
    },
    "accelerator": "GPU"
  },
  "nbformat": 4,
  "nbformat_minor": 0
}