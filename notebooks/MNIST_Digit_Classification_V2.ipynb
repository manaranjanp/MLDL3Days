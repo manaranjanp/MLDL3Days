{
  "nbformat": 4,
  "nbformat_minor": 0,
  "metadata": {
    "kernelspec": {
      "display_name": "Python 3",
      "language": "python",
      "name": "python3"
    },
    "language_info": {
      "codemirror_mode": {
        "name": "ipython",
        "version": 3
      },
      "file_extension": ".py",
      "mimetype": "text/x-python",
      "name": "python",
      "nbconvert_exporter": "python",
      "pygments_lexer": "ipython3",
      "version": "3.8.3"
    },
    "colab": {
      "name": "MNIST Digit Classification.ipynb",
      "provenance": []
    }
  },
  "cells": [
    {
      "cell_type": "markdown",
      "metadata": {
        "id": "t3g2l3Pisn7I"
      },
      "source": [
        "## Extracting all Images \n",
        "\n",
        "### Import all libraries"
      ]
    },
    {
      "cell_type": "code",
      "source": [
        "from google.colab import drive\n",
        "drive.mount('/content/drive')"
      ],
      "metadata": {
        "colab": {
          "base_uri": "https://localhost:8080/"
        },
        "id": "2OT9CunqTycj",
        "outputId": "9afff243-fd54-4744-9430-32c76baa5788"
      },
      "execution_count": 6,
      "outputs": [
        {
          "output_type": "stream",
          "name": "stdout",
          "text": [
            "Drive already mounted at /content/drive; to attempt to forcibly remount, call drive.mount(\"/content/drive\", force_remount=True).\n"
          ]
        }
      ]
    },
    {
      "cell_type": "markdown",
      "metadata": {
        "id": "_6iVSyG6sn7M"
      },
      "source": [
        "Note:\n",
        "\n",
        "pip install opencv-python"
      ]
    },
    {
      "cell_type": "code",
      "metadata": {
        "id": "Mbz7Z9W2sn7M"
      },
      "source": [
        "import pandas as pd\n",
        "import numpy as np\n",
        "import matplotlib.pyplot as plt\n",
        "import csv\n",
        "import cv2\n",
        "%matplotlib inline"
      ],
      "execution_count": 7,
      "outputs": []
    },
    {
      "cell_type": "markdown",
      "metadata": {
        "id": "jODqsipisn7O"
      },
      "source": [
        "### The Dataset"
      ]
    },
    {
      "cell_type": "markdown",
      "metadata": {
        "id": "GuLcY8FVsn7O"
      },
      "source": [
        "#### MNIST Digit Recognition "
      ]
    },
    {
      "cell_type": "markdown",
      "metadata": {
        "id": "EEo_miUhsn7P"
      },
      "source": [
        "The data files train.csv and test.csv contain gray-scale images of hand-drawn digits, from zero through nine.\n",
        "\n",
        "https://www.kaggle.com/c/digit-recognizer/data\n",
        "\n",
        "Each image is 28 pixels in height and 28 pixels in width, for a total of 784 pixels in total. Each pixel has a single pixel-value associated with it, indicating the lightness or darkness of that pixel, with higher numbers meaning darker. This pixel-value is an integer between 0 and 255, inclusive.\n",
        "\n",
        "The training data set, (train.csv), has 785 columns. The first column, called \"label\", is the digit that was drawn by the user. The rest of the columns contain the pixel-values of the associated image."
      ]
    },
    {
      "cell_type": "markdown",
      "metadata": {
        "id": "gCR0Ep7msn7P"
      },
      "source": [
        "### Read the images and labels"
      ]
    },
    {
      "cell_type": "code",
      "metadata": {
        "id": "OVutYJmfsn7Q"
      },
      "source": [
        "data_file = '/content/drive/MyDrive/AdvancedML/mnist.csv'"
      ],
      "execution_count": 8,
      "outputs": []
    },
    {
      "cell_type": "code",
      "metadata": {
        "id": "F-u0vyyPsn7R"
      },
      "source": [
        "digits_df = pd.read_csv(data_file)"
      ],
      "execution_count": 9,
      "outputs": []
    },
    {
      "cell_type": "code",
      "metadata": {
        "colab": {
          "base_uri": "https://localhost:8080/",
          "height": 487
        },
        "id": "80Lfof0esn7R",
        "outputId": "0967015e-3fea-4172-f74a-188b67f1bf10"
      },
      "source": [
        "digits_df.head( 11)"
      ],
      "execution_count": 10,
      "outputs": [
        {
          "output_type": "execute_result",
          "data": {
            "text/plain": [
              "    label  pixel0  pixel1  pixel2  pixel3  pixel4  pixel5  pixel6  pixel7  \\\n",
              "0       1       0       0       0       0       0       0       0       0   \n",
              "1       0       0       0       0       0       0       0       0       0   \n",
              "2       1       0       0       0       0       0       0       0       0   \n",
              "3       4       0       0       0       0       0       0       0       0   \n",
              "4       0       0       0       0       0       0       0       0       0   \n",
              "5       0       0       0       0       0       0       0       0       0   \n",
              "6       7       0       0       0       0       0       0       0       0   \n",
              "7       3       0       0       0       0       0       0       0       0   \n",
              "8       5       0       0       0       0       0       0       0       0   \n",
              "9       3       0       0       0       0       0       0       0       0   \n",
              "10      8       0       0       0       0       0       0       0       0   \n",
              "\n",
              "    pixel8  ...  pixel774  pixel775  pixel776  pixel777  pixel778  pixel779  \\\n",
              "0        0  ...         0         0         0         0         0         0   \n",
              "1        0  ...         0         0         0         0         0         0   \n",
              "2        0  ...         0         0         0         0         0         0   \n",
              "3        0  ...         0         0         0         0         0         0   \n",
              "4        0  ...         0         0         0         0         0         0   \n",
              "5        0  ...         0         0         0         0         0         0   \n",
              "6        0  ...         0         0         0         0         0         0   \n",
              "7        0  ...         0         0         0         0         0         0   \n",
              "8        0  ...         0         0         0         0         0         0   \n",
              "9        0  ...         0         0         0         0         0         0   \n",
              "10       0  ...         0         0         0         0         0         0   \n",
              "\n",
              "    pixel780  pixel781  pixel782  pixel783  \n",
              "0          0         0         0         0  \n",
              "1          0         0         0         0  \n",
              "2          0         0         0         0  \n",
              "3          0         0         0         0  \n",
              "4          0         0         0         0  \n",
              "5          0         0         0         0  \n",
              "6          0         0         0         0  \n",
              "7          0         0         0         0  \n",
              "8          0         0         0         0  \n",
              "9          0         0         0         0  \n",
              "10         0         0         0         0  \n",
              "\n",
              "[11 rows x 785 columns]"
            ],
            "text/html": [
              "\n",
              "  <div id=\"df-80954456-b6ce-4894-9b44-6dc863f24443\">\n",
              "    <div class=\"colab-df-container\">\n",
              "      <div>\n",
              "<style scoped>\n",
              "    .dataframe tbody tr th:only-of-type {\n",
              "        vertical-align: middle;\n",
              "    }\n",
              "\n",
              "    .dataframe tbody tr th {\n",
              "        vertical-align: top;\n",
              "    }\n",
              "\n",
              "    .dataframe thead th {\n",
              "        text-align: right;\n",
              "    }\n",
              "</style>\n",
              "<table border=\"1\" class=\"dataframe\">\n",
              "  <thead>\n",
              "    <tr style=\"text-align: right;\">\n",
              "      <th></th>\n",
              "      <th>label</th>\n",
              "      <th>pixel0</th>\n",
              "      <th>pixel1</th>\n",
              "      <th>pixel2</th>\n",
              "      <th>pixel3</th>\n",
              "      <th>pixel4</th>\n",
              "      <th>pixel5</th>\n",
              "      <th>pixel6</th>\n",
              "      <th>pixel7</th>\n",
              "      <th>pixel8</th>\n",
              "      <th>...</th>\n",
              "      <th>pixel774</th>\n",
              "      <th>pixel775</th>\n",
              "      <th>pixel776</th>\n",
              "      <th>pixel777</th>\n",
              "      <th>pixel778</th>\n",
              "      <th>pixel779</th>\n",
              "      <th>pixel780</th>\n",
              "      <th>pixel781</th>\n",
              "      <th>pixel782</th>\n",
              "      <th>pixel783</th>\n",
              "    </tr>\n",
              "  </thead>\n",
              "  <tbody>\n",
              "    <tr>\n",
              "      <th>0</th>\n",
              "      <td>1</td>\n",
              "      <td>0</td>\n",
              "      <td>0</td>\n",
              "      <td>0</td>\n",
              "      <td>0</td>\n",
              "      <td>0</td>\n",
              "      <td>0</td>\n",
              "      <td>0</td>\n",
              "      <td>0</td>\n",
              "      <td>0</td>\n",
              "      <td>...</td>\n",
              "      <td>0</td>\n",
              "      <td>0</td>\n",
              "      <td>0</td>\n",
              "      <td>0</td>\n",
              "      <td>0</td>\n",
              "      <td>0</td>\n",
              "      <td>0</td>\n",
              "      <td>0</td>\n",
              "      <td>0</td>\n",
              "      <td>0</td>\n",
              "    </tr>\n",
              "    <tr>\n",
              "      <th>1</th>\n",
              "      <td>0</td>\n",
              "      <td>0</td>\n",
              "      <td>0</td>\n",
              "      <td>0</td>\n",
              "      <td>0</td>\n",
              "      <td>0</td>\n",
              "      <td>0</td>\n",
              "      <td>0</td>\n",
              "      <td>0</td>\n",
              "      <td>0</td>\n",
              "      <td>...</td>\n",
              "      <td>0</td>\n",
              "      <td>0</td>\n",
              "      <td>0</td>\n",
              "      <td>0</td>\n",
              "      <td>0</td>\n",
              "      <td>0</td>\n",
              "      <td>0</td>\n",
              "      <td>0</td>\n",
              "      <td>0</td>\n",
              "      <td>0</td>\n",
              "    </tr>\n",
              "    <tr>\n",
              "      <th>2</th>\n",
              "      <td>1</td>\n",
              "      <td>0</td>\n",
              "      <td>0</td>\n",
              "      <td>0</td>\n",
              "      <td>0</td>\n",
              "      <td>0</td>\n",
              "      <td>0</td>\n",
              "      <td>0</td>\n",
              "      <td>0</td>\n",
              "      <td>0</td>\n",
              "      <td>...</td>\n",
              "      <td>0</td>\n",
              "      <td>0</td>\n",
              "      <td>0</td>\n",
              "      <td>0</td>\n",
              "      <td>0</td>\n",
              "      <td>0</td>\n",
              "      <td>0</td>\n",
              "      <td>0</td>\n",
              "      <td>0</td>\n",
              "      <td>0</td>\n",
              "    </tr>\n",
              "    <tr>\n",
              "      <th>3</th>\n",
              "      <td>4</td>\n",
              "      <td>0</td>\n",
              "      <td>0</td>\n",
              "      <td>0</td>\n",
              "      <td>0</td>\n",
              "      <td>0</td>\n",
              "      <td>0</td>\n",
              "      <td>0</td>\n",
              "      <td>0</td>\n",
              "      <td>0</td>\n",
              "      <td>...</td>\n",
              "      <td>0</td>\n",
              "      <td>0</td>\n",
              "      <td>0</td>\n",
              "      <td>0</td>\n",
              "      <td>0</td>\n",
              "      <td>0</td>\n",
              "      <td>0</td>\n",
              "      <td>0</td>\n",
              "      <td>0</td>\n",
              "      <td>0</td>\n",
              "    </tr>\n",
              "    <tr>\n",
              "      <th>4</th>\n",
              "      <td>0</td>\n",
              "      <td>0</td>\n",
              "      <td>0</td>\n",
              "      <td>0</td>\n",
              "      <td>0</td>\n",
              "      <td>0</td>\n",
              "      <td>0</td>\n",
              "      <td>0</td>\n",
              "      <td>0</td>\n",
              "      <td>0</td>\n",
              "      <td>...</td>\n",
              "      <td>0</td>\n",
              "      <td>0</td>\n",
              "      <td>0</td>\n",
              "      <td>0</td>\n",
              "      <td>0</td>\n",
              "      <td>0</td>\n",
              "      <td>0</td>\n",
              "      <td>0</td>\n",
              "      <td>0</td>\n",
              "      <td>0</td>\n",
              "    </tr>\n",
              "    <tr>\n",
              "      <th>5</th>\n",
              "      <td>0</td>\n",
              "      <td>0</td>\n",
              "      <td>0</td>\n",
              "      <td>0</td>\n",
              "      <td>0</td>\n",
              "      <td>0</td>\n",
              "      <td>0</td>\n",
              "      <td>0</td>\n",
              "      <td>0</td>\n",
              "      <td>0</td>\n",
              "      <td>...</td>\n",
              "      <td>0</td>\n",
              "      <td>0</td>\n",
              "      <td>0</td>\n",
              "      <td>0</td>\n",
              "      <td>0</td>\n",
              "      <td>0</td>\n",
              "      <td>0</td>\n",
              "      <td>0</td>\n",
              "      <td>0</td>\n",
              "      <td>0</td>\n",
              "    </tr>\n",
              "    <tr>\n",
              "      <th>6</th>\n",
              "      <td>7</td>\n",
              "      <td>0</td>\n",
              "      <td>0</td>\n",
              "      <td>0</td>\n",
              "      <td>0</td>\n",
              "      <td>0</td>\n",
              "      <td>0</td>\n",
              "      <td>0</td>\n",
              "      <td>0</td>\n",
              "      <td>0</td>\n",
              "      <td>...</td>\n",
              "      <td>0</td>\n",
              "      <td>0</td>\n",
              "      <td>0</td>\n",
              "      <td>0</td>\n",
              "      <td>0</td>\n",
              "      <td>0</td>\n",
              "      <td>0</td>\n",
              "      <td>0</td>\n",
              "      <td>0</td>\n",
              "      <td>0</td>\n",
              "    </tr>\n",
              "    <tr>\n",
              "      <th>7</th>\n",
              "      <td>3</td>\n",
              "      <td>0</td>\n",
              "      <td>0</td>\n",
              "      <td>0</td>\n",
              "      <td>0</td>\n",
              "      <td>0</td>\n",
              "      <td>0</td>\n",
              "      <td>0</td>\n",
              "      <td>0</td>\n",
              "      <td>0</td>\n",
              "      <td>...</td>\n",
              "      <td>0</td>\n",
              "      <td>0</td>\n",
              "      <td>0</td>\n",
              "      <td>0</td>\n",
              "      <td>0</td>\n",
              "      <td>0</td>\n",
              "      <td>0</td>\n",
              "      <td>0</td>\n",
              "      <td>0</td>\n",
              "      <td>0</td>\n",
              "    </tr>\n",
              "    <tr>\n",
              "      <th>8</th>\n",
              "      <td>5</td>\n",
              "      <td>0</td>\n",
              "      <td>0</td>\n",
              "      <td>0</td>\n",
              "      <td>0</td>\n",
              "      <td>0</td>\n",
              "      <td>0</td>\n",
              "      <td>0</td>\n",
              "      <td>0</td>\n",
              "      <td>0</td>\n",
              "      <td>...</td>\n",
              "      <td>0</td>\n",
              "      <td>0</td>\n",
              "      <td>0</td>\n",
              "      <td>0</td>\n",
              "      <td>0</td>\n",
              "      <td>0</td>\n",
              "      <td>0</td>\n",
              "      <td>0</td>\n",
              "      <td>0</td>\n",
              "      <td>0</td>\n",
              "    </tr>\n",
              "    <tr>\n",
              "      <th>9</th>\n",
              "      <td>3</td>\n",
              "      <td>0</td>\n",
              "      <td>0</td>\n",
              "      <td>0</td>\n",
              "      <td>0</td>\n",
              "      <td>0</td>\n",
              "      <td>0</td>\n",
              "      <td>0</td>\n",
              "      <td>0</td>\n",
              "      <td>0</td>\n",
              "      <td>...</td>\n",
              "      <td>0</td>\n",
              "      <td>0</td>\n",
              "      <td>0</td>\n",
              "      <td>0</td>\n",
              "      <td>0</td>\n",
              "      <td>0</td>\n",
              "      <td>0</td>\n",
              "      <td>0</td>\n",
              "      <td>0</td>\n",
              "      <td>0</td>\n",
              "    </tr>\n",
              "    <tr>\n",
              "      <th>10</th>\n",
              "      <td>8</td>\n",
              "      <td>0</td>\n",
              "      <td>0</td>\n",
              "      <td>0</td>\n",
              "      <td>0</td>\n",
              "      <td>0</td>\n",
              "      <td>0</td>\n",
              "      <td>0</td>\n",
              "      <td>0</td>\n",
              "      <td>0</td>\n",
              "      <td>...</td>\n",
              "      <td>0</td>\n",
              "      <td>0</td>\n",
              "      <td>0</td>\n",
              "      <td>0</td>\n",
              "      <td>0</td>\n",
              "      <td>0</td>\n",
              "      <td>0</td>\n",
              "      <td>0</td>\n",
              "      <td>0</td>\n",
              "      <td>0</td>\n",
              "    </tr>\n",
              "  </tbody>\n",
              "</table>\n",
              "<p>11 rows × 785 columns</p>\n",
              "</div>\n",
              "      <button class=\"colab-df-convert\" onclick=\"convertToInteractive('df-80954456-b6ce-4894-9b44-6dc863f24443')\"\n",
              "              title=\"Convert this dataframe to an interactive table.\"\n",
              "              style=\"display:none;\">\n",
              "        \n",
              "  <svg xmlns=\"http://www.w3.org/2000/svg\" height=\"24px\"viewBox=\"0 0 24 24\"\n",
              "       width=\"24px\">\n",
              "    <path d=\"M0 0h24v24H0V0z\" fill=\"none\"/>\n",
              "    <path d=\"M18.56 5.44l.94 2.06.94-2.06 2.06-.94-2.06-.94-.94-2.06-.94 2.06-2.06.94zm-11 1L8.5 8.5l.94-2.06 2.06-.94-2.06-.94L8.5 2.5l-.94 2.06-2.06.94zm10 10l.94 2.06.94-2.06 2.06-.94-2.06-.94-.94-2.06-.94 2.06-2.06.94z\"/><path d=\"M17.41 7.96l-1.37-1.37c-.4-.4-.92-.59-1.43-.59-.52 0-1.04.2-1.43.59L10.3 9.45l-7.72 7.72c-.78.78-.78 2.05 0 2.83L4 21.41c.39.39.9.59 1.41.59.51 0 1.02-.2 1.41-.59l7.78-7.78 2.81-2.81c.8-.78.8-2.07 0-2.86zM5.41 20L4 18.59l7.72-7.72 1.47 1.35L5.41 20z\"/>\n",
              "  </svg>\n",
              "      </button>\n",
              "      \n",
              "  <style>\n",
              "    .colab-df-container {\n",
              "      display:flex;\n",
              "      flex-wrap:wrap;\n",
              "      gap: 12px;\n",
              "    }\n",
              "\n",
              "    .colab-df-convert {\n",
              "      background-color: #E8F0FE;\n",
              "      border: none;\n",
              "      border-radius: 50%;\n",
              "      cursor: pointer;\n",
              "      display: none;\n",
              "      fill: #1967D2;\n",
              "      height: 32px;\n",
              "      padding: 0 0 0 0;\n",
              "      width: 32px;\n",
              "    }\n",
              "\n",
              "    .colab-df-convert:hover {\n",
              "      background-color: #E2EBFA;\n",
              "      box-shadow: 0px 1px 2px rgba(60, 64, 67, 0.3), 0px 1px 3px 1px rgba(60, 64, 67, 0.15);\n",
              "      fill: #174EA6;\n",
              "    }\n",
              "\n",
              "    [theme=dark] .colab-df-convert {\n",
              "      background-color: #3B4455;\n",
              "      fill: #D2E3FC;\n",
              "    }\n",
              "\n",
              "    [theme=dark] .colab-df-convert:hover {\n",
              "      background-color: #434B5C;\n",
              "      box-shadow: 0px 1px 3px 1px rgba(0, 0, 0, 0.15);\n",
              "      filter: drop-shadow(0px 1px 2px rgba(0, 0, 0, 0.3));\n",
              "      fill: #FFFFFF;\n",
              "    }\n",
              "  </style>\n",
              "\n",
              "      <script>\n",
              "        const buttonEl =\n",
              "          document.querySelector('#df-80954456-b6ce-4894-9b44-6dc863f24443 button.colab-df-convert');\n",
              "        buttonEl.style.display =\n",
              "          google.colab.kernel.accessAllowed ? 'block' : 'none';\n",
              "\n",
              "        async function convertToInteractive(key) {\n",
              "          const element = document.querySelector('#df-80954456-b6ce-4894-9b44-6dc863f24443');\n",
              "          const dataTable =\n",
              "            await google.colab.kernel.invokeFunction('convertToInteractive',\n",
              "                                                     [key], {});\n",
              "          if (!dataTable) return;\n",
              "\n",
              "          const docLinkHtml = 'Like what you see? Visit the ' +\n",
              "            '<a target=\"_blank\" href=https://colab.research.google.com/notebooks/data_table.ipynb>data table notebook</a>'\n",
              "            + ' to learn more about interactive tables.';\n",
              "          element.innerHTML = '';\n",
              "          dataTable['output_type'] = 'display_data';\n",
              "          await google.colab.output.renderOutput(dataTable, element);\n",
              "          const docLink = document.createElement('div');\n",
              "          docLink.innerHTML = docLinkHtml;\n",
              "          element.appendChild(docLink);\n",
              "        }\n",
              "      </script>\n",
              "    </div>\n",
              "  </div>\n",
              "  "
            ]
          },
          "metadata": {},
          "execution_count": 10
        }
      ]
    },
    {
      "cell_type": "code",
      "metadata": {
        "colab": {
          "base_uri": "https://localhost:8080/"
        },
        "id": "fATKQij1wZrm",
        "outputId": "b19f0336-ea5f-4ba1-a053-3260a40903fb"
      },
      "source": [
        "digits_df.shape"
      ],
      "execution_count": 11,
      "outputs": [
        {
          "output_type": "execute_result",
          "data": {
            "text/plain": [
              "(42000, 785)"
            ]
          },
          "metadata": {},
          "execution_count": 11
        }
      ]
    },
    {
      "cell_type": "code",
      "metadata": {
        "colab": {
          "base_uri": "https://localhost:8080/"
        },
        "id": "UHOya2E01re4",
        "outputId": "b71c0312-b44c-405f-937c-638bef7705c5"
      },
      "source": [
        "digits_df.label.unique()"
      ],
      "execution_count": 12,
      "outputs": [
        {
          "output_type": "execute_result",
          "data": {
            "text/plain": [
              "array([1, 0, 4, 7, 3, 5, 8, 9, 2, 6])"
            ]
          },
          "metadata": {},
          "execution_count": 12
        }
      ]
    },
    {
      "cell_type": "markdown",
      "metadata": {
        "id": "Z-xDv7CTsn7T"
      },
      "source": [
        "### Create a Directory and Extract all images"
      ]
    },
    {
      "cell_type": "code",
      "metadata": {
        "id": "DwFH_FbKsn7T"
      },
      "source": [
        "import os"
      ],
      "execution_count": 13,
      "outputs": []
    },
    {
      "cell_type": "code",
      "metadata": {
        "id": "6E7H3_tbsn7U"
      },
      "source": [
        "image_dir = './mnist/'\n",
        "\n",
        "if not os.path.exists(image_dir):\n",
        "    os.makedirs(image_dir)"
      ],
      "execution_count": 14,
      "outputs": []
    },
    {
      "cell_type": "markdown",
      "metadata": {
        "id": "WXttTwylsn7U"
      },
      "source": [
        "### For reading into numpy arrays"
      ]
    },
    {
      "cell_type": "code",
      "metadata": {
        "id": "wLCVrnOdsn7U"
      },
      "source": [
        "labels = digits_df.iloc[0:,0].astype(np.int32)\n",
        "image_buffer = digits_df.iloc[0:,1:].values\n",
        "labels_np = np.array( labels )"
      ],
      "execution_count": 15,
      "outputs": []
    },
    {
      "cell_type": "code",
      "metadata": {
        "colab": {
          "base_uri": "https://localhost:8080/"
        },
        "id": "QMrcgPWtsn7V",
        "outputId": "471e39eb-3a9d-475c-f29a-41709695d987"
      },
      "source": [
        "labels_np[0:10]"
      ],
      "execution_count": 16,
      "outputs": [
        {
          "output_type": "execute_result",
          "data": {
            "text/plain": [
              "array([1, 0, 1, 4, 0, 0, 7, 3, 5, 3], dtype=int32)"
            ]
          },
          "metadata": {},
          "execution_count": 16
        }
      ]
    },
    {
      "cell_type": "code",
      "metadata": {
        "colab": {
          "base_uri": "https://localhost:8080/"
        },
        "id": "g76ZnAJhsn7V",
        "outputId": "a00c9452-241a-42f0-f261-041a534cdb74"
      },
      "source": [
        "image_buffer[0:5]"
      ],
      "execution_count": 17,
      "outputs": [
        {
          "output_type": "execute_result",
          "data": {
            "text/plain": [
              "array([[0, 0, 0, ..., 0, 0, 0],\n",
              "       [0, 0, 0, ..., 0, 0, 0],\n",
              "       [0, 0, 0, ..., 0, 0, 0],\n",
              "       [0, 0, 0, ..., 0, 0, 0],\n",
              "       [0, 0, 0, ..., 0, 0, 0]])"
            ]
          },
          "metadata": {},
          "execution_count": 17
        }
      ]
    },
    {
      "cell_type": "code",
      "metadata": {
        "id": "SSk8Xpidsn7V",
        "outputId": "6a68300a-a214-449b-fe2b-9adfb305274d",
        "colab": {
          "base_uri": "https://localhost:8080/"
        }
      },
      "source": [
        "image_buffer.shape"
      ],
      "execution_count": 18,
      "outputs": [
        {
          "output_type": "execute_result",
          "data": {
            "text/plain": [
              "(42000, 784)"
            ]
          },
          "metadata": {},
          "execution_count": 18
        }
      ]
    },
    {
      "cell_type": "code",
      "metadata": {
        "id": "Gb0_GUzAsn7W"
      },
      "source": [
        "dataset = zip(labels, image_buffer)"
      ],
      "execution_count": 19,
      "outputs": []
    },
    {
      "cell_type": "markdown",
      "metadata": {
        "id": "VHTUqVLesn7W"
      },
      "source": [
        "The images are 28 x 28 pixel images"
      ]
    },
    {
      "cell_type": "markdown",
      "metadata": {
        "id": "MW1z_mFIsn7W"
      },
      "source": [
        "### Verifying images"
      ]
    },
    {
      "cell_type": "code",
      "metadata": {
        "id": "RYuUatW1sn7X"
      },
      "source": [
        "def print_image( idx ):\n",
        "    plt.imshow( image_buffer[idx].reshape(28, 28));\n",
        "    print( labels_np[idx] )"
      ],
      "execution_count": 20,
      "outputs": []
    },
    {
      "cell_type": "code",
      "metadata": {
        "colab": {
          "base_uri": "https://localhost:8080/",
          "height": 282
        },
        "id": "wl2I-JLGsn7X",
        "outputId": "9e6a6bd4-9fbb-4a95-eaff-85fb32f45920"
      },
      "source": [
        "print_image( 10 )"
      ],
      "execution_count": 21,
      "outputs": [
        {
          "output_type": "stream",
          "name": "stdout",
          "text": [
            "8\n"
          ]
        },
        {
          "output_type": "display_data",
          "data": {
            "text/plain": [
              "<Figure size 432x288 with 1 Axes>"
            ],
            "image/png": "[encoded data removed]"
          },
          "metadata": {
            "needs_background": "light"
          }
        }
      ]
    },
    {
      "cell_type": "markdown",
      "metadata": {
        "id": "A8TxB8cUsn7X"
      },
      "source": [
        "### How images actually look like?"
      ]
    },
    {
      "cell_type": "code",
      "metadata": {
        "id": "jhKPrXM7sn7X"
      },
      "source": [
        "np.set_printoptions(precision=4, linewidth=120)"
      ],
      "execution_count": 22,
      "outputs": []
    },
    {
      "cell_type": "code",
      "metadata": {
        "colab": {
          "base_uri": "https://localhost:8080/"
        },
        "id": "0ieeUsmAsn7Y",
        "outputId": "b9bfa5c7-2651-40b1-ac91-2167f81215ac"
      },
      "source": [
        "image_buffer[8].reshape(28, 28)[5:28, 5:25]"
      ],
      "execution_count": 23,
      "outputs": [
        {
          "output_type": "execute_result",
          "data": {
            "text/plain": [
              "array([[  0,   0,   0,   0,   0,   0,   0,   0,  41, 149, 156, 179, 254, 254, 201, 119,  46,   0,   0,   0],\n",
              "       [  0,   0,   0,   0,   0,   0,  13, 147, 241, 253, 253, 254, 253, 253, 253, 253, 245, 160,   0,   0],\n",
              "       [  0,   0,   0,   0,   0,  31, 224, 253, 253, 180, 174, 175, 174, 174, 174, 174, 223, 247, 145,   6],\n",
              "       [  0,   0,   0,   0,   7, 197, 254, 253, 165,   2,   0,   0,   0,   0,   0,   0,  12, 102, 184,  16],\n",
              "       [  0,   0,   0,   0, 152, 253, 254, 162,  18,   0,   0,   0,   0,   0,   0,   0,   0,   0,   0,   0],\n",
              "       [  0,   0,   0,   0, 235, 254, 158,  15,   0,   0,   0,   0,   0,   0,   0,   0,   0,   0,   0,   0],\n",
              "       [  0,   0,   0,  74, 250, 253,  15,   0,   0,   0,  16,  20,  19,   0,   0,   0,   0,   0,   0,   0],\n",
              "       [  0,   0,   7, 199, 253, 253,   0,   0,  25, 130, 235, 254, 247, 145,   6,   0,   0,   0,   0,   0],\n",
              "       [  0,   0,  20, 253, 253, 177, 100, 219, 240, 253, 253, 254, 253, 253, 125,   0,   0,   0,   0,   0],\n",
              "       [  0,   0,   5, 193, 253, 253, 254, 253, 253, 200, 155, 155, 238, 253, 229,  23,   0,   0,   0,   0],\n",
              "       [  0,   0,   0,  61, 249, 254, 241, 150,  30,   0,   0,   0, 215, 254, 254,  58,   0,   0,   0,   0],\n",
              "       [  0,   0,   0,   0,  36,  39,  30,   0,   0,   0,   0,   0, 214, 253, 234,  31,   0,   0,   0,   0],\n",
              "       [  0,   0,   0,   0,   0,   0,   0,   0,   0,   0,   0,  41, 241, 253, 183,   0,   0,   0,   0,   0],\n",
              "       [  0,   0,   0,   0,   0,   0,   0,   0,   0,   0,   0, 201, 253, 253, 102,   0,   0,   0,   0,   0],\n",
              "       [  0,   0,   0,   0,   0,   0,   0,   0,   0,   0, 114, 254, 253, 154,   5,   0,   0,   0,   0,   0],\n",
              "       [  0,   0,   0,   0,   0,   0,   0,   0,   0,  62, 254, 255, 241,  30,   0,   0,   0,   0,   0,   0],\n",
              "       [  0,   0,   0,   0,   0,   0,   0,  10, 118, 235, 253, 249, 103,   0,   0,   0,   0,   0,   0,   0],\n",
              "       [  0,   0,   0,  55,  81,   0, 102, 211, 253, 253, 253, 135,   0,   0,   0,   0,   0,   0,   0,   0],\n",
              "       [  0,   0,   0,  79, 243, 234, 254, 253, 253, 216, 117,   0,   0,   0,   0,   0,   0,   0,   0,   0],\n",
              "       [  0,   0,   0,  48, 245, 253, 254, 207, 126,  27,   0,   0,   0,   0,   0,   0,   0,   0,   0,   0],\n",
              "       [  0,   0,   0,   0,   0,   0,   0,   0,   0,   0,   0,   0,   0,   0,   0,   0,   0,   0,   0,   0],\n",
              "       [  0,   0,   0,   0,   0,   0,   0,   0,   0,   0,   0,   0,   0,   0,   0,   0,   0,   0,   0,   0],\n",
              "       [  0,   0,   0,   0,   0,   0,   0,   0,   0,   0,   0,   0,   0,   0,   0,   0,   0,   0,   0,   0]])"
            ]
          },
          "metadata": {},
          "execution_count": 23
        }
      ]
    },
    {
      "cell_type": "markdown",
      "metadata": {
        "id": "21UyFwzfsn7Y"
      },
      "source": [
        "### Checking shape of the image file"
      ]
    },
    {
      "cell_type": "code",
      "metadata": {
        "colab": {
          "base_uri": "https://localhost:8080/"
        },
        "id": "BZXm_jL2sn7Y",
        "outputId": "549e4639-c391-4dfe-9e73-a81e9ca26588"
      },
      "source": [
        "image_buffer.shape"
      ],
      "execution_count": 24,
      "outputs": [
        {
          "output_type": "execute_result",
          "data": {
            "text/plain": [
              "(42000, 784)"
            ]
          },
          "metadata": {},
          "execution_count": 24
        }
      ]
    },
    {
      "cell_type": "markdown",
      "metadata": {
        "id": "j1947j9Vsn7Y"
      },
      "source": [
        "### Reshaping all images"
      ]
    },
    {
      "cell_type": "code",
      "metadata": {
        "id": "s7DITox8sn7Z"
      },
      "source": [
        "reshaped_images = np.array([x.reshape( 28, 28) for x in image_buffer])"
      ],
      "execution_count": 25,
      "outputs": []
    },
    {
      "cell_type": "code",
      "metadata": {
        "id": "-qHj2ofjsn7Z",
        "outputId": "3b94b819-3515-4226-9f14-898c77846aff",
        "colab": {
          "base_uri": "https://localhost:8080/"
        }
      },
      "source": [
        "reshaped_images.shape"
      ],
      "execution_count": 26,
      "outputs": [
        {
          "output_type": "execute_result",
          "data": {
            "text/plain": [
              "(42000, 28, 28)"
            ]
          },
          "metadata": {},
          "execution_count": 26
        }
      ]
    },
    {
      "cell_type": "code",
      "metadata": {
        "colab": {
          "base_uri": "https://localhost:8080/",
          "height": 265
        },
        "id": "tvV6I7UNsn7Z",
        "outputId": "f3ce2e02-75c0-49b5-8197-b6458314434a"
      },
      "source": [
        "plt.imshow(reshaped_images[200]);"
      ],
      "execution_count": 27,
      "outputs": [
        {
          "output_type": "display_data",
          "data": {
            "text/plain": [
              "<Figure size 432x288 with 1 Axes>"
            ],
            "image/png": "[encoded data removed]"
          },
          "metadata": {
            "needs_background": "light"
          }
        }
      ]
    },
    {
      "cell_type": "markdown",
      "metadata": {
        "id": "RZjVuKEcsn7Z"
      },
      "source": [
        "## Classifying Digits"
      ]
    },
    {
      "cell_type": "markdown",
      "metadata": {
        "id": "btjL9GANsn7a"
      },
      "source": [
        "### Importing all required libraries"
      ]
    },
    {
      "cell_type": "code",
      "metadata": {
        "id": "u6QvCFcmsn7a"
      },
      "source": [
        "import tensorflow as tf\n",
        "from tensorflow import keras"
      ],
      "execution_count": 28,
      "outputs": []
    },
    {
      "cell_type": "code",
      "metadata": {
        "colab": {
          "base_uri": "https://localhost:8080/"
        },
        "id": "mBkWiTuusn7a",
        "outputId": "a3a40bba-6d2d-4af5-b7df-4446b9f5ebbd"
      },
      "source": [
        "print(tf.__version__)\n",
        "print(keras.__version__)"
      ],
      "execution_count": 29,
      "outputs": [
        {
          "output_type": "stream",
          "name": "stdout",
          "text": [
            "2.8.0\n",
            "2.8.0\n"
          ]
        }
      ]
    },
    {
      "cell_type": "markdown",
      "metadata": {
        "id": "5XLRz3_Asn7a"
      },
      "source": [
        "### Set X and Y"
      ]
    },
    {
      "cell_type": "code",
      "metadata": {
        "id": "jRHowSpgsn7b"
      },
      "source": [
        "X = reshaped_images"
      ],
      "execution_count": 30,
      "outputs": []
    },
    {
      "cell_type": "code",
      "metadata": {
        "id": "BhY7PmmPsn7b"
      },
      "source": [
        "y = keras.utils.to_categorical( labels_np )"
      ],
      "execution_count": 31,
      "outputs": []
    },
    {
      "cell_type": "code",
      "metadata": {
        "colab": {
          "base_uri": "https://localhost:8080/"
        },
        "id": "F4LCJP-tsn7b",
        "outputId": "7fb3a6df-4f73-434b-d508-404bd792cf10"
      },
      "source": [
        "y[0:10]"
      ],
      "execution_count": 32,
      "outputs": [
        {
          "output_type": "execute_result",
          "data": {
            "text/plain": [
              "array([[0., 1., 0., 0., 0., 0., 0., 0., 0., 0.],\n",
              "       [1., 0., 0., 0., 0., 0., 0., 0., 0., 0.],\n",
              "       [0., 1., 0., 0., 0., 0., 0., 0., 0., 0.],\n",
              "       [0., 0., 0., 0., 1., 0., 0., 0., 0., 0.],\n",
              "       [1., 0., 0., 0., 0., 0., 0., 0., 0., 0.],\n",
              "       [1., 0., 0., 0., 0., 0., 0., 0., 0., 0.],\n",
              "       [0., 0., 0., 0., 0., 0., 0., 1., 0., 0.],\n",
              "       [0., 0., 0., 1., 0., 0., 0., 0., 0., 0.],\n",
              "       [0., 0., 0., 0., 0., 1., 0., 0., 0., 0.],\n",
              "       [0., 0., 0., 1., 0., 0., 0., 0., 0., 0.]], dtype=float32)"
            ]
          },
          "metadata": {},
          "execution_count": 32
        }
      ]
    },
    {
      "cell_type": "markdown",
      "metadata": {
        "id": "8DWqMrIgsn7b"
      },
      "source": [
        "### Splitting datasets into train and test"
      ]
    },
    {
      "cell_type": "code",
      "metadata": {
        "id": "L71K2kYhsn7b"
      },
      "source": [
        "from sklearn.model_selection import train_test_split"
      ],
      "execution_count": 33,
      "outputs": []
    },
    {
      "cell_type": "code",
      "metadata": {
        "id": "1bS5rlogsn7c"
      },
      "source": [
        "X_train, X_test, y_train, y_test = train_test_split( X, \n",
        "                                                     y,\n",
        "                                                     test_size = 0.2,\n",
        "                                                     random_state = 42 )"
      ],
      "execution_count": 34,
      "outputs": []
    },
    {
      "cell_type": "code",
      "metadata": {
        "colab": {
          "base_uri": "https://localhost:8080/"
        },
        "id": "YhJpSgRFsn7c",
        "outputId": "fe3bbacb-b58f-4a8d-ab3e-c5bf41852239"
      },
      "source": [
        "X_train.shape"
      ],
      "execution_count": 35,
      "outputs": [
        {
          "output_type": "execute_result",
          "data": {
            "text/plain": [
              "(33600, 28, 28)"
            ]
          },
          "metadata": {},
          "execution_count": 35
        }
      ]
    },
    {
      "cell_type": "code",
      "metadata": {
        "colab": {
          "base_uri": "https://localhost:8080/"
        },
        "id": "6YdHb8WTsn7c",
        "outputId": "076c8e79-177e-428f-baca-13f404546eb9"
      },
      "source": [
        "X_test.shape"
      ],
      "execution_count": 36,
      "outputs": [
        {
          "output_type": "execute_result",
          "data": {
            "text/plain": [
              "(8400, 28, 28)"
            ]
          },
          "metadata": {},
          "execution_count": 36
        }
      ]
    },
    {
      "cell_type": "code",
      "metadata": {
        "colab": {
          "base_uri": "https://localhost:8080/"
        },
        "id": "B0dCNYNBsn7c",
        "outputId": "68454aaa-6f29-40af-ff55-1c0cd59c9c2e"
      },
      "source": [
        "y_train.shape"
      ],
      "execution_count": 37,
      "outputs": [
        {
          "output_type": "execute_result",
          "data": {
            "text/plain": [
              "(33600, 10)"
            ]
          },
          "metadata": {},
          "execution_count": 37
        }
      ]
    },
    {
      "cell_type": "code",
      "metadata": {
        "colab": {
          "base_uri": "https://localhost:8080/"
        },
        "id": "N3nUx1Aisn7c",
        "outputId": "99169a56-69d4-4933-f82f-4e38d830144d"
      },
      "source": [
        "y_test.shape"
      ],
      "execution_count": 38,
      "outputs": [
        {
          "output_type": "execute_result",
          "data": {
            "text/plain": [
              "(8400, 10)"
            ]
          },
          "metadata": {},
          "execution_count": 38
        }
      ]
    },
    {
      "cell_type": "code",
      "metadata": {
        "id": "u8fUxQPzsn7d"
      },
      "source": [
        "input_shape = X_train.shape[-2:]"
      ],
      "execution_count": 39,
      "outputs": []
    },
    {
      "cell_type": "code",
      "metadata": {
        "colab": {
          "base_uri": "https://localhost:8080/"
        },
        "id": "REagcf0_sn7d",
        "outputId": "b01cf5d2-39ee-4218-a3d4-b5da44848daf"
      },
      "source": [
        "print(input_shape)"
      ],
      "execution_count": 40,
      "outputs": [
        {
          "output_type": "stream",
          "name": "stdout",
          "text": [
            "(28, 28)\n"
          ]
        }
      ]
    },
    {
      "cell_type": "markdown",
      "metadata": {
        "id": "nmUDJ0DHsn7d"
      },
      "source": [
        "### Train a model"
      ]
    },
    {
      "cell_type": "code",
      "metadata": {
        "id": "k6iG6wIksn7d"
      },
      "source": [
        "# import necessary building blocks\n",
        "from tensorflow.keras.models import Sequential\n",
        "from tensorflow.keras.layers import Flatten, Dense, Activation"
      ],
      "execution_count": 41,
      "outputs": []
    },
    {
      "cell_type": "markdown",
      "metadata": {
        "id": "1oWhVdoesn7d"
      },
      "source": [
        "### Neural Networks Architecture \n",
        "\n",
        "- Layer\n",
        "- Neurons\n",
        "- Activation"
      ]
    },
    {
      "cell_type": "code",
      "metadata": {
        "id": "FoHuSWkEsn7d"
      },
      "source": [
        "model = Sequential()\n",
        "\n",
        "model.add(Dense(64, input_shape=input_shape))\n",
        "# An \"activation\" is just a non-linear function applied to the output\n",
        "# of the layer above. Here, with a \"rectified linear unit\",\n",
        "# we clamp all values below 0 to 0.\n",
        "model.add(Flatten())\n",
        "\n",
        "model.add(Activation('relu'))\n",
        "\n",
        "model.add(Dense(32))\n",
        "model.add(Activation('relu'))\n",
        "\n",
        "model.add(Dense(16))\n",
        "model.add(Activation('relu'))\n",
        "\n",
        "model.add(Dense(10))\n",
        "# This special \"softmax\" activation among other things,\n",
        "# ensures the output is a valid probaility distribution, that is\n",
        "# that its values are all non-negative and sum to 1.\n",
        "model.add(Activation('softmax'))"
      ],
      "execution_count": 42,
      "outputs": []
    },
    {
      "cell_type": "markdown",
      "metadata": {
        "id": "FfUI9ILMsn7e"
      },
      "source": [
        "### Explain number of parameters need to be trainined\n",
        "\n",
        "- All the links (compute)"
      ]
    },
    {
      "cell_type": "code",
      "metadata": {
        "id": "zvOhl3w3sn7e",
        "outputId": "3f5a8551-42fb-4473-d424-a4f3955353fa",
        "colab": {
          "base_uri": "https://localhost:8080/"
        }
      },
      "source": [
        "model.summary()"
      ],
      "execution_count": 43,
      "outputs": [
        {
          "output_type": "stream",
          "name": "stdout",
          "text": [
            "Model: \"sequential\"\n",
            "_________________________________________________________________\n",
            " Layer (type)                Output Shape              Param #   \n",
            "=================================================================\n",
            " dense (Dense)               (None, 28, 64)            1856      \n",
            "                                                                 \n",
            " flatten (Flatten)           (None, 1792)              0         \n",
            "                                                                 \n",
            " activation (Activation)     (None, 1792)              0         \n",
            "                                                                 \n",
            " dense_1 (Dense)             (None, 32)                57376     \n",
            "                                                                 \n",
            " activation_1 (Activation)   (None, 32)                0         \n",
            "                                                                 \n",
            " dense_2 (Dense)             (None, 16)                528       \n",
            "                                                                 \n",
            " activation_2 (Activation)   (None, 16)                0         \n",
            "                                                                 \n",
            " dense_3 (Dense)             (None, 10)                170       \n",
            "                                                                 \n",
            " activation_3 (Activation)   (None, 10)                0         \n",
            "                                                                 \n",
            "=================================================================\n",
            "Total params: 59,930\n",
            "Trainable params: 59,930\n",
            "Non-trainable params: 0\n",
            "_________________________________________________________________\n"
          ]
        }
      ]
    },
    {
      "cell_type": "markdown",
      "metadata": {
        "id": "aOPJebgOsn7f"
      },
      "source": [
        "### Loss Function"
      ]
    },
    {
      "cell_type": "code",
      "source": [
        "x_list = list(np.arange(0.0001, 10, 0.001))"
      ],
      "metadata": {
        "id": "0bN1tHS-uZ84"
      },
      "execution_count": 44,
      "outputs": []
    },
    {
      "cell_type": "code",
      "source": [
        "y_list = [np.log(x) for x in x_list]"
      ],
      "metadata": {
        "id": "OGY6QuZmurOm"
      },
      "execution_count": 45,
      "outputs": []
    },
    {
      "cell_type": "code",
      "source": [
        "plt.plot(x_list, y_list)"
      ],
      "metadata": {
        "colab": {
          "base_uri": "https://localhost:8080/",
          "height": 282
        },
        "id": "HkQPfdGfvDmS",
        "outputId": "093253de-4fd3-4d78-bd2d-f241cc54360f"
      },
      "execution_count": 46,
      "outputs": [
        {
          "output_type": "execute_result",
          "data": {
            "text/plain": [
              "[<matplotlib.lines.Line2D at 0x7f3472e47650>]"
            ]
          },
          "metadata": {},
          "execution_count": 46
        },
        {
          "output_type": "display_data",
          "data": {
            "text/plain": [
              "<Figure size 432x288 with 1 Axes>"
            ],
            "image/png": "[encoded data removed]"
          },
          "metadata": {
            "needs_background": "light"
          }
        }
      ]
    },
    {
      "cell_type": "markdown",
      "metadata": {
        "id": "Xo9TXq0esn7f"
      },
      "source": [
        "### Gradient Descent\n",
        "\n",
        "- Learning Rate\n",
        "- Optimizers"
      ]
    },
    {
      "cell_type": "code",
      "metadata": {
        "id": "tsX9Q8Nnsn7f"
      },
      "source": [
        "model.compile(loss='categorical_crossentropy', \n",
        "              optimizer='adam', \n",
        "              metrics=['accuracy'])"
      ],
      "execution_count": 47,
      "outputs": []
    },
    {
      "cell_type": "markdown",
      "metadata": {
        "id": "MqZcmSw8sn7f"
      },
      "source": [
        "### Training Model\n",
        "\n",
        "- Epochs\n",
        "- Batch Size"
      ]
    },
    {
      "cell_type": "code",
      "metadata": {
        "id": "47Anz34fsn7f"
      },
      "source": [
        "EPOCHS = 20\n",
        "BATCH_SIZE = 128"
      ],
      "execution_count": 48,
      "outputs": []
    },
    {
      "cell_type": "code",
      "metadata": {
        "colab": {
          "base_uri": "https://localhost:8080/"
        },
        "id": "yn7rump_sn7g",
        "outputId": "80fb840f-e905-44a9-91a2-e357da6470b4"
      },
      "source": [
        "%%time \n",
        "# fit model\n",
        "history = model.fit(\n",
        "    X_train, \n",
        "    y_train,  # prepared data\n",
        "    batch_size = BATCH_SIZE,\n",
        "    epochs = EPOCHS,\n",
        "    validation_split = 0.3,\n",
        "    shuffle = True,\n",
        "    verbose=1,\n",
        ")"
      ],
      "execution_count": 49,
      "outputs": [
        {
          "output_type": "stream",
          "name": "stdout",
          "text": [
            "Epoch 1/20\n",
            "184/184 [==============================] - 3s 9ms/step - loss: 3.1030 - accuracy: 0.3462 - val_loss: 1.4611 - val_accuracy: 0.5406\n",
            "Epoch 2/20\n",
            "184/184 [==============================] - 2s 8ms/step - loss: 1.2551 - accuracy: 0.6043 - val_loss: 1.0960 - val_accuracy: 0.6256\n",
            "Epoch 3/20\n",
            "184/184 [==============================] - 2s 8ms/step - loss: 0.9285 - accuracy: 0.7267 - val_loss: 0.8529 - val_accuracy: 0.7747\n",
            "Epoch 4/20\n",
            "184/184 [==============================] - 2s 8ms/step - loss: 0.7697 - accuracy: 0.7820 - val_loss: 0.7574 - val_accuracy: 0.8001\n",
            "Epoch 5/20\n",
            "184/184 [==============================] - 2s 8ms/step - loss: 0.6717 - accuracy: 0.8117 - val_loss: 0.6941 - val_accuracy: 0.8174\n",
            "Epoch 6/20\n",
            "184/184 [==============================] - 2s 8ms/step - loss: 0.6018 - accuracy: 0.8345 - val_loss: 0.6451 - val_accuracy: 0.8348\n",
            "Epoch 7/20\n",
            "184/184 [==============================] - 2s 8ms/step - loss: 0.5492 - accuracy: 0.8500 - val_loss: 0.5834 - val_accuracy: 0.8532\n",
            "Epoch 8/20\n",
            "184/184 [==============================] - 2s 8ms/step - loss: 0.4744 - accuracy: 0.8733 - val_loss: 0.5462 - val_accuracy: 0.8632\n",
            "Epoch 9/20\n",
            "184/184 [==============================] - 2s 8ms/step - loss: 0.4241 - accuracy: 0.8862 - val_loss: 0.4955 - val_accuracy: 0.8847\n",
            "Epoch 10/20\n",
            "184/184 [==============================] - 2s 8ms/step - loss: 0.3608 - accuracy: 0.9025 - val_loss: 0.4670 - val_accuracy: 0.8848\n",
            "Epoch 11/20\n",
            "184/184 [==============================] - 2s 8ms/step - loss: 0.3331 - accuracy: 0.9072 - val_loss: 0.4602 - val_accuracy: 0.8811\n",
            "Epoch 12/20\n",
            "184/184 [==============================] - 2s 8ms/step - loss: 0.3110 - accuracy: 0.9139 - val_loss: 0.4620 - val_accuracy: 0.8846\n",
            "Epoch 13/20\n",
            "184/184 [==============================] - 2s 8ms/step - loss: 0.2925 - accuracy: 0.9182 - val_loss: 0.4074 - val_accuracy: 0.9055\n",
            "Epoch 14/20\n",
            "184/184 [==============================] - 2s 8ms/step - loss: 0.2663 - accuracy: 0.9259 - val_loss: 0.4022 - val_accuracy: 0.9081\n",
            "Epoch 15/20\n",
            "184/184 [==============================] - 2s 9ms/step - loss: 0.2502 - accuracy: 0.9284 - val_loss: 0.3963 - val_accuracy: 0.9096\n",
            "Epoch 16/20\n",
            "184/184 [==============================] - 2s 9ms/step - loss: 0.2315 - accuracy: 0.9333 - val_loss: 0.3682 - val_accuracy: 0.9113\n",
            "Epoch 17/20\n",
            "184/184 [==============================] - 2s 8ms/step - loss: 0.2209 - accuracy: 0.9360 - val_loss: 0.3816 - val_accuracy: 0.9075\n",
            "Epoch 18/20\n",
            "184/184 [==============================] - 2s 8ms/step - loss: 0.2127 - accuracy: 0.9399 - val_loss: 0.3497 - val_accuracy: 0.9144\n",
            "Epoch 19/20\n",
            "184/184 [==============================] - 2s 8ms/step - loss: 0.1996 - accuracy: 0.9422 - val_loss: 0.3656 - val_accuracy: 0.9145\n",
            "Epoch 20/20\n",
            "184/184 [==============================] - 2s 8ms/step - loss: 0.2071 - accuracy: 0.9395 - val_loss: 0.3710 - val_accuracy: 0.9117\n",
            "CPU times: user 42.8 s, sys: 2.6 s, total: 45.4 s\n",
            "Wall time: 32.4 s\n"
          ]
        }
      ]
    },
    {
      "cell_type": "code",
      "metadata": {
        "id": "YVjcLLgusn7g"
      },
      "source": [
        "# summarize history for accuracy\n",
        "\n",
        "def plot_train_val_accuracy(hist):\n",
        "    plt.plot(hist['accuracy'])\n",
        "    plt.plot(hist['val_accuracy'])\n",
        "    plt.title('model accuracy')\n",
        "    plt.ylabel('accuracy')\n",
        "    plt.xlabel('epoch')\n",
        "    plt.legend(['train', 'test'], loc='upper left')\n",
        "    plt.show()"
      ],
      "execution_count": 50,
      "outputs": []
    },
    {
      "cell_type": "code",
      "metadata": {
        "id": "KX1h3Nvwsn7g"
      },
      "source": [
        "# summarize history for loss\n",
        "\n",
        "def plot_train_val_loss(hist):\n",
        "    plt.plot(hist['loss'])\n",
        "    plt.plot(hist['val_loss'])\n",
        "    plt.title('model loss')\n",
        "    plt.ylabel('loss')\n",
        "    plt.xlabel('epoch')\n",
        "    plt.legend(['train', 'test'], loc='upper left')\n",
        "    plt.show()"
      ],
      "execution_count": 51,
      "outputs": []
    },
    {
      "cell_type": "code",
      "metadata": {
        "colab": {
          "base_uri": "https://localhost:8080/",
          "height": 295
        },
        "id": "TEYHc8iIsn7g",
        "outputId": "797282c4-0e89-4d0d-f8ac-ffe341fceae6"
      },
      "source": [
        "plot_train_val_accuracy(history.history)"
      ],
      "execution_count": 52,
      "outputs": [
        {
          "output_type": "display_data",
          "data": {
            "text/plain": [
              "<Figure size 432x288 with 1 Axes>"
            ],
            "image/png": "[encoded data removed]"
          },
          "metadata": {
            "needs_background": "light"
          }
        }
      ]
    },
    {
      "cell_type": "code",
      "metadata": {
        "colab": {
          "base_uri": "https://localhost:8080/",
          "height": 295
        },
        "id": "3pW4NWe5sn7g",
        "outputId": "02cb56e5-ec13-496b-e436-aa0ab75752fe"
      },
      "source": [
        "plot_train_val_loss(history.history)"
      ],
      "execution_count": 53,
      "outputs": [
        {
          "output_type": "display_data",
          "data": {
            "text/plain": [
              "<Figure size 432x288 with 1 Axes>"
            ],
            "image/png": "[encoded data removed]"
          },
          "metadata": {
            "needs_background": "light"
          }
        }
      ]
    },
    {
      "cell_type": "markdown",
      "metadata": {
        "id": "_9cCTAdwsn7h"
      },
      "source": [
        "### Predict and Evaluate"
      ]
    },
    {
      "cell_type": "code",
      "metadata": {
        "colab": {
          "base_uri": "https://localhost:8080/"
        },
        "id": "DFPbSQD8sn7h",
        "outputId": "518ab656-82c5-47e3-a04d-9af756915302"
      },
      "source": [
        "score = model.evaluate(X_test, y_test)\n",
        "print()\n",
        "print('Test accuracy: ', score[1])"
      ],
      "execution_count": 54,
      "outputs": [
        {
          "output_type": "stream",
          "name": "stdout",
          "text": [
            "263/263 [==============================] - 1s 2ms/step - loss: 0.3380 - accuracy: 0.9119\n",
            "\n",
            "Test accuracy:  0.9119047522544861\n"
          ]
        }
      ]
    },
    {
      "cell_type": "code",
      "metadata": {
        "id": "pO5OQeC26Nmz"
      },
      "source": [
        "predictions = model.predict(X_test)\n",
        "pred_labels = np.argmax(predictions, axis=1)"
      ],
      "execution_count": 55,
      "outputs": []
    },
    {
      "cell_type": "code",
      "source": [
        "np.round(predictions, 2)"
      ],
      "metadata": {
        "colab": {
          "base_uri": "https://localhost:8080/"
        },
        "id": "5_n1k4D4y5lo",
        "outputId": "6594c2f4-2201-4829-ea6c-e453bd45b1fe"
      },
      "execution_count": 56,
      "outputs": [
        {
          "output_type": "execute_result",
          "data": {
            "text/plain": [
              "array([[0.  , 0.  , 0.  , ..., 0.  , 0.99, 0.  ],\n",
              "       [0.  , 0.96, 0.  , ..., 0.  , 0.01, 0.01],\n",
              "       [0.  , 0.  , 0.  , ..., 0.01, 0.01, 0.93],\n",
              "       ...,\n",
              "       [0.  , 0.  , 0.  , ..., 0.  , 0.  , 0.  ],\n",
              "       [0.99, 0.  , 0.  , ..., 0.  , 0.01, 0.  ],\n",
              "       [0.  , 0.  , 0.  , ..., 0.01, 0.01, 0.93]], dtype=float32)"
            ]
          },
          "metadata": {},
          "execution_count": 56
        }
      ]
    },
    {
      "cell_type": "code",
      "metadata": {
        "colab": {
          "base_uri": "https://localhost:8080/"
        },
        "id": "qLGoDeNt6QsT",
        "outputId": "fd12cc21-ed9c-4636-c856-8dd33de50ee7"
      },
      "source": [
        "pred_labels"
      ],
      "execution_count": 57,
      "outputs": [
        {
          "output_type": "execute_result",
          "data": {
            "text/plain": [
              "array([8, 1, 9, ..., 3, 0, 9])"
            ]
          },
          "metadata": {},
          "execution_count": 57
        }
      ]
    },
    {
      "cell_type": "markdown",
      "metadata": {
        "id": "QL4XNTl0sn7h"
      },
      "source": [
        "### Verifying Predictions"
      ]
    },
    {
      "cell_type": "code",
      "metadata": {
        "colab": {
          "base_uri": "https://localhost:8080/",
          "height": 282
        },
        "id": "PD9v0S22sn7h",
        "outputId": "7e0f129d-3f53-458c-a867-37b09fd9b915"
      },
      "source": [
        "plt.imshow(X_test[0])"
      ],
      "execution_count": 58,
      "outputs": [
        {
          "output_type": "execute_result",
          "data": {
            "text/plain": [
              "<matplotlib.image.AxesImage at 0x7f3472b84410>"
            ]
          },
          "metadata": {},
          "execution_count": 58
        },
        {
          "output_type": "display_data",
          "data": {
            "text/plain": [
              "<Figure size 432x288 with 1 Axes>"
            ],
            "image/png": "[encoded data removed]"
          },
          "metadata": {
            "needs_background": "light"
          }
        }
      ]
    },
    {
      "cell_type": "code",
      "metadata": {
        "colab": {
          "base_uri": "https://localhost:8080/"
        },
        "id": "tMd2YAb8sn7i",
        "outputId": "e66a1e8a-b4a8-465e-8009-fc234d7dc774"
      },
      "source": [
        "pred_labels[0]"
      ],
      "execution_count": 59,
      "outputs": [
        {
          "output_type": "execute_result",
          "data": {
            "text/plain": [
              "8"
            ]
          },
          "metadata": {},
          "execution_count": 59
        }
      ]
    },
    {
      "cell_type": "code",
      "metadata": {
        "id": "PbHh7seBsn7i",
        "outputId": "856c1f69-ff1f-40bf-fdec-624816feaacd",
        "colab": {
          "base_uri": "https://localhost:8080/"
        }
      },
      "source": [
        "len(X_test)"
      ],
      "execution_count": 60,
      "outputs": [
        {
          "output_type": "execute_result",
          "data": {
            "text/plain": [
              "8400"
            ]
          },
          "metadata": {},
          "execution_count": 60
        }
      ]
    },
    {
      "cell_type": "markdown",
      "metadata": {
        "id": "YwMLQX9wsn7i"
      },
      "source": [
        "### Randomly show a set of images and predictions"
      ]
    },
    {
      "cell_type": "code",
      "metadata": {
        "id": "io98d2WOsn7i"
      },
      "source": [
        "import random \n",
        "\n",
        "all_indexes = list(range(len(X_test)))\n",
        "test_indexes = random.sample( all_indexes, 15 )"
      ],
      "execution_count": 61,
      "outputs": []
    },
    {
      "cell_type": "code",
      "metadata": {
        "colab": {
          "base_uri": "https://localhost:8080/",
          "height": 111
        },
        "id": "XE9gEsNwsn7i",
        "outputId": "9cc3d62e-4243-41d0-bd7e-8749ce5150e2"
      },
      "source": [
        "k = 1\n",
        "plt.figure( figsize=(15, 6))\n",
        "for i in test_indexes:\n",
        "    plt.subplot(1, 15, k);\n",
        "    plt.imshow(X_test[i])\n",
        "    plt.title(str(pred_labels[i]))\n",
        "    k = k + 1\n",
        "plt.show()"
      ],
      "execution_count": 62,
      "outputs": [
        {
          "output_type": "display_data",
          "data": {
            "text/plain": [
              "<Figure size 1080x432 with 15 Axes>"
            ],
            "image/png": "[encoded data removed]"
          },
          "metadata": {
            "needs_background": "light"
          }
        }
      ]
    },
    {
      "cell_type": "markdown",
      "metadata": {
        "id": "w8UwHp3Ksn7j"
      },
      "source": [
        "### Confusion Matrix"
      ]
    },
    {
      "cell_type": "code",
      "metadata": {
        "id": "ULpqD-x1sn7j"
      },
      "source": [
        "np_label_list = list(np.unique(labels_np))"
      ],
      "execution_count": 63,
      "outputs": []
    },
    {
      "cell_type": "code",
      "metadata": {
        "id": "E6Y_V5K0sn7j"
      },
      "source": [
        "from sklearn.metrics import confusion_matrix"
      ],
      "execution_count": 64,
      "outputs": []
    },
    {
      "cell_type": "code",
      "metadata": {
        "id": "daekSGuMsn7j"
      },
      "source": [
        "predictions = model.predict(X_test)\n",
        "y_pred_classes = np.argmax(predictions, axis=1)"
      ],
      "execution_count": 65,
      "outputs": []
    },
    {
      "cell_type": "code",
      "metadata": {
        "id": "4JO1E-yVsn7j"
      },
      "source": [
        "y_actual_classes = np.argmax(y_test, axis=1)"
      ],
      "execution_count": 66,
      "outputs": []
    },
    {
      "cell_type": "code",
      "metadata": {
        "colab": {
          "base_uri": "https://localhost:8080/"
        },
        "id": "CxNW-h-rsn7j",
        "outputId": "c582796c-d9ae-4fe9-f3e8-eea4b52c8e7b"
      },
      "source": [
        "y_pred_classes"
      ],
      "execution_count": 67,
      "outputs": [
        {
          "output_type": "execute_result",
          "data": {
            "text/plain": [
              "array([8, 1, 9, ..., 3, 0, 9])"
            ]
          },
          "metadata": {},
          "execution_count": 67
        }
      ]
    },
    {
      "cell_type": "code",
      "metadata": {
        "colab": {
          "base_uri": "https://localhost:8080/"
        },
        "id": "LXY8Y0hvsn7j",
        "outputId": "e88f186c-d485-4750-814b-dec8e76460a5"
      },
      "source": [
        "y_actual_classes"
      ],
      "execution_count": 68,
      "outputs": [
        {
          "output_type": "execute_result",
          "data": {
            "text/plain": [
              "array([8, 1, 9, ..., 3, 0, 9])"
            ]
          },
          "metadata": {},
          "execution_count": 68
        }
      ]
    },
    {
      "cell_type": "code",
      "metadata": {
        "colab": {
          "base_uri": "https://localhost:8080/"
        },
        "id": "C8Vp2wCCsn7k",
        "outputId": "fe9e38bf-dd5d-4df6-f835-cc18d10d18a7"
      },
      "source": [
        "confusion_matrix(y_actual_classes, y_pred_classes)"
      ],
      "execution_count": 69,
      "outputs": [
        {
          "output_type": "execute_result",
          "data": {
            "text/plain": [
              "array([[775,   0,   2,   0,   1,   1,   4,   0,  29,   4],\n",
              "       [  0, 875,  12,   6,   2,   6,   4,   1,   1,   2],\n",
              "       [  0,   2, 775,  12,   5,   8,   4,   6,  34,   0],\n",
              "       [  0,   0,  41, 839,   0,  43,   0,   7,   5,   2],\n",
              "       [  1,   1,   5,   0, 792,   1,   4,   2,   1,  32],\n",
              "       [  4,  13,   7,  97,   0, 534,   2,   1,  15,  29],\n",
              "       [  8,   4,   5,   1,  14,   1, 743,   0,   9,   0],\n",
              "       [  0,   0,  25,   9,   0,   5,   0, 826,   0,  28],\n",
              "       [ 22,   0,  37,   1,   2,  20,   5,   2, 738,   8],\n",
              "       [  5,   0,   1,   2,  14,  29,   1,  21,   2, 763]])"
            ]
          },
          "metadata": {},
          "execution_count": 69
        }
      ]
    },
    {
      "cell_type": "code",
      "metadata": {
        "id": "vtmX4woSsn7k"
      },
      "source": [
        "import seaborn as sn"
      ],
      "execution_count": 70,
      "outputs": []
    },
    {
      "cell_type": "code",
      "metadata": {
        "id": "6P6UB7TDsn7k"
      },
      "source": [
        "def plot_confustion_matrix(y_test, y_pred):\n",
        "    plt.figure(figsize=(10, 8))\n",
        "    plt.title('Confusion matrix', fontsize=16)\n",
        "    cm = confusion_matrix(y_test, y_pred, labels = np_label_list)\n",
        "    sn.heatmap(cm, annot=True,  fmt='.2f', \n",
        "               xticklabels = np_label_list, \n",
        "               yticklabels = np_label_list )\n",
        "    plt.ylabel('True label')\n",
        "    plt.xlabel('Predicted label')\n",
        "    plt.show()\n",
        "    plt.show()"
      ],
      "execution_count": 71,
      "outputs": []
    },
    {
      "cell_type": "code",
      "metadata": {
        "colab": {
          "base_uri": "https://localhost:8080/",
          "height": 515
        },
        "id": "DBF0ao77sn7k",
        "outputId": "ba76adf0-6711-4d44-f46a-23733973ae35"
      },
      "source": [
        "plot_confustion_matrix(y_actual_classes, y_pred_classes)"
      ],
      "execution_count": 72,
      "outputs": [
        {
          "output_type": "display_data",
          "data": {
            "text/plain": [
              "<Figure size 720x576 with 2 Axes>"
            ],
            "image/png": "[encoded data removed]"
          },
          "metadata": {
            "needs_background": "light"
          }
        }
      ]
    },
    {
      "cell_type": "code",
      "metadata": {
        "id": "GbwXKEOx-AUk"
      },
      "source": [
        "from sklearn.metrics import classification_report, accuracy_score"
      ],
      "execution_count": 77,
      "outputs": []
    },
    {
      "cell_type": "code",
      "metadata": {
        "colab": {
          "base_uri": "https://localhost:8080/"
        },
        "id": "s1oShU0p-GIE",
        "outputId": "c574601a-2e1f-4a70-e01e-d76841b1c116"
      },
      "source": [
        "print(classification_report(y_actual_classes, y_pred_classes))"
      ],
      "execution_count": 78,
      "outputs": [
        {
          "output_type": "stream",
          "name": "stdout",
          "text": [
            "              precision    recall  f1-score   support\n",
            "\n",
            "           0       0.95      0.95      0.95       816\n",
            "           1       0.98      0.96      0.97       909\n",
            "           2       0.85      0.92      0.88       846\n",
            "           3       0.87      0.90      0.88       937\n",
            "           4       0.95      0.94      0.95       839\n",
            "           5       0.82      0.76      0.79       702\n",
            "           6       0.97      0.95      0.96       785\n",
            "           7       0.95      0.92      0.94       893\n",
            "           8       0.88      0.88      0.88       835\n",
            "           9       0.88      0.91      0.89       838\n",
            "\n",
            "    accuracy                           0.91      8400\n",
            "   macro avg       0.91      0.91      0.91      8400\n",
            "weighted avg       0.91      0.91      0.91      8400\n",
            "\n"
          ]
        }
      ]
    },
    {
      "cell_type": "code",
      "metadata": {
        "id": "lA2J3qMkOp0p",
        "outputId": "5120c2b1-fcf2-43a0-ac80-99d7c39d6aee",
        "colab": {
          "base_uri": "https://localhost:8080/"
        }
      },
      "source": [
        "accuracy_score(y_actual_classes, y_pred_classes)"
      ],
      "execution_count": 79,
      "outputs": [
        {
          "output_type": "execute_result",
          "data": {
            "text/plain": [
              "0.9119047619047619"
            ]
          },
          "metadata": {},
          "execution_count": 79
        }
      ]
    },
    {
      "cell_type": "markdown",
      "metadata": {
        "collapsed": true,
        "id": "ylAhvuUXsn7l"
      },
      "source": [
        "### Exercise: Build a deeper model\n",
        "\n",
        "- Add one more layers with 128 neurons"
      ]
    },
    {
      "cell_type": "markdown",
      "metadata": {
        "id": "C5WXo3lrsn7l"
      },
      "source": [
        "# Convolution Neural Networks (CNN)\n",
        "## What is Convolution?\n",
        "\n",
        "- Filter\n",
        "- Kernel Size"
      ]
    },
    {
      "cell_type": "code",
      "metadata": {
        "colab": {
          "base_uri": "https://localhost:8080/",
          "height": 265
        },
        "id": "l7Yb1BGjsn7l",
        "outputId": "23fa9cbe-f177-4fb6-fac7-46e9aa01f4fd"
      },
      "source": [
        "plt.grid(False)\n",
        "plt.imshow( image_buffer[10].reshape(28, 28));"
      ],
      "execution_count": 80,
      "outputs": [
        {
          "output_type": "display_data",
          "data": {
            "text/plain": [
              "<Figure size 432x288 with 1 Axes>"
            ],
            "image/png": "[encoded data removed]"
          },
          "metadata": {
            "needs_background": "light"
          }
        }
      ]
    },
    {
      "cell_type": "code",
      "metadata": {
        "colab": {
          "base_uri": "https://localhost:8080/",
          "height": 269
        },
        "id": "dzuTWfqqsn7l",
        "outputId": "e56adaa1-09ef-4ca2-8bc4-21062f6c9b69"
      },
      "source": [
        "top=[[ 1, 1, 1],\n",
        "     [ 0, 0, 0],     \n",
        "     [ -1, -1, -1]]\n",
        "plt.grid(False)\n",
        "plt.imshow(top);"
      ],
      "execution_count": 81,
      "outputs": [
        {
          "output_type": "display_data",
          "data": {
            "text/plain": [
              "<Figure size 432x288 with 1 Axes>"
            ],
            "image/png": "[encoded data removed]"
          },
          "metadata": {
            "needs_background": "light"
          }
        }
      ]
    },
    {
      "cell_type": "code",
      "metadata": {
        "id": "GIewXwltsn7l"
      },
      "source": [
        "from scipy.ndimage.filters import correlate, convolve"
      ],
      "execution_count": 82,
      "outputs": []
    },
    {
      "cell_type": "code",
      "metadata": {
        "colab": {
          "base_uri": "https://localhost:8080/",
          "height": 265
        },
        "id": "HRCo7nxqsn7l",
        "outputId": "501fccac-d9b3-4d5b-ac4d-47485637307f"
      },
      "source": [
        "convtop = convolve(image_buffer[10].reshape(28, 28), \n",
        "                   top)\n",
        "plt.grid(False)\n",
        "plt.imshow(convtop);"
      ],
      "execution_count": 83,
      "outputs": [
        {
          "output_type": "display_data",
          "data": {
            "text/plain": [
              "<Figure size 432x288 with 1 Axes>"
            ],
            "image/png": "[encoded data removed]"
          },
          "metadata": {
            "needs_background": "light"
          }
        }
      ]
    },
    {
      "cell_type": "code",
      "metadata": {
        "id": "nC99lQxCsn7m",
        "outputId": "a8fd7363-8cef-4fcf-e03d-5d1db87e05ce",
        "colab": {
          "base_uri": "https://localhost:8080/"
        }
      },
      "source": [
        "np.rot90(top, 1)"
      ],
      "execution_count": 84,
      "outputs": [
        {
          "output_type": "execute_result",
          "data": {
            "text/plain": [
              "array([[ 1,  0, -1],\n",
              "       [ 1,  0, -1],\n",
              "       [ 1,  0, -1]])"
            ]
          },
          "metadata": {},
          "execution_count": 84
        }
      ]
    },
    {
      "cell_type": "code",
      "metadata": {
        "id": "jS-nLe4dsn7m",
        "outputId": "d677002d-e9d5-42cf-9717-c5f17f74a13d",
        "colab": {
          "base_uri": "https://localhost:8080/",
          "height": 265
        }
      },
      "source": [
        "convtop = convolve(image_buffer[10].reshape(28, 28), \n",
        "                   np.rot90(top, 1))\n",
        "plt.grid(False)\n",
        "plt.imshow(convtop);"
      ],
      "execution_count": 85,
      "outputs": [
        {
          "output_type": "display_data",
          "data": {
            "text/plain": [
              "<Figure size 432x288 with 1 Axes>"
            ],
            "image/png": "[encoded data removed]"
          },
          "metadata": {
            "needs_background": "light"
          }
        }
      ]
    },
    {
      "cell_type": "markdown",
      "metadata": {
        "id": "gaRY5kCjsn7m"
      },
      "source": [
        "## CNN Model\n",
        "\n",
        "- Strides\n",
        "- Padding\n",
        "- MaxPooling"
      ]
    },
    {
      "cell_type": "code",
      "metadata": {
        "id": "sHJ8_lmvsn7m"
      },
      "source": [
        "from tensorflow.keras.layers import Conv2D, MaxPooling2D, Flatten, Dense, Activation, Dropout"
      ],
      "execution_count": 86,
      "outputs": []
    },
    {
      "cell_type": "code",
      "metadata": {
        "colab": {
          "base_uri": "https://localhost:8080/"
        },
        "id": "mC6gtetGsn7m",
        "outputId": "1d0716ac-39bb-45a8-eba3-646915b335be"
      },
      "source": [
        "X_train_shape = X_train.shape\n",
        "print(X_train_shape)"
      ],
      "execution_count": 87,
      "outputs": [
        {
          "output_type": "stream",
          "name": "stdout",
          "text": [
            "(33600, 28, 28)\n"
          ]
        }
      ]
    },
    {
      "cell_type": "code",
      "metadata": {
        "colab": {
          "base_uri": "https://localhost:8080/"
        },
        "id": "-tpviDSrsn7m",
        "outputId": "b4d7dbdc-5315-4948-b3e5-d36a2188e4bd"
      },
      "source": [
        "X_test_shape = X_test.shape\n",
        "print(X_test_shape)"
      ],
      "execution_count": 88,
      "outputs": [
        {
          "output_type": "stream",
          "name": "stdout",
          "text": [
            "(8400, 28, 28)\n"
          ]
        }
      ]
    },
    {
      "cell_type": "code",
      "metadata": {
        "id": "LWaGbcK-sn7n"
      },
      "source": [
        "X_train_reshaped = X_train.reshape(X_train_shape[0],\n",
        "                                   X_train_shape[1],\n",
        "                                   X_train_shape[2], 1)\n",
        "\n",
        "X_test_reshaped = X_test.reshape(X_test_shape[0],\n",
        "                                 X_test_shape[1],\n",
        "                                 X_test_shape[2], 1)"
      ],
      "execution_count": 89,
      "outputs": []
    },
    {
      "cell_type": "code",
      "source": [
        "X_train_reshaped.shape"
      ],
      "metadata": {
        "colab": {
          "base_uri": "https://localhost:8080/"
        },
        "id": "N85aOnxM_DLD",
        "outputId": "3d800013-3288-46ca-be89-bb962170de86"
      },
      "execution_count": 90,
      "outputs": [
        {
          "output_type": "execute_result",
          "data": {
            "text/plain": [
              "(33600, 28, 28, 1)"
            ]
          },
          "metadata": {},
          "execution_count": 90
        }
      ]
    },
    {
      "cell_type": "code",
      "metadata": {
        "id": "5k9nq35Wsn7n"
      },
      "source": [
        "new_input_shape = (X_train_shape[1],X_train_shape[2], 1)"
      ],
      "execution_count": 91,
      "outputs": []
    },
    {
      "cell_type": "code",
      "metadata": {
        "colab": {
          "base_uri": "https://localhost:8080/"
        },
        "id": "zcfhrrpWsn7n",
        "outputId": "e69859ef-2d9f-4158-b616-47cb10a1010c"
      },
      "source": [
        "new_input_shape"
      ],
      "execution_count": 92,
      "outputs": [
        {
          "output_type": "execute_result",
          "data": {
            "text/plain": [
              "(28, 28, 1)"
            ]
          },
          "metadata": {},
          "execution_count": 92
        }
      ]
    },
    {
      "cell_type": "markdown",
      "metadata": {
        "id": "70fOUmNUsn7n"
      },
      "source": [
        "### Model 1 \n",
        "\n",
        "- Conv2D -> Dense(10) -> Softmax"
      ]
    },
    {
      "cell_type": "code",
      "metadata": {
        "id": "P9D4nwZBsn7o"
      },
      "source": [
        "tf.keras.backend.clear_session() # clear default graph\n",
        "\n",
        "model = Sequential()\n",
        "model.add(Conv2D(filters=8, kernel_size=(3,3), input_shape=new_input_shape))\n",
        "model.add(Activation('relu'))\n",
        "                            \n",
        "model.add(MaxPooling2D(pool_size=(2, 2)))\n",
        "\n",
        "model.add(Flatten())\n",
        "    \n",
        "model.add(Dense(10))\n",
        "# This special \"softmax\" activation among other things,\n",
        "# ensures the output is a valid probaility distribution, that is\n",
        "# that its values are all non-negative and sum to 1.\n",
        "model.add(Activation('softmax'))"
      ],
      "execution_count": 93,
      "outputs": []
    },
    {
      "cell_type": "code",
      "metadata": {
        "colab": {
          "base_uri": "https://localhost:8080/"
        },
        "id": "j5Heh0dBsn7o",
        "outputId": "96710c5a-1c3a-40ba-dd34-de6a0decb22f"
      },
      "source": [
        "model.summary()"
      ],
      "execution_count": 94,
      "outputs": [
        {
          "output_type": "stream",
          "name": "stdout",
          "text": [
            "Model: \"sequential\"\n",
            "_________________________________________________________________\n",
            " Layer (type)                Output Shape              Param #   \n",
            "=================================================================\n",
            " conv2d (Conv2D)             (None, 26, 26, 8)         80        \n",
            "                                                                 \n",
            " activation (Activation)     (None, 26, 26, 8)         0         \n",
            "                                                                 \n",
            " max_pooling2d (MaxPooling2D  (None, 13, 13, 8)        0         \n",
            " )                                                               \n",
            "                                                                 \n",
            " flatten (Flatten)           (None, 1352)              0         \n",
            "                                                                 \n",
            " dense (Dense)               (None, 10)                13530     \n",
            "                                                                 \n",
            " activation_1 (Activation)   (None, 10)                0         \n",
            "                                                                 \n",
            "=================================================================\n",
            "Total params: 13,610\n",
            "Trainable params: 13,610\n",
            "Non-trainable params: 0\n",
            "_________________________________________________________________\n"
          ]
        }
      ]
    },
    {
      "cell_type": "code",
      "metadata": {
        "id": "1Tl4LVwMsn7o"
      },
      "source": [
        "model.compile(optimizer='adam',\n",
        "              loss = 'categorical_crossentropy',\n",
        "              metrics = ['accuracy'])"
      ],
      "execution_count": 95,
      "outputs": []
    },
    {
      "cell_type": "code",
      "metadata": {
        "colab": {
          "base_uri": "https://localhost:8080/"
        },
        "id": "AkfO6ciwsn7o",
        "outputId": "804ad034-85cd-4694-c6ed-4eebabf73409"
      },
      "source": [
        "%%time\n",
        "\n",
        "history = model.fit(\n",
        "    X_train_reshaped, \n",
        "    y_train,  # prepared data\n",
        "    batch_size=BATCH_SIZE,\n",
        "    epochs=EPOCHS,\n",
        "    validation_data=(X_test_reshaped, y_test),\n",
        "    verbose=1\n",
        ")"
      ],
      "execution_count": 96,
      "outputs": [
        {
          "output_type": "stream",
          "name": "stdout",
          "text": [
            "Epoch 1/20\n",
            "263/263 [==============================] - 9s 31ms/step - loss: 4.3548 - accuracy: 0.8221 - val_loss: 1.0771 - val_accuracy: 0.9135\n",
            "Epoch 2/20\n",
            "263/263 [==============================] - 8s 30ms/step - loss: 0.6893 - accuracy: 0.9346 - val_loss: 0.5743 - val_accuracy: 0.9349\n",
            "Epoch 3/20\n",
            "263/263 [==============================] - 8s 30ms/step - loss: 0.3592 - accuracy: 0.9546 - val_loss: 0.3948 - val_accuracy: 0.9501\n",
            "Epoch 4/20\n",
            "263/263 [==============================] - 8s 30ms/step - loss: 0.2319 - accuracy: 0.9649 - val_loss: 0.3638 - val_accuracy: 0.9542\n",
            "Epoch 5/20\n",
            "263/263 [==============================] - 8s 30ms/step - loss: 0.1658 - accuracy: 0.9714 - val_loss: 0.3372 - val_accuracy: 0.9543\n",
            "Epoch 6/20\n",
            "263/263 [==============================] - 8s 30ms/step - loss: 0.1195 - accuracy: 0.9756 - val_loss: 0.2931 - val_accuracy: 0.9598\n",
            "Epoch 7/20\n",
            "263/263 [==============================] - 8s 30ms/step - loss: 0.0998 - accuracy: 0.9778 - val_loss: 0.2690 - val_accuracy: 0.9617\n",
            "Epoch 8/20\n",
            "263/263 [==============================] - 8s 30ms/step - loss: 0.0778 - accuracy: 0.9810 - val_loss: 0.2770 - val_accuracy: 0.9577\n",
            "Epoch 9/20\n",
            "263/263 [==============================] - 8s 30ms/step - loss: 0.0683 - accuracy: 0.9829 - val_loss: 0.2386 - val_accuracy: 0.9660\n",
            "Epoch 10/20\n",
            "263/263 [==============================] - 8s 32ms/step - loss: 0.0553 - accuracy: 0.9850 - val_loss: 0.2226 - val_accuracy: 0.9670\n",
            "Epoch 11/20\n",
            "263/263 [==============================] - 8s 30ms/step - loss: 0.0500 - accuracy: 0.9862 - val_loss: 0.2300 - val_accuracy: 0.9640\n",
            "Epoch 12/20\n",
            "263/263 [==============================] - 9s 32ms/step - loss: 0.0374 - accuracy: 0.9884 - val_loss: 0.2178 - val_accuracy: 0.9667\n",
            "Epoch 13/20\n",
            "263/263 [==============================] - 8s 30ms/step - loss: 0.0376 - accuracy: 0.9883 - val_loss: 0.2188 - val_accuracy: 0.9679\n",
            "Epoch 14/20\n",
            "263/263 [==============================] - 8s 30ms/step - loss: 0.0303 - accuracy: 0.9903 - val_loss: 0.2224 - val_accuracy: 0.9664\n",
            "Epoch 15/20\n",
            "263/263 [==============================] - 8s 30ms/step - loss: 0.0308 - accuracy: 0.9901 - val_loss: 0.2359 - val_accuracy: 0.9661\n",
            "Epoch 16/20\n",
            "263/263 [==============================] - 8s 30ms/step - loss: 0.0357 - accuracy: 0.9891 - val_loss: 0.2170 - val_accuracy: 0.9688\n",
            "Epoch 17/20\n",
            "263/263 [==============================] - 8s 30ms/step - loss: 0.0377 - accuracy: 0.9888 - val_loss: 0.2293 - val_accuracy: 0.9682\n",
            "Epoch 18/20\n",
            "263/263 [==============================] - 8s 30ms/step - loss: 0.0322 - accuracy: 0.9907 - val_loss: 0.2385 - val_accuracy: 0.9674\n",
            "Epoch 19/20\n",
            "263/263 [==============================] - 8s 30ms/step - loss: 0.0295 - accuracy: 0.9909 - val_loss: 0.2306 - val_accuracy: 0.9704\n",
            "Epoch 20/20\n",
            "263/263 [==============================] - 8s 30ms/step - loss: 0.0279 - accuracy: 0.9908 - val_loss: 0.2481 - val_accuracy: 0.9692\n",
            "CPU times: user 4min 24s, sys: 6.38 s, total: 4min 31s\n",
            "Wall time: 3min 22s\n"
          ]
        }
      ]
    },
    {
      "cell_type": "markdown",
      "metadata": {
        "id": "S4YOtwjSsn7o"
      },
      "source": [
        "### Plotting Loss and Accuracy"
      ]
    },
    {
      "cell_type": "code",
      "metadata": {
        "id": "K_gQOtZ1sn7o",
        "outputId": "c3bb72a4-9648-412d-930b-482ef562979b",
        "colab": {
          "base_uri": "https://localhost:8080/",
          "height": 295
        }
      },
      "source": [
        "plot_train_val_accuracy(history.history)"
      ],
      "execution_count": 97,
      "outputs": [
        {
          "output_type": "display_data",
          "data": {
            "text/plain": [
              "<Figure size 432x288 with 1 Axes>"
            ],
            "image/png": "[encoded data removed]"
          },
          "metadata": {
            "needs_background": "light"
          }
        }
      ]
    },
    {
      "cell_type": "code",
      "metadata": {
        "id": "jOH4evEWsn7p",
        "outputId": "4d622bda-5d14-4e56-ed26-7c057e0dae26",
        "colab": {
          "base_uri": "https://localhost:8080/",
          "height": 295
        }
      },
      "source": [
        "plot_train_val_loss(history.history)"
      ],
      "execution_count": 98,
      "outputs": [
        {
          "output_type": "display_data",
          "data": {
            "text/plain": [
              "<Figure size 432x288 with 1 Axes>"
            ],
            "image/png": "[encoded data removed]"
          },
          "metadata": {
            "needs_background": "light"
          }
        }
      ]
    },
    {
      "cell_type": "markdown",
      "metadata": {
        "id": "1gSzs2JNsn7p"
      },
      "source": [
        "### Model 2:\n",
        "\n",
        "- Conv2D -> Dense(32) -> Dense(10) -> Softmax"
      ]
    },
    {
      "cell_type": "code",
      "metadata": {
        "id": "YemzyVpBsn7p"
      },
      "source": [
        "tf.keras.backend.clear_session() # clear default graph\n",
        "\n",
        "model2 = Sequential()\n",
        "model2.add(Conv2D(filters=8, kernel_size=(3,3), input_shape=new_input_shape))\n",
        "model2.add(Activation('relu'))\n",
        "                            \n",
        "model2.add(MaxPooling2D(pool_size=(2, 2)))\n",
        "\n",
        "model2.add(Flatten())\n",
        "    \n",
        "model2.add(Dense(32))    \n",
        "model2.add(Activation('relu'))\n",
        "\n",
        "model2.add(Dense(10))\n",
        "# This special \"softmax\" activation among other things,\n",
        "# ensures the output is a valid probaility distribution, that is\n",
        "# that its values are all non-negative and sum to 1.\n",
        "model2.add(Activation('softmax'))"
      ],
      "execution_count": null,
      "outputs": []
    },
    {
      "cell_type": "code",
      "metadata": {
        "colab": {
          "base_uri": "https://localhost:8080/"
        },
        "id": "thkXuoSnsn7p",
        "outputId": "8ac1145e-9cb1-4a78-be06-2369ddbc0d1e"
      },
      "source": [
        "model2.summary()"
      ],
      "execution_count": null,
      "outputs": [
        {
          "output_type": "stream",
          "name": "stdout",
          "text": [
            "Model: \"sequential\"\n",
            "_________________________________________________________________\n",
            "Layer (type)                 Output Shape              Param #   \n",
            "=================================================================\n",
            "conv2d (Conv2D)              (None, 26, 26, 8)         80        \n",
            "_________________________________________________________________\n",
            "activation (Activation)      (None, 26, 26, 8)         0         \n",
            "_________________________________________________________________\n",
            "max_pooling2d (MaxPooling2D) (None, 13, 13, 8)         0         \n",
            "_________________________________________________________________\n",
            "flatten (Flatten)            (None, 1352)              0         \n",
            "_________________________________________________________________\n",
            "dense (Dense)                (None, 32)                43296     \n",
            "_________________________________________________________________\n",
            "activation_1 (Activation)    (None, 32)                0         \n",
            "_________________________________________________________________\n",
            "dense_1 (Dense)              (None, 10)                330       \n",
            "_________________________________________________________________\n",
            "activation_2 (Activation)    (None, 10)                0         \n",
            "=================================================================\n",
            "Total params: 43,706\n",
            "Trainable params: 43,706\n",
            "Non-trainable params: 0\n",
            "_________________________________________________________________\n"
          ]
        }
      ]
    },
    {
      "cell_type": "code",
      "metadata": {
        "id": "jrG1OiHdsn7p"
      },
      "source": [
        "model2.compile(optimizer='adam',\n",
        "              loss = 'categorical_crossentropy',\n",
        "              metrics = ['accuracy'])"
      ],
      "execution_count": null,
      "outputs": []
    },
    {
      "cell_type": "code",
      "metadata": {
        "id": "7XjBg0GGsn7q"
      },
      "source": [
        "BATCH_SIZE = 64\n",
        "EPOCHS = 10"
      ],
      "execution_count": null,
      "outputs": []
    },
    {
      "cell_type": "code",
      "metadata": {
        "colab": {
          "base_uri": "https://localhost:8080/"
        },
        "id": "nRWia1HYsn7q",
        "outputId": "7cefcf35-a1df-4508-9160-a23880cb673f"
      },
      "source": [
        "%%time\n",
        "\n",
        "history2 = model2.fit(\n",
        "    X_train_reshaped, \n",
        "    y_train,  # prepared data\n",
        "    batch_size=BATCH_SIZE,\n",
        "    epochs=EPOCHS,\n",
        "    validation_data=(X_test_reshaped, y_test),\n",
        "    verbose=1\n",
        ")"
      ],
      "execution_count": null,
      "outputs": [
        {
          "output_type": "stream",
          "name": "stdout",
          "text": [
            "Epoch 1/10\n",
            "525/525 [==============================] - 8s 15ms/step - loss: 1.5914 - accuracy: 0.5537 - val_loss: 0.7323 - val_accuracy: 0.7771\n",
            "Epoch 2/10\n",
            "525/525 [==============================] - 8s 15ms/step - loss: 0.5575 - accuracy: 0.8598 - val_loss: 0.4382 - val_accuracy: 0.8977\n",
            "Epoch 3/10\n",
            "525/525 [==============================] - 8s 15ms/step - loss: 0.3007 - accuracy: 0.9263 - val_loss: 0.2591 - val_accuracy: 0.9357\n",
            "Epoch 4/10\n",
            "525/525 [==============================] - 8s 15ms/step - loss: 0.1837 - accuracy: 0.9500 - val_loss: 0.1994 - val_accuracy: 0.9507\n",
            "Epoch 5/10\n",
            "525/525 [==============================] - 8s 15ms/step - loss: 0.1354 - accuracy: 0.9612 - val_loss: 0.1755 - val_accuracy: 0.9571\n",
            "Epoch 6/10\n",
            "525/525 [==============================] - 8s 15ms/step - loss: 0.1084 - accuracy: 0.9677 - val_loss: 0.1581 - val_accuracy: 0.9613\n",
            "Epoch 7/10\n",
            "525/525 [==============================] - 8s 15ms/step - loss: 0.0916 - accuracy: 0.9719 - val_loss: 0.1483 - val_accuracy: 0.9598\n",
            "Epoch 8/10\n",
            "525/525 [==============================] - 8s 15ms/step - loss: 0.0824 - accuracy: 0.9748 - val_loss: 0.1637 - val_accuracy: 0.9573\n",
            "Epoch 9/10\n",
            "525/525 [==============================] - 8s 15ms/step - loss: 0.0726 - accuracy: 0.9779 - val_loss: 0.1358 - val_accuracy: 0.9663\n",
            "Epoch 10/10\n",
            "525/525 [==============================] - 8s 15ms/step - loss: 0.0656 - accuracy: 0.9797 - val_loss: 0.1453 - val_accuracy: 0.9617\n",
            "CPU times: user 2min 8s, sys: 4.47 s, total: 2min 13s\n",
            "Wall time: 1min 17s\n"
          ]
        }
      ]
    },
    {
      "cell_type": "code",
      "metadata": {
        "id": "TLfluAs_sn7q",
        "outputId": "3657e134-ae23-461c-d3fd-a723fc747b46"
      },
      "source": [
        "plot_train_val_accuracy(history2.history)\n",
        "\n",
        "plot_train_val_loss(history2.history)"
      ],
      "execution_count": null,
      "outputs": [
        {
          "data": {
            "image/png": "[encoded data removed]",
            "text/plain": [
              "<Figure size 432x288 with 1 Axes>"
            ]
          },
          "metadata": {
            "needs_background": "light"
          },
          "output_type": "display_data"
        },
        {
          "data": {
            "image/png": "[encoded data removed]",
            "text/plain": [
              "<Figure size 432x288 with 1 Axes>"
            ]
          },
          "metadata": {
            "needs_background": "light"
          },
          "output_type": "display_data"
        }
      ]
    },
    {
      "cell_type": "markdown",
      "metadata": {
        "id": "LiJDrGIJsn7q"
      },
      "source": [
        "### Model 3: "
      ]
    },
    {
      "cell_type": "code",
      "metadata": {
        "id": "7ipACmAjsn7q"
      },
      "source": [
        "tf.keras.backend.clear_session()  # clear default graph\n",
        "\n",
        "model3 = Sequential()\n",
        "model3.add(Conv2D(filters=8, kernel_size=(3,3), input_shape=new_input_shape))\n",
        "model3.add(Activation('relu'))\n",
        "                            \n",
        "model3.add(MaxPooling2D(pool_size=(2, 2)))\n",
        "\n",
        "model3.add(Conv2D(filters=8, kernel_size=(3,3), input_shape=new_input_shape))\n",
        "model3.add(Activation('relu'))\n",
        "                            \n",
        "model3.add(MaxPooling2D(pool_size=(2, 2)))\n",
        "\n",
        "model3.add(Flatten())\n",
        "    \n",
        "model3.add(Dense(32))    \n",
        "model3.add(Activation('relu'))\n",
        "\n",
        "model3.add(Dense(10))\n",
        "# This special \"softmax\" activation among other things,\n",
        "# ensures the output is a valid probaility distribution, that is\n",
        "# that its values are all non-negative and sum to 1.\n",
        "model3.add(Activation('softmax'))"
      ],
      "execution_count": null,
      "outputs": []
    },
    {
      "cell_type": "code",
      "metadata": {
        "colab": {
          "base_uri": "https://localhost:8080/"
        },
        "id": "uZjNlP8Fsn7r",
        "outputId": "8af285f8-04f4-43cf-f008-314d535ec49e"
      },
      "source": [
        "model3.summary()"
      ],
      "execution_count": null,
      "outputs": [
        {
          "output_type": "stream",
          "name": "stdout",
          "text": [
            "Model: \"sequential\"\n",
            "_________________________________________________________________\n",
            "Layer (type)                 Output Shape              Param #   \n",
            "=================================================================\n",
            "conv2d (Conv2D)              (None, 26, 26, 8)         80        \n",
            "_________________________________________________________________\n",
            "activation (Activation)      (None, 26, 26, 8)         0         \n",
            "_________________________________________________________________\n",
            "max_pooling2d (MaxPooling2D) (None, 13, 13, 8)         0         \n",
            "_________________________________________________________________\n",
            "conv2d_1 (Conv2D)            (None, 11, 11, 8)         584       \n",
            "_________________________________________________________________\n",
            "activation_1 (Activation)    (None, 11, 11, 8)         0         \n",
            "_________________________________________________________________\n",
            "max_pooling2d_1 (MaxPooling2 (None, 5, 5, 8)           0         \n",
            "_________________________________________________________________\n",
            "flatten (Flatten)            (None, 200)               0         \n",
            "_________________________________________________________________\n",
            "dense (Dense)                (None, 32)                6432      \n",
            "_________________________________________________________________\n",
            "activation_2 (Activation)    (None, 32)                0         \n",
            "_________________________________________________________________\n",
            "dense_1 (Dense)              (None, 10)                330       \n",
            "_________________________________________________________________\n",
            "activation_3 (Activation)    (None, 10)                0         \n",
            "=================================================================\n",
            "Total params: 7,426\n",
            "Trainable params: 7,426\n",
            "Non-trainable params: 0\n",
            "_________________________________________________________________\n"
          ]
        }
      ]
    },
    {
      "cell_type": "code",
      "metadata": {
        "id": "VdjKjoPNsn7r"
      },
      "source": [
        "model3.compile(optimizer='adam',\n",
        "              loss = 'categorical_crossentropy',\n",
        "              metrics = ['accuracy'])"
      ],
      "execution_count": null,
      "outputs": []
    },
    {
      "cell_type": "code",
      "metadata": {
        "colab": {
          "base_uri": "https://localhost:8080/"
        },
        "id": "GZpR14Dtsn7r",
        "outputId": "272a2238-dd1f-432f-8995-73583dbd845d"
      },
      "source": [
        "%%time\n",
        "\n",
        "history3 = model3.fit(\n",
        "    X_train_reshaped, \n",
        "    y_train,  # prepared data\n",
        "    batch_size=BATCH_SIZE,\n",
        "    epochs=EPOCHS,\n",
        "    validation_data=(X_test_reshaped, y_test),\n",
        "    verbose=1\n",
        ")"
      ],
      "execution_count": null,
      "outputs": [
        {
          "output_type": "stream",
          "name": "stdout",
          "text": [
            "Epoch 1/10\n",
            "525/525 [==============================] - 11s 19ms/step - loss: 2.7205 - accuracy: 0.4987 - val_loss: 0.7017 - val_accuracy: 0.8179\n",
            "Epoch 2/10\n",
            "525/525 [==============================] - 10s 19ms/step - loss: 0.4132 - accuracy: 0.8854 - val_loss: 0.3007 - val_accuracy: 0.9181\n",
            "Epoch 3/10\n",
            "525/525 [==============================] - 10s 19ms/step - loss: 0.2370 - accuracy: 0.9333 - val_loss: 0.2335 - val_accuracy: 0.9350\n",
            "Epoch 4/10\n",
            "525/525 [==============================] - 10s 19ms/step - loss: 0.1746 - accuracy: 0.9489 - val_loss: 0.1798 - val_accuracy: 0.9485\n",
            "Epoch 5/10\n",
            "525/525 [==============================] - 10s 19ms/step - loss: 0.1380 - accuracy: 0.9600 - val_loss: 0.1589 - val_accuracy: 0.9561\n",
            "Epoch 6/10\n",
            "525/525 [==============================] - 10s 19ms/step - loss: 0.1161 - accuracy: 0.9650 - val_loss: 0.1463 - val_accuracy: 0.9611\n",
            "Epoch 7/10\n",
            "525/525 [==============================] - 10s 19ms/step - loss: 0.1013 - accuracy: 0.9694 - val_loss: 0.1375 - val_accuracy: 0.9621\n",
            "Epoch 8/10\n",
            "525/525 [==============================] - 10s 19ms/step - loss: 0.0906 - accuracy: 0.9725 - val_loss: 0.1278 - val_accuracy: 0.9639\n",
            "Epoch 9/10\n",
            "525/525 [==============================] - 10s 19ms/step - loss: 0.0820 - accuracy: 0.9742 - val_loss: 0.1232 - val_accuracy: 0.9637\n",
            "Epoch 10/10\n",
            "525/525 [==============================] - 10s 19ms/step - loss: 0.0739 - accuracy: 0.9771 - val_loss: 0.1237 - val_accuracy: 0.9645\n",
            "CPU times: user 2min 44s, sys: 7.69 s, total: 2min 52s\n",
            "Wall time: 1min 41s\n"
          ]
        }
      ]
    },
    {
      "cell_type": "code",
      "metadata": {
        "colab": {
          "base_uri": "https://localhost:8080/",
          "height": 573
        },
        "id": "yW6Sc_HYsn7r",
        "outputId": "7724e6a9-a2c8-4f3b-e3f7-47b89e176cc2"
      },
      "source": [
        "plot_train_val_accuracy(history3.history)\n",
        "\n",
        "plot_train_val_loss(history3.history)"
      ],
      "execution_count": null,
      "outputs": [
        {
          "output_type": "display_data",
          "data": {
            "image/png": "[encoded data removed]",
            "text/plain": [
              "<Figure size 432x288 with 1 Axes>"
            ]
          },
          "metadata": {
            "needs_background": "light"
          }
        },
        {
          "output_type": "display_data",
          "data": {
            "image/png": "[encoded data removed]",
            "text/plain": [
              "<Figure size 432x288 with 1 Axes>"
            ]
          },
          "metadata": {
            "needs_background": "light"
          }
        }
      ]
    },
    {
      "cell_type": "code",
      "metadata": {
        "colab": {
          "base_uri": "https://localhost:8080/"
        },
        "id": "S73tn_QTNhml",
        "outputId": "755a2367-0bcc-404d-d40d-96b5f5ea976d"
      },
      "source": [
        "X_train_reshaped.shape"
      ],
      "execution_count": null,
      "outputs": [
        {
          "output_type": "execute_result",
          "data": {
            "text/plain": [
              "(33600, 28, 28, 1)"
            ]
          },
          "metadata": {},
          "execution_count": 122
        }
      ]
    },
    {
      "cell_type": "code",
      "metadata": {
        "colab": {
          "base_uri": "https://localhost:8080/",
          "height": 515
        },
        "id": "4WpGmBfZsn7s",
        "outputId": "7e7963e6-2818-4d3c-e5ae-3a195874808f"
      },
      "source": [
        "predictions = model3.predict(X_test_reshaped)\n",
        "predictions_3 = np.argmax(predictions, axis=1)\n",
        "\n",
        "predictions_3 = list(predictions_3)\n",
        "plot_confustion_matrix(y_actual_classes, predictions_3)"
      ],
      "execution_count": null,
      "outputs": [
        {
          "output_type": "display_data",
          "data": {
            "image/png": "[encoded data removed]",
            "text/plain": [
              "<Figure size 720x576 with 2 Axes>"
            ]
          },
          "metadata": {
            "needs_background": "light"
          }
        }
      ]
    },
    {
      "cell_type": "code",
      "metadata": {
        "colab": {
          "base_uri": "https://localhost:8080/"
        },
        "id": "630oChjSONmW",
        "outputId": "31a8a844-908d-4506-9375-ff1ba7cf47f3"
      },
      "source": [
        "print(classification_report(y_actual_classes, predictions_3))"
      ],
      "execution_count": null,
      "outputs": [
        {
          "output_type": "stream",
          "name": "stdout",
          "text": [
            "              precision    recall  f1-score   support\n",
            "\n",
            "           0       0.97      0.99      0.98       816\n",
            "           1       0.99      0.99      0.99       909\n",
            "           2       0.96      0.98      0.97       846\n",
            "           3       0.97      0.97      0.97       937\n",
            "           4       0.98      0.96      0.97       839\n",
            "           5       0.93      0.98      0.95       702\n",
            "           6       0.95      0.98      0.97       785\n",
            "           7       0.99      0.92      0.95       893\n",
            "           8       0.99      0.91      0.95       835\n",
            "           9       0.92      0.97      0.95       838\n",
            "\n",
            "    accuracy                           0.96      8400\n",
            "   macro avg       0.96      0.96      0.96      8400\n",
            "weighted avg       0.97      0.96      0.96      8400\n",
            "\n"
          ]
        }
      ]
    },
    {
      "cell_type": "code",
      "metadata": {
        "id": "iByaRHIrsn7s"
      },
      "source": [
        "from sklearn import metrics"
      ],
      "execution_count": null,
      "outputs": []
    },
    {
      "cell_type": "code",
      "metadata": {
        "colab": {
          "base_uri": "https://localhost:8080/"
        },
        "id": "1R8pZYEYsn7s",
        "outputId": "7632380b-7f77-4e8d-8289-e96b5b18b8fa"
      },
      "source": [
        "metrics.accuracy_score(predictions_3, \n",
        "                       y_actual_classes)"
      ],
      "execution_count": null,
      "outputs": [
        {
          "output_type": "execute_result",
          "data": {
            "text/plain": [
              "0.9645238095238096"
            ]
          },
          "metadata": {},
          "execution_count": 128
        }
      ]
    },
    {
      "cell_type": "markdown",
      "metadata": {
        "id": "CFtH8t_Qsn7s"
      },
      "source": [
        "### Which digits have gone wrong?"
      ]
    },
    {
      "cell_type": "code",
      "metadata": {
        "id": "ECdVDAN9sn7s"
      },
      "source": [
        "y_actual_classes_list = list(y_actual_classes) "
      ],
      "execution_count": null,
      "outputs": []
    },
    {
      "cell_type": "code",
      "metadata": {
        "id": "Tm4mq6nTsn7t"
      },
      "source": [
        "digit_indexes = [i for i, val in enumerate(y_actual_classes_list) if val == 5]"
      ],
      "execution_count": null,
      "outputs": []
    },
    {
      "cell_type": "code",
      "metadata": {
        "id": "4KwCpRdUsn7t"
      },
      "source": [
        "misclassfied_indexes = [i for i in digit_indexes if y_actual_classes_list[i] != predictions_3[i]]"
      ],
      "execution_count": null,
      "outputs": []
    },
    {
      "cell_type": "code",
      "metadata": {
        "id": "KLBAGD1_sn7t",
        "outputId": "4ece3e44-216c-4ed2-ee5b-0278a1bab070"
      },
      "source": [
        "misclassfied_indexes"
      ],
      "execution_count": null,
      "outputs": [
        {
          "data": {
            "text/plain": [
              "[164, 445, 1233, 2199, 2814, 4733, 4803, 5602, 7148, 7811, 8302, 8368]"
            ]
          },
          "execution_count": 141,
          "metadata": {},
          "output_type": "execute_result"
        }
      ]
    },
    {
      "cell_type": "code",
      "metadata": {
        "id": "8xhQwYizsn7t",
        "outputId": "9b1e1502-7e88-48b1-d102-3dd64767b7f4"
      },
      "source": [
        "k = 1\n",
        "plt.figure( figsize=(15, 6))\n",
        "for i in misclassfied_indexes:\n",
        "    plt.subplot(2, len(misclassfied_indexes)/2, k);\n",
        "    plt.xticks([])\n",
        "    plt.yticks([])    \n",
        "    plt.imshow(X_test[i])\n",
        "    plt.title(str(predictions_3[i]) + str())\n",
        "    k = k + 1\n",
        "plt.show()"
      ],
      "execution_count": null,
      "outputs": [
        {
          "data": {
            "image/png": "[encoded data removed]",
            "text/plain": [
              "<Figure size 1080x432 with 12 Axes>"
            ]
          },
          "metadata": {},
          "output_type": "display_data"
        }
      ]
    },
    {
      "cell_type": "markdown",
      "metadata": {
        "id": "fRNLhJ5esn7t"
      },
      "source": [
        "### Saving Model"
      ]
    },
    {
      "cell_type": "code",
      "metadata": {
        "id": "4yU5_a9osn7t"
      },
      "source": [
        "model3.save('digits_model_3.h5')"
      ],
      "execution_count": null,
      "outputs": []
    },
    {
      "cell_type": "code",
      "metadata": {
        "id": "SARaLkolsn7t",
        "outputId": "899f1bf8-e76c-4cfb-ec31-bd66ffb883a4"
      },
      "source": [
        "!ls -al"
      ],
      "execution_count": null,
      "outputs": [
        {
          "name": "stdout",
          "output_type": "stream",
          "text": [
            "total 6672\r\n",
            "drwxr-xr-x  14 manaranjan  staff      476 Aug 29 14:34 \u001b[34m.\u001b[m\u001b[m\r\n",
            "drwxr-xr-x   7 manaranjan  staff      238 Aug 28 20:45 \u001b[34m..\u001b[m\u001b[m\r\n",
            "-rw-r--r--@  1 manaranjan  staff     6148 Aug 29 09:56 .DS_Store\r\n",
            "drwxr-xr-x   6 manaranjan  staff      204 Aug 29 10:29 \u001b[34m.ipynb_checkpoints\u001b[m\u001b[m\r\n",
            "-rw-r--r--@  1 manaranjan  staff   110076 Aug 23 17:04 Boston House - NN Model 1.0.ipynb\r\n",
            "-rw-r--r--   1 manaranjan  staff   583461 Aug 29 09:55 House_Price_Analysis_New_2.0.ipynb\r\n",
            "-rw-r--r--@  1 manaranjan  staff   305224 Aug 23 17:03 IMDB Classification - BoW and Embeddings.ipynb\r\n",
            "-rw-r--r--@  1 manaranjan  staff   105856 Aug 23 17:04 IMDB Classification - Sequence Modelling.ipynb\r\n",
            "-rw-r--r--@  1 manaranjan  staff   259018 Aug 29 14:32 MNIST Digit Classification.ipynb\r\n",
            "-rw-r--r--@  1 manaranjan  staff   231804 Aug 29 10:20 Scania Truck Failure Prediction 1.0.ipynb\r\n",
            "-rw-r--r--@  1 manaranjan  staff    30151 Aug 29 10:27 Sentiment Analysis 1.0.ipynb\r\n",
            "-rw-r--r--@  1 manaranjan  staff  1631699 Aug 23 17:20 Tomato+Transfer+Learning+-+Binary.ipynb\r\n",
            "-rw-r--r--   1 manaranjan  staff   133744 Aug 29 14:34 digits_model_3.h5\r\n",
            "drwxr-xr-x   2 manaranjan  staff       68 Aug 29 14:23 \u001b[34mmnist\u001b[m\u001b[m\r\n"
          ]
        }
      ]
    },
    {
      "cell_type": "markdown",
      "metadata": {
        "id": "HFMDOjTHsn7u"
      },
      "source": [
        "## Load model and make prediction"
      ]
    },
    {
      "cell_type": "code",
      "metadata": {
        "id": "CeD8eX6Ssn7u"
      },
      "source": [
        "from tensorflow.keras.models import load_model\n",
        "\n",
        "new_model = load_model('digits_model_3.h5')"
      ],
      "execution_count": null,
      "outputs": []
    },
    {
      "cell_type": "code",
      "metadata": {
        "id": "-KNy_H6vsn7u"
      },
      "source": [
        "predictions_new = new_model.predict_classes(X_test_reshaped)"
      ],
      "execution_count": null,
      "outputs": []
    },
    {
      "cell_type": "code",
      "metadata": {
        "id": "QaeCcVqLsn7u",
        "outputId": "cddcd7b2-bbac-4df8-dfc2-5c921e73e10c"
      },
      "source": [
        "predictions_new[0:10]"
      ],
      "execution_count": null,
      "outputs": [
        {
          "data": {
            "text/plain": [
              "array([8, 1, 9, 9, 8, 5, 2, 2, 7, 1])"
            ]
          },
          "execution_count": 150,
          "metadata": {},
          "output_type": "execute_result"
        }
      ]
    },
    {
      "cell_type": "markdown",
      "metadata": {
        "id": "RBhlfXXIsn7u"
      },
      "source": [
        "### Dive Deeper into the Model Weights"
      ]
    },
    {
      "cell_type": "code",
      "metadata": {
        "id": "72vzZCsisn7u"
      },
      "source": [
        "weights = model3.get_weights()"
      ],
      "execution_count": null,
      "outputs": []
    },
    {
      "cell_type": "markdown",
      "metadata": {
        "id": "bBPJGRBcsn7u"
      },
      "source": [
        "#### Checking the weights metrics dimensions"
      ]
    },
    {
      "cell_type": "code",
      "metadata": {
        "id": "LbK56CJJsn7v",
        "outputId": "71fe39ce-b63f-4031-ae37-62bc002909a4"
      },
      "source": [
        "weights[0].shape"
      ],
      "execution_count": null,
      "outputs": [
        {
          "data": {
            "text/plain": [
              "(3, 3, 1, 8)"
            ]
          },
          "execution_count": 152,
          "metadata": {},
          "output_type": "execute_result"
        }
      ]
    },
    {
      "cell_type": "code",
      "metadata": {
        "id": "6HP6fMHVsn7v",
        "outputId": "b65fbd5e-2a0e-4ccc-d6d0-faa3ec5819a7"
      },
      "source": [
        "weights[1].shape"
      ],
      "execution_count": null,
      "outputs": [
        {
          "data": {
            "text/plain": [
              "(8,)"
            ]
          },
          "execution_count": 153,
          "metadata": {},
          "output_type": "execute_result"
        }
      ]
    },
    {
      "cell_type": "code",
      "metadata": {
        "id": "f38zGEu7sn7v",
        "outputId": "35603923-47ee-4a07-f12d-76e3353f7912"
      },
      "source": [
        "weights[2].shape"
      ],
      "execution_count": null,
      "outputs": [
        {
          "data": {
            "text/plain": [
              "(3, 3, 8, 8)"
            ]
          },
          "execution_count": 154,
          "metadata": {},
          "output_type": "execute_result"
        }
      ]
    },
    {
      "cell_type": "code",
      "metadata": {
        "id": "rDdSY_mpsn7v",
        "outputId": "59d9d7d9-7658-4e7b-89c3-acd35a7b54e5"
      },
      "source": [
        "weights[3].shape"
      ],
      "execution_count": null,
      "outputs": [
        {
          "data": {
            "text/plain": [
              "(8,)"
            ]
          },
          "execution_count": 155,
          "metadata": {},
          "output_type": "execute_result"
        }
      ]
    },
    {
      "cell_type": "code",
      "metadata": {
        "id": "Qzombeonsn7v",
        "outputId": "e69b0002-79af-4742-c72e-66c5ddfd3781"
      },
      "source": [
        "weights[4].shape"
      ],
      "execution_count": null,
      "outputs": [
        {
          "data": {
            "text/plain": [
              "(200, 32)"
            ]
          },
          "execution_count": 156,
          "metadata": {},
          "output_type": "execute_result"
        }
      ]
    },
    {
      "cell_type": "markdown",
      "metadata": {
        "id": "DR1IKFgnsn7w"
      },
      "source": [
        "#### Get the first filter in first convolution layer"
      ]
    },
    {
      "cell_type": "code",
      "metadata": {
        "id": "XuHpPFyCsn7x"
      },
      "source": [
        "filter1 = weights[0][:,:,:,0:1].reshape(3, 3)"
      ],
      "execution_count": null,
      "outputs": []
    },
    {
      "cell_type": "code",
      "metadata": {
        "id": "O7z_YQWrsn7x",
        "outputId": "3f3ffa06-7662-45c2-a464-429a3805cf85"
      },
      "source": [
        "filter1"
      ],
      "execution_count": null,
      "outputs": [
        {
          "data": {
            "text/plain": [
              "array([[ 0.0507,  0.1832,  0.0148],\n",
              "       [-0.1064, -0.0728,  0.0197],\n",
              "       [ 0.1038, -0.0117, -0.0189]], dtype=float32)"
            ]
          },
          "execution_count": 158,
          "metadata": {},
          "output_type": "execute_result"
        }
      ]
    },
    {
      "cell_type": "markdown",
      "metadata": {
        "id": "-lfctG4Gsn7x"
      },
      "source": [
        "#### Applying the convolutions to one image"
      ]
    },
    {
      "cell_type": "code",
      "metadata": {
        "id": "PmEDvHe7sn7x",
        "outputId": "4d81dfaf-851e-46e0-de2b-f6862395aaf8"
      },
      "source": [
        "convtop = convolve(image_buffer[2].reshape(28, 28), \n",
        "                   filter1)\n",
        "plt.grid(False)\n",
        "plt.imshow(convtop);"
      ],
      "execution_count": null,
      "outputs": [
        {
          "data": {
            "image/png": "[encoded data removed]",
            "text/plain": [
              "<Figure size 432x288 with 1 Axes>"
            ]
          },
          "metadata": {
            "needs_background": "light"
          },
          "output_type": "display_data"
        }
      ]
    }
  ]
}