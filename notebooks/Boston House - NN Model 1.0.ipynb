{
 "cells": [
  {
   "cell_type": "markdown",
   "metadata": {},
   "source": [
    "# Boston House Price Prediction\n",
    "\n",
    "https://www.kaggle.com/c/boston-housing\n",
    "\n",
    "- CRIM - per capita crime rate by town\n",
    "- ZN - proportion of residential land zoned for lots over 25,000 sq.ft.\n",
    "- INDUS - proportion of non-retail business acres per town.\n",
    "- CHAS - Charles River dummy variable (1 if tract bounds river; 0 otherwise)\n",
    "- NOX - nitric oxides concentration (parts per 10 million)\n",
    "- RM - average number of rooms per dwelling\n",
    "- AGE - proportion of owner-occupied units built prior to 1940\n",
    "- DIS - weighted distances to five Boston employment centres\n",
    "- RAD - index of accessibility to radial highways\n",
    "- TAX - full-value property-tax rate per \\$10,000\n",
    "- PTRATIO - pupil-teacher ratio by town\n",
    "- B - 1000(Bk - 0.63)^2 where Bk is the proportion of blacks by town\n",
    "- LSTAT - percentage lower status of the population\n",
    "- MEDV - Median value of owner-occupied homes in $1000's"
   ]
  },
  {
   "cell_type": "code",
   "execution_count": 1,
   "metadata": {},
   "outputs": [],
   "source": [
    "import warnings\n",
    "warnings.filterwarnings('ignore')"
   ]
  },
  {
   "cell_type": "code",
   "execution_count": 2,
   "metadata": {},
   "outputs": [],
   "source": [
    "import pandas as pd\n",
    "import numpy as np"
   ]
  },
  {
   "cell_type": "code",
   "execution_count": 3,
   "metadata": {},
   "outputs": [],
   "source": [
    "boston_df = pd.read_csv('../data/boston.csv')"
   ]
  },
  {
   "cell_type": "code",
   "execution_count": 4,
   "metadata": {},
   "outputs": [
    {
     "data": {
      "text/html": [
       "<div>\n",
       "<style scoped>\n",
       "    .dataframe tbody tr th:only-of-type {\n",
       "        vertical-align: middle;\n",
       "    }\n",
       "\n",
       "    .dataframe tbody tr th {\n",
       "        vertical-align: top;\n",
       "    }\n",
       "\n",
       "    .dataframe thead th {\n",
       "        text-align: right;\n",
       "    }\n",
       "</style>\n",
       "<table border=\"1\" class=\"dataframe\">\n",
       "  <thead>\n",
       "    <tr style=\"text-align: right;\">\n",
       "      <th></th>\n",
       "      <th>ID</th>\n",
       "      <th>crim</th>\n",
       "      <th>zn</th>\n",
       "      <th>indus</th>\n",
       "      <th>chas</th>\n",
       "      <th>nox</th>\n",
       "      <th>rm</th>\n",
       "      <th>age</th>\n",
       "      <th>dis</th>\n",
       "      <th>rad</th>\n",
       "      <th>tax</th>\n",
       "      <th>ptratio</th>\n",
       "      <th>black</th>\n",
       "      <th>lstat</th>\n",
       "      <th>medv</th>\n",
       "    </tr>\n",
       "  </thead>\n",
       "  <tbody>\n",
       "    <tr>\n",
       "      <th>0</th>\n",
       "      <td>1</td>\n",
       "      <td>0.00632</td>\n",
       "      <td>18.0</td>\n",
       "      <td>2.31</td>\n",
       "      <td>0</td>\n",
       "      <td>0.538</td>\n",
       "      <td>6.575</td>\n",
       "      <td>65.2</td>\n",
       "      <td>4.0900</td>\n",
       "      <td>1</td>\n",
       "      <td>296</td>\n",
       "      <td>15.3</td>\n",
       "      <td>396.90</td>\n",
       "      <td>4.98</td>\n",
       "      <td>24.0</td>\n",
       "    </tr>\n",
       "    <tr>\n",
       "      <th>1</th>\n",
       "      <td>2</td>\n",
       "      <td>0.02731</td>\n",
       "      <td>0.0</td>\n",
       "      <td>7.07</td>\n",
       "      <td>0</td>\n",
       "      <td>0.469</td>\n",
       "      <td>6.421</td>\n",
       "      <td>78.9</td>\n",
       "      <td>4.9671</td>\n",
       "      <td>2</td>\n",
       "      <td>242</td>\n",
       "      <td>17.8</td>\n",
       "      <td>396.90</td>\n",
       "      <td>9.14</td>\n",
       "      <td>21.6</td>\n",
       "    </tr>\n",
       "    <tr>\n",
       "      <th>2</th>\n",
       "      <td>4</td>\n",
       "      <td>0.03237</td>\n",
       "      <td>0.0</td>\n",
       "      <td>2.18</td>\n",
       "      <td>0</td>\n",
       "      <td>0.458</td>\n",
       "      <td>6.998</td>\n",
       "      <td>45.8</td>\n",
       "      <td>6.0622</td>\n",
       "      <td>3</td>\n",
       "      <td>222</td>\n",
       "      <td>18.7</td>\n",
       "      <td>394.63</td>\n",
       "      <td>2.94</td>\n",
       "      <td>33.4</td>\n",
       "    </tr>\n",
       "    <tr>\n",
       "      <th>3</th>\n",
       "      <td>5</td>\n",
       "      <td>0.06905</td>\n",
       "      <td>0.0</td>\n",
       "      <td>2.18</td>\n",
       "      <td>0</td>\n",
       "      <td>0.458</td>\n",
       "      <td>7.147</td>\n",
       "      <td>54.2</td>\n",
       "      <td>6.0622</td>\n",
       "      <td>3</td>\n",
       "      <td>222</td>\n",
       "      <td>18.7</td>\n",
       "      <td>396.90</td>\n",
       "      <td>5.33</td>\n",
       "      <td>36.2</td>\n",
       "    </tr>\n",
       "    <tr>\n",
       "      <th>4</th>\n",
       "      <td>7</td>\n",
       "      <td>0.08829</td>\n",
       "      <td>12.5</td>\n",
       "      <td>7.87</td>\n",
       "      <td>0</td>\n",
       "      <td>0.524</td>\n",
       "      <td>6.012</td>\n",
       "      <td>66.6</td>\n",
       "      <td>5.5605</td>\n",
       "      <td>5</td>\n",
       "      <td>311</td>\n",
       "      <td>15.2</td>\n",
       "      <td>395.60</td>\n",
       "      <td>12.43</td>\n",
       "      <td>22.9</td>\n",
       "    </tr>\n",
       "  </tbody>\n",
       "</table>\n",
       "</div>"
      ],
      "text/plain": [
       "   ID     crim    zn  indus  chas    nox     rm   age     dis  rad  tax  \\\n",
       "0   1  0.00632  18.0   2.31     0  0.538  6.575  65.2  4.0900    1  296   \n",
       "1   2  0.02731   0.0   7.07     0  0.469  6.421  78.9  4.9671    2  242   \n",
       "2   4  0.03237   0.0   2.18     0  0.458  6.998  45.8  6.0622    3  222   \n",
       "3   5  0.06905   0.0   2.18     0  0.458  7.147  54.2  6.0622    3  222   \n",
       "4   7  0.08829  12.5   7.87     0  0.524  6.012  66.6  5.5605    5  311   \n",
       "\n",
       "   ptratio   black  lstat  medv  \n",
       "0     15.3  396.90   4.98  24.0  \n",
       "1     17.8  396.90   9.14  21.6  \n",
       "2     18.7  394.63   2.94  33.4  \n",
       "3     18.7  396.90   5.33  36.2  \n",
       "4     15.2  395.60  12.43  22.9  "
      ]
     },
     "execution_count": 4,
     "metadata": {},
     "output_type": "execute_result"
    }
   ],
   "source": [
    "boston_df.head(5)"
   ]
  },
  {
   "cell_type": "code",
   "execution_count": 5,
   "metadata": {},
   "outputs": [
    {
     "name": "stdout",
     "output_type": "stream",
     "text": [
      "<class 'pandas.core.frame.DataFrame'>\n",
      "RangeIndex: 333 entries, 0 to 332\n",
      "Data columns (total 15 columns):\n",
      " #   Column   Non-Null Count  Dtype  \n",
      "---  ------   --------------  -----  \n",
      " 0   ID       333 non-null    int64  \n",
      " 1   crim     333 non-null    float64\n",
      " 2   zn       333 non-null    float64\n",
      " 3   indus    333 non-null    float64\n",
      " 4   chas     333 non-null    int64  \n",
      " 5   nox      333 non-null    float64\n",
      " 6   rm       333 non-null    float64\n",
      " 7   age      333 non-null    float64\n",
      " 8   dis      333 non-null    float64\n",
      " 9   rad      333 non-null    int64  \n",
      " 10  tax      333 non-null    int64  \n",
      " 11  ptratio  333 non-null    float64\n",
      " 12  black    333 non-null    float64\n",
      " 13  lstat    333 non-null    float64\n",
      " 14  medv     333 non-null    float64\n",
      "dtypes: float64(11), int64(4)\n",
      "memory usage: 39.1 KB\n"
     ]
    }
   ],
   "source": [
    "boston_df.info()"
   ]
  },
  {
   "cell_type": "markdown",
   "metadata": {},
   "source": [
    "### Set X and Y Variables"
   ]
  },
  {
   "cell_type": "code",
   "execution_count": 6,
   "metadata": {},
   "outputs": [
    {
     "data": {
      "text/plain": [
       "Index(['ID', 'crim', 'zn', 'indus', 'chas', 'nox', 'rm', 'age', 'dis', 'rad',\n",
       "       'tax', 'ptratio', 'black', 'lstat', 'medv'],\n",
       "      dtype='object')"
      ]
     },
     "execution_count": 6,
     "metadata": {},
     "output_type": "execute_result"
    }
   ],
   "source": [
    "boston_df.columns"
   ]
  },
  {
   "cell_type": "code",
   "execution_count": 7,
   "metadata": {},
   "outputs": [],
   "source": [
    "X = np.array(boston_df[['crim', 'zn', 'indus', 'chas', 'nox', 'rm', 'age', 'dis', 'rad',\n",
    "       'tax', 'ptratio', 'black', 'lstat']])"
   ]
  },
  {
   "cell_type": "code",
   "execution_count": 8,
   "metadata": {},
   "outputs": [],
   "source": [
    "Y = np.array(boston_df.medv)"
   ]
  },
  {
   "cell_type": "code",
   "execution_count": 9,
   "metadata": {},
   "outputs": [
    {
     "data": {
      "text/plain": [
       "(333, 13)"
      ]
     },
     "execution_count": 9,
     "metadata": {},
     "output_type": "execute_result"
    }
   ],
   "source": [
    "X.shape"
   ]
  },
  {
   "cell_type": "code",
   "execution_count": 10,
   "metadata": {},
   "outputs": [
    {
     "data": {
      "text/plain": [
       "(333,)"
      ]
     },
     "execution_count": 10,
     "metadata": {},
     "output_type": "execute_result"
    }
   ],
   "source": [
    "Y.shape"
   ]
  },
  {
   "cell_type": "markdown",
   "metadata": {},
   "source": [
    "### Split dataset into train and test sets"
   ]
  },
  {
   "cell_type": "code",
   "execution_count": 11,
   "metadata": {},
   "outputs": [],
   "source": [
    "from sklearn.model_selection import train_test_split"
   ]
  },
  {
   "cell_type": "code",
   "execution_count": 12,
   "metadata": {},
   "outputs": [],
   "source": [
    "train_X, test_X, train_y, test_y = train_test_split( X, Y, test_size = 0.2)"
   ]
  },
  {
   "cell_type": "code",
   "execution_count": 13,
   "metadata": {},
   "outputs": [
    {
     "data": {
      "text/plain": [
       "(266, 13)"
      ]
     },
     "execution_count": 13,
     "metadata": {},
     "output_type": "execute_result"
    }
   ],
   "source": [
    "train_X.shape"
   ]
  },
  {
   "cell_type": "code",
   "execution_count": 14,
   "metadata": {},
   "outputs": [
    {
     "data": {
      "text/plain": [
       "(67, 13)"
      ]
     },
     "execution_count": 14,
     "metadata": {},
     "output_type": "execute_result"
    }
   ],
   "source": [
    "test_X.shape"
   ]
  },
  {
   "cell_type": "markdown",
   "metadata": {},
   "source": [
    "### Normalize data"
   ]
  },
  {
   "cell_type": "markdown",
   "metadata": {},
   "source": [
    "All variables need to be normalized to bring them onto one scale. To scale we can use standardization technique, which is subtracting mean and dividing by standard deviation.\n",
    "\n",
    "The train and test data need to be normalized based on mean and std of training dataset, as the NN parameters will be estimated based on the training dataset."
   ]
  },
  {
   "cell_type": "code",
   "execution_count": 15,
   "metadata": {},
   "outputs": [],
   "source": [
    "## Calculate meand std from the training dataset\n",
    "mean = train_X.mean(axis=0)\n",
    "std = train_X.std(axis=0)\n",
    "\n",
    "## Standardizing the training dataset\n",
    "train_X -= mean\n",
    "train_X /= std\n",
    "\n",
    "## Standardizing the test dataset\n",
    "test_X -= mean\n",
    "test_X /= std"
   ]
  },
  {
   "cell_type": "markdown",
   "metadata": {},
   "source": [
    "## Build NN Model\n",
    "\n",
    "Explain:\n",
    "\n",
    "1. NN Architecture\n",
    "2. Layers and Neurons\n",
    "3. Activation Functions \n",
    "4. Loss Function\n",
    "5. Backpropagation \n",
    "6. Gradient Descent and variations of Gradient Descent\n",
    "\n",
    "### Model 1:"
   ]
  },
  {
   "cell_type": "code",
   "execution_count": 40,
   "metadata": {},
   "outputs": [],
   "source": [
    "import tensorflow as tf\n",
    "from tensorflow import keras\n",
    "from tensorflow.keras import models\n",
    "from tensorflow.keras.layers import Dense, Activation\n",
    "from tensorflow.keras.optimizers import SGD"
   ]
  },
  {
   "cell_type": "markdown",
   "metadata": {},
   "source": [
    "Xavier's initialization is done by drawing the values from a distribution with zero mean and a specific variance,\n",
    "\n",
    "$Var(W)= \\frac{1}{n_{in}}$\n",
    "\n",
    "where W is the initialization distribution for the neuron in question, and nin is the number of neurons feeding into it. The distribution used is typically Gaussian or uniform.\n",
    "\n",
    "It’s worth mentioning that Glorot & Bengio’s or he initialization paper originally recommended using\n",
    "\n",
    "$Var(W)= \\frac{2}{n_{in}+n_{out}}$\n",
    "\n",
    "where nout is the number of neurons the result is fed to."
   ]
  },
  {
   "cell_type": "code",
   "execution_count": 18,
   "metadata": {},
   "outputs": [],
   "source": [
    "model = models.Sequential()\n",
    "\n",
    "model.add(Dense(64, \n",
    "                input_shape=(train_X.shape[1],), \n",
    "                kernel_initializer = 'he_normal'))\n",
    "\n",
    "model.add(Activation('relu'))\n",
    "\n",
    "model.add(Dense(64, \n",
    "                kernel_initializer = 'he_normal'))\n",
    "model.add(Activation('relu'))\n",
    "\n",
    "model.add(Dense(1))"
   ]
  },
  {
   "cell_type": "code",
   "execution_count": 19,
   "metadata": {},
   "outputs": [
    {
     "name": "stdout",
     "output_type": "stream",
     "text": [
      "Model: \"sequential\"\n",
      "_________________________________________________________________\n",
      "Layer (type)                 Output Shape              Param #   \n",
      "=================================================================\n",
      "dense (Dense)                (None, 64)                896       \n",
      "_________________________________________________________________\n",
      "activation (Activation)      (None, 64)                0         \n",
      "_________________________________________________________________\n",
      "dense_1 (Dense)              (None, 64)                4160      \n",
      "_________________________________________________________________\n",
      "activation_1 (Activation)    (None, 64)                0         \n",
      "_________________________________________________________________\n",
      "dense_2 (Dense)              (None, 1)                 65        \n",
      "=================================================================\n",
      "Total params: 5,121\n",
      "Trainable params: 5,121\n",
      "Non-trainable params: 0\n",
      "_________________________________________________________________\n"
     ]
    }
   ],
   "source": [
    "model.summary()"
   ]
  },
  {
   "cell_type": "code",
   "execution_count": 20,
   "metadata": {},
   "outputs": [],
   "source": [
    "model.compile(optimizer=\"sgd\", \n",
    "              loss='mse', \n",
    "              metrics=['mse'])"
   ]
  },
  {
   "cell_type": "markdown",
   "metadata": {},
   "source": [
    "**EPOCH** - an ENTIRE dataset is passed forward and backward through the neural network only ONCE.\n",
    "\n",
    "**BATCH SIZE** - Total number of training examples present in a single batch. The backpropagation algorithms updates the weights after each batch size operation.\n",
    "\n",
    "Usually the validation metrics are measured at the end of each epoch to measure progress of the learning in the neural network. (If it is underfitting or overfitting)"
   ]
  },
  {
   "cell_type": "code",
   "execution_count": 21,
   "metadata": {},
   "outputs": [],
   "source": [
    "EPOCHS = 10"
   ]
  },
  {
   "cell_type": "markdown",
   "metadata": {},
   "source": [
    "Explain how data would be taken in batches and run multiple epochs."
   ]
  },
  {
   "cell_type": "code",
   "execution_count": 22,
   "metadata": {},
   "outputs": [
    {
     "name": "stdout",
     "output_type": "stream",
     "text": [
      "Epoch 1/10\n",
      "9/9 [==============================] - 0s 13ms/step - loss: 515.9119 - mse: 515.9119 - val_loss: 353.0555 - val_mse: 353.0555\n",
      "Epoch 2/10\n",
      "9/9 [==============================] - 0s 2ms/step - loss: 280.0322 - mse: 280.0322 - val_loss: 459.4949 - val_mse: 459.4949\n",
      "Epoch 3/10\n",
      "9/9 [==============================] - 0s 2ms/step - loss: 204.1080 - mse: 204.1080 - val_loss: 202.6749 - val_mse: 202.6749\n",
      "Epoch 4/10\n",
      "9/9 [==============================] - 0s 2ms/step - loss: 89.4670 - mse: 89.4670 - val_loss: 26.4143 - val_mse: 26.4143\n",
      "Epoch 5/10\n",
      "9/9 [==============================] - 0s 3ms/step - loss: 62.1314 - mse: 62.1314 - val_loss: 29.7084 - val_mse: 29.7084\n",
      "Epoch 6/10\n",
      "9/9 [==============================] - 0s 2ms/step - loss: 38.0653 - mse: 38.0653 - val_loss: 152.6458 - val_mse: 152.6458\n",
      "Epoch 7/10\n",
      "9/9 [==============================] - 0s 3ms/step - loss: 63.5588 - mse: 63.5588 - val_loss: 54.7797 - val_mse: 54.7797\n",
      "Epoch 8/10\n",
      "9/9 [==============================] - 0s 3ms/step - loss: 45.2633 - mse: 45.2633 - val_loss: 45.2857 - val_mse: 45.2857\n",
      "Epoch 9/10\n",
      "9/9 [==============================] - 0s 3ms/step - loss: 46.3050 - mse: 46.3050 - val_loss: 14.5715 - val_mse: 14.5715\n",
      "Epoch 10/10\n",
      "9/9 [==============================] - 0s 3ms/step - loss: 17.4120 - mse: 17.4120 - val_loss: 72.2537 - val_mse: 72.2537\n",
      "CPU times: user 727 ms, sys: 71.9 ms, total: 799 ms\n",
      "Wall time: 711 ms\n"
     ]
    }
   ],
   "source": [
    "%%time\n",
    "history = model.fit(\n",
    "    train_X, \n",
    "    train_y,  # prepared data\n",
    "    epochs=EPOCHS,\n",
    "    validation_data=(test_X, test_y),\n",
    "    verbose=1\n",
    ")"
   ]
  },
  {
   "cell_type": "code",
   "execution_count": 27,
   "metadata": {},
   "outputs": [],
   "source": [
    "from sklearn.metrics import mean_squared_error\n",
    "import matplotlib.pyplot as plt\n",
    "import seaborn as sn\n",
    "%matplotlib inline"
   ]
  },
  {
   "cell_type": "code",
   "execution_count": 28,
   "metadata": {},
   "outputs": [
    {
     "data": {
      "text/plain": [
       "dict_keys(['loss', 'mse', 'val_loss', 'val_mse'])"
      ]
     },
     "execution_count": 28,
     "metadata": {},
     "output_type": "execute_result"
    }
   ],
   "source": [
    "history.history.keys()"
   ]
  },
  {
   "cell_type": "code",
   "execution_count": 32,
   "metadata": {},
   "outputs": [],
   "source": [
    "def plot_mse(hist):\n",
    "    plt.plot(hist['mse'])\n",
    "    plt.plot(hist['val_mse'])\n",
    "    plt.title('MSE')\n",
    "    plt.ylabel('mse')\n",
    "    plt.xlabel('epoch')\n",
    "    plt.legend(['train', \n",
    "                'test'], \n",
    "               loc='upper left')\n",
    "    plt.show()\n",
    "    \n",
    "def plot_loss(hist):\n",
    "    plt.plot(hist['loss'])\n",
    "    plt.plot(hist['val_loss'])\n",
    "    plt.title('model loss')\n",
    "    plt.ylabel('loss')\n",
    "    plt.xlabel('epoch')\n",
    "    plt.legend(['train', \n",
    "                'test'], \n",
    "               loc='upper left')\n",
    "    plt.show()    "
   ]
  },
  {
   "cell_type": "code",
   "execution_count": 35,
   "metadata": {},
   "outputs": [
    {
     "data": {
      "image/png": "[encoded data removed]",
      "text/plain": [
       "<Figure size 432x288 with 1 Axes>"
      ]
     },
     "metadata": {
      "needs_background": "light"
     },
     "output_type": "display_data"
    },
    {
     "data": {
      "image/png": "[encoded data removed]",
      "text/plain": [
       "<Figure size 432x288 with 1 Axes>"
      ]
     },
     "metadata": {
      "needs_background": "light"
     },
     "output_type": "display_data"
    }
   ],
   "source": [
    "plot_mse(history.history)\n",
    "plot_loss(history.history)"
   ]
  },
  {
   "cell_type": "markdown",
   "metadata": {},
   "source": [
    "The loss is diverging. The leanring rate is high.\n",
    "\n",
    "- Explain learning Rate"
   ]
  },
  {
   "cell_type": "markdown",
   "metadata": {},
   "source": [
    "### Model 2: With Lower Learning Rate"
   ]
  },
  {
   "cell_type": "code",
   "execution_count": 41,
   "metadata": {},
   "outputs": [],
   "source": [
    "tf.keras.backend.clear_session()\n",
    "\n",
    "model = models.Sequential()\n",
    "\n",
    "model.add(Dense(64, \n",
    "                       input_shape=(train_X.shape[1],), \n",
    "                       kernel_initializer = 'he_normal'))\n",
    "\n",
    "model.add(Activation('relu'))\n",
    "\n",
    "model.add(Dense(64, kernel_initializer = 'he_normal'))\n",
    "model.add(Activation('relu'))\n",
    "\n",
    "model.add(Dense(1))"
   ]
  },
  {
   "cell_type": "code",
   "execution_count": 42,
   "metadata": {},
   "outputs": [],
   "source": [
    "sgd = SGD(lr=0.001)\n",
    "model.compile(optimizer=sgd, loss='mse', metrics=['mse'])"
   ]
  },
  {
   "cell_type": "code",
   "execution_count": 43,
   "metadata": {},
   "outputs": [
    {
     "name": "stdout",
     "output_type": "stream",
     "text": [
      "CPU times: user 1.61 s, sys: 197 ms, total: 1.81 s\n",
      "Wall time: 1.42 s\n"
     ]
    }
   ],
   "source": [
    "%%time\n",
    "\n",
    "EPOCHS = 50\n",
    "\n",
    "history = model.fit(\n",
    "    train_X, \n",
    "    train_y,  # prepared data\n",
    "    epochs=EPOCHS,\n",
    "    validation_data=(test_X, test_y),\n",
    "    verbose=0\n",
    ")"
   ]
  },
  {
   "cell_type": "code",
   "execution_count": 44,
   "metadata": {},
   "outputs": [
    {
     "data": {
      "image/png": "[encoded data removed]",
      "text/plain": [
       "<Figure size 432x288 with 1 Axes>"
      ]
     },
     "metadata": {
      "needs_background": "light"
     },
     "output_type": "display_data"
    },
    {
     "data": {
      "image/png": "[encoded data removed]",
      "text/plain": [
       "<Figure size 432x288 with 1 Axes>"
      ]
     },
     "metadata": {
      "needs_background": "light"
     },
     "output_type": "display_data"
    }
   ],
   "source": [
    "plot_mse(history.history)\n",
    "plot_loss(history.history)"
   ]
  },
  {
   "cell_type": "markdown",
   "metadata": {},
   "source": [
    "### Model 3: With Momentum Optimizer"
   ]
  },
  {
   "cell_type": "code",
   "execution_count": 45,
   "metadata": {},
   "outputs": [],
   "source": [
    "tf.keras.backend.clear_session()\n",
    "\n",
    "model = models.Sequential()\n",
    "\n",
    "model.add(Dense(64, \n",
    "                input_shape=(train_X.shape[1],), \n",
    "                kernel_initializer = 'he_normal'))\n",
    "\n",
    "model.add(Activation('relu'))\n",
    "\n",
    "model.add(Dense(64, kernel_initializer = 'he_normal'))\n",
    "model.add(Activation('relu'))\n",
    "\n",
    "model.add(Dense(1))"
   ]
  },
  {
   "cell_type": "code",
   "execution_count": 46,
   "metadata": {},
   "outputs": [],
   "source": [
    "sgd = SGD(lr=0.005, \n",
    "           momentum=0.001, decay = 0.1)\n",
    "model.compile(optimizer=sgd, loss='mse', metrics=['mse'])"
   ]
  },
  {
   "cell_type": "code",
   "execution_count": 47,
   "metadata": {},
   "outputs": [
    {
     "name": "stdout",
     "output_type": "stream",
     "text": [
      "Epoch 1/50\n",
      "9/9 [==============================] - 0s 12ms/step - loss: 152.8430 - mse: 152.8430 - val_loss: 35.2728 - val_mse: 35.2728\n",
      "Epoch 2/50\n",
      "9/9 [==============================] - 0s 2ms/step - loss: 30.4247 - mse: 30.4247 - val_loss: 26.1544 - val_mse: 26.1544\n",
      "Epoch 3/50\n",
      "9/9 [==============================] - 0s 3ms/step - loss: 24.4485 - mse: 24.4485 - val_loss: 26.4056 - val_mse: 26.4056\n",
      "Epoch 4/50\n",
      "9/9 [==============================] - 0s 3ms/step - loss: 22.9263 - mse: 22.9263 - val_loss: 21.5358 - val_mse: 21.5358\n",
      "Epoch 5/50\n",
      "9/9 [==============================] - 0s 3ms/step - loss: 20.7467 - mse: 20.7467 - val_loss: 19.9122 - val_mse: 19.9122\n",
      "Epoch 6/50\n",
      "9/9 [==============================] - 0s 3ms/step - loss: 19.5223 - mse: 19.5223 - val_loss: 19.1151 - val_mse: 19.1151\n",
      "Epoch 7/50\n",
      "9/9 [==============================] - 0s 3ms/step - loss: 18.6023 - mse: 18.6023 - val_loss: 19.6983 - val_mse: 19.6983\n",
      "Epoch 8/50\n",
      "9/9 [==============================] - 0s 3ms/step - loss: 18.4059 - mse: 18.4059 - val_loss: 17.9774 - val_mse: 17.9774\n",
      "Epoch 9/50\n",
      "9/9 [==============================] - 0s 3ms/step - loss: 17.6223 - mse: 17.6223 - val_loss: 17.5356 - val_mse: 17.5356\n",
      "Epoch 10/50\n",
      "9/9 [==============================] - 0s 3ms/step - loss: 17.2648 - mse: 17.2648 - val_loss: 17.1021 - val_mse: 17.1021\n",
      "Epoch 11/50\n",
      "9/9 [==============================] - 0s 3ms/step - loss: 16.9764 - mse: 16.9764 - val_loss: 16.9359 - val_mse: 16.9359\n",
      "Epoch 12/50\n",
      "9/9 [==============================] - 0s 3ms/step - loss: 16.6593 - mse: 16.6593 - val_loss: 16.8444 - val_mse: 16.8444\n",
      "Epoch 13/50\n",
      "9/9 [==============================] - 0s 4ms/step - loss: 16.3786 - mse: 16.3786 - val_loss: 16.4561 - val_mse: 16.4561\n",
      "Epoch 14/50\n",
      "9/9 [==============================] - 0s 3ms/step - loss: 16.1482 - mse: 16.1482 - val_loss: 16.4486 - val_mse: 16.4486\n",
      "Epoch 15/50\n",
      "9/9 [==============================] - 0s 3ms/step - loss: 16.0225 - mse: 16.0225 - val_loss: 16.0773 - val_mse: 16.0773\n",
      "Epoch 16/50\n",
      "9/9 [==============================] - 0s 3ms/step - loss: 15.7850 - mse: 15.7850 - val_loss: 15.9388 - val_mse: 15.9388\n",
      "Epoch 17/50\n",
      "9/9 [==============================] - 0s 3ms/step - loss: 15.6112 - mse: 15.6112 - val_loss: 15.8496 - val_mse: 15.8496\n",
      "Epoch 18/50\n",
      "9/9 [==============================] - 0s 4ms/step - loss: 15.4793 - mse: 15.4793 - val_loss: 15.6032 - val_mse: 15.6032\n",
      "Epoch 19/50\n",
      "9/9 [==============================] - 0s 3ms/step - loss: 15.3029 - mse: 15.3029 - val_loss: 15.4560 - val_mse: 15.4560\n",
      "Epoch 20/50\n",
      "9/9 [==============================] - 0s 3ms/step - loss: 15.2041 - mse: 15.2041 - val_loss: 15.3788 - val_mse: 15.3788\n",
      "Epoch 21/50\n",
      "9/9 [==============================] - 0s 3ms/step - loss: 15.0913 - mse: 15.0913 - val_loss: 15.2631 - val_mse: 15.2631\n",
      "Epoch 22/50\n",
      "9/9 [==============================] - 0s 3ms/step - loss: 14.9093 - mse: 14.9093 - val_loss: 15.2512 - val_mse: 15.2512\n",
      "Epoch 23/50\n",
      "9/9 [==============================] - 0s 3ms/step - loss: 14.8545 - mse: 14.8545 - val_loss: 15.0565 - val_mse: 15.0565\n",
      "Epoch 24/50\n",
      "9/9 [==============================] - 0s 3ms/step - loss: 14.7436 - mse: 14.7436 - val_loss: 15.0245 - val_mse: 15.0245\n",
      "Epoch 25/50\n",
      "9/9 [==============================] - 0s 3ms/step - loss: 14.6685 - mse: 14.6685 - val_loss: 14.8374 - val_mse: 14.8374\n",
      "Epoch 26/50\n",
      "9/9 [==============================] - 0s 3ms/step - loss: 14.5937 - mse: 14.5937 - val_loss: 14.7670 - val_mse: 14.7670\n",
      "Epoch 27/50\n",
      "9/9 [==============================] - 0s 3ms/step - loss: 14.5178 - mse: 14.5178 - val_loss: 14.7735 - val_mse: 14.7735\n",
      "Epoch 28/50\n",
      "9/9 [==============================] - 0s 3ms/step - loss: 14.4991 - mse: 14.4991 - val_loss: 14.6700 - val_mse: 14.6700\n",
      "Epoch 29/50\n",
      "9/9 [==============================] - 0s 3ms/step - loss: 14.4044 - mse: 14.4044 - val_loss: 14.5781 - val_mse: 14.5781\n",
      "Epoch 30/50\n",
      "9/9 [==============================] - 0s 3ms/step - loss: 14.3555 - mse: 14.3555 - val_loss: 14.5677 - val_mse: 14.5677\n",
      "Epoch 31/50\n",
      "9/9 [==============================] - 0s 3ms/step - loss: 14.2609 - mse: 14.2609 - val_loss: 14.5041 - val_mse: 14.5041\n",
      "Epoch 32/50\n",
      "9/9 [==============================] - 0s 3ms/step - loss: 14.1648 - mse: 14.1648 - val_loss: 14.3749 - val_mse: 14.3749\n",
      "Epoch 33/50\n",
      "9/9 [==============================] - 0s 4ms/step - loss: 14.1343 - mse: 14.1343 - val_loss: 14.3383 - val_mse: 14.3383\n",
      "Epoch 34/50\n",
      "9/9 [==============================] - 0s 4ms/step - loss: 14.0792 - mse: 14.0792 - val_loss: 14.4002 - val_mse: 14.4002\n",
      "Epoch 35/50\n",
      "9/9 [==============================] - 0s 3ms/step - loss: 14.0636 - mse: 14.0636 - val_loss: 14.2153 - val_mse: 14.2153\n",
      "Epoch 36/50\n",
      "9/9 [==============================] - 0s 4ms/step - loss: 13.9653 - mse: 13.9653 - val_loss: 14.2870 - val_mse: 14.2870\n",
      "Epoch 37/50\n",
      "9/9 [==============================] - 0s 3ms/step - loss: 13.8994 - mse: 13.8994 - val_loss: 14.1939 - val_mse: 14.1939\n",
      "Epoch 38/50\n",
      "9/9 [==============================] - 0s 3ms/step - loss: 13.8548 - mse: 13.8548 - val_loss: 14.0732 - val_mse: 14.0732\n",
      "Epoch 39/50\n",
      "9/9 [==============================] - 0s 3ms/step - loss: 13.8012 - mse: 13.8012 - val_loss: 14.1432 - val_mse: 14.1432\n",
      "Epoch 40/50\n",
      "9/9 [==============================] - 0s 4ms/step - loss: 13.7616 - mse: 13.7616 - val_loss: 14.0794 - val_mse: 14.0794\n",
      "Epoch 41/50\n",
      "9/9 [==============================] - 0s 4ms/step - loss: 13.7123 - mse: 13.7123 - val_loss: 14.0256 - val_mse: 14.0256\n",
      "Epoch 42/50\n",
      "9/9 [==============================] - 0s 4ms/step - loss: 13.6569 - mse: 13.6569 - val_loss: 13.9769 - val_mse: 13.9769\n",
      "Epoch 43/50\n",
      "9/9 [==============================] - 0s 4ms/step - loss: 13.6342 - mse: 13.6342 - val_loss: 13.9581 - val_mse: 13.9581\n",
      "Epoch 44/50\n",
      "9/9 [==============================] - 0s 3ms/step - loss: 13.5794 - mse: 13.5794 - val_loss: 13.9096 - val_mse: 13.9096\n",
      "Epoch 45/50\n",
      "9/9 [==============================] - 0s 3ms/step - loss: 13.5290 - mse: 13.5290 - val_loss: 13.8630 - val_mse: 13.8630\n",
      "Epoch 46/50\n",
      "9/9 [==============================] - 0s 3ms/step - loss: 13.5089 - mse: 13.5089 - val_loss: 13.8244 - val_mse: 13.8244\n",
      "Epoch 47/50\n",
      "9/9 [==============================] - 0s 3ms/step - loss: 13.4824 - mse: 13.4824 - val_loss: 13.7788 - val_mse: 13.7788\n",
      "Epoch 48/50\n",
      "9/9 [==============================] - 0s 4ms/step - loss: 13.4440 - mse: 13.4440 - val_loss: 13.7844 - val_mse: 13.7844\n",
      "Epoch 49/50\n",
      "9/9 [==============================] - 0s 3ms/step - loss: 13.4417 - mse: 13.4417 - val_loss: 13.7209 - val_mse: 13.7209\n",
      "Epoch 50/50\n",
      "9/9 [==============================] - 0s 3ms/step - loss: 13.3695 - mse: 13.3695 - val_loss: 13.7140 - val_mse: 13.7140\n",
      "CPU times: user 2.3 s, sys: 308 ms, total: 2.6 s\n",
      "Wall time: 1.99 s\n"
     ]
    }
   ],
   "source": [
    "%%time\n",
    "\n",
    "EPOCHS = 50\n",
    "\n",
    "history = model.fit(\n",
    "    train_X, \n",
    "    train_y,  # prepared data\n",
    "    epochs=EPOCHS,\n",
    "    validation_data=(test_X, test_y),\n",
    "    verbose=1\n",
    ")"
   ]
  },
  {
   "cell_type": "code",
   "execution_count": 48,
   "metadata": {},
   "outputs": [
    {
     "data": {
      "image/png": "[encoded data removed]",
      "text/plain": [
       "<Figure size 432x288 with 1 Axes>"
      ]
     },
     "metadata": {
      "needs_background": "light"
     },
     "output_type": "display_data"
    },
    {
     "data": {
      "image/png": "[encoded data removed]",
      "text/plain": [
       "<Figure size 432x288 with 1 Axes>"
      ]
     },
     "metadata": {
      "needs_background": "light"
     },
     "output_type": "display_data"
    }
   ],
   "source": [
    "plot_mse(history.history)\n",
    "plot_loss(history.history)"
   ]
  },
  {
   "cell_type": "markdown",
   "metadata": {},
   "source": [
    "### Measure R-Squared "
   ]
  },
  {
   "cell_type": "code",
   "execution_count": 49,
   "metadata": {},
   "outputs": [],
   "source": [
    "from sklearn import metrics"
   ]
  },
  {
   "cell_type": "code",
   "execution_count": 50,
   "metadata": {},
   "outputs": [],
   "source": [
    "pred_train_y = model.predict(train_X)"
   ]
  },
  {
   "cell_type": "code",
   "execution_count": 51,
   "metadata": {},
   "outputs": [
    {
     "data": {
      "text/plain": [
       "0.8110822649781364"
      ]
     },
     "execution_count": 51,
     "metadata": {},
     "output_type": "execute_result"
    }
   ],
   "source": [
    "metrics.r2_score(pred_train_y, train_y)"
   ]
  },
  {
   "cell_type": "markdown",
   "metadata": {},
   "source": [
    "### Model Prediction and Measure Accuracy"
   ]
  },
  {
   "cell_type": "code",
   "execution_count": 52,
   "metadata": {},
   "outputs": [],
   "source": [
    "pred_y = model.predict(test_X)"
   ]
  },
  {
   "cell_type": "code",
   "execution_count": 53,
   "metadata": {},
   "outputs": [
    {
     "data": {
      "text/plain": [
       "3.7032437741948288"
      ]
     },
     "execution_count": 53,
     "metadata": {},
     "output_type": "execute_result"
    }
   ],
   "source": [
    "np.sqrt(metrics.mean_squared_error( test_y, pred_y )) "
   ]
  },
  {
   "cell_type": "markdown",
   "metadata": {},
   "source": [
    "The new data always need to be normalized with training data parameters (mean and standard deviation)."
   ]
  }
 ],
 "metadata": {
  "kernelspec": {
   "display_name": "Python 3",
   "language": "python",
   "name": "python3"
  },
  "language_info": {
   "codemirror_mode": {
    "name": "ipython",
    "version": 3
   },
   "file_extension": ".py",
   "mimetype": "text/x-python",
   "name": "python",
   "nbconvert_exporter": "python",
   "pygments_lexer": "ipython3",
   "version": "3.8.3"
  }
 },
 "nbformat": 4,
 "nbformat_minor": 2
}
