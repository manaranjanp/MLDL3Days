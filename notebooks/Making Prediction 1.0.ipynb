{
 "cells": [
  {
   "cell_type": "markdown",
   "metadata": {},
   "source": [
    "### Loading the saved model"
   ]
  },
  {
   "cell_type": "code",
   "execution_count": 2,
   "metadata": {},
   "outputs": [],
   "source": [
    "import pandas as pd\n",
    "from joblib import load\n",
    "#from sklearn.externals import joblib for older apis\n",
    "#from sklearn.externals import joblib\n",
    "#model_v1 = joblib.load('./cars.pkl')"
   ]
  },
  {
   "cell_type": "code",
   "execution_count": 3,
   "metadata": {},
   "outputs": [],
   "source": [
    "class CarPredictionModel():\n",
    "    \n",
    "    def __init__(self, model, features, rmse):\n",
    "        self.model = model\n",
    "        self.features = features\n",
    "        self.rmse = rmse"
   ]
  },
  {
   "cell_type": "code",
   "execution_count": 4,
   "metadata": {},
   "outputs": [],
   "source": [
    "model_v1 = load(\"cars.pkl\")"
   ]
  },
  {
   "cell_type": "code",
   "execution_count": 5,
   "metadata": {},
   "outputs": [
    {
     "data": {
      "text/plain": [
       "__main__.CarPredictionModel"
      ]
     },
     "execution_count": 5,
     "metadata": {},
     "output_type": "execute_result"
    }
   ],
   "source": [
    "type(model_v1)"
   ]
  },
  {
   "cell_type": "code",
   "execution_count": 6,
   "metadata": {},
   "outputs": [
    {
     "data": {
      "text/plain": [
       "LinearRegression()"
      ]
     },
     "execution_count": 6,
     "metadata": {},
     "output_type": "execute_result"
    }
   ],
   "source": [
    "model_v1.model"
   ]
  },
  {
   "cell_type": "code",
   "execution_count": 7,
   "metadata": {},
   "outputs": [
    {
     "data": {
      "text/plain": [
       "0.9877497605646017"
      ]
     },
     "execution_count": 7,
     "metadata": {},
     "output_type": "execute_result"
    }
   ],
   "source": [
    "model_v1.rmse"
   ]
  },
  {
   "cell_type": "code",
   "execution_count": 8,
   "metadata": {},
   "outputs": [
    {
     "data": {
      "text/plain": [
       "1.4783586370934283"
      ]
     },
     "execution_count": 8,
     "metadata": {},
     "output_type": "execute_result"
    }
   ],
   "source": [
    "model_v1.model.intercept_"
   ]
  },
  {
   "cell_type": "code",
   "execution_count": 9,
   "metadata": {},
   "outputs": [
    {
     "data": {
      "text/plain": [
       "41"
      ]
     },
     "execution_count": 9,
     "metadata": {},
     "output_type": "execute_result"
    }
   ],
   "source": [
    "len(model_v1.features)"
   ]
  },
  {
   "cell_type": "markdown",
   "metadata": {},
   "source": [
    "### Preparing the record for the new used-car for sale"
   ]
  },
  {
   "cell_type": "code",
   "execution_count": 12,
   "metadata": {},
   "outputs": [],
   "source": [
    "car_dict = {\n",
    "            'KM_Driven' : 55, \n",
    "            'Fuel_Type_Petrol' : 1,\n",
    "            'Transmission_Manual': 1, \n",
    "            'Owner_Type_First': 1,\n",
    "            'age': 5,\n",
    "            'Seats' : 5,\n",
    "            'make_maruti': 1,\n",
    "            'mileage_new' : 16, \n",
    "            'engine_new': 1000,\n",
    "            'power_new': 90,\n",
    "            'Location_Bangalore': 1\n",
    "            }"
   ]
  },
  {
   "cell_type": "code",
   "execution_count": 13,
   "metadata": {},
   "outputs": [],
   "source": [
    "my_car = {}\n",
    "for key in model_v1.features:\n",
    "    my_car[key] = 0"
   ]
  },
  {
   "cell_type": "code",
   "execution_count": 14,
   "metadata": {},
   "outputs": [],
   "source": [
    "for key in car_dict:\n",
    "    my_car[key] = car_dict[key]"
   ]
  },
  {
   "cell_type": "code",
   "execution_count": 15,
   "metadata": {},
   "outputs": [
    {
     "data": {
      "text/plain": [
       "{'KM_Driven': 55,\n",
       " 'age': 5,\n",
       " 'Seats': 5,\n",
       " 'mileage_new': 16,\n",
       " 'engine_new': 1000,\n",
       " 'power_new': 90,\n",
       " 'Fuel_Type_Diesel': 0,\n",
       " 'Fuel_Type_Petrol': 1,\n",
       " 'Transmission_Automatic': 0,\n",
       " 'Transmission_Manual': 1,\n",
       " 'Owner_Type_First': 1,\n",
       " 'Owner_Type_Fourth & Above': 0,\n",
       " 'Owner_Type_Second': 0,\n",
       " 'Owner_Type_Third': 0,\n",
       " 'make_ambassador': 0,\n",
       " 'make_chevrolet': 0,\n",
       " 'make_datsun': 0,\n",
       " 'make_fiat': 0,\n",
       " 'make_ford': 0,\n",
       " 'make_honda': 0,\n",
       " 'make_hyundai': 0,\n",
       " 'make_mahindra': 0,\n",
       " 'make_maruti': 1,\n",
       " 'make_mitsubishi': 0,\n",
       " 'make_nissan': 0,\n",
       " 'make_renault': 0,\n",
       " 'make_skoda': 0,\n",
       " 'make_tata': 0,\n",
       " 'make_toyota': 0,\n",
       " 'make_volkswagen': 0,\n",
       " 'Location_Ahmedabad': 0,\n",
       " 'Location_Bangalore': 1,\n",
       " 'Location_Chennai': 0,\n",
       " 'Location_Coimbatore': 0,\n",
       " 'Location_Delhi': 0,\n",
       " 'Location_Hyderabad': 0,\n",
       " 'Location_Jaipur': 0,\n",
       " 'Location_Kochi': 0,\n",
       " 'Location_Kolkata': 0,\n",
       " 'Location_Mumbai': 0,\n",
       " 'Location_Pune': 0}"
      ]
     },
     "execution_count": 15,
     "metadata": {},
     "output_type": "execute_result"
    }
   ],
   "source": [
    "my_car"
   ]
  },
  {
   "cell_type": "code",
   "execution_count": 16,
   "metadata": {},
   "outputs": [],
   "source": [
    "df = pd.DataFrame(my_car, index = [0])"
   ]
  },
  {
   "cell_type": "code",
   "execution_count": 22,
   "metadata": {},
   "outputs": [
    {
     "data": {
      "text/plain": [
       "(1, 41)"
      ]
     },
     "execution_count": 22,
     "metadata": {},
     "output_type": "execute_result"
    }
   ],
   "source": [
    "df.shape"
   ]
  },
  {
   "cell_type": "code",
   "execution_count": 23,
   "metadata": {},
   "outputs": [
    {
     "data": {
      "text/plain": [
       "array([-1.07853404e-02, -3.37985934e-01,  1.78720075e-01, -2.58427582e-02,\n",
       "        1.10238776e-03,  4.87346624e-02,  4.98706460e-01, -4.98706460e-01,\n",
       "        1.24616170e-01, -1.24616170e-01,  1.49308129e-01, -4.90098225e-01,\n",
       "       -7.77031464e-03,  3.48560411e-01,  5.55111512e-16, -6.83214880e-01,\n",
       "       -8.76927299e-01, -6.39601731e-01, -2.19154130e-02, -5.50663285e-03,\n",
       "        2.08252171e-01, -6.69597200e-01,  7.21161790e-01,  1.34236609e+00,\n",
       "       -5.30110523e-02,  1.53609202e-01,  7.16164188e-02, -8.21739633e-01,\n",
       "        1.09745419e+00,  1.77053987e-01, -6.66871587e-02,  4.18193570e-01,\n",
       "        9.05247375e-02,  8.41385660e-01, -4.90270994e-01,  4.45717644e-01,\n",
       "       -8.96446394e-02,  2.67312488e-01, -1.07632886e+00, -2.44020442e-01,\n",
       "       -9.61820072e-02])"
      ]
     },
     "execution_count": 23,
     "metadata": {},
     "output_type": "execute_result"
    }
   ],
   "source": [
    "model_v1.model.coef_"
   ]
  },
  {
   "cell_type": "markdown",
   "metadata": {},
   "source": [
    "### Predicting the price of the used car"
   ]
  },
  {
   "cell_type": "code",
   "execution_count": 18,
   "metadata": {},
   "outputs": [],
   "source": [
    "pred = model_v1.model.predict(df)"
   ]
  },
  {
   "cell_type": "code",
   "execution_count": 19,
   "metadata": {},
   "outputs": [
    {
     "data": {
      "text/plain": [
       "array([5.82919972])"
      ]
     },
     "execution_count": 19,
     "metadata": {},
     "output_type": "execute_result"
    }
   ],
   "source": [
    "pred"
   ]
  },
  {
   "cell_type": "code",
   "execution_count": null,
   "metadata": {},
   "outputs": [],
   "source": [
    "pred - model_v1.rmse, pred + model_v1.rmse"
   ]
  },
  {
   "cell_type": "code",
   "execution_count": null,
   "metadata": {},
   "outputs": [],
   "source": []
  }
 ],
 "metadata": {
  "kernelspec": {
   "display_name": "Python 3",
   "language": "python",
   "name": "python3"
  },
  "language_info": {
   "codemirror_mode": {
    "name": "ipython",
    "version": 3
   },
   "file_extension": ".py",
   "mimetype": "text/x-python",
   "name": "python",
   "nbconvert_exporter": "python",
   "pygments_lexer": "ipython3",
   "version": "3.8.3"
  }
 },
 "nbformat": 4,
 "nbformat_minor": 4
}
