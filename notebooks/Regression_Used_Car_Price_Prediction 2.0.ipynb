{
  "cells": [
    {
      "cell_type": "code",
      "source": [
        "from google.colab import drive\n",
        "drive.mount('/content/drive')"
      ],
      "metadata": {
        "id": "uLxr1ze7vPnp"
      },
      "execution_count": null,
      "outputs": []
    },
    {
      "cell_type": "markdown",
      "metadata": {
        "id": "fqwQ9OWYurQ1"
      },
      "source": [
        "# Regression Example: Used Car Price Prediction\n",
        "\n",
        "Regression analysis is a set of ML algorithms for estimating the relationships between a dependent (continuous) variable (also called the 'outcome' or 'response' variable) and one or more independent variables (often called 'predictors', or 'features').\n",
        "\n",
        "Source: https://en.wikipedia.org/wiki/Regression_analysis\n",
        "\n",
        "Other References:\n",
        "\n",
        "https://hbr.org/2015/11/a-refresher-on-regression-analysis"
      ]
    },
    {
      "cell_type": "markdown",
      "metadata": {
        "id": "nc_g3dXaurQ4"
      },
      "source": [
        "### Loading the Dataset"
      ]
    },
    {
      "cell_type": "code",
      "execution_count": null,
      "metadata": {
        "id": "sYgJGmqpurQ5"
      },
      "outputs": [],
      "source": [
        "import pandas as pd\n",
        "import numpy as np\n",
        "import matplotlib.pyplot as plt\n",
        "import seaborn as sn"
      ]
    },
    {
      "cell_type": "code",
      "execution_count": null,
      "metadata": {
        "id": "kwfTLUVWurQ6"
      },
      "outputs": [],
      "source": [
        "cars_df = pd.read_csv( \"/content/drive/MyDrive/MLDL3Days/notebooks/new_used_car.csv\" )"
      ]
    },
    {
      "cell_type": "code",
      "source": [
        "type(cars_df)"
      ],
      "metadata": {
        "id": "jfarffwXwbxI"
      },
      "execution_count": null,
      "outputs": []
    },
    {
      "cell_type": "code",
      "execution_count": 7,
      "metadata": {
        "colab": {
          "base_uri": "https://localhost:8080/",
          "height": 206
        },
        "id": "OyLTdKjRurQ7",
        "outputId": "197ca72f-85b7-438e-8ff7-510b6b433dcd"
      },
      "outputs": [
        {
          "output_type": "execute_result",
          "data": {
            "text/plain": [
              "       Location Fuel_Type Transmission Owner_Type  Seats  Price   mlg  age  \\\n",
              "428   Ahmedabad    Petrol       Manual      First    5.0   3.20  18.9    5   \n",
              "1773  Hyderabad    Diesel       Manual      First    5.0   3.50  21.1   10   \n",
              "187   Hyderabad    Diesel       Manual     Second    5.0   3.20  21.1   10   \n",
              "584        Pune    Diesel       Manual     Second    5.0   2.25  19.0   10   \n",
              "28    Hyderabad    Petrol       Manual      First    5.0   2.25  18.2   10   \n",
              "\n",
              "        make  model  mileage_new  engine_new  power_new  KM_Driven  \n",
              "428   maruti  wagon         18.9       998.0       67.1         51  \n",
              "1773  maruti   ritz         21.1      1248.0       73.9        110  \n",
              "187   maruti   ritz         21.1      1248.0       73.9         68  \n",
              "584     fiat  linea         19.0      1248.0       93.0        172  \n",
              "28    maruti    zen         18.2       998.0       67.1         39  "
            ],
            "text/html": [
              "\n",
              "  <div id=\"df-5c25b643-a470-4400-8c61-f06a92d41bd8\">\n",
              "    <div class=\"colab-df-container\">\n",
              "      <div>\n",
              "<style scoped>\n",
              "    .dataframe tbody tr th:only-of-type {\n",
              "        vertical-align: middle;\n",
              "    }\n",
              "\n",
              "    .dataframe tbody tr th {\n",
              "        vertical-align: top;\n",
              "    }\n",
              "\n",
              "    .dataframe thead th {\n",
              "        text-align: right;\n",
              "    }\n",
              "</style>\n",
              "<table border=\"1\" class=\"dataframe\">\n",
              "  <thead>\n",
              "    <tr style=\"text-align: right;\">\n",
              "      <th></th>\n",
              "      <th>Location</th>\n",
              "      <th>Fuel_Type</th>\n",
              "      <th>Transmission</th>\n",
              "      <th>Owner_Type</th>\n",
              "      <th>Seats</th>\n",
              "      <th>Price</th>\n",
              "      <th>mlg</th>\n",
              "      <th>age</th>\n",
              "      <th>make</th>\n",
              "      <th>model</th>\n",
              "      <th>mileage_new</th>\n",
              "      <th>engine_new</th>\n",
              "      <th>power_new</th>\n",
              "      <th>KM_Driven</th>\n",
              "    </tr>\n",
              "  </thead>\n",
              "  <tbody>\n",
              "    <tr>\n",
              "      <th>428</th>\n",
              "      <td>Ahmedabad</td>\n",
              "      <td>Petrol</td>\n",
              "      <td>Manual</td>\n",
              "      <td>First</td>\n",
              "      <td>5.0</td>\n",
              "      <td>3.20</td>\n",
              "      <td>18.9</td>\n",
              "      <td>5</td>\n",
              "      <td>maruti</td>\n",
              "      <td>wagon</td>\n",
              "      <td>18.9</td>\n",
              "      <td>998.0</td>\n",
              "      <td>67.1</td>\n",
              "      <td>51</td>\n",
              "    </tr>\n",
              "    <tr>\n",
              "      <th>1773</th>\n",
              "      <td>Hyderabad</td>\n",
              "      <td>Diesel</td>\n",
              "      <td>Manual</td>\n",
              "      <td>First</td>\n",
              "      <td>5.0</td>\n",
              "      <td>3.50</td>\n",
              "      <td>21.1</td>\n",
              "      <td>10</td>\n",
              "      <td>maruti</td>\n",
              "      <td>ritz</td>\n",
              "      <td>21.1</td>\n",
              "      <td>1248.0</td>\n",
              "      <td>73.9</td>\n",
              "      <td>110</td>\n",
              "    </tr>\n",
              "    <tr>\n",
              "      <th>187</th>\n",
              "      <td>Hyderabad</td>\n",
              "      <td>Diesel</td>\n",
              "      <td>Manual</td>\n",
              "      <td>Second</td>\n",
              "      <td>5.0</td>\n",
              "      <td>3.20</td>\n",
              "      <td>21.1</td>\n",
              "      <td>10</td>\n",
              "      <td>maruti</td>\n",
              "      <td>ritz</td>\n",
              "      <td>21.1</td>\n",
              "      <td>1248.0</td>\n",
              "      <td>73.9</td>\n",
              "      <td>68</td>\n",
              "    </tr>\n",
              "    <tr>\n",
              "      <th>584</th>\n",
              "      <td>Pune</td>\n",
              "      <td>Diesel</td>\n",
              "      <td>Manual</td>\n",
              "      <td>Second</td>\n",
              "      <td>5.0</td>\n",
              "      <td>2.25</td>\n",
              "      <td>19.0</td>\n",
              "      <td>10</td>\n",
              "      <td>fiat</td>\n",
              "      <td>linea</td>\n",
              "      <td>19.0</td>\n",
              "      <td>1248.0</td>\n",
              "      <td>93.0</td>\n",
              "      <td>172</td>\n",
              "    </tr>\n",
              "    <tr>\n",
              "      <th>28</th>\n",
              "      <td>Hyderabad</td>\n",
              "      <td>Petrol</td>\n",
              "      <td>Manual</td>\n",
              "      <td>First</td>\n",
              "      <td>5.0</td>\n",
              "      <td>2.25</td>\n",
              "      <td>18.2</td>\n",
              "      <td>10</td>\n",
              "      <td>maruti</td>\n",
              "      <td>zen</td>\n",
              "      <td>18.2</td>\n",
              "      <td>998.0</td>\n",
              "      <td>67.1</td>\n",
              "      <td>39</td>\n",
              "    </tr>\n",
              "  </tbody>\n",
              "</table>\n",
              "</div>\n",
              "      <button class=\"colab-df-convert\" onclick=\"convertToInteractive('df-5c25b643-a470-4400-8c61-f06a92d41bd8')\"\n",
              "              title=\"Convert this dataframe to an interactive table.\"\n",
              "              style=\"display:none;\">\n",
              "        \n",
              "  <svg xmlns=\"http://www.w3.org/2000/svg\" height=\"24px\"viewBox=\"0 0 24 24\"\n",
              "       width=\"24px\">\n",
              "    <path d=\"M0 0h24v24H0V0z\" fill=\"none\"/>\n",
              "    <path d=\"M18.56 5.44l.94 2.06.94-2.06 2.06-.94-2.06-.94-.94-2.06-.94 2.06-2.06.94zm-11 1L8.5 8.5l.94-2.06 2.06-.94-2.06-.94L8.5 2.5l-.94 2.06-2.06.94zm10 10l.94 2.06.94-2.06 2.06-.94-2.06-.94-.94-2.06-.94 2.06-2.06.94z\"/><path d=\"M17.41 7.96l-1.37-1.37c-.4-.4-.92-.59-1.43-.59-.52 0-1.04.2-1.43.59L10.3 9.45l-7.72 7.72c-.78.78-.78 2.05 0 2.83L4 21.41c.39.39.9.59 1.41.59.51 0 1.02-.2 1.41-.59l7.78-7.78 2.81-2.81c.8-.78.8-2.07 0-2.86zM5.41 20L4 18.59l7.72-7.72 1.47 1.35L5.41 20z\"/>\n",
              "  </svg>\n",
              "      </button>\n",
              "      \n",
              "  <style>\n",
              "    .colab-df-container {\n",
              "      display:flex;\n",
              "      flex-wrap:wrap;\n",
              "      gap: 12px;\n",
              "    }\n",
              "\n",
              "    .colab-df-convert {\n",
              "      background-color: #E8F0FE;\n",
              "      border: none;\n",
              "      border-radius: 50%;\n",
              "      cursor: pointer;\n",
              "      display: none;\n",
              "      fill: #1967D2;\n",
              "      height: 32px;\n",
              "      padding: 0 0 0 0;\n",
              "      width: 32px;\n",
              "    }\n",
              "\n",
              "    .colab-df-convert:hover {\n",
              "      background-color: #E2EBFA;\n",
              "      box-shadow: 0px 1px 2px rgba(60, 64, 67, 0.3), 0px 1px 3px 1px rgba(60, 64, 67, 0.15);\n",
              "      fill: #174EA6;\n",
              "    }\n",
              "\n",
              "    [theme=dark] .colab-df-convert {\n",
              "      background-color: #3B4455;\n",
              "      fill: #D2E3FC;\n",
              "    }\n",
              "\n",
              "    [theme=dark] .colab-df-convert:hover {\n",
              "      background-color: #434B5C;\n",
              "      box-shadow: 0px 1px 3px 1px rgba(0, 0, 0, 0.15);\n",
              "      filter: drop-shadow(0px 1px 2px rgba(0, 0, 0, 0.3));\n",
              "      fill: #FFFFFF;\n",
              "    }\n",
              "  </style>\n",
              "\n",
              "      <script>\n",
              "        const buttonEl =\n",
              "          document.querySelector('#df-5c25b643-a470-4400-8c61-f06a92d41bd8 button.colab-df-convert');\n",
              "        buttonEl.style.display =\n",
              "          google.colab.kernel.accessAllowed ? 'block' : 'none';\n",
              "\n",
              "        async function convertToInteractive(key) {\n",
              "          const element = document.querySelector('#df-5c25b643-a470-4400-8c61-f06a92d41bd8');\n",
              "          const dataTable =\n",
              "            await google.colab.kernel.invokeFunction('convertToInteractive',\n",
              "                                                     [key], {});\n",
              "          if (!dataTable) return;\n",
              "\n",
              "          const docLinkHtml = 'Like what you see? Visit the ' +\n",
              "            '<a target=\"_blank\" href=https://colab.research.google.com/notebooks/data_table.ipynb>data table notebook</a>'\n",
              "            + ' to learn more about interactive tables.';\n",
              "          element.innerHTML = '';\n",
              "          dataTable['output_type'] = 'display_data';\n",
              "          await google.colab.output.renderOutput(dataTable, element);\n",
              "          const docLink = document.createElement('div');\n",
              "          docLink.innerHTML = docLinkHtml;\n",
              "          element.appendChild(docLink);\n",
              "        }\n",
              "      </script>\n",
              "    </div>\n",
              "  </div>\n",
              "  "
            ]
          },
          "metadata": {},
          "execution_count": 7
        }
      ],
      "source": [
        "cars_df.sample(5)"
      ]
    },
    {
      "cell_type": "code",
      "source": [
        "cars_df.sample(5, random_state = 100)"
      ],
      "metadata": {
        "colab": {
          "base_uri": "https://localhost:8080/",
          "height": 206
        },
        "id": "Bvomy5TbtyCL",
        "outputId": "95461a21-38e3-47d0-f817-31dd78bd6070"
      },
      "execution_count": 10,
      "outputs": [
        {
          "output_type": "execute_result",
          "data": {
            "text/plain": [
              "     Location Fuel_Type Transmission Owner_Type  Seats  Price    mlg  age  \\\n",
              "1587   Mumbai    Petrol       Manual      First    5.0   1.46  19.00   11   \n",
              "1888   Mumbai    Diesel       Manual     Second    5.0   4.50  24.40    4   \n",
              "845   Chennai    Petrol    Automatic      First    5.0   3.96  16.95    7   \n",
              "362   Chennai    Petrol       Manual      First    4.0   1.60  25.40    9   \n",
              "2858    Kochi    Diesel       Manual     Second    5.0   7.97  28.09    2   \n",
              "\n",
              "         make  model  mileage_new  engine_new  power_new  KM_Driven  \n",
              "1587   maruti    zen        19.00       998.0      67.10         47  \n",
              "1888  hyundai  xcent        24.40      1120.0      71.00         63  \n",
              "845   hyundai    i10        16.95      1197.0      78.90         21  \n",
              "362      tata   nano        25.40       624.0      37.48         35  \n",
              "2858   maruti   ciaz        28.09      1248.0      88.50         17  "
            ],
            "text/html": [
              "\n",
              "  <div id=\"df-68b1d849-2406-4be2-b293-4edbced7c308\">\n",
              "    <div class=\"colab-df-container\">\n",
              "      <div>\n",
              "<style scoped>\n",
              "    .dataframe tbody tr th:only-of-type {\n",
              "        vertical-align: middle;\n",
              "    }\n",
              "\n",
              "    .dataframe tbody tr th {\n",
              "        vertical-align: top;\n",
              "    }\n",
              "\n",
              "    .dataframe thead th {\n",
              "        text-align: right;\n",
              "    }\n",
              "</style>\n",
              "<table border=\"1\" class=\"dataframe\">\n",
              "  <thead>\n",
              "    <tr style=\"text-align: right;\">\n",
              "      <th></th>\n",
              "      <th>Location</th>\n",
              "      <th>Fuel_Type</th>\n",
              "      <th>Transmission</th>\n",
              "      <th>Owner_Type</th>\n",
              "      <th>Seats</th>\n",
              "      <th>Price</th>\n",
              "      <th>mlg</th>\n",
              "      <th>age</th>\n",
              "      <th>make</th>\n",
              "      <th>model</th>\n",
              "      <th>mileage_new</th>\n",
              "      <th>engine_new</th>\n",
              "      <th>power_new</th>\n",
              "      <th>KM_Driven</th>\n",
              "    </tr>\n",
              "  </thead>\n",
              "  <tbody>\n",
              "    <tr>\n",
              "      <th>1587</th>\n",
              "      <td>Mumbai</td>\n",
              "      <td>Petrol</td>\n",
              "      <td>Manual</td>\n",
              "      <td>First</td>\n",
              "      <td>5.0</td>\n",
              "      <td>1.46</td>\n",
              "      <td>19.00</td>\n",
              "      <td>11</td>\n",
              "      <td>maruti</td>\n",
              "      <td>zen</td>\n",
              "      <td>19.00</td>\n",
              "      <td>998.0</td>\n",
              "      <td>67.10</td>\n",
              "      <td>47</td>\n",
              "    </tr>\n",
              "    <tr>\n",
              "      <th>1888</th>\n",
              "      <td>Mumbai</td>\n",
              "      <td>Diesel</td>\n",
              "      <td>Manual</td>\n",
              "      <td>Second</td>\n",
              "      <td>5.0</td>\n",
              "      <td>4.50</td>\n",
              "      <td>24.40</td>\n",
              "      <td>4</td>\n",
              "      <td>hyundai</td>\n",
              "      <td>xcent</td>\n",
              "      <td>24.40</td>\n",
              "      <td>1120.0</td>\n",
              "      <td>71.00</td>\n",
              "      <td>63</td>\n",
              "    </tr>\n",
              "    <tr>\n",
              "      <th>845</th>\n",
              "      <td>Chennai</td>\n",
              "      <td>Petrol</td>\n",
              "      <td>Automatic</td>\n",
              "      <td>First</td>\n",
              "      <td>5.0</td>\n",
              "      <td>3.96</td>\n",
              "      <td>16.95</td>\n",
              "      <td>7</td>\n",
              "      <td>hyundai</td>\n",
              "      <td>i10</td>\n",
              "      <td>16.95</td>\n",
              "      <td>1197.0</td>\n",
              "      <td>78.90</td>\n",
              "      <td>21</td>\n",
              "    </tr>\n",
              "    <tr>\n",
              "      <th>362</th>\n",
              "      <td>Chennai</td>\n",
              "      <td>Petrol</td>\n",
              "      <td>Manual</td>\n",
              "      <td>First</td>\n",
              "      <td>4.0</td>\n",
              "      <td>1.60</td>\n",
              "      <td>25.40</td>\n",
              "      <td>9</td>\n",
              "      <td>tata</td>\n",
              "      <td>nano</td>\n",
              "      <td>25.40</td>\n",
              "      <td>624.0</td>\n",
              "      <td>37.48</td>\n",
              "      <td>35</td>\n",
              "    </tr>\n",
              "    <tr>\n",
              "      <th>2858</th>\n",
              "      <td>Kochi</td>\n",
              "      <td>Diesel</td>\n",
              "      <td>Manual</td>\n",
              "      <td>Second</td>\n",
              "      <td>5.0</td>\n",
              "      <td>7.97</td>\n",
              "      <td>28.09</td>\n",
              "      <td>2</td>\n",
              "      <td>maruti</td>\n",
              "      <td>ciaz</td>\n",
              "      <td>28.09</td>\n",
              "      <td>1248.0</td>\n",
              "      <td>88.50</td>\n",
              "      <td>17</td>\n",
              "    </tr>\n",
              "  </tbody>\n",
              "</table>\n",
              "</div>\n",
              "      <button class=\"colab-df-convert\" onclick=\"convertToInteractive('df-68b1d849-2406-4be2-b293-4edbced7c308')\"\n",
              "              title=\"Convert this dataframe to an interactive table.\"\n",
              "              style=\"display:none;\">\n",
              "        \n",
              "  <svg xmlns=\"http://www.w3.org/2000/svg\" height=\"24px\"viewBox=\"0 0 24 24\"\n",
              "       width=\"24px\">\n",
              "    <path d=\"M0 0h24v24H0V0z\" fill=\"none\"/>\n",
              "    <path d=\"M18.56 5.44l.94 2.06.94-2.06 2.06-.94-2.06-.94-.94-2.06-.94 2.06-2.06.94zm-11 1L8.5 8.5l.94-2.06 2.06-.94-2.06-.94L8.5 2.5l-.94 2.06-2.06.94zm10 10l.94 2.06.94-2.06 2.06-.94-2.06-.94-.94-2.06-.94 2.06-2.06.94z\"/><path d=\"M17.41 7.96l-1.37-1.37c-.4-.4-.92-.59-1.43-.59-.52 0-1.04.2-1.43.59L10.3 9.45l-7.72 7.72c-.78.78-.78 2.05 0 2.83L4 21.41c.39.39.9.59 1.41.59.51 0 1.02-.2 1.41-.59l7.78-7.78 2.81-2.81c.8-.78.8-2.07 0-2.86zM5.41 20L4 18.59l7.72-7.72 1.47 1.35L5.41 20z\"/>\n",
              "  </svg>\n",
              "      </button>\n",
              "      \n",
              "  <style>\n",
              "    .colab-df-container {\n",
              "      display:flex;\n",
              "      flex-wrap:wrap;\n",
              "      gap: 12px;\n",
              "    }\n",
              "\n",
              "    .colab-df-convert {\n",
              "      background-color: #E8F0FE;\n",
              "      border: none;\n",
              "      border-radius: 50%;\n",
              "      cursor: pointer;\n",
              "      display: none;\n",
              "      fill: #1967D2;\n",
              "      height: 32px;\n",
              "      padding: 0 0 0 0;\n",
              "      width: 32px;\n",
              "    }\n",
              "\n",
              "    .colab-df-convert:hover {\n",
              "      background-color: #E2EBFA;\n",
              "      box-shadow: 0px 1px 2px rgba(60, 64, 67, 0.3), 0px 1px 3px 1px rgba(60, 64, 67, 0.15);\n",
              "      fill: #174EA6;\n",
              "    }\n",
              "\n",
              "    [theme=dark] .colab-df-convert {\n",
              "      background-color: #3B4455;\n",
              "      fill: #D2E3FC;\n",
              "    }\n",
              "\n",
              "    [theme=dark] .colab-df-convert:hover {\n",
              "      background-color: #434B5C;\n",
              "      box-shadow: 0px 1px 3px 1px rgba(0, 0, 0, 0.15);\n",
              "      filter: drop-shadow(0px 1px 2px rgba(0, 0, 0, 0.3));\n",
              "      fill: #FFFFFF;\n",
              "    }\n",
              "  </style>\n",
              "\n",
              "      <script>\n",
              "        const buttonEl =\n",
              "          document.querySelector('#df-68b1d849-2406-4be2-b293-4edbced7c308 button.colab-df-convert');\n",
              "        buttonEl.style.display =\n",
              "          google.colab.kernel.accessAllowed ? 'block' : 'none';\n",
              "\n",
              "        async function convertToInteractive(key) {\n",
              "          const element = document.querySelector('#df-68b1d849-2406-4be2-b293-4edbced7c308');\n",
              "          const dataTable =\n",
              "            await google.colab.kernel.invokeFunction('convertToInteractive',\n",
              "                                                     [key], {});\n",
              "          if (!dataTable) return;\n",
              "\n",
              "          const docLinkHtml = 'Like what you see? Visit the ' +\n",
              "            '<a target=\"_blank\" href=https://colab.research.google.com/notebooks/data_table.ipynb>data table notebook</a>'\n",
              "            + ' to learn more about interactive tables.';\n",
              "          element.innerHTML = '';\n",
              "          dataTable['output_type'] = 'display_data';\n",
              "          await google.colab.output.renderOutput(dataTable, element);\n",
              "          const docLink = document.createElement('div');\n",
              "          docLink.innerHTML = docLinkHtml;\n",
              "          element.appendChild(docLink);\n",
              "        }\n",
              "      </script>\n",
              "    </div>\n",
              "  </div>\n",
              "  "
            ]
          },
          "metadata": {},
          "execution_count": 10
        }
      ]
    },
    {
      "cell_type": "code",
      "source": [
        "cars_df.head(5)"
      ],
      "metadata": {
        "colab": {
          "base_uri": "https://localhost:8080/",
          "height": 206
        },
        "id": "980CDuRhw5ls",
        "outputId": "0ad0ab86-8da0-47ad-c9ef-66153312c116"
      },
      "execution_count": 8,
      "outputs": [
        {
          "output_type": "execute_result",
          "data": {
            "text/plain": [
              "  Location Fuel_Type Transmission Owner_Type  Seats  Price    mlg  age  \\\n",
              "0  Chennai    Petrol       Manual      First    5.0   4.50  18.20    9   \n",
              "1  Chennai    Diesel       Manual      First    7.0   6.00  20.77    8   \n",
              "2   Jaipur    Diesel       Manual      First    5.0   3.50  23.08    7   \n",
              "3  Chennai    Diesel       Manual     Second    5.0   1.95  22.30    8   \n",
              "4   Jaipur    Diesel       Manual      First    5.0   5.60  25.20    5   \n",
              "\n",
              "     make   model  mileage_new  engine_new  power_new  KM_Driven  \n",
              "0   honda    jazz        18.20      1199.0      88.70         46  \n",
              "1  maruti  ertiga        20.77      1248.0      88.76         87  \n",
              "2  nissan   micra        23.08      1461.0      63.10         86  \n",
              "3    tata  indica        22.30      1248.0      74.00         65  \n",
              "4  maruti   swift        25.20      1248.0      74.00         64  "
            ],
            "text/html": [
              "\n",
              "  <div id=\"df-03542ac2-a1d6-4e92-8f28-55c9fbf2937d\">\n",
              "    <div class=\"colab-df-container\">\n",
              "      <div>\n",
              "<style scoped>\n",
              "    .dataframe tbody tr th:only-of-type {\n",
              "        vertical-align: middle;\n",
              "    }\n",
              "\n",
              "    .dataframe tbody tr th {\n",
              "        vertical-align: top;\n",
              "    }\n",
              "\n",
              "    .dataframe thead th {\n",
              "        text-align: right;\n",
              "    }\n",
              "</style>\n",
              "<table border=\"1\" class=\"dataframe\">\n",
              "  <thead>\n",
              "    <tr style=\"text-align: right;\">\n",
              "      <th></th>\n",
              "      <th>Location</th>\n",
              "      <th>Fuel_Type</th>\n",
              "      <th>Transmission</th>\n",
              "      <th>Owner_Type</th>\n",
              "      <th>Seats</th>\n",
              "      <th>Price</th>\n",
              "      <th>mlg</th>\n",
              "      <th>age</th>\n",
              "      <th>make</th>\n",
              "      <th>model</th>\n",
              "      <th>mileage_new</th>\n",
              "      <th>engine_new</th>\n",
              "      <th>power_new</th>\n",
              "      <th>KM_Driven</th>\n",
              "    </tr>\n",
              "  </thead>\n",
              "  <tbody>\n",
              "    <tr>\n",
              "      <th>0</th>\n",
              "      <td>Chennai</td>\n",
              "      <td>Petrol</td>\n",
              "      <td>Manual</td>\n",
              "      <td>First</td>\n",
              "      <td>5.0</td>\n",
              "      <td>4.50</td>\n",
              "      <td>18.20</td>\n",
              "      <td>9</td>\n",
              "      <td>honda</td>\n",
              "      <td>jazz</td>\n",
              "      <td>18.20</td>\n",
              "      <td>1199.0</td>\n",
              "      <td>88.70</td>\n",
              "      <td>46</td>\n",
              "    </tr>\n",
              "    <tr>\n",
              "      <th>1</th>\n",
              "      <td>Chennai</td>\n",
              "      <td>Diesel</td>\n",
              "      <td>Manual</td>\n",
              "      <td>First</td>\n",
              "      <td>7.0</td>\n",
              "      <td>6.00</td>\n",
              "      <td>20.77</td>\n",
              "      <td>8</td>\n",
              "      <td>maruti</td>\n",
              "      <td>ertiga</td>\n",
              "      <td>20.77</td>\n",
              "      <td>1248.0</td>\n",
              "      <td>88.76</td>\n",
              "      <td>87</td>\n",
              "    </tr>\n",
              "    <tr>\n",
              "      <th>2</th>\n",
              "      <td>Jaipur</td>\n",
              "      <td>Diesel</td>\n",
              "      <td>Manual</td>\n",
              "      <td>First</td>\n",
              "      <td>5.0</td>\n",
              "      <td>3.50</td>\n",
              "      <td>23.08</td>\n",
              "      <td>7</td>\n",
              "      <td>nissan</td>\n",
              "      <td>micra</td>\n",
              "      <td>23.08</td>\n",
              "      <td>1461.0</td>\n",
              "      <td>63.10</td>\n",
              "      <td>86</td>\n",
              "    </tr>\n",
              "    <tr>\n",
              "      <th>3</th>\n",
              "      <td>Chennai</td>\n",
              "      <td>Diesel</td>\n",
              "      <td>Manual</td>\n",
              "      <td>Second</td>\n",
              "      <td>5.0</td>\n",
              "      <td>1.95</td>\n",
              "      <td>22.30</td>\n",
              "      <td>8</td>\n",
              "      <td>tata</td>\n",
              "      <td>indica</td>\n",
              "      <td>22.30</td>\n",
              "      <td>1248.0</td>\n",
              "      <td>74.00</td>\n",
              "      <td>65</td>\n",
              "    </tr>\n",
              "    <tr>\n",
              "      <th>4</th>\n",
              "      <td>Jaipur</td>\n",
              "      <td>Diesel</td>\n",
              "      <td>Manual</td>\n",
              "      <td>First</td>\n",
              "      <td>5.0</td>\n",
              "      <td>5.60</td>\n",
              "      <td>25.20</td>\n",
              "      <td>5</td>\n",
              "      <td>maruti</td>\n",
              "      <td>swift</td>\n",
              "      <td>25.20</td>\n",
              "      <td>1248.0</td>\n",
              "      <td>74.00</td>\n",
              "      <td>64</td>\n",
              "    </tr>\n",
              "  </tbody>\n",
              "</table>\n",
              "</div>\n",
              "      <button class=\"colab-df-convert\" onclick=\"convertToInteractive('df-03542ac2-a1d6-4e92-8f28-55c9fbf2937d')\"\n",
              "              title=\"Convert this dataframe to an interactive table.\"\n",
              "              style=\"display:none;\">\n",
              "        \n",
              "  <svg xmlns=\"http://www.w3.org/2000/svg\" height=\"24px\"viewBox=\"0 0 24 24\"\n",
              "       width=\"24px\">\n",
              "    <path d=\"M0 0h24v24H0V0z\" fill=\"none\"/>\n",
              "    <path d=\"M18.56 5.44l.94 2.06.94-2.06 2.06-.94-2.06-.94-.94-2.06-.94 2.06-2.06.94zm-11 1L8.5 8.5l.94-2.06 2.06-.94-2.06-.94L8.5 2.5l-.94 2.06-2.06.94zm10 10l.94 2.06.94-2.06 2.06-.94-2.06-.94-.94-2.06-.94 2.06-2.06.94z\"/><path d=\"M17.41 7.96l-1.37-1.37c-.4-.4-.92-.59-1.43-.59-.52 0-1.04.2-1.43.59L10.3 9.45l-7.72 7.72c-.78.78-.78 2.05 0 2.83L4 21.41c.39.39.9.59 1.41.59.51 0 1.02-.2 1.41-.59l7.78-7.78 2.81-2.81c.8-.78.8-2.07 0-2.86zM5.41 20L4 18.59l7.72-7.72 1.47 1.35L5.41 20z\"/>\n",
              "  </svg>\n",
              "      </button>\n",
              "      \n",
              "  <style>\n",
              "    .colab-df-container {\n",
              "      display:flex;\n",
              "      flex-wrap:wrap;\n",
              "      gap: 12px;\n",
              "    }\n",
              "\n",
              "    .colab-df-convert {\n",
              "      background-color: #E8F0FE;\n",
              "      border: none;\n",
              "      border-radius: 50%;\n",
              "      cursor: pointer;\n",
              "      display: none;\n",
              "      fill: #1967D2;\n",
              "      height: 32px;\n",
              "      padding: 0 0 0 0;\n",
              "      width: 32px;\n",
              "    }\n",
              "\n",
              "    .colab-df-convert:hover {\n",
              "      background-color: #E2EBFA;\n",
              "      box-shadow: 0px 1px 2px rgba(60, 64, 67, 0.3), 0px 1px 3px 1px rgba(60, 64, 67, 0.15);\n",
              "      fill: #174EA6;\n",
              "    }\n",
              "\n",
              "    [theme=dark] .colab-df-convert {\n",
              "      background-color: #3B4455;\n",
              "      fill: #D2E3FC;\n",
              "    }\n",
              "\n",
              "    [theme=dark] .colab-df-convert:hover {\n",
              "      background-color: #434B5C;\n",
              "      box-shadow: 0px 1px 3px 1px rgba(0, 0, 0, 0.15);\n",
              "      filter: drop-shadow(0px 1px 2px rgba(0, 0, 0, 0.3));\n",
              "      fill: #FFFFFF;\n",
              "    }\n",
              "  </style>\n",
              "\n",
              "      <script>\n",
              "        const buttonEl =\n",
              "          document.querySelector('#df-03542ac2-a1d6-4e92-8f28-55c9fbf2937d button.colab-df-convert');\n",
              "        buttonEl.style.display =\n",
              "          google.colab.kernel.accessAllowed ? 'block' : 'none';\n",
              "\n",
              "        async function convertToInteractive(key) {\n",
              "          const element = document.querySelector('#df-03542ac2-a1d6-4e92-8f28-55c9fbf2937d');\n",
              "          const dataTable =\n",
              "            await google.colab.kernel.invokeFunction('convertToInteractive',\n",
              "                                                     [key], {});\n",
              "          if (!dataTable) return;\n",
              "\n",
              "          const docLinkHtml = 'Like what you see? Visit the ' +\n",
              "            '<a target=\"_blank\" href=https://colab.research.google.com/notebooks/data_table.ipynb>data table notebook</a>'\n",
              "            + ' to learn more about interactive tables.';\n",
              "          element.innerHTML = '';\n",
              "          dataTable['output_type'] = 'display_data';\n",
              "          await google.colab.output.renderOutput(dataTable, element);\n",
              "          const docLink = document.createElement('div');\n",
              "          docLink.innerHTML = docLinkHtml;\n",
              "          element.appendChild(docLink);\n",
              "        }\n",
              "      </script>\n",
              "    </div>\n",
              "  </div>\n",
              "  "
            ]
          },
          "metadata": {},
          "execution_count": 8
        }
      ]
    },
    {
      "cell_type": "code",
      "source": [
        "cars_df.tail(5)"
      ],
      "metadata": {
        "colab": {
          "base_uri": "https://localhost:8080/",
          "height": 206
        },
        "id": "DbZOkt6xjwQw",
        "outputId": "8f60f329-3f41-4de8-a9f9-39cff12d2a22"
      },
      "execution_count": 9,
      "outputs": [
        {
          "output_type": "execute_result",
          "data": {
            "text/plain": [
              "        Location Fuel_Type Transmission Owner_Type  Seats  Price    mlg  age  \\\n",
              "3087  Coimbatore    Diesel       Manual      First    5.0   4.83  25.80    5   \n",
              "3088       Delhi    Diesel       Manual      First    5.0   4.75  28.40    6   \n",
              "3089      Jaipur    Diesel       Manual      First    5.0   4.00  24.40    5   \n",
              "3090     Kolkata    Petrol       Manual      First    5.0   2.65  18.90    7   \n",
              "3091   Hyderabad    Diesel       Manual      First    5.0   2.50  25.44    9   \n",
              "\n",
              "           make  model  mileage_new  engine_new  power_new  KM_Driven  \n",
              "3087      honda  amaze        25.80      1498.0       98.6         70  \n",
              "3088     maruti  swift        28.40      1248.0       74.0         27  \n",
              "3089    hyundai  xcent        24.40      1120.0       71.0        100  \n",
              "3090     maruti  wagon        18.90       998.0       67.1         46  \n",
              "3091  chevrolet   beat        25.44       936.0       57.6         47  "
            ],
            "text/html": [
              "\n",
              "  <div id=\"df-eb6494ed-aae7-4f74-b1c3-42700e98ce62\">\n",
              "    <div class=\"colab-df-container\">\n",
              "      <div>\n",
              "<style scoped>\n",
              "    .dataframe tbody tr th:only-of-type {\n",
              "        vertical-align: middle;\n",
              "    }\n",
              "\n",
              "    .dataframe tbody tr th {\n",
              "        vertical-align: top;\n",
              "    }\n",
              "\n",
              "    .dataframe thead th {\n",
              "        text-align: right;\n",
              "    }\n",
              "</style>\n",
              "<table border=\"1\" class=\"dataframe\">\n",
              "  <thead>\n",
              "    <tr style=\"text-align: right;\">\n",
              "      <th></th>\n",
              "      <th>Location</th>\n",
              "      <th>Fuel_Type</th>\n",
              "      <th>Transmission</th>\n",
              "      <th>Owner_Type</th>\n",
              "      <th>Seats</th>\n",
              "      <th>Price</th>\n",
              "      <th>mlg</th>\n",
              "      <th>age</th>\n",
              "      <th>make</th>\n",
              "      <th>model</th>\n",
              "      <th>mileage_new</th>\n",
              "      <th>engine_new</th>\n",
              "      <th>power_new</th>\n",
              "      <th>KM_Driven</th>\n",
              "    </tr>\n",
              "  </thead>\n",
              "  <tbody>\n",
              "    <tr>\n",
              "      <th>3087</th>\n",
              "      <td>Coimbatore</td>\n",
              "      <td>Diesel</td>\n",
              "      <td>Manual</td>\n",
              "      <td>First</td>\n",
              "      <td>5.0</td>\n",
              "      <td>4.83</td>\n",
              "      <td>25.80</td>\n",
              "      <td>5</td>\n",
              "      <td>honda</td>\n",
              "      <td>amaze</td>\n",
              "      <td>25.80</td>\n",
              "      <td>1498.0</td>\n",
              "      <td>98.6</td>\n",
              "      <td>70</td>\n",
              "    </tr>\n",
              "    <tr>\n",
              "      <th>3088</th>\n",
              "      <td>Delhi</td>\n",
              "      <td>Diesel</td>\n",
              "      <td>Manual</td>\n",
              "      <td>First</td>\n",
              "      <td>5.0</td>\n",
              "      <td>4.75</td>\n",
              "      <td>28.40</td>\n",
              "      <td>6</td>\n",
              "      <td>maruti</td>\n",
              "      <td>swift</td>\n",
              "      <td>28.40</td>\n",
              "      <td>1248.0</td>\n",
              "      <td>74.0</td>\n",
              "      <td>27</td>\n",
              "    </tr>\n",
              "    <tr>\n",
              "      <th>3089</th>\n",
              "      <td>Jaipur</td>\n",
              "      <td>Diesel</td>\n",
              "      <td>Manual</td>\n",
              "      <td>First</td>\n",
              "      <td>5.0</td>\n",
              "      <td>4.00</td>\n",
              "      <td>24.40</td>\n",
              "      <td>5</td>\n",
              "      <td>hyundai</td>\n",
              "      <td>xcent</td>\n",
              "      <td>24.40</td>\n",
              "      <td>1120.0</td>\n",
              "      <td>71.0</td>\n",
              "      <td>100</td>\n",
              "    </tr>\n",
              "    <tr>\n",
              "      <th>3090</th>\n",
              "      <td>Kolkata</td>\n",
              "      <td>Petrol</td>\n",
              "      <td>Manual</td>\n",
              "      <td>First</td>\n",
              "      <td>5.0</td>\n",
              "      <td>2.65</td>\n",
              "      <td>18.90</td>\n",
              "      <td>7</td>\n",
              "      <td>maruti</td>\n",
              "      <td>wagon</td>\n",
              "      <td>18.90</td>\n",
              "      <td>998.0</td>\n",
              "      <td>67.1</td>\n",
              "      <td>46</td>\n",
              "    </tr>\n",
              "    <tr>\n",
              "      <th>3091</th>\n",
              "      <td>Hyderabad</td>\n",
              "      <td>Diesel</td>\n",
              "      <td>Manual</td>\n",
              "      <td>First</td>\n",
              "      <td>5.0</td>\n",
              "      <td>2.50</td>\n",
              "      <td>25.44</td>\n",
              "      <td>9</td>\n",
              "      <td>chevrolet</td>\n",
              "      <td>beat</td>\n",
              "      <td>25.44</td>\n",
              "      <td>936.0</td>\n",
              "      <td>57.6</td>\n",
              "      <td>47</td>\n",
              "    </tr>\n",
              "  </tbody>\n",
              "</table>\n",
              "</div>\n",
              "      <button class=\"colab-df-convert\" onclick=\"convertToInteractive('df-eb6494ed-aae7-4f74-b1c3-42700e98ce62')\"\n",
              "              title=\"Convert this dataframe to an interactive table.\"\n",
              "              style=\"display:none;\">\n",
              "        \n",
              "  <svg xmlns=\"http://www.w3.org/2000/svg\" height=\"24px\"viewBox=\"0 0 24 24\"\n",
              "       width=\"24px\">\n",
              "    <path d=\"M0 0h24v24H0V0z\" fill=\"none\"/>\n",
              "    <path d=\"M18.56 5.44l.94 2.06.94-2.06 2.06-.94-2.06-.94-.94-2.06-.94 2.06-2.06.94zm-11 1L8.5 8.5l.94-2.06 2.06-.94-2.06-.94L8.5 2.5l-.94 2.06-2.06.94zm10 10l.94 2.06.94-2.06 2.06-.94-2.06-.94-.94-2.06-.94 2.06-2.06.94z\"/><path d=\"M17.41 7.96l-1.37-1.37c-.4-.4-.92-.59-1.43-.59-.52 0-1.04.2-1.43.59L10.3 9.45l-7.72 7.72c-.78.78-.78 2.05 0 2.83L4 21.41c.39.39.9.59 1.41.59.51 0 1.02-.2 1.41-.59l7.78-7.78 2.81-2.81c.8-.78.8-2.07 0-2.86zM5.41 20L4 18.59l7.72-7.72 1.47 1.35L5.41 20z\"/>\n",
              "  </svg>\n",
              "      </button>\n",
              "      \n",
              "  <style>\n",
              "    .colab-df-container {\n",
              "      display:flex;\n",
              "      flex-wrap:wrap;\n",
              "      gap: 12px;\n",
              "    }\n",
              "\n",
              "    .colab-df-convert {\n",
              "      background-color: #E8F0FE;\n",
              "      border: none;\n",
              "      border-radius: 50%;\n",
              "      cursor: pointer;\n",
              "      display: none;\n",
              "      fill: #1967D2;\n",
              "      height: 32px;\n",
              "      padding: 0 0 0 0;\n",
              "      width: 32px;\n",
              "    }\n",
              "\n",
              "    .colab-df-convert:hover {\n",
              "      background-color: #E2EBFA;\n",
              "      box-shadow: 0px 1px 2px rgba(60, 64, 67, 0.3), 0px 1px 3px 1px rgba(60, 64, 67, 0.15);\n",
              "      fill: #174EA6;\n",
              "    }\n",
              "\n",
              "    [theme=dark] .colab-df-convert {\n",
              "      background-color: #3B4455;\n",
              "      fill: #D2E3FC;\n",
              "    }\n",
              "\n",
              "    [theme=dark] .colab-df-convert:hover {\n",
              "      background-color: #434B5C;\n",
              "      box-shadow: 0px 1px 3px 1px rgba(0, 0, 0, 0.15);\n",
              "      filter: drop-shadow(0px 1px 2px rgba(0, 0, 0, 0.3));\n",
              "      fill: #FFFFFF;\n",
              "    }\n",
              "  </style>\n",
              "\n",
              "      <script>\n",
              "        const buttonEl =\n",
              "          document.querySelector('#df-eb6494ed-aae7-4f74-b1c3-42700e98ce62 button.colab-df-convert');\n",
              "        buttonEl.style.display =\n",
              "          google.colab.kernel.accessAllowed ? 'block' : 'none';\n",
              "\n",
              "        async function convertToInteractive(key) {\n",
              "          const element = document.querySelector('#df-eb6494ed-aae7-4f74-b1c3-42700e98ce62');\n",
              "          const dataTable =\n",
              "            await google.colab.kernel.invokeFunction('convertToInteractive',\n",
              "                                                     [key], {});\n",
              "          if (!dataTable) return;\n",
              "\n",
              "          const docLinkHtml = 'Like what you see? Visit the ' +\n",
              "            '<a target=\"_blank\" href=https://colab.research.google.com/notebooks/data_table.ipynb>data table notebook</a>'\n",
              "            + ' to learn more about interactive tables.';\n",
              "          element.innerHTML = '';\n",
              "          dataTable['output_type'] = 'display_data';\n",
              "          await google.colab.output.renderOutput(dataTable, element);\n",
              "          const docLink = document.createElement('div');\n",
              "          docLink.innerHTML = docLinkHtml;\n",
              "          element.appendChild(docLink);\n",
              "        }\n",
              "      </script>\n",
              "    </div>\n",
              "  </div>\n",
              "  "
            ]
          },
          "metadata": {},
          "execution_count": 9
        }
      ]
    },
    {
      "cell_type": "code",
      "execution_count": 11,
      "metadata": {
        "colab": {
          "base_uri": "https://localhost:8080/"
        },
        "id": "MjHkil31urQ7",
        "outputId": "7982a939-4a42-4b23-be24-de6614e43597"
      },
      "outputs": [
        {
          "output_type": "stream",
          "name": "stdout",
          "text": [
            "<class 'pandas.core.frame.DataFrame'>\n",
            "RangeIndex: 3092 entries, 0 to 3091\n",
            "Data columns (total 14 columns):\n",
            " #   Column        Non-Null Count  Dtype  \n",
            "---  ------        --------------  -----  \n",
            " 0   Location      3092 non-null   object \n",
            " 1   Fuel_Type     3092 non-null   object \n",
            " 2   Transmission  3092 non-null   object \n",
            " 3   Owner_Type    3092 non-null   object \n",
            " 4   Seats         3091 non-null   float64\n",
            " 5   Price         3092 non-null   float64\n",
            " 6   mlg           3092 non-null   float64\n",
            " 7   age           3092 non-null   int64  \n",
            " 8   make          3092 non-null   object \n",
            " 9   model         3092 non-null   object \n",
            " 10  mileage_new   3092 non-null   float64\n",
            " 11  engine_new    3092 non-null   float64\n",
            " 12  power_new     3092 non-null   float64\n",
            " 13  KM_Driven     3092 non-null   int64  \n",
            "dtypes: float64(6), int64(2), object(6)\n",
            "memory usage: 338.3+ KB\n"
          ]
        }
      ],
      "source": [
        "cars_df.info()"
      ]
    },
    {
      "cell_type": "code",
      "source": [
        "cars_df.Location.unique()"
      ],
      "metadata": {
        "colab": {
          "base_uri": "https://localhost:8080/"
        },
        "id": "gV-oLp-myIzg",
        "outputId": "97d0de40-6e3d-45bf-b531-fdf9ef8ef082"
      },
      "execution_count": 12,
      "outputs": [
        {
          "output_type": "execute_result",
          "data": {
            "text/plain": [
              "array(['Chennai', 'Jaipur', 'Kochi', 'Bangalore', 'Kolkata', 'Hyderabad',\n",
              "       'Delhi', 'Coimbatore', 'Mumbai', 'Pune', 'Ahmedabad'], dtype=object)"
            ]
          },
          "metadata": {},
          "execution_count": 12
        }
      ]
    },
    {
      "cell_type": "code",
      "source": [
        "cars_df.Location.value_counts()"
      ],
      "metadata": {
        "colab": {
          "base_uri": "https://localhost:8080/"
        },
        "id": "ipreBNsKlaGN",
        "outputId": "6c1b2d09-8834-4af1-c9b3-6ce0a4bf8617"
      },
      "execution_count": 13,
      "outputs": [
        {
          "output_type": "execute_result",
          "data": {
            "text/plain": [
              "Hyderabad     406\n",
              "Kolkata       346\n",
              "Pune          341\n",
              "Kochi         339\n",
              "Mumbai        322\n",
              "Coimbatore    305\n",
              "Jaipur        275\n",
              "Chennai       264\n",
              "Delhi         248\n",
              "Bangalore     124\n",
              "Ahmedabad     122\n",
              "Name: Location, dtype: int64"
            ]
          },
          "metadata": {},
          "execution_count": 13
        }
      ]
    },
    {
      "cell_type": "code",
      "source": [
        "cars_df.Location.value_counts(normalize = True) * 100"
      ],
      "metadata": {
        "colab": {
          "base_uri": "https://localhost:8080/"
        },
        "id": "5o4ZzNEim8S5",
        "outputId": "846476ac-6660-4a24-ae85-0c1a32556f2c"
      },
      "execution_count": 14,
      "outputs": [
        {
          "output_type": "execute_result",
          "data": {
            "text/plain": [
              "Hyderabad     13.130660\n",
              "Kolkata       11.190168\n",
              "Pune          11.028461\n",
              "Kochi         10.963777\n",
              "Mumbai        10.413972\n",
              "Coimbatore     9.864166\n",
              "Jaipur         8.893920\n",
              "Chennai        8.538163\n",
              "Delhi          8.020699\n",
              "Bangalore      4.010349\n",
              "Ahmedabad      3.945666\n",
              "Name: Location, dtype: float64"
            ]
          },
          "metadata": {},
          "execution_count": 14
        }
      ]
    },
    {
      "cell_type": "markdown",
      "source": [
        "### Participant Exercise:\n",
        "\n",
        "#### What are different transmission types and how many cars are there in the dataset from each transmission type?"
      ],
      "metadata": {
        "id": "S9JWTybklrWF"
      }
    },
    {
      "cell_type": "code",
      "source": [
        "plt.figure(figsize=(15, 6))\n",
        "plt.hist(cars_df.KM_Driven);"
      ],
      "metadata": {
        "id": "T5UszcfkyZQu"
      },
      "execution_count": null,
      "outputs": []
    },
    {
      "cell_type": "code",
      "source": [
        "plt.figure(figsize=(15, 6))\n",
        "plt.hist(cars_df.KM_Driven, bins = range(0, 200, 10));\n",
        "plt.xticks(range(0, 200, 10));"
      ],
      "metadata": {
        "id": "ZIku66Bwzi3U"
      },
      "execution_count": null,
      "outputs": []
    },
    {
      "cell_type": "code",
      "source": [
        "cars_df.KM_Driven.min()"
      ],
      "metadata": {
        "id": "zvlWv0B_rxjN"
      },
      "execution_count": null,
      "outputs": []
    },
    {
      "cell_type": "code",
      "source": [
        "cars_df.KM_Driven.max()"
      ],
      "metadata": {
        "id": "UngmZBGMr9jj"
      },
      "execution_count": null,
      "outputs": []
    },
    {
      "cell_type": "markdown",
      "source": [
        "### Participant Exercise:\n",
        "\n",
        "#### Create a histogram for Price to understand the frequency distribution for every 1 lakh sold price?"
      ],
      "metadata": {
        "id": "rA2thW02rx_c"
      }
    },
    {
      "cell_type": "code",
      "source": [
        "sn.lmplot(data = cars_df.sample(200),\n",
        "          x = 'mileage_new',\n",
        "          y = 'Price');"
      ],
      "metadata": {
        "id": "dPZptEVqGDBa"
      },
      "execution_count": null,
      "outputs": []
    },
    {
      "cell_type": "code",
      "source": [
        "sn.lmplot(data = cars_df.sample(200),\n",
        "          x = 'KM_Driven',\n",
        "          y = 'Price');"
      ],
      "metadata": {
        "id": "q7ZVAzErG5m6"
      },
      "execution_count": null,
      "outputs": []
    },
    {
      "cell_type": "markdown",
      "metadata": {
        "id": "nI5-sNfTurQ7"
      },
      "source": [
        "## Building a simple linear regression model\n",
        "\n",
        "Assumes linear relationship between features and outcome variable."
      ]
    },
    {
      "cell_type": "markdown",
      "metadata": {
        "id": "_2k0kiwturQ8"
      },
      "source": [
        "### Setting X and Y Variables"
      ]
    },
    {
      "cell_type": "code",
      "execution_count": null,
      "metadata": {
        "id": "qqOof_UCurQ8"
      },
      "outputs": [],
      "source": [
        "X = pd.DataFrame(cars_df['KM_Driven'])\n",
        "y = cars_df['Price']"
      ]
    },
    {
      "cell_type": "markdown",
      "metadata": {
        "id": "ykKiyc85urQ9"
      },
      "source": [
        "### Splitting the dataset"
      ]
    },
    {
      "cell_type": "code",
      "execution_count": null,
      "metadata": {
        "id": "KJr0Zkl7urQ9"
      },
      "outputs": [],
      "source": [
        "from sklearn.model_selection import train_test_split"
      ]
    },
    {
      "cell_type": "code",
      "execution_count": null,
      "metadata": {
        "id": "ar2Z6dYkurQ-"
      },
      "outputs": [],
      "source": [
        "X_train, X_test, y_train, y_test = train_test_split(X,\n",
        "                                                    y,\n",
        "                                                    train_size = 0.8,\n",
        "                                                    random_state = 80)"
      ]
    },
    {
      "cell_type": "code",
      "execution_count": null,
      "metadata": {
        "id": "1lidzArWurQ-"
      },
      "outputs": [],
      "source": [
        "X_train[0:10]"
      ]
    },
    {
      "cell_type": "code",
      "execution_count": null,
      "metadata": {
        "id": "bSWKpU9qurQ-"
      },
      "outputs": [],
      "source": [
        "X_test.shape"
      ]
    },
    {
      "cell_type": "code",
      "source": [
        "X_train.shape"
      ],
      "metadata": {
        "id": "YFzhLTqNQcKM"
      },
      "execution_count": null,
      "outputs": []
    },
    {
      "cell_type": "markdown",
      "metadata": {
        "id": "euEfh6ZuurQ_"
      },
      "source": [
        "### Observing the relationship"
      ]
    },
    {
      "cell_type": "code",
      "execution_count": null,
      "metadata": {
        "id": "P-wdQ4xSurQ_"
      },
      "outputs": [],
      "source": [
        "sn.lmplot( data = cars_df.sample(100),\n",
        "           x = 'KM_Driven',\n",
        "           y = 'Price',\n",
        "           fit_reg = False);"
      ]
    },
    {
      "cell_type": "markdown",
      "metadata": {
        "id": "fl3Vk386urQ_"
      },
      "source": [
        "### Building the model"
      ]
    },
    {
      "cell_type": "code",
      "execution_count": null,
      "metadata": {
        "id": "zY4rxaOzurRA"
      },
      "outputs": [],
      "source": [
        "from sklearn.linear_model import LinearRegression"
      ]
    },
    {
      "cell_type": "code",
      "execution_count": null,
      "metadata": {
        "id": "k8kTBoOSurRA"
      },
      "outputs": [],
      "source": [
        "lreg_v1 = LinearRegression()\n",
        "lreg_v1.fit(X_train, y_train)"
      ]
    },
    {
      "cell_type": "markdown",
      "metadata": {
        "id": "O1XGhvQ5urRA"
      },
      "source": [
        "#### Finding the model parameters"
      ]
    },
    {
      "cell_type": "code",
      "execution_count": null,
      "metadata": {
        "id": "PEVfLTAdurRB"
      },
      "outputs": [],
      "source": [
        "lreg_v1.intercept_"
      ]
    },
    {
      "cell_type": "code",
      "execution_count": null,
      "metadata": {
        "id": "TGBdc4CVurRB"
      },
      "outputs": [],
      "source": [
        "lreg_v1.coef_"
      ]
    },
    {
      "cell_type": "markdown",
      "metadata": {
        "id": "L2TXdEy7urRB"
      },
      "source": [
        "### Predicting on test set and evaluation model performance"
      ]
    },
    {
      "cell_type": "code",
      "execution_count": null,
      "metadata": {
        "id": "CBsRksjAurRB"
      },
      "outputs": [],
      "source": [
        "y_pred = lreg_v1.predict(X_test)"
      ]
    },
    {
      "cell_type": "code",
      "execution_count": null,
      "metadata": {
        "id": "u-QaHiOfurRC"
      },
      "outputs": [],
      "source": [
        "y_df = pd.DataFrame({\"actual\": y_test,\n",
        "                     \"predicted\": y_pred,\n",
        "                     \"residual\": y_pred - y_test})"
      ]
    },
    {
      "cell_type": "code",
      "execution_count": null,
      "metadata": {
        "id": "LANydx7lurRC"
      },
      "outputs": [],
      "source": [
        "y_df.sample(10, random_state = 100)"
      ]
    },
    {
      "cell_type": "markdown",
      "metadata": {
        "id": "anvfzBG5urRC"
      },
      "source": [
        "#### What is R-quared?\n",
        "https://www.investopedia.com/terms/r/r-squared.asp"
      ]
    },
    {
      "cell_type": "code",
      "execution_count": null,
      "metadata": {
        "id": "SujcuL61urRC"
      },
      "outputs": [],
      "source": [
        "from sklearn.metrics import r2_score"
      ]
    },
    {
      "cell_type": "code",
      "execution_count": null,
      "metadata": {
        "id": "ytcpSLZUurRC"
      },
      "outputs": [],
      "source": [
        "r2_score(y_test, y_pred)"
      ]
    },
    {
      "cell_type": "markdown",
      "metadata": {
        "id": "VxY8bQ_purRD"
      },
      "source": [
        "### Participants Exercise: 1\n",
        "\n",
        "Build a model by adding the following four parameters and measure accuracy\n",
        "\n",
        "- mileage_new \n",
        "- engine_new \n",
        "- power_new\n",
        "- KM_Driven"
      ]
    },
    {
      "cell_type": "code",
      "source": [],
      "metadata": {
        "id": "AJV-SKiWdik9"
      },
      "execution_count": null,
      "outputs": []
    },
    {
      "cell_type": "markdown",
      "metadata": {
        "id": "PM7oq2pvurRD"
      },
      "source": [
        "## Building model with all required variables (Multiple Linear Regression)"
      ]
    },
    {
      "cell_type": "markdown",
      "metadata": {
        "id": "95SLXZ-aurRD"
      },
      "source": [
        "### Feature Set Selection"
      ]
    },
    {
      "cell_type": "code",
      "execution_count": null,
      "metadata": {
        "id": "_Bb6HG45urRD"
      },
      "outputs": [],
      "source": [
        "list(cars_df.columns)"
      ]
    },
    {
      "cell_type": "code",
      "execution_count": null,
      "metadata": {
        "id": "UCxu-ygFurRD"
      },
      "outputs": [],
      "source": [
        "#x_features = ['KM_Driven', 'Fuel_Type', 'age',\n",
        "#              'Transmission', 'Owner_Type', 'Seats', \n",
        "#              'make', 'mileage_new', 'engine_new', \n",
        "#              'power_new', 'Location', 'model']\n",
        "\n",
        "x_features = ['KM_Driven', 'Fuel_Type', 'age',\n",
        "              'Transmission', 'Owner_Type', 'Seats', \n",
        "              'make', 'mileage_new', 'engine_new', \n",
        "              'power_new', 'Location']"
      ]
    },
    {
      "cell_type": "code",
      "execution_count": null,
      "metadata": {
        "id": "kAuleaiPurRE"
      },
      "outputs": [],
      "source": [
        "cat_features = ['Fuel_Type', \n",
        "                'Transmission', 'Owner_Type',\n",
        "                'make', 'Location']\n",
        "\n",
        "#cat_features = ['Fuel_Type', \n",
        "#                'Transmission', 'Owner_Type',\n",
        "#                'make', 'Location', 'model']"
      ]
    },
    {
      "cell_type": "code",
      "execution_count": null,
      "metadata": {
        "id": "WKx3hOS0urRE"
      },
      "outputs": [],
      "source": [
        "num_features = list(set(x_features) - set(cat_features))"
      ]
    },
    {
      "cell_type": "code",
      "execution_count": null,
      "metadata": {
        "id": "_4TakcYVurRE"
      },
      "outputs": [],
      "source": [
        "num_features"
      ]
    },
    {
      "cell_type": "code",
      "execution_count": null,
      "metadata": {
        "id": "InMaS_iYurRE"
      },
      "outputs": [],
      "source": [
        "cars_df[x_features].info()"
      ]
    },
    {
      "cell_type": "code",
      "execution_count": null,
      "metadata": {
        "id": "pJhw2NODurRF"
      },
      "outputs": [],
      "source": [
        "cars_df.isnull().sum()"
      ]
    },
    {
      "cell_type": "markdown",
      "metadata": {
        "id": "CDAjqXi_urRF"
      },
      "source": [
        "### Dropping Null Values"
      ]
    },
    {
      "cell_type": "code",
      "execution_count": null,
      "metadata": {
        "id": "FxrBXKrTurRF"
      },
      "outputs": [],
      "source": [
        "cars_df = cars_df[x_features + ['Price']].dropna()"
      ]
    },
    {
      "cell_type": "code",
      "execution_count": null,
      "metadata": {
        "id": "ucoMUxodurRF"
      },
      "outputs": [],
      "source": [
        "cars_df.shape"
      ]
    },
    {
      "cell_type": "code",
      "execution_count": null,
      "metadata": {
        "id": "BJeaw-nCurRF"
      },
      "outputs": [],
      "source": [
        "cars_df.sample(10)"
      ]
    },
    {
      "cell_type": "markdown",
      "metadata": {
        "id": "fMzNgrxwurRF"
      },
      "source": [
        "### Encoding Categorical Variables\n",
        "\n",
        "OHE: One Hot Encoding\n",
        "\n",
        "https://machinelearningmastery.com/why-one-hot-encode-data-in-machine-learning/"
      ]
    },
    {
      "cell_type": "code",
      "execution_count": null,
      "metadata": {
        "id": "ySsYe6eVurRF"
      },
      "outputs": [],
      "source": [
        "encoded_cars_df = pd.get_dummies(cars_df[x_features], \n",
        "                                 columns=cat_features)"
      ]
    },
    {
      "cell_type": "code",
      "execution_count": null,
      "metadata": {
        "id": "WwqrkEcCurRG"
      },
      "outputs": [],
      "source": [
        "encoded_cars_df.sample(5)"
      ]
    },
    {
      "cell_type": "code",
      "execution_count": null,
      "metadata": {
        "id": "Ttl93QQpurRG"
      },
      "outputs": [],
      "source": [
        "encoded_cars_df.columns"
      ]
    },
    {
      "cell_type": "code",
      "execution_count": null,
      "metadata": {
        "id": "E8SHU6e_urRG"
      },
      "outputs": [],
      "source": [
        "encoded_cars_df.shape"
      ]
    },
    {
      "cell_type": "markdown",
      "metadata": {
        "id": "1btQz55NurRG"
      },
      "source": [
        "### Setting X and y variables"
      ]
    },
    {
      "cell_type": "code",
      "execution_count": null,
      "metadata": {
        "id": "fKi3HEfmurRG"
      },
      "outputs": [],
      "source": [
        "X = encoded_cars_df\n",
        "y = cars_df['Price']"
      ]
    },
    {
      "cell_type": "markdown",
      "metadata": {
        "id": "caP-gwUzurRG"
      },
      "source": [
        "### Data Splitting"
      ]
    },
    {
      "cell_type": "code",
      "execution_count": null,
      "metadata": {
        "id": "ztVXb19IurRG"
      },
      "outputs": [],
      "source": [
        "from sklearn.model_selection import train_test_split"
      ]
    },
    {
      "cell_type": "code",
      "execution_count": null,
      "metadata": {
        "id": "UioFT0G8urRH"
      },
      "outputs": [],
      "source": [
        "X_train, X_test, y_train, y_test = train_test_split(X,\n",
        "                                                    y,\n",
        "                                                    train_size = 0.8,\n",
        "                                                    random_state = 80)"
      ]
    },
    {
      "cell_type": "code",
      "execution_count": null,
      "metadata": {
        "id": "wKG4LKmIurRH"
      },
      "outputs": [],
      "source": [
        "X_train.shape"
      ]
    },
    {
      "cell_type": "code",
      "execution_count": null,
      "metadata": {
        "id": "-upe51CUurRH"
      },
      "outputs": [],
      "source": [
        "X_test.shape"
      ]
    },
    {
      "cell_type": "markdown",
      "metadata": {
        "id": "DDREbPdKurRH"
      },
      "source": [
        "### Multiple Linear Regression Models"
      ]
    },
    {
      "cell_type": "code",
      "execution_count": null,
      "metadata": {
        "id": "kIgPnHA-urRH"
      },
      "outputs": [],
      "source": [
        "from sklearn.linear_model import LinearRegression"
      ]
    },
    {
      "cell_type": "code",
      "execution_count": null,
      "metadata": {
        "id": "sc-Kg23DurRH"
      },
      "outputs": [],
      "source": [
        "lreg_v1 = LinearRegression()"
      ]
    },
    {
      "cell_type": "code",
      "execution_count": null,
      "metadata": {
        "id": "2hFC7pu1urRH"
      },
      "outputs": [],
      "source": [
        "lreg_v1.fit(X_train, y_train)"
      ]
    },
    {
      "cell_type": "markdown",
      "metadata": {
        "id": "A4PJBRE_urRI"
      },
      "source": [
        "### Understanding model parameters"
      ]
    },
    {
      "cell_type": "code",
      "execution_count": null,
      "metadata": {
        "id": "usPFZvfMurRI"
      },
      "outputs": [],
      "source": [
        "lreg_v1.intercept_"
      ]
    },
    {
      "cell_type": "code",
      "execution_count": null,
      "metadata": {
        "id": "Ggn9_CDHurRI"
      },
      "outputs": [],
      "source": [
        "lreg_v1.coef_"
      ]
    },
    {
      "cell_type": "code",
      "execution_count": null,
      "metadata": {
        "id": "NYJrQr0hurRI"
      },
      "outputs": [],
      "source": [
        "dict(zip(X_train.columns, \n",
        "         np.round(lreg_v1.coef_, 3)))"
      ]
    },
    {
      "cell_type": "markdown",
      "metadata": {
        "id": "Op56f2cEurRI"
      },
      "source": [
        "### Predict on test set"
      ]
    },
    {
      "cell_type": "code",
      "execution_count": null,
      "metadata": {
        "id": "Wl68KIE4urRI"
      },
      "outputs": [],
      "source": [
        "y_pred = lreg_v1.predict(X_test)"
      ]
    },
    {
      "cell_type": "code",
      "execution_count": null,
      "metadata": {
        "id": "nWXYs_VuurRI"
      },
      "outputs": [],
      "source": [
        "y_df = pd.DataFrame({\"actual\": y_test,\n",
        "                     \"predicted\": y_pred,\n",
        "                     \"residual\": y_pred - y_test})"
      ]
    },
    {
      "cell_type": "code",
      "execution_count": null,
      "metadata": {
        "id": "AobQesDaurRI"
      },
      "outputs": [],
      "source": [
        "y_df.sample(10, random_state = 100)"
      ]
    },
    {
      "cell_type": "code",
      "execution_count": null,
      "metadata": {
        "id": "nYlPHV5XurRJ"
      },
      "outputs": [],
      "source": [
        "r2_score(y_test, y_pred)"
      ]
    },
    {
      "cell_type": "markdown",
      "metadata": {
        "id": "XoE-inN3urRJ"
      },
      "source": [
        "### Measuring Accuracy"
      ]
    },
    {
      "cell_type": "code",
      "execution_count": null,
      "metadata": {
        "id": "Ka9MbOSourRJ"
      },
      "outputs": [],
      "source": [
        "from sklearn.metrics import mean_squared_error, r2_score"
      ]
    },
    {
      "cell_type": "code",
      "execution_count": null,
      "metadata": {
        "id": "Fk2JTPwIurRJ"
      },
      "outputs": [],
      "source": [
        "mse_v1 = mean_squared_error(y_test, y_pred)"
      ]
    },
    {
      "cell_type": "code",
      "execution_count": null,
      "metadata": {
        "id": "hsSNBAnaurRJ"
      },
      "outputs": [],
      "source": [
        "mse_v1"
      ]
    },
    {
      "cell_type": "code",
      "execution_count": null,
      "metadata": {
        "id": "9wv4c6QWurRJ"
      },
      "outputs": [],
      "source": [
        "rmse_v1 = np.sqrt(mse_v1)"
      ]
    },
    {
      "cell_type": "code",
      "execution_count": null,
      "metadata": {
        "id": "OvWMdshfurRJ"
      },
      "outputs": [],
      "source": [
        "rmse_v1"
      ]
    },
    {
      "cell_type": "markdown",
      "metadata": {
        "id": "fsofPjROurRJ"
      },
      "source": [
        "### Participant Exercise: 2\n",
        "\n",
        "Take different training set, build model and measure the model accuracy. But, how to sample differenent training and test sets?\n",
        "- Change the random_state to different numbers while training and test splits and then measure the r2 values.\n",
        "- Repeat the above process for 5 different random_states and make a note of the r2 values."
      ]
    },
    {
      "cell_type": "markdown",
      "metadata": {
        "id": "eFGJR_nVurRK"
      },
      "source": [
        "### K-FOLD Cross Validation"
      ]
    },
    {
      "cell_type": "code",
      "execution_count": null,
      "metadata": {
        "id": "H3plD1hourRK"
      },
      "outputs": [],
      "source": [
        "from sklearn.model_selection import cross_val_score\n",
        "\n",
        "scores = cross_val_score(LinearRegression(),\n",
        "                         X_train,\n",
        "                         y_train,\n",
        "                         cv = 10,\n",
        "                         scoring = 'r2')\n",
        "scores.mean()"
      ]
    },
    {
      "cell_type": "code",
      "execution_count": null,
      "metadata": {
        "id": "_hoGpKjwurRK"
      },
      "outputs": [],
      "source": [
        "scores"
      ]
    },
    {
      "cell_type": "code",
      "execution_count": null,
      "metadata": {
        "id": "uMRXD7e1urRK"
      },
      "outputs": [],
      "source": [
        "scores.std()"
      ]
    },
    {
      "cell_type": "code",
      "execution_count": null,
      "metadata": {
        "id": "4X3cSSeburRK"
      },
      "outputs": [],
      "source": [
        "r2_score(y_test, y_pred)"
      ]
    },
    {
      "cell_type": "markdown",
      "metadata": {
        "id": "c6_JqhhWurRK"
      },
      "source": [
        "### What are the reasons for the remaining error\n",
        "\n",
        "1. More factors \n",
        "2. More samples \n",
        "3. Complex Models : Try other models\n",
        "4. Feature Engineering - Derive new features (factors) from existing features (factors)\n",
        "5. Noise (randomness)\n",
        "   "
      ]
    },
    {
      "cell_type": "markdown",
      "metadata": {
        "id": "q4HLS4fsurRK"
      },
      "source": [
        "### Saving the model"
      ]
    },
    {
      "cell_type": "code",
      "execution_count": null,
      "metadata": {
        "id": "WSTiCoPaurRK"
      },
      "outputs": [],
      "source": [
        "class CarPredictionModel():\n",
        "    \n",
        "    def __init__(self, model, features, rmse):\n",
        "        self.model = model\n",
        "        self.features = features\n",
        "        self.rmse = rmse"
      ]
    },
    {
      "cell_type": "code",
      "execution_count": null,
      "metadata": {
        "id": "BLZi8yX4urRL"
      },
      "outputs": [],
      "source": [
        "my_model = CarPredictionModel(lreg_v1, list(X_train.columns), rmse_v1)"
      ]
    },
    {
      "cell_type": "code",
      "execution_count": null,
      "metadata": {
        "id": "6OBuuPvkurRL"
      },
      "outputs": [],
      "source": [
        "my_model.rmse"
      ]
    },
    {
      "cell_type": "code",
      "execution_count": null,
      "metadata": {
        "id": "tdaApMtVurRL"
      },
      "outputs": [],
      "source": [
        "# Uncomment this code for older version of sklearn\n",
        "#from sklearn.externals import joblib\n",
        "#joblib.dump(my_model, './cars.pkl')"
      ]
    },
    {
      "cell_type": "code",
      "execution_count": null,
      "metadata": {
        "id": "lbzWE-caurRL"
      },
      "outputs": [],
      "source": [
        "from joblib import dump"
      ]
    },
    {
      "cell_type": "code",
      "execution_count": null,
      "metadata": {
        "id": "gCckssJOurRL"
      },
      "outputs": [],
      "source": [
        "dump(my_model, './cars.pkl')"
      ]
    },
    {
      "cell_type": "markdown",
      "metadata": {
        "id": "7h_NX10gurRL"
      },
      "source": [
        "### Participant Exercise: 3"
      ]
    },
    {
      "cell_type": "markdown",
      "metadata": {
        "id": "cAnG_eWgurRL"
      },
      "source": [
        "1. Removing all cars prior to 2010\n",
        "2. Add the car model (cateorical variable) to the list of x features.\n",
        "3. Build a new linear regression model\n",
        "4. Predict on test set and measure the accuracy (RMSE and R Squared values)\n",
        "5. Do the cross Validation and find the mean and std of the r2 values"
      ]
    },
    {
      "cell_type": "markdown",
      "metadata": {
        "id": "2gQjBT5hurRM"
      },
      "source": [
        "## Building KNN Model"
      ]
    },
    {
      "cell_type": "code",
      "execution_count": null,
      "metadata": {
        "id": "c4T-leCHurRM"
      },
      "outputs": [],
      "source": [
        "sn.lmplot( data = cars_df.sample(50, random_state = 80),\n",
        "           x = \"mileage_new\",\n",
        "           y = 'KM_Driven',\n",
        "           fit_reg = False);"
      ]
    },
    {
      "cell_type": "code",
      "execution_count": null,
      "metadata": {
        "id": "r3XpXjXIurRM"
      },
      "outputs": [],
      "source": [
        "cars_df.sample(10)"
      ]
    },
    {
      "cell_type": "markdown",
      "metadata": {
        "id": "MPXAVkXGurRM"
      },
      "source": [
        "### Scaling the data\n",
        "\n",
        "- Min Max Scaler\n",
        "- Standard Scaler"
      ]
    },
    {
      "cell_type": "code",
      "execution_count": null,
      "metadata": {
        "id": "ZVPGzgPaurRM"
      },
      "outputs": [],
      "source": [
        "X.shape"
      ]
    },
    {
      "cell_type": "code",
      "execution_count": null,
      "metadata": {
        "id": "UMO6f3P3urRM"
      },
      "outputs": [],
      "source": [
        "X_train, X_test, y_train, y_test = train_test_split(X,\n",
        "                                                    y,\n",
        "                                                    train_size = 0.8,\n",
        "                                                    random_state = 80)"
      ]
    },
    {
      "cell_type": "code",
      "execution_count": null,
      "metadata": {
        "id": "4jn1nNc5urRM"
      },
      "outputs": [],
      "source": [
        "from sklearn.preprocessing import MinMaxScaler"
      ]
    },
    {
      "cell_type": "code",
      "execution_count": null,
      "metadata": {
        "id": "z1wvz5JkurRM"
      },
      "outputs": [],
      "source": [
        "scaler = MinMaxScaler()"
      ]
    },
    {
      "cell_type": "code",
      "execution_count": null,
      "metadata": {
        "id": "TXkqsHZTurRN"
      },
      "outputs": [],
      "source": [
        "scaler.fit(X_train)"
      ]
    },
    {
      "cell_type": "code",
      "execution_count": null,
      "metadata": {
        "id": "iqz1fnukurRN"
      },
      "outputs": [],
      "source": [
        "x_train_scaled = scaler.transform(X_train)\n",
        "x_test_scaled = scaler.transform(X_test)"
      ]
    },
    {
      "cell_type": "code",
      "execution_count": null,
      "metadata": {
        "id": "fxpA_zXnurRN"
      },
      "outputs": [],
      "source": [
        "x_train_scaled.shape"
      ]
    },
    {
      "cell_type": "code",
      "execution_count": null,
      "metadata": {
        "id": "mu2IXXzUurRN"
      },
      "outputs": [],
      "source": [
        "x_train_scaled[0:10]"
      ]
    },
    {
      "cell_type": "markdown",
      "metadata": {
        "id": "hPV3JZTZurRN"
      },
      "source": [
        "### Build the model"
      ]
    },
    {
      "cell_type": "code",
      "execution_count": null,
      "metadata": {
        "id": "QSCu-y2yurRN"
      },
      "outputs": [],
      "source": [
        "from sklearn.neighbors import KNeighborsRegressor"
      ]
    },
    {
      "cell_type": "code",
      "execution_count": null,
      "metadata": {
        "id": "kkbzOaAlurRN"
      },
      "outputs": [],
      "source": [
        "knn_v1 = KNeighborsRegressor(n_neighbors=10,\n",
        "                             weights='distance')"
      ]
    },
    {
      "cell_type": "code",
      "execution_count": null,
      "metadata": {
        "id": "C7sJBRCuurRO"
      },
      "outputs": [],
      "source": [
        "knn_v1.fit(x_train_scaled, y_train)"
      ]
    },
    {
      "cell_type": "code",
      "execution_count": null,
      "metadata": {
        "id": "HivLDQchurRO"
      },
      "outputs": [],
      "source": [
        "x_train_scaled.shape"
      ]
    },
    {
      "cell_type": "markdown",
      "metadata": {
        "id": "FlogScJturRO"
      },
      "source": [
        "### Predicting on test data and calculating accuracy"
      ]
    },
    {
      "cell_type": "code",
      "execution_count": null,
      "metadata": {
        "id": "hMZJ2Xw_urRO"
      },
      "outputs": [],
      "source": [
        "y_knn_pred = knn_v1.predict(x_test_scaled)"
      ]
    },
    {
      "cell_type": "code",
      "execution_count": null,
      "metadata": {
        "id": "jYdYkr3-urRO"
      },
      "outputs": [],
      "source": [
        "mse_knn = mean_squared_error(y_test, y_knn_pred)"
      ]
    },
    {
      "cell_type": "code",
      "execution_count": null,
      "metadata": {
        "id": "sRz2SYtfurRO"
      },
      "outputs": [],
      "source": [
        "np.sqrt(mse_knn)"
      ]
    },
    {
      "cell_type": "code",
      "execution_count": null,
      "metadata": {
        "id": "7fBn3rZQurRO"
      },
      "outputs": [],
      "source": [
        "r2_score(y_test, y_knn_pred)"
      ]
    },
    {
      "cell_type": "markdown",
      "metadata": {
        "id": "--nYeYHkurRP"
      },
      "source": [
        "### Participant Exercise: 4\n",
        "\n",
        "Finding best params\n",
        "\n",
        "- Iterate through a list of possible K values. For example: 3 through 15\n",
        "- Build model for each k value, predict on test set and measure it's accuracy\n",
        "- Print the k value for which r2 is maximum"
      ]
    },
    {
      "cell_type": "code",
      "source": [
        "for k in range(3, 16):\n",
        "  knn_v1 = KNeighborsRegressor(n_neighbors=k, weights='distance')\n",
        "  knn_v1.fit(x_train_scaled, y_train)\n",
        "  y_knn_pred = knn_v1.predict(x_test_scaled)\n",
        "  r2 = r2_score(y_test, y_knn_pred)\n",
        "\n",
        "  print(f\"for k={k} - r2={round(r2, 4)}\")"
      ],
      "metadata": {
        "id": "vjUKcKwomvlt"
      },
      "execution_count": null,
      "outputs": []
    },
    {
      "cell_type": "markdown",
      "metadata": {
        "id": "b5ClHLeiurRP"
      },
      "source": [
        "### Grid Search"
      ]
    },
    {
      "cell_type": "code",
      "execution_count": null,
      "metadata": {
        "id": "V3-GBHl7urRP"
      },
      "outputs": [],
      "source": []
    }
  ],
  "metadata": {
    "kernelspec": {
      "display_name": "Python 3",
      "language": "python",
      "name": "python3"
    },
    "language_info": {
      "codemirror_mode": {
        "name": "ipython",
        "version": 3
      },
      "file_extension": ".py",
      "mimetype": "text/x-python",
      "name": "python",
      "nbconvert_exporter": "python",
      "pygments_lexer": "ipython3",
      "version": "3.8.3"
    },
    "colab": {
      "provenance": [],
      "collapsed_sections": [
        "fsofPjROurRJ",
        "c6_JqhhWurRK",
        "7h_NX10gurRL",
        "MPXAVkXGurRM",
        "hPV3JZTZurRN",
        "FlogScJturRO",
        "--nYeYHkurRP",
        "b5ClHLeiurRP"
      ]
    }
  },
  "nbformat": 4,
  "nbformat_minor": 0
}